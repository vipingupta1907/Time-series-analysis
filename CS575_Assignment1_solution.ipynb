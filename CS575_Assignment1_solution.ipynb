{
  "nbformat": 4,
  "nbformat_minor": 0,
  "metadata": {
    "colab": {
      "name": "CS575_Assignment1_solution.ipynb",
      "provenance": [],
      "include_colab_link": true
    },
    "kernelspec": {
      "name": "python3",
      "display_name": "Python 3"
    }
  },
  "cells": [
    {
      "cell_type": "markdown",
      "metadata": {
        "id": "view-in-github",
        "colab_type": "text"
      },
      "source": [
        "<a href=\"https://colab.research.google.com/github/vipingupta1907/2011MT22_CS575/blob/main/CS575_Assignment1_solution.ipynb\" target=\"_parent\"><img src=\"https://colab.research.google.com/assets/colab-badge.svg\" alt=\"Open In Colab\"/></a>"
      ]
    },
    {
      "cell_type": "markdown",
      "metadata": {
        "id": "5UVv_bwue7JE"
      },
      "source": [
        "#Basic Descriptive Stats"
      ]
    },
    {
      "cell_type": "markdown",
      "metadata": {
        "id": "r1WSk4v2pabB"
      },
      "source": [
        "##Load Numpy, Pandas and other Libraries"
      ]
    },
    {
      "cell_type": "code",
      "metadata": {
        "id": "A4hq5cQk3R5u"
      },
      "source": [
        "import numpy as np\r\n",
        "import pandas as pd\r\n",
        "import math\r\n",
        "from scipy import stats "
      ],
      "execution_count": 681,
      "outputs": []
    },
    {
      "cell_type": "markdown",
      "metadata": {
        "id": "0E_fqWDcpk1S"
      },
      "source": [
        "### Load Dataset \"Inc_Exp_Data.csv\" using Pandas"
      ]
    },
    {
      "cell_type": "code",
      "metadata": {
        "colab": {
          "base_uri": "https://localhost:8080/",
          "height": 421
        },
        "id": "kP0Dutv53dlL",
        "outputId": "ba47077e-7afe-45eb-dddc-c1ad47a9e37b"
      },
      "source": [
        "url='https://raw.githubusercontent.com/cs575ts/Assignments/main/Assignment_1/Inc_Exp_Data.csv'\r\n",
        "df=pd.read_csv(url)\r\n",
        "print(\"________________________________________________________________Given data set_____________________________________________________\\n\\n\")\r\n",
        "df.head(10)"
      ],
      "execution_count": 682,
      "outputs": [
        {
          "output_type": "stream",
          "text": [
            "________________________________________________________________Given data set_____________________________________________________\n",
            "\n",
            "\n"
          ],
          "name": "stdout"
        },
        {
          "output_type": "execute_result",
          "data": {
            "text/html": [
              "<div>\n",
              "<style scoped>\n",
              "    .dataframe tbody tr th:only-of-type {\n",
              "        vertical-align: middle;\n",
              "    }\n",
              "\n",
              "    .dataframe tbody tr th {\n",
              "        vertical-align: top;\n",
              "    }\n",
              "\n",
              "    .dataframe thead th {\n",
              "        text-align: right;\n",
              "    }\n",
              "</style>\n",
              "<table border=\"1\" class=\"dataframe\">\n",
              "  <thead>\n",
              "    <tr style=\"text-align: right;\">\n",
              "      <th></th>\n",
              "      <th>Mthly_HH_Income</th>\n",
              "      <th>Mthly_HH_Expense</th>\n",
              "      <th>No_of_Fly_Members</th>\n",
              "      <th>Emi_or_Rent_Amt</th>\n",
              "      <th>Annual_HH_Income</th>\n",
              "      <th>Highest_Qualified_Member</th>\n",
              "      <th>No_of_Earning_Members</th>\n",
              "    </tr>\n",
              "  </thead>\n",
              "  <tbody>\n",
              "    <tr>\n",
              "      <th>0</th>\n",
              "      <td>5000</td>\n",
              "      <td>8000</td>\n",
              "      <td>3</td>\n",
              "      <td>2000</td>\n",
              "      <td>64200</td>\n",
              "      <td>Under-Graduate</td>\n",
              "      <td>1</td>\n",
              "    </tr>\n",
              "    <tr>\n",
              "      <th>1</th>\n",
              "      <td>6000</td>\n",
              "      <td>7000</td>\n",
              "      <td>2</td>\n",
              "      <td>3000</td>\n",
              "      <td>79920</td>\n",
              "      <td>Illiterate</td>\n",
              "      <td>1</td>\n",
              "    </tr>\n",
              "    <tr>\n",
              "      <th>2</th>\n",
              "      <td>10000</td>\n",
              "      <td>4500</td>\n",
              "      <td>2</td>\n",
              "      <td>0</td>\n",
              "      <td>112800</td>\n",
              "      <td>Under-Graduate</td>\n",
              "      <td>1</td>\n",
              "    </tr>\n",
              "    <tr>\n",
              "      <th>3</th>\n",
              "      <td>10000</td>\n",
              "      <td>2000</td>\n",
              "      <td>1</td>\n",
              "      <td>0</td>\n",
              "      <td>97200</td>\n",
              "      <td>Illiterate</td>\n",
              "      <td>1</td>\n",
              "    </tr>\n",
              "    <tr>\n",
              "      <th>4</th>\n",
              "      <td>12500</td>\n",
              "      <td>12000</td>\n",
              "      <td>2</td>\n",
              "      <td>3000</td>\n",
              "      <td>147000</td>\n",
              "      <td>Graduate</td>\n",
              "      <td>1</td>\n",
              "    </tr>\n",
              "    <tr>\n",
              "      <th>5</th>\n",
              "      <td>14000</td>\n",
              "      <td>8000</td>\n",
              "      <td>2</td>\n",
              "      <td>0</td>\n",
              "      <td>196560</td>\n",
              "      <td>Graduate</td>\n",
              "      <td>1</td>\n",
              "    </tr>\n",
              "    <tr>\n",
              "      <th>6</th>\n",
              "      <td>15000</td>\n",
              "      <td>16000</td>\n",
              "      <td>3</td>\n",
              "      <td>35000</td>\n",
              "      <td>167400</td>\n",
              "      <td>Post-Graduate</td>\n",
              "      <td>1</td>\n",
              "    </tr>\n",
              "    <tr>\n",
              "      <th>7</th>\n",
              "      <td>18000</td>\n",
              "      <td>20000</td>\n",
              "      <td>5</td>\n",
              "      <td>8000</td>\n",
              "      <td>216000</td>\n",
              "      <td>Graduate</td>\n",
              "      <td>1</td>\n",
              "    </tr>\n",
              "    <tr>\n",
              "      <th>8</th>\n",
              "      <td>19000</td>\n",
              "      <td>9000</td>\n",
              "      <td>2</td>\n",
              "      <td>0</td>\n",
              "      <td>218880</td>\n",
              "      <td>Under-Graduate</td>\n",
              "      <td>1</td>\n",
              "    </tr>\n",
              "    <tr>\n",
              "      <th>9</th>\n",
              "      <td>20000</td>\n",
              "      <td>9000</td>\n",
              "      <td>4</td>\n",
              "      <td>0</td>\n",
              "      <td>220800</td>\n",
              "      <td>Under-Graduate</td>\n",
              "      <td>2</td>\n",
              "    </tr>\n",
              "  </tbody>\n",
              "</table>\n",
              "</div>"
            ],
            "text/plain": [
              "   Mthly_HH_Income  ...  No_of_Earning_Members\n",
              "0             5000  ...                      1\n",
              "1             6000  ...                      1\n",
              "2            10000  ...                      1\n",
              "3            10000  ...                      1\n",
              "4            12500  ...                      1\n",
              "5            14000  ...                      1\n",
              "6            15000  ...                      1\n",
              "7            18000  ...                      1\n",
              "8            19000  ...                      1\n",
              "9            20000  ...                      2\n",
              "\n",
              "[10 rows x 7 columns]"
            ]
          },
          "metadata": {
            "tags": []
          },
          "execution_count": 682
        }
      ]
    },
    {
      "cell_type": "markdown",
      "metadata": {
        "id": "26a653XTpsrL"
      },
      "source": [
        "Analyze the data using pandas info() *function*"
      ]
    },
    {
      "cell_type": "code",
      "metadata": {
        "id": "HbA5rIO4qJSS",
        "colab": {
          "base_uri": "https://localhost:8080/"
        },
        "outputId": "8e9f5ced-6893-4b27-f954-3b2bec5c6147"
      },
      "source": [
        "df.info()"
      ],
      "execution_count": 683,
      "outputs": [
        {
          "output_type": "stream",
          "text": [
            "<class 'pandas.core.frame.DataFrame'>\n",
            "RangeIndex: 50 entries, 0 to 49\n",
            "Data columns (total 7 columns):\n",
            " #   Column                    Non-Null Count  Dtype \n",
            "---  ------                    --------------  ----- \n",
            " 0   Mthly_HH_Income           50 non-null     int64 \n",
            " 1   Mthly_HH_Expense          50 non-null     int64 \n",
            " 2   No_of_Fly_Members         50 non-null     int64 \n",
            " 3   Emi_or_Rent_Amt           50 non-null     int64 \n",
            " 4   Annual_HH_Income          50 non-null     int64 \n",
            " 5   Highest_Qualified_Member  50 non-null     object\n",
            " 6   No_of_Earning_Members     50 non-null     int64 \n",
            "dtypes: int64(6), object(1)\n",
            "memory usage: 2.9+ KB\n"
          ],
          "name": "stdout"
        }
      ]
    },
    {
      "cell_type": "markdown",
      "metadata": {
        "id": "0bfcP5Twp4Sr"
      },
      "source": [
        "Analyze the data using pandas describe() *function*"
      ]
    },
    {
      "cell_type": "code",
      "metadata": {
        "id": "wf08Cv0cqJ-K",
        "colab": {
          "base_uri": "https://localhost:8080/",
          "height": 290
        },
        "outputId": "24a74bb4-3bab-4bd9-c9b5-45a75263e7a7"
      },
      "source": [
        "df.describe()"
      ],
      "execution_count": 684,
      "outputs": [
        {
          "output_type": "execute_result",
          "data": {
            "text/html": [
              "<div>\n",
              "<style scoped>\n",
              "    .dataframe tbody tr th:only-of-type {\n",
              "        vertical-align: middle;\n",
              "    }\n",
              "\n",
              "    .dataframe tbody tr th {\n",
              "        vertical-align: top;\n",
              "    }\n",
              "\n",
              "    .dataframe thead th {\n",
              "        text-align: right;\n",
              "    }\n",
              "</style>\n",
              "<table border=\"1\" class=\"dataframe\">\n",
              "  <thead>\n",
              "    <tr style=\"text-align: right;\">\n",
              "      <th></th>\n",
              "      <th>Mthly_HH_Income</th>\n",
              "      <th>Mthly_HH_Expense</th>\n",
              "      <th>No_of_Fly_Members</th>\n",
              "      <th>Emi_or_Rent_Amt</th>\n",
              "      <th>Annual_HH_Income</th>\n",
              "      <th>No_of_Earning_Members</th>\n",
              "    </tr>\n",
              "  </thead>\n",
              "  <tbody>\n",
              "    <tr>\n",
              "      <th>count</th>\n",
              "      <td>50.000000</td>\n",
              "      <td>50.000000</td>\n",
              "      <td>50.000000</td>\n",
              "      <td>50.000000</td>\n",
              "      <td>5.000000e+01</td>\n",
              "      <td>50.000000</td>\n",
              "    </tr>\n",
              "    <tr>\n",
              "      <th>mean</th>\n",
              "      <td>41558.000000</td>\n",
              "      <td>18818.000000</td>\n",
              "      <td>4.060000</td>\n",
              "      <td>3060.000000</td>\n",
              "      <td>4.900190e+05</td>\n",
              "      <td>1.460000</td>\n",
              "    </tr>\n",
              "    <tr>\n",
              "      <th>std</th>\n",
              "      <td>26097.908979</td>\n",
              "      <td>12090.216824</td>\n",
              "      <td>1.517382</td>\n",
              "      <td>6241.434948</td>\n",
              "      <td>3.201358e+05</td>\n",
              "      <td>0.734291</td>\n",
              "    </tr>\n",
              "    <tr>\n",
              "      <th>min</th>\n",
              "      <td>5000.000000</td>\n",
              "      <td>2000.000000</td>\n",
              "      <td>1.000000</td>\n",
              "      <td>0.000000</td>\n",
              "      <td>6.420000e+04</td>\n",
              "      <td>1.000000</td>\n",
              "    </tr>\n",
              "    <tr>\n",
              "      <th>25%</th>\n",
              "      <td>23550.000000</td>\n",
              "      <td>10000.000000</td>\n",
              "      <td>3.000000</td>\n",
              "      <td>0.000000</td>\n",
              "      <td>2.587500e+05</td>\n",
              "      <td>1.000000</td>\n",
              "    </tr>\n",
              "    <tr>\n",
              "      <th>50%</th>\n",
              "      <td>35000.000000</td>\n",
              "      <td>15500.000000</td>\n",
              "      <td>4.000000</td>\n",
              "      <td>0.000000</td>\n",
              "      <td>4.474200e+05</td>\n",
              "      <td>1.000000</td>\n",
              "    </tr>\n",
              "    <tr>\n",
              "      <th>75%</th>\n",
              "      <td>50375.000000</td>\n",
              "      <td>25000.000000</td>\n",
              "      <td>5.000000</td>\n",
              "      <td>3500.000000</td>\n",
              "      <td>5.947200e+05</td>\n",
              "      <td>2.000000</td>\n",
              "    </tr>\n",
              "    <tr>\n",
              "      <th>max</th>\n",
              "      <td>100000.000000</td>\n",
              "      <td>50000.000000</td>\n",
              "      <td>7.000000</td>\n",
              "      <td>35000.000000</td>\n",
              "      <td>1.404000e+06</td>\n",
              "      <td>4.000000</td>\n",
              "    </tr>\n",
              "  </tbody>\n",
              "</table>\n",
              "</div>"
            ],
            "text/plain": [
              "       Mthly_HH_Income  ...  No_of_Earning_Members\n",
              "count        50.000000  ...              50.000000\n",
              "mean      41558.000000  ...               1.460000\n",
              "std       26097.908979  ...               0.734291\n",
              "min        5000.000000  ...               1.000000\n",
              "25%       23550.000000  ...               1.000000\n",
              "50%       35000.000000  ...               1.000000\n",
              "75%       50375.000000  ...               2.000000\n",
              "max      100000.000000  ...               4.000000\n",
              "\n",
              "[8 rows x 6 columns]"
            ]
          },
          "metadata": {
            "tags": []
          },
          "execution_count": 684
        }
      ]
    },
    {
      "cell_type": "markdown",
      "metadata": {
        "id": "Gy_Q1psDp3K0"
      },
      "source": [
        "Analyze the data using pandas shape object"
      ]
    },
    {
      "cell_type": "code",
      "metadata": {
        "id": "lskKTYblqKUC",
        "colab": {
          "base_uri": "https://localhost:8080/"
        },
        "outputId": "02ae2168-9a8e-4359-84f8-3d9b1b3cac47"
      },
      "source": [
        "print(\"Shape of the dataset is\\n\\n\")\r\n",
        "df.shape"
      ],
      "execution_count": 685,
      "outputs": [
        {
          "output_type": "stream",
          "text": [
            "Shape of the dataset is\n",
            "\n",
            "\n"
          ],
          "name": "stdout"
        },
        {
          "output_type": "execute_result",
          "data": {
            "text/plain": [
              "(50, 7)"
            ]
          },
          "metadata": {
            "tags": []
          },
          "execution_count": 685
        }
      ]
    },
    {
      "cell_type": "markdown",
      "metadata": {
        "id": "bTQjekrUp9LW"
      },
      "source": [
        "Check for missing values"
      ]
    },
    {
      "cell_type": "code",
      "metadata": {
        "id": "e9FUUTH7qKtq",
        "colab": {
          "base_uri": "https://localhost:8080/"
        },
        "outputId": "3ec50f8b-5fa4-448a-de06-0028bc0cc675"
      },
      "source": [
        "print(\"Missing value in each colomn is\\n\\n\")\r\n",
        "df.isnull().sum()"
      ],
      "execution_count": 686,
      "outputs": [
        {
          "output_type": "stream",
          "text": [
            "Missing value in each colomn is\n",
            "\n",
            "\n"
          ],
          "name": "stdout"
        },
        {
          "output_type": "execute_result",
          "data": {
            "text/plain": [
              "Mthly_HH_Income             0\n",
              "Mthly_HH_Expense            0\n",
              "No_of_Fly_Members           0\n",
              "Emi_or_Rent_Amt             0\n",
              "Annual_HH_Income            0\n",
              "Highest_Qualified_Member    0\n",
              "No_of_Earning_Members       0\n",
              "dtype: int64"
            ]
          },
          "metadata": {
            "tags": []
          },
          "execution_count": 686
        }
      ]
    },
    {
      "cell_type": "markdown",
      "metadata": {
        "id": "VSfKC-bgqLFC"
      },
      "source": [
        "What is the Mean Expense of a Household? Compute mean using Inbuilt pandas function and write your own function for the same."
      ]
    },
    {
      "cell_type": "code",
      "metadata": {
        "colab": {
          "base_uri": "https://localhost:8080/"
        },
        "id": "bALHaN_bSpw0",
        "outputId": "7e5e9150-fc28-4cb4-d8e8-a4a06f93a18a"
      },
      "source": [
        "print(\"Mean expense of a Household by my own function\\n\\n\")\r\n",
        "\r\n",
        "def my_mean(sample):\r\n",
        "  sum=0\r\n",
        "  for i in range(0, len(sample)):\r\n",
        "    sum = sum + sample[i]\r\n",
        "  return sum / len(sample)\r\n",
        "\r\n",
        "my_mean(df[\"Mthly_HH_Expense\"])"
      ],
      "execution_count": 687,
      "outputs": [
        {
          "output_type": "stream",
          "text": [
            "Mean expense of a Household by my own function\n",
            "\n",
            "\n"
          ],
          "name": "stdout"
        },
        {
          "output_type": "execute_result",
          "data": {
            "text/plain": [
              "18818.0"
            ]
          },
          "metadata": {
            "tags": []
          },
          "execution_count": 687
        }
      ]
    },
    {
      "cell_type": "code",
      "metadata": {
        "id": "DCRfeoKZqMzP",
        "colab": {
          "base_uri": "https://localhost:8080/"
        },
        "outputId": "00f676cd-fb2d-4236-d236-d33f0564997a"
      },
      "source": [
        "print(\"Mean expense of a Household by inbuild function\\n\\n\")\r\n",
        "df[\"Mthly_HH_Expense\"].mean()"
      ],
      "execution_count": 688,
      "outputs": [
        {
          "output_type": "stream",
          "text": [
            "Mean expense of a Household by inbuild function\n",
            "\n",
            "\n"
          ],
          "name": "stdout"
        },
        {
          "output_type": "execute_result",
          "data": {
            "text/plain": [
              "18818.0"
            ]
          },
          "metadata": {
            "tags": []
          },
          "execution_count": 688
        }
      ]
    },
    {
      "cell_type": "markdown",
      "metadata": {
        "id": "f9YrCDbZqNH6"
      },
      "source": [
        "What is the Median Household Expense? Compute Median using Inbuilt pandas function and write your own function for the same."
      ]
    },
    {
      "cell_type": "code",
      "metadata": {
        "colab": {
          "base_uri": "https://localhost:8080/"
        },
        "id": "RHPd7xeLSr40",
        "outputId": "913366b7-349f-43d5-a3fd-dbfa3a78453a"
      },
      "source": [
        "print(\"Median Household Expense by my own function\\n\\n\")\r\n",
        "\r\n",
        "def my_median(nums):\r\n",
        "  numss = sorted(list(nums))\r\n",
        "  if len(nums)%2==1:\r\n",
        "    return numss[len(nums)//2]\r\n",
        "  else:\r\n",
        "    return (numss[len(nums)//2-1]+numss[len(nums)//2])/2\r\n",
        "my_median(df[\"Mthly_HH_Expense\"])"
      ],
      "execution_count": 689,
      "outputs": [
        {
          "output_type": "stream",
          "text": [
            "Median Household Expense by my own function\n",
            "\n",
            "\n"
          ],
          "name": "stdout"
        },
        {
          "output_type": "execute_result",
          "data": {
            "text/plain": [
              "15500.0"
            ]
          },
          "metadata": {
            "tags": []
          },
          "execution_count": 689
        }
      ]
    },
    {
      "cell_type": "code",
      "metadata": {
        "id": "wYWaDFM2qPxq",
        "colab": {
          "base_uri": "https://localhost:8080/"
        },
        "outputId": "06710e9d-6183-47da-a25f-0fb42b9b2ed6"
      },
      "source": [
        "print(\"Median Household Expense by inbuild function\\n\\n\")\r\n",
        "\r\n",
        "df.loc[:,\"Mthly_HH_Expense\"].median()"
      ],
      "execution_count": 690,
      "outputs": [
        {
          "output_type": "stream",
          "text": [
            "Median Household Expense by inbuild function\n",
            "\n",
            "\n"
          ],
          "name": "stdout"
        },
        {
          "output_type": "execute_result",
          "data": {
            "text/plain": [
              "15500.0"
            ]
          },
          "metadata": {
            "tags": []
          },
          "execution_count": 690
        }
      ]
    },
    {
      "cell_type": "markdown",
      "metadata": {
        "id": "jD4gKP8IqRFT"
      },
      "source": [
        "What is the Monthly Expense for most of the Households?\r\n"
      ]
    },
    {
      "cell_type": "code",
      "metadata": {
        "id": "OrUkGIVlqUJb",
        "colab": {
          "base_uri": "https://localhost:8080/",
          "height": 129
        },
        "outputId": "89056177-d46f-4c53-a1c0-6760a55a1a37"
      },
      "source": [
        "print(\"Monthly Expense for most of the Households is \\n\\n\")\r\n",
        "\r\n",
        "df[['Mthly_HH_Expense']].mode()"
      ],
      "execution_count": 691,
      "outputs": [
        {
          "output_type": "stream",
          "text": [
            "Monthly Expense for most of the Households is \n",
            "\n",
            "\n"
          ],
          "name": "stdout"
        },
        {
          "output_type": "execute_result",
          "data": {
            "text/html": [
              "<div>\n",
              "<style scoped>\n",
              "    .dataframe tbody tr th:only-of-type {\n",
              "        vertical-align: middle;\n",
              "    }\n",
              "\n",
              "    .dataframe tbody tr th {\n",
              "        vertical-align: top;\n",
              "    }\n",
              "\n",
              "    .dataframe thead th {\n",
              "        text-align: right;\n",
              "    }\n",
              "</style>\n",
              "<table border=\"1\" class=\"dataframe\">\n",
              "  <thead>\n",
              "    <tr style=\"text-align: right;\">\n",
              "      <th></th>\n",
              "      <th>Mthly_HH_Expense</th>\n",
              "    </tr>\n",
              "  </thead>\n",
              "  <tbody>\n",
              "    <tr>\n",
              "      <th>0</th>\n",
              "      <td>25000</td>\n",
              "    </tr>\n",
              "  </tbody>\n",
              "</table>\n",
              "</div>"
            ],
            "text/plain": [
              "   Mthly_HH_Expense\n",
              "0             25000"
            ]
          },
          "metadata": {
            "tags": []
          },
          "execution_count": 691
        }
      ]
    },
    {
      "cell_type": "markdown",
      "metadata": {
        "id": "CZtVOZxJqXzz"
      },
      "source": [
        "Calculate IQR(difference between 75% and 25% quartile)\r\n",
        "\r\n"
      ]
    },
    {
      "cell_type": "code",
      "metadata": {
        "id": "sxPVuHYrqX8s",
        "colab": {
          "base_uri": "https://localhost:8080/"
        },
        "outputId": "18a189ba-f623-4c9b-cc20-b473daf7883a"
      },
      "source": [
        "print(\"IQR for respective colomn is\\n\\n\")\r\n",
        "\r\n",
        "def IQR(x):\r\n",
        "  Q75, Q25 = np.percentile(x, [75, 25])\r\n",
        "  IQR= Q75- Q25\r\n",
        "  return IQR\r\n",
        "\r\n",
        "df[['Mthly_HH_Income','Mthly_HH_Expense','No_of_Fly_Members','Emi_or_Rent_Amt','Annual_HH_Income','No_of_Earning_Members']].apply(IQR)\r\n"
      ],
      "execution_count": 692,
      "outputs": [
        {
          "output_type": "stream",
          "text": [
            "IQR for respective colomn is\n",
            "\n",
            "\n"
          ],
          "name": "stdout"
        },
        {
          "output_type": "execute_result",
          "data": {
            "text/plain": [
              "Mthly_HH_Income           26825.0\n",
              "Mthly_HH_Expense          15000.0\n",
              "No_of_Fly_Members             2.0\n",
              "Emi_or_Rent_Amt            3500.0\n",
              "Annual_HH_Income         335970.0\n",
              "No_of_Earning_Members         1.0\n",
              "dtype: float64"
            ]
          },
          "metadata": {
            "tags": []
          },
          "execution_count": 692
        }
      ]
    },
    {
      "cell_type": "markdown",
      "metadata": {
        "id": "jElORm3tqblT"
      },
      "source": [
        "Calculate Standard Deviation for first 4 columns. Compute Standard Deviation using Inbuilt pandas function and write your own function for the same."
      ]
    },
    {
      "cell_type": "code",
      "metadata": {
        "colab": {
          "base_uri": "https://localhost:8080/"
        },
        "id": "Lvso_lkHJdjj",
        "outputId": "4fe6094b-a640-4ae4-dd1a-1d403c0f1481"
      },
      "source": [
        "print(\" Standard Deviation of first 4 coloumn using my own function\\n\\n\")\r\n",
        "\r\n",
        "def my_mean(data):\r\n",
        "  sum=0\r\n",
        "  for i in range(0, len(data)):\r\n",
        "    sum = sum + data[i]\r\n",
        "  return sum / len(data)\r\n",
        "def std(data):\r\n",
        "  n = len(data)\r\n",
        "  mean = my_mean(data)\r\n",
        "  deviations = [(x - mean) ** 2 for x in data]\r\n",
        "  var = sum(deviations) / n\r\n",
        "  std_dev = math.sqrt(var)\r\n",
        "  return std_dev\r\n",
        "\r\n",
        "df[['Mthly_HH_Income','Mthly_HH_Expense','No_of_Fly_Members','Emi_or_Rent_Amt']].apply(std)"
      ],
      "execution_count": 693,
      "outputs": [
        {
          "output_type": "stream",
          "text": [
            " Standard Deviation of first 4 coloumn using my own function\n",
            "\n",
            "\n"
          ],
          "name": "stdout"
        },
        {
          "output_type": "execute_result",
          "data": {
            "text/plain": [
              "Mthly_HH_Income      25835.611779\n",
              "Mthly_HH_Expense     11968.704023\n",
              "No_of_Fly_Members        1.502132\n",
              "Emi_or_Rent_Amt       6178.705366\n",
              "dtype: float64"
            ]
          },
          "metadata": {
            "tags": []
          },
          "execution_count": 693
        }
      ]
    },
    {
      "cell_type": "code",
      "metadata": {
        "id": "ZYA56UIHqbsD",
        "colab": {
          "base_uri": "https://localhost:8080/"
        },
        "outputId": "daebef28-0869-4137-f49c-f961c1e4db53"
      },
      "source": [
        "print(\" Standard Deviation of first 4 coloumn using Inbuilt pandas function\\n\\n\")\r\n",
        "\r\n",
        "df[['Mthly_HH_Income','Mthly_HH_Expense','No_of_Fly_Members','Emi_or_Rent_Amt']].std()"
      ],
      "execution_count": 694,
      "outputs": [
        {
          "output_type": "stream",
          "text": [
            " Standard Deviation of first 4 coloumn using Inbuilt pandas function\n",
            "\n",
            "\n"
          ],
          "name": "stdout"
        },
        {
          "output_type": "execute_result",
          "data": {
            "text/plain": [
              "Mthly_HH_Income      26097.908979\n",
              "Mthly_HH_Expense     12090.216824\n",
              "No_of_Fly_Members        1.517382\n",
              "Emi_or_Rent_Amt       6241.434948\n",
              "dtype: float64"
            ]
          },
          "metadata": {
            "tags": []
          },
          "execution_count": 694
        }
      ]
    },
    {
      "cell_type": "markdown",
      "metadata": {
        "id": "UHL1TLkPqfNX"
      },
      "source": [
        "Calculate Variance for first 3 columns. Compute Variance using Inbuilt pandas \r\n",
        "function and write your own function for the same."
      ]
    },
    {
      "cell_type": "code",
      "metadata": {
        "colab": {
          "base_uri": "https://localhost:8080/"
        },
        "id": "rlh2yIlBJ1k7",
        "outputId": "68b6bfac-c95e-4890-bea5-0e4e934503ab"
      },
      "source": [
        " print(\" Variance of first 3 coloumn using my own function\\n\\n\")\r\n",
        " \r\n",
        " def my_mean(data):\r\n",
        "  sum=0\r\n",
        "  for i in range(0, len(data)):\r\n",
        "    sum = sum + data[i]\r\n",
        "  return sum / len(data)\r\n",
        "\r\n",
        "def variance(data):\r\n",
        "   n = len(data)\r\n",
        "   mean = my_mean(data)\r\n",
        "   deviations = [(x - mean) ** 2 for x in data]\r\n",
        "   variance = sum(deviations) / n\r\n",
        "   return variance\r\n",
        "df[['Mthly_HH_Income','Mthly_HH_Expense','No_of_Fly_Members']].apply(variance)"
      ],
      "execution_count": 695,
      "outputs": [
        {
          "output_type": "stream",
          "text": [
            " Variance of first 3 coloumn using my own function\n",
            "\n",
            "\n"
          ],
          "name": "stdout"
        },
        {
          "output_type": "execute_result",
          "data": {
            "text/plain": [
              "Mthly_HH_Income      6.674788e+08\n",
              "Mthly_HH_Expense     1.432499e+08\n",
              "No_of_Fly_Members    2.256400e+00\n",
              "dtype: float64"
            ]
          },
          "metadata": {
            "tags": []
          },
          "execution_count": 695
        }
      ]
    },
    {
      "cell_type": "code",
      "metadata": {
        "id": "W30ohdg-tyAZ",
        "colab": {
          "base_uri": "https://localhost:8080/"
        },
        "outputId": "a3bb07ba-99e3-42c8-aa91-cc3bc0ad2c45"
      },
      "source": [
        "print(\" Variance of first 3 coloumn using Inbuilt pandas function\\n\\n\")\r\n",
        "\r\n",
        "df[['Mthly_HH_Income','Mthly_HH_Expense','No_of_Fly_Members']].var()"
      ],
      "execution_count": 696,
      "outputs": [
        {
          "output_type": "stream",
          "text": [
            " Variance of first 3 coloumn using Inbuilt pandas function\n",
            "\n",
            "\n"
          ],
          "name": "stdout"
        },
        {
          "output_type": "execute_result",
          "data": {
            "text/plain": [
              "Mthly_HH_Income      6.811009e+08\n",
              "Mthly_HH_Expense     1.461733e+08\n",
              "No_of_Fly_Members    2.302449e+00\n",
              "dtype: float64"
            ]
          },
          "metadata": {
            "tags": []
          },
          "execution_count": 696
        }
      ]
    },
    {
      "cell_type": "markdown",
      "metadata": {
        "id": "ASY9WWAAuIx-"
      },
      "source": [
        "Calculate Skewness for first 3 columns. Compute Skewness using Inbuilt pandas function and write your own function for the same.\r\n"
      ]
    },
    {
      "cell_type": "code",
      "metadata": {
        "colab": {
          "base_uri": "https://localhost:8080/"
        },
        "id": "elpLRauI9uaY",
        "outputId": "a8a28c43-08d8-40f6-8bd2-52f2ccb4d937"
      },
      "source": [
        "print(\"Skewness for first 3 coloumn using my own function\\n\\n\")\r\n",
        "\r\n",
        "def my_mean(data):\r\n",
        "  sum=0\r\n",
        "  for i in range(0, len(data)):\r\n",
        "    sum = sum + data[i]\r\n",
        "  return sum / len(data)\r\n",
        "def std(data):\r\n",
        "  n = len(data)\r\n",
        "  mean = my_mean(data)\r\n",
        "  deviations = [(x - mean) ** 2 for x in data]\r\n",
        "  var = sum(deviations) / n\r\n",
        "  std_dev = math.sqrt(var)\r\n",
        "  return std_dev\r\n",
        "def skewness(data):\r\n",
        "  n = len(data)\r\n",
        "  mean = my_mean(data)\r\n",
        "  deviations = [(x - mean) ** 3 for x in data]\r\n",
        "  skewness = sum(deviations) / (n * std(data) *std(data) *std(data))\r\n",
        "  return skewness\r\n",
        "\r\n",
        "df[['Mthly_HH_Income','Mthly_HH_Expense','No_of_Fly_Members']].apply(skewness)"
      ],
      "execution_count": 697,
      "outputs": [
        {
          "output_type": "stream",
          "text": [
            "Skewness for first 3 coloumn using my own function\n",
            "\n",
            "\n"
          ],
          "name": "stdout"
        },
        {
          "output_type": "execute_result",
          "data": {
            "text/plain": [
              "Mthly_HH_Income      0.896642\n",
              "Mthly_HH_Expense     1.163173\n",
              "No_of_Fly_Members    0.110235\n",
              "dtype: float64"
            ]
          },
          "metadata": {
            "tags": []
          },
          "execution_count": 697
        }
      ]
    },
    {
      "cell_type": "code",
      "metadata": {
        "id": "Sl4uw-jouI88",
        "colab": {
          "base_uri": "https://localhost:8080/"
        },
        "outputId": "5e84f176-530c-4bd4-b087-842ddce6e347"
      },
      "source": [
        "print(\"Skewness for first 3 coloumn using inbuild function\\n\\n\")\r\n",
        "\r\n",
        "df[['Mthly_HH_Income','Mthly_HH_Expense','No_of_Fly_Members']].skew()"
      ],
      "execution_count": 698,
      "outputs": [
        {
          "output_type": "stream",
          "text": [
            "Skewness for first 3 coloumn using inbuild function\n",
            "\n",
            "\n"
          ],
          "name": "stdout"
        },
        {
          "output_type": "execute_result",
          "data": {
            "text/plain": [
              "Mthly_HH_Income      0.924615\n",
              "Mthly_HH_Expense     1.199461\n",
              "No_of_Fly_Members    0.113674\n",
              "dtype: float64"
            ]
          },
          "metadata": {
            "tags": []
          },
          "execution_count": 698
        }
      ]
    },
    {
      "cell_type": "markdown",
      "metadata": {
        "id": "bHm8S-umuKV9"
      },
      "source": [
        "Calculate Kurtosis for first 3 columns. Compute Kurtosis using Inbuilt pandas function and write your own function for the same."
      ]
    },
    {
      "cell_type": "code",
      "metadata": {
        "colab": {
          "base_uri": "https://localhost:8080/"
        },
        "id": "jtylmtLJKIPg",
        "outputId": "a7f889f0-7844-45d7-ebf6-7b4f927d401c"
      },
      "source": [
        "print(\"Kurtosis for first 3 coloumn using my own function\\n\\n\")\r\n",
        "\r\n",
        "def my_mean(data):\r\n",
        "  sum=0\r\n",
        "  for i in range(0, len(data)):\r\n",
        "    sum = sum + data[i]\r\n",
        "  return sum / len(data)\r\n",
        "def std(data):\r\n",
        "  n = len(data)\r\n",
        "  mean = my_mean(data)\r\n",
        "  deviations = [(x - mean) ** 2 for x in data]\r\n",
        "  var = sum(deviations) / n\r\n",
        "  std_dev = math.sqrt(var)\r\n",
        "  return std_dev\r\n",
        "def kurtosis(data):\r\n",
        "  n = len(data)\r\n",
        "  mean = my_mean(data)\r\n",
        "  deviations = [(x - mean) ** 4 for x in data]\r\n",
        "  skewness = sum(deviations) / (n * std(data) *std(data) *std(data) *std(data)) \r\n",
        "  return skewness\r\n",
        "\r\n",
        "df[['Mthly_HH_Income','Mthly_HH_Expense','No_of_Fly_Members']].apply(kurtosis)"
      ],
      "execution_count": 699,
      "outputs": [
        {
          "output_type": "stream",
          "text": [
            "Kurtosis for first 3 coloumn using my own function\n",
            "\n",
            "\n"
          ],
          "name": "stdout"
        },
        {
          "output_type": "execute_result",
          "data": {
            "text/plain": [
              "Mthly_HH_Income      2.986667\n",
              "Mthly_HH_Expense     3.733196\n",
              "No_of_Fly_Members    2.113702\n",
              "dtype: float64"
            ]
          },
          "metadata": {
            "tags": []
          },
          "execution_count": 699
        }
      ]
    },
    {
      "cell_type": "code",
      "metadata": {
        "id": "_7DYdHt3uKkd",
        "colab": {
          "base_uri": "https://localhost:8080/"
        },
        "outputId": "4f7eef23-249e-456d-8ad6-6435a49db25d"
      },
      "source": [
        "print(\"Kurtosis for first 3 coloumn using inbuild function\\n\\n\")\r\n",
        "\r\n",
        "df[['Mthly_HH_Income','Mthly_HH_Expense','No_of_Fly_Members']].kurtosis()"
      ],
      "execution_count": 700,
      "outputs": [
        {
          "output_type": "stream",
          "text": [
            "Kurtosis for first 3 coloumn using inbuild function\n",
            "\n",
            "\n"
          ],
          "name": "stdout"
        },
        {
          "output_type": "execute_result",
          "data": {
            "text/plain": [
              "Mthly_HH_Income      0.115550\n",
              "Mthly_HH_Expense     0.942490\n",
              "No_of_Fly_Members   -0.851445\n",
              "dtype: float64"
            ]
          },
          "metadata": {
            "tags": []
          },
          "execution_count": 700
        }
      ]
    },
    {
      "cell_type": "markdown",
      "metadata": {
        "id": "Mg32NdXwtCM6"
      },
      "source": [
        "Find the correlation coeeficient between the \"Mthly_HH_Income\" and\t\"Mthly_HH_Expense\". Compute correlation coeeficient using Inbuilt pandas function and write your own function for the same.\r\n"
      ]
    },
    {
      "cell_type": "code",
      "metadata": {
        "colab": {
          "base_uri": "https://localhost:8080/"
        },
        "id": "vPVFdnNzLLsn",
        "outputId": "c55c8f9c-0020-4c38-9431-107f2a30ebdb"
      },
      "source": [
        "print(\"correlation coeeficient between the Mthly_HH_Income and Mthly_HH_Expense using my own function\\n\\n\")\r\n",
        "\r\n",
        "import math \r\n",
        "def correlationCoefficient(X, Y) :\r\n",
        "  n=len(X) \r\n",
        "  sum_X = 0\r\n",
        "  sum_Y = 0\r\n",
        "  sum_XY = 0\r\n",
        "  squareSum_X = 0\r\n",
        "  squareSum_Y = 0\r\n",
        "  \r\n",
        "  i = 0\r\n",
        "  while i < n : \r\n",
        "    sum_X = sum_X + X[i]  \r\n",
        "    sum_Y = sum_Y + Y[i] \r\n",
        "    sum_XY = sum_XY + X[i] * Y[i]  \r\n",
        "    squareSum_X = squareSum_X + X[i] * X[i] \r\n",
        "    squareSum_Y = squareSum_Y + Y[i] * Y[i] \r\n",
        "\t\t\r\n",
        "    i = i + 1\r\n",
        "    p = (float)(n * sum_XY - sum_X * sum_Y)\r\n",
        "    q = (float)(math.sqrt(n * squareSum_X -sum_X * sum_X))\r\n",
        "    w = (float)(math.sqrt(n * squareSum_Y -sum_Y * sum_Y))\r\n",
        "    corr = p/(q*w)\r\n",
        "  return corr \r\n",
        "\r\n",
        "correlationCoefficient(df.Mthly_HH_Income, df.Mthly_HH_Expense) "
      ],
      "execution_count": 701,
      "outputs": [
        {
          "output_type": "stream",
          "text": [
            "correlation coeeficient between the Mthly_HH_Income and Mthly_HH_Expense using my own function\n",
            "\n",
            "\n"
          ],
          "name": "stdout"
        },
        {
          "output_type": "execute_result",
          "data": {
            "text/plain": [
              "0.6492152549316462"
            ]
          },
          "metadata": {
            "tags": []
          },
          "execution_count": 701
        }
      ]
    },
    {
      "cell_type": "code",
      "metadata": {
        "id": "my0YjieUq2A6",
        "colab": {
          "base_uri": "https://localhost:8080/"
        },
        "outputId": "128bc64c-103b-4212-df1e-369a9b673f82"
      },
      "source": [
        "print(\"correlation coeeficient between the Mthly_HH_Income and Mthly_HH_Expense using inbuild function\\n\\n\")\r\n",
        "\r\n",
        "df[\"Mthly_HH_Income\"].corr(df[\"Mthly_HH_Expense\"])"
      ],
      "execution_count": 702,
      "outputs": [
        {
          "output_type": "stream",
          "text": [
            "correlation coeeficient between the Mthly_HH_Income and Mthly_HH_Expense using inbuild function\n",
            "\n",
            "\n"
          ],
          "name": "stdout"
        },
        {
          "output_type": "execute_result",
          "data": {
            "text/plain": [
              "0.6492152549316462"
            ]
          },
          "metadata": {
            "tags": []
          },
          "execution_count": 702
        }
      ]
    },
    {
      "cell_type": "markdown",
      "metadata": {
        "id": "sNTnuxS3q2kD"
      },
      "source": [
        "Calculate the total counts under each qualification"
      ]
    },
    {
      "cell_type": "code",
      "metadata": {
        "id": "9uYeQk_xq2si",
        "colab": {
          "base_uri": "https://localhost:8080/"
        },
        "outputId": "88715d7a-cc0a-4382-917a-2b265930f4ad"
      },
      "source": [
        "print(\"Total counts under each qualification\\n\\n\")\r\n",
        "\r\n",
        "df[\"Highest_Qualified_Member\"].value_counts()"
      ],
      "execution_count": 703,
      "outputs": [
        {
          "output_type": "stream",
          "text": [
            "Total counts under each qualification\n",
            "\n",
            "\n"
          ],
          "name": "stdout"
        },
        {
          "output_type": "execute_result",
          "data": {
            "text/plain": [
              "Graduate          19\n",
              "Professional      10\n",
              "Under-Graduate    10\n",
              "Post-Graduate      6\n",
              "Illiterate         5\n",
              "Name: Highest_Qualified_Member, dtype: int64"
            ]
          },
          "metadata": {
            "tags": []
          },
          "execution_count": 703
        }
      ]
    },
    {
      "cell_type": "markdown",
      "metadata": {
        "id": "vQT6RPqOyvi8"
      },
      "source": [
        "Compute logarithmic mean of the first two cols using your own function"
      ]
    },
    {
      "cell_type": "code",
      "metadata": {
        "colab": {
          "base_uri": "https://localhost:8080/"
        },
        "id": "VQMIS00WujSY",
        "outputId": "2593f07f-de3c-48a6-c504-0975cbf4856f"
      },
      "source": [
        "print(\"logarithmic mean of the first two cols using your own function is\\n\\n\")\r\n",
        "\r\n",
        "def logarithmicmean(data):\r\n",
        "  p = max(data)\r\n",
        "  q = min(data)\r\n",
        "  r = math.log(p)\r\n",
        "  s = math.log(q)\r\n",
        "  z_score = (p-q)/(r-s)\r\n",
        "  return z_score\r\n",
        "\r\n",
        "df[['Mthly_HH_Income','Mthly_HH_Expense']].apply(logarithmicmean)"
      ],
      "execution_count": 704,
      "outputs": [
        {
          "output_type": "stream",
          "text": [
            "logarithmic mean of the first two cols using your own function is\n",
            "\n",
            "\n"
          ],
          "name": "stdout"
        },
        {
          "output_type": "execute_result",
          "data": {
            "text/plain": [
              "Mthly_HH_Income     31711.779066\n",
              "Mthly_HH_Expense    14912.038429\n",
              "dtype: float64"
            ]
          },
          "metadata": {
            "tags": []
          },
          "execution_count": 704
        }
      ]
    },
    {
      "cell_type": "markdown",
      "metadata": {
        "id": "LG4ph_BXyzmq"
      },
      "source": [
        "Compute geometric mean of the first two cols using your own  function and verify using inbuilt Python function"
      ]
    },
    {
      "cell_type": "code",
      "metadata": {
        "colab": {
          "base_uri": "https://localhost:8080/"
        },
        "id": "hpAOEI7V-wnD",
        "outputId": "9b091ddc-fdde-47a7-b843-30c30947729a"
      },
      "source": [
        "print(\"geometric mean of the first two cols using your own function \\n\\n\")\r\n",
        "\r\n",
        "def my_geometricmean(data):\r\n",
        "  multiplication=1\r\n",
        "  n=len(data)\r\n",
        "  for i in data:\r\n",
        "    multiplication = multiplication * i \r\n",
        "    geometricmean = (multiplication)**(1/n)\r\n",
        "  return geometricmean\r\n",
        "  \r\n",
        "print(\"geometric mean of Monthly hosehold income is\", my_geometricmean(df.Mthly_HH_Income) )\r\n",
        "print(\"geometric mean of Monthly hosehold expense is\", my_geometricmean(df.Mthly_HH_Expense) )\r\n"
      ],
      "execution_count": 705,
      "outputs": [
        {
          "output_type": "stream",
          "text": [
            "geometric mean of the first two cols using your own function \n",
            "\n",
            "\n",
            "geometric mean of Monthly hosehold income is 33590.377540213965\n",
            "geometric mean of Monthly hosehold expense is 15391.899582223135\n"
          ],
          "name": "stdout"
        }
      ]
    },
    {
      "cell_type": "code",
      "metadata": {
        "id": "5uCUqqOUyvpz",
        "colab": {
          "base_uri": "https://localhost:8080/"
        },
        "outputId": "bb24594b-7797-46e9-e618-df75617684df"
      },
      "source": [
        "print(\"geometric mean of the first two cols using  inbuilt Python function is\\n\\n\")\r\n",
        "\r\n",
        "p = stats.gmean(df.Mthly_HH_Expense)\r\n",
        "q= stats.gmean(df.Mthly_HH_Income)\r\n",
        "print(\"geometric mean of Monthly hosehold income is\", q)\r\n",
        "print(\"geometric mean of Monthly hosehold expense is\", p)\r\n"
      ],
      "execution_count": 706,
      "outputs": [
        {
          "output_type": "stream",
          "text": [
            "geometric mean of the first two cols using  inbuilt Python function is\n",
            "\n",
            "\n",
            "geometric mean of Monthly hosehold income is 33590.37754021395\n",
            "geometric mean of Monthly hosehold expense is 15391.89958222314\n"
          ],
          "name": "stdout"
        }
      ]
    },
    {
      "cell_type": "markdown",
      "metadata": {
        "id": "Sgq9FwT-y7vC"
      },
      "source": [
        "Compute *Mean Deviation from the Mean* of the first two cols using your own  function and verify using inbuilt Python function"
      ]
    },
    {
      "cell_type": "code",
      "metadata": {
        "id": "ImCyk2CAy7zJ",
        "colab": {
          "base_uri": "https://localhost:8080/"
        },
        "outputId": "a1a6de76-ed82-4854-e2d9-ec9bb5b32238"
      },
      "source": [
        "print(\"Mean Deviation from the Mean of the first two cols using your own function is \\n\\n\")\r\n",
        "\r\n",
        "def my_mean(data):\r\n",
        "  sum=0\r\n",
        "  for i in range(0, len(data)):\r\n",
        "    sum = sum + data[i]\r\n",
        "  return sum / len(data)\r\n",
        "def mean_deviation(data):\r\n",
        "  n = len(data)\r\n",
        "  mean = my_mean(data)\r\n",
        "  deviations = [(x - mean) for x in data]\r\n",
        "  mean_deviation = sum(deviations) / n\r\n",
        "  return mean_deviation\r\n",
        "\r\n",
        "df[['Mthly_HH_Income','Mthly_HH_Expense']].apply(mean_deviation)"
      ],
      "execution_count": 707,
      "outputs": [
        {
          "output_type": "stream",
          "text": [
            "Mean Deviation from the Mean of the first two cols using your own function is \n",
            "\n",
            "\n"
          ],
          "name": "stdout"
        },
        {
          "output_type": "execute_result",
          "data": {
            "text/plain": [
              "Mthly_HH_Income     0.0\n",
              "Mthly_HH_Expense    0.0\n",
              "dtype: float64"
            ]
          },
          "metadata": {
            "tags": []
          },
          "execution_count": 707
        }
      ]
    },
    {
      "cell_type": "markdown",
      "metadata": {
        "id": "ZRhQQQy2yiGk"
      },
      "source": [
        "\r\n",
        "\r\n",
        "> There is no inbuild function for Mean deviation as its always zero\r\n",
        "\r\n"
      ]
    },
    {
      "cell_type": "markdown",
      "metadata": {
        "id": "IPbeTeSlzEEi"
      },
      "source": [
        "Compute *Mean Absolute Deviation from the Mean* of the first two cols using your own function and verify using inbuilt Python function"
      ]
    },
    {
      "cell_type": "code",
      "metadata": {
        "id": "hITjKV8QzENJ",
        "colab": {
          "base_uri": "https://localhost:8080/"
        },
        "outputId": "11fb5a96-51d9-447c-8afe-0dd258201b63"
      },
      "source": [
        "print(\"Mean Absolute Deviation from the Mean of the first two cols using my own function is \\n\\n\")\r\n",
        "\r\n",
        "def my_mean(data):\r\n",
        "  sum=0\r\n",
        "  for i in range(0, len(data)):\r\n",
        "    sum = sum + data[i]\r\n",
        "  return sum / len(data)\r\n",
        "def mean_deviation(data):\r\n",
        "  n = len(data)\r\n",
        "  mean = my_mean(data)\r\n",
        "  deviations = [abs(x - mean) for x in data]\r\n",
        "  mean_deviation = sum(deviations) / n\r\n",
        "  return mean_deviation\r\n",
        "\r\n",
        "df[['Mthly_HH_Income','Mthly_HH_Expense']].apply(mean_deviation)"
      ],
      "execution_count": 708,
      "outputs": [
        {
          "output_type": "stream",
          "text": [
            "Mean Absolute Deviation from the Mean of the first two cols using my own function is \n",
            "\n",
            "\n"
          ],
          "name": "stdout"
        },
        {
          "output_type": "execute_result",
          "data": {
            "text/plain": [
              "Mthly_HH_Income     20288.96\n",
              "Mthly_HH_Expense     9247.44\n",
              "dtype: float64"
            ]
          },
          "metadata": {
            "tags": []
          },
          "execution_count": 708
        }
      ]
    },
    {
      "cell_type": "code",
      "metadata": {
        "colab": {
          "base_uri": "https://localhost:8080/"
        },
        "id": "FpU5Fv5VzEW7",
        "outputId": "5283aba4-3513-49c4-dd84-afba977dc5a0"
      },
      "source": [
        "print(\"Mean Absolute Deviation from the Mean of the first two cols using inbuild function is \\n\\n\")\r\n",
        "\r\n",
        "df[['Mthly_HH_Income','Mthly_HH_Expense']].mad()"
      ],
      "execution_count": 709,
      "outputs": [
        {
          "output_type": "stream",
          "text": [
            "Mean Absolute Deviation from the Mean of the first two cols using inbuild function is \n",
            "\n",
            "\n"
          ],
          "name": "stdout"
        },
        {
          "output_type": "execute_result",
          "data": {
            "text/plain": [
              "Mthly_HH_Income     20288.96\n",
              "Mthly_HH_Expense     9247.44\n",
              "dtype: float64"
            ]
          },
          "metadata": {
            "tags": []
          },
          "execution_count": 709
        }
      ]
    },
    {
      "cell_type": "markdown",
      "metadata": {
        "id": "OVoo_Mc0zMfS"
      },
      "source": [
        "Compute *Coefficient of Variation* of the first two cols using your own function and verify using inbuilt Python function"
      ]
    },
    {
      "cell_type": "code",
      "metadata": {
        "id": "3Xw8Xa0czMly",
        "colab": {
          "base_uri": "https://localhost:8080/"
        },
        "outputId": "76a05aa6-8f7a-43a5-fe11-0add709f89b9"
      },
      "source": [
        "print(\"Coefficient of Variation of the first two cols using my own function is \\n\\n\")\r\n",
        "\r\n",
        "def my_mean(data):\r\n",
        "  sum=0\r\n",
        "  for i in range(0, len(data)):\r\n",
        "    sum = sum + data[i]\r\n",
        "  return sum / len(data)\r\n",
        "def std(data):\r\n",
        "  n = len(data)\r\n",
        "  mean = my_mean(data)\r\n",
        "  deviations = [(x - mean) ** 2 for x in data]\r\n",
        "  var = sum(deviations) / n\r\n",
        "  std_dev = math.sqrt(var)\r\n",
        "  return std_dev\r\n",
        "def coeff_var(data):\r\n",
        "  coeff_var = std(data)/my_mean(data)\r\n",
        "  return coeff_var\r\n",
        "\r\n",
        "df[['Mthly_HH_Income','Mthly_HH_Expense']].apply(coeff_var)"
      ],
      "execution_count": 710,
      "outputs": [
        {
          "output_type": "stream",
          "text": [
            "Coefficient of Variation of the first two cols using my own function is \n",
            "\n",
            "\n"
          ],
          "name": "stdout"
        },
        {
          "output_type": "execute_result",
          "data": {
            "text/plain": [
              "Mthly_HH_Income     0.621676\n",
              "Mthly_HH_Expense    0.636024\n",
              "dtype: float64"
            ]
          },
          "metadata": {
            "tags": []
          },
          "execution_count": 710
        }
      ]
    },
    {
      "cell_type": "code",
      "metadata": {
        "colab": {
          "base_uri": "https://localhost:8080/"
        },
        "id": "fyke_OKpgD0h",
        "outputId": "6d6d8c02-8037-4f65-93a9-4d756db6f9d2"
      },
      "source": [
        "print(\"Coefficient of Variation of the first two cols using inbuild function is \\n\\n\")\r\n",
        "\r\n",
        "p = variation(df.Mthly_HH_Expense)\r\n",
        "q = variation(df.Mthly_HH_Income)\r\n",
        "print(\"Coefficient of variation of Monthly hosehold income is\", q)\r\n",
        "print(\"Coefficient of variation of Monthly hosehold expense is\", p)\r\n"
      ],
      "execution_count": 711,
      "outputs": [
        {
          "output_type": "stream",
          "text": [
            "Coefficient of Variation of the first two cols using inbuild function is \n",
            "\n",
            "\n",
            "Coefficient of variation of Monthly hosehold income is 0.6216760137420672\n",
            "Coefficient of variation of Monthly hosehold expense is 0.636024233362227\n"
          ],
          "name": "stdout"
        }
      ]
    },
    {
      "cell_type": "markdown",
      "metadata": {
        "id": "zXC0DSBH0WFV"
      },
      "source": [
        "Compute z score  for all numerical cols using your own function  and verify using inbuilt Python function"
      ]
    },
    {
      "cell_type": "code",
      "metadata": {
        "colab": {
          "base_uri": "https://localhost:8080/",
          "height": 1000
        },
        "id": "KQJUVKNSHAx5",
        "outputId": "a76710e1-4b52-4655-fd0f-0753fe6fd555"
      },
      "source": [
        "print(\"z score for all numerical cols using your own function\\n\\n\")\r\n",
        "\r\n",
        "def my_mean(data):\r\n",
        "  sum=0\r\n",
        "  for i in range(0, len(data)):\r\n",
        "    sum = sum + data[i]\r\n",
        "  return sum / len(data)\r\n",
        "def std(data):\r\n",
        "  n = len(data)\r\n",
        "  mean = my_mean(data)\r\n",
        "  deviations = [(x - mean) ** 2 for x in data]\r\n",
        "  var = sum(deviations) / n\r\n",
        "  std_dev = math.sqrt(var)\r\n",
        "  return std_dev\r\n",
        "def my_zscore(data):\r\n",
        "  mean= my_mean(data)\r\n",
        "  standdev =std(data)\r\n",
        "  zscore = [(x - mean) /standdev for x in data]\r\n",
        "  return zscore\r\n",
        "\r\n",
        "\r\n",
        "df[['Mthly_HH_Income','Mthly_HH_Expense','No_of_Fly_Members','Emi_or_Rent_Amt','Annual_HH_Income','No_of_Earning_Members']].apply(my_zscore)"
      ],
      "execution_count": 712,
      "outputs": [
        {
          "output_type": "stream",
          "text": [
            "z score for all numerical cols using your own function\n",
            "\n",
            "\n"
          ],
          "name": "stdout"
        },
        {
          "output_type": "execute_result",
          "data": {
            "text/html": [
              "<div>\n",
              "<style scoped>\n",
              "    .dataframe tbody tr th:only-of-type {\n",
              "        vertical-align: middle;\n",
              "    }\n",
              "\n",
              "    .dataframe tbody tr th {\n",
              "        vertical-align: top;\n",
              "    }\n",
              "\n",
              "    .dataframe thead th {\n",
              "        text-align: right;\n",
              "    }\n",
              "</style>\n",
              "<table border=\"1\" class=\"dataframe\">\n",
              "  <thead>\n",
              "    <tr style=\"text-align: right;\">\n",
              "      <th></th>\n",
              "      <th>Mthly_HH_Income</th>\n",
              "      <th>Mthly_HH_Expense</th>\n",
              "      <th>No_of_Fly_Members</th>\n",
              "      <th>Emi_or_Rent_Amt</th>\n",
              "      <th>Annual_HH_Income</th>\n",
              "      <th>No_of_Earning_Members</th>\n",
              "    </tr>\n",
              "  </thead>\n",
              "  <tbody>\n",
              "    <tr>\n",
              "      <th>0</th>\n",
              "      <td>-1.415024</td>\n",
              "      <td>-0.903857</td>\n",
              "      <td>-0.705664</td>\n",
              "      <td>-0.171557</td>\n",
              "      <td>-1.343624</td>\n",
              "      <td>-0.632815</td>\n",
              "    </tr>\n",
              "    <tr>\n",
              "      <th>1</th>\n",
              "      <td>-1.376317</td>\n",
              "      <td>-0.987408</td>\n",
              "      <td>-1.371384</td>\n",
              "      <td>-0.009711</td>\n",
              "      <td>-1.294021</td>\n",
              "      <td>-0.632815</td>\n",
              "    </tr>\n",
              "    <tr>\n",
              "      <th>2</th>\n",
              "      <td>-1.221492</td>\n",
              "      <td>-1.196287</td>\n",
              "      <td>-1.371384</td>\n",
              "      <td>-0.495249</td>\n",
              "      <td>-1.190272</td>\n",
              "      <td>-0.632815</td>\n",
              "    </tr>\n",
              "    <tr>\n",
              "      <th>3</th>\n",
              "      <td>-1.221492</td>\n",
              "      <td>-1.405165</td>\n",
              "      <td>-2.037105</td>\n",
              "      <td>-0.495249</td>\n",
              "      <td>-1.239496</td>\n",
              "      <td>-0.632815</td>\n",
              "    </tr>\n",
              "    <tr>\n",
              "      <th>4</th>\n",
              "      <td>-1.124727</td>\n",
              "      <td>-0.569652</td>\n",
              "      <td>-1.371384</td>\n",
              "      <td>-0.009711</td>\n",
              "      <td>-1.082358</td>\n",
              "      <td>-0.632815</td>\n",
              "    </tr>\n",
              "    <tr>\n",
              "      <th>5</th>\n",
              "      <td>-1.066667</td>\n",
              "      <td>-0.903857</td>\n",
              "      <td>-1.371384</td>\n",
              "      <td>-0.495249</td>\n",
              "      <td>-0.925977</td>\n",
              "      <td>-0.632815</td>\n",
              "    </tr>\n",
              "    <tr>\n",
              "      <th>6</th>\n",
              "      <td>-1.027961</td>\n",
              "      <td>-0.235447</td>\n",
              "      <td>-0.705664</td>\n",
              "      <td>5.169368</td>\n",
              "      <td>-1.017988</td>\n",
              "      <td>-0.632815</td>\n",
              "    </tr>\n",
              "    <tr>\n",
              "      <th>7</th>\n",
              "      <td>-0.911842</td>\n",
              "      <td>0.098758</td>\n",
              "      <td>0.625777</td>\n",
              "      <td>0.799520</td>\n",
              "      <td>-0.864636</td>\n",
              "      <td>-0.632815</td>\n",
              "    </tr>\n",
              "    <tr>\n",
              "      <th>8</th>\n",
              "      <td>-0.873136</td>\n",
              "      <td>-0.820306</td>\n",
              "      <td>-1.371384</td>\n",
              "      <td>-0.495249</td>\n",
              "      <td>-0.855549</td>\n",
              "      <td>-0.632815</td>\n",
              "    </tr>\n",
              "    <tr>\n",
              "      <th>9</th>\n",
              "      <td>-0.834430</td>\n",
              "      <td>-0.820306</td>\n",
              "      <td>-0.039943</td>\n",
              "      <td>-0.495249</td>\n",
              "      <td>-0.849490</td>\n",
              "      <td>0.742869</td>\n",
              "    </tr>\n",
              "    <tr>\n",
              "      <th>10</th>\n",
              "      <td>-0.834430</td>\n",
              "      <td>-0.068345</td>\n",
              "      <td>-0.039943</td>\n",
              "      <td>0.799520</td>\n",
              "      <td>-0.667740</td>\n",
              "      <td>0.742869</td>\n",
              "    </tr>\n",
              "    <tr>\n",
              "      <th>11</th>\n",
              "      <td>-0.757017</td>\n",
              "      <td>0.516514</td>\n",
              "      <td>1.291498</td>\n",
              "      <td>1.446905</td>\n",
              "      <td>-0.663196</td>\n",
              "      <td>-0.632815</td>\n",
              "    </tr>\n",
              "    <tr>\n",
              "      <th>12</th>\n",
              "      <td>-0.702828</td>\n",
              "      <td>-1.154511</td>\n",
              "      <td>-0.705664</td>\n",
              "      <td>-0.495249</td>\n",
              "      <td>-0.624726</td>\n",
              "      <td>-0.632815</td>\n",
              "    </tr>\n",
              "    <tr>\n",
              "      <th>13</th>\n",
              "      <td>-0.679605</td>\n",
              "      <td>-0.694979</td>\n",
              "      <td>1.291498</td>\n",
              "      <td>-0.495249</td>\n",
              "      <td>-0.546573</td>\n",
              "      <td>0.742869</td>\n",
              "    </tr>\n",
              "    <tr>\n",
              "      <th>14</th>\n",
              "      <td>-0.679605</td>\n",
              "      <td>-0.736755</td>\n",
              "      <td>-0.039943</td>\n",
              "      <td>-0.495249</td>\n",
              "      <td>-0.773761</td>\n",
              "      <td>0.742869</td>\n",
              "    </tr>\n",
              "    <tr>\n",
              "      <th>15</th>\n",
              "      <td>-0.640898</td>\n",
              "      <td>-0.544587</td>\n",
              "      <td>-0.705664</td>\n",
              "      <td>-0.495249</td>\n",
              "      <td>-0.769975</td>\n",
              "      <td>-0.632815</td>\n",
              "    </tr>\n",
              "    <tr>\n",
              "      <th>16</th>\n",
              "      <td>-0.640898</td>\n",
              "      <td>0.098758</td>\n",
              "      <td>-0.705664</td>\n",
              "      <td>0.071212</td>\n",
              "      <td>-0.722644</td>\n",
              "      <td>-0.632815</td>\n",
              "    </tr>\n",
              "    <tr>\n",
              "      <th>17</th>\n",
              "      <td>-0.640898</td>\n",
              "      <td>-0.736755</td>\n",
              "      <td>1.291498</td>\n",
              "      <td>-0.495249</td>\n",
              "      <td>-0.732110</td>\n",
              "      <td>2.118553</td>\n",
              "    </tr>\n",
              "    <tr>\n",
              "      <th>18</th>\n",
              "      <td>-0.486073</td>\n",
              "      <td>-1.020829</td>\n",
              "      <td>-1.371384</td>\n",
              "      <td>-0.171557</td>\n",
              "      <td>-0.448125</td>\n",
              "      <td>-0.632815</td>\n",
              "    </tr>\n",
              "    <tr>\n",
              "      <th>19</th>\n",
              "      <td>-0.447367</td>\n",
              "      <td>-0.486101</td>\n",
              "      <td>-0.039943</td>\n",
              "      <td>-0.495249</td>\n",
              "      <td>-0.330745</td>\n",
              "      <td>-0.632815</td>\n",
              "    </tr>\n",
              "    <tr>\n",
              "      <th>20</th>\n",
              "      <td>-0.428014</td>\n",
              "      <td>0.516514</td>\n",
              "      <td>0.625777</td>\n",
              "      <td>0.313982</td>\n",
              "      <td>-0.437523</td>\n",
              "      <td>-0.632815</td>\n",
              "    </tr>\n",
              "    <tr>\n",
              "      <th>21</th>\n",
              "      <td>-0.369954</td>\n",
              "      <td>-0.318999</td>\n",
              "      <td>-0.039943</td>\n",
              "      <td>-0.495249</td>\n",
              "      <td>-0.140664</td>\n",
              "      <td>-0.632815</td>\n",
              "    </tr>\n",
              "    <tr>\n",
              "      <th>22</th>\n",
              "      <td>-0.292542</td>\n",
              "      <td>0.015206</td>\n",
              "      <td>1.291498</td>\n",
              "      <td>-0.495249</td>\n",
              "      <td>-0.503408</td>\n",
              "      <td>-0.632815</td>\n",
              "    </tr>\n",
              "    <tr>\n",
              "      <th>23</th>\n",
              "      <td>-0.292542</td>\n",
              "      <td>0.516514</td>\n",
              "      <td>-0.705664</td>\n",
              "      <td>0.152135</td>\n",
              "      <td>-0.065692</td>\n",
              "      <td>-0.632815</td>\n",
              "    </tr>\n",
              "    <tr>\n",
              "      <th>24</th>\n",
              "      <td>-0.253836</td>\n",
              "      <td>-0.569652</td>\n",
              "      <td>-0.705664</td>\n",
              "      <td>-0.495249</td>\n",
              "      <td>-0.075158</td>\n",
              "      <td>-0.632815</td>\n",
              "    </tr>\n",
              "    <tr>\n",
              "      <th>25</th>\n",
              "      <td>-0.253836</td>\n",
              "      <td>0.516514</td>\n",
              "      <td>-0.039943</td>\n",
              "      <td>-0.495249</td>\n",
              "      <td>-0.128169</td>\n",
              "      <td>0.742869</td>\n",
              "    </tr>\n",
              "    <tr>\n",
              "      <th>26</th>\n",
              "      <td>-0.099011</td>\n",
              "      <td>-0.903857</td>\n",
              "      <td>-0.039943</td>\n",
              "      <td>-0.495249</td>\n",
              "      <td>0.211098</td>\n",
              "      <td>-0.632815</td>\n",
              "    </tr>\n",
              "    <tr>\n",
              "      <th>27</th>\n",
              "      <td>-0.060304</td>\n",
              "      <td>-0.736755</td>\n",
              "      <td>-0.039943</td>\n",
              "      <td>-0.495249</td>\n",
              "      <td>-0.243656</td>\n",
              "      <td>-0.632815</td>\n",
              "    </tr>\n",
              "    <tr>\n",
              "      <th>28</th>\n",
              "      <td>0.017108</td>\n",
              "      <td>-0.318999</td>\n",
              "      <td>-0.039943</td>\n",
              "      <td>-0.495249</td>\n",
              "      <td>-0.003594</td>\n",
              "      <td>-0.632815</td>\n",
              "    </tr>\n",
              "    <tr>\n",
              "      <th>29</th>\n",
              "      <td>0.055814</td>\n",
              "      <td>-0.569652</td>\n",
              "      <td>-0.039943</td>\n",
              "      <td>-0.495249</td>\n",
              "      <td>0.407616</td>\n",
              "      <td>-0.632815</td>\n",
              "    </tr>\n",
              "    <tr>\n",
              "      <th>30</th>\n",
              "      <td>0.133227</td>\n",
              "      <td>0.516514</td>\n",
              "      <td>1.291498</td>\n",
              "      <td>-0.495249</td>\n",
              "      <td>0.106592</td>\n",
              "      <td>2.118553</td>\n",
              "    </tr>\n",
              "    <tr>\n",
              "      <th>31</th>\n",
              "      <td>0.133227</td>\n",
              "      <td>1.769782</td>\n",
              "      <td>1.291498</td>\n",
              "      <td>0.071212</td>\n",
              "      <td>0.055475</td>\n",
              "      <td>0.742869</td>\n",
              "    </tr>\n",
              "    <tr>\n",
              "      <th>32</th>\n",
              "      <td>0.133227</td>\n",
              "      <td>-0.736755</td>\n",
              "      <td>-1.371384</td>\n",
              "      <td>-0.333403</td>\n",
              "      <td>-0.166033</td>\n",
              "      <td>-0.632815</td>\n",
              "    </tr>\n",
              "    <tr>\n",
              "      <th>33</th>\n",
              "      <td>0.133227</td>\n",
              "      <td>0.265860</td>\n",
              "      <td>-0.039943</td>\n",
              "      <td>-0.090634</td>\n",
              "      <td>0.379218</td>\n",
              "      <td>-0.632815</td>\n",
              "    </tr>\n",
              "    <tr>\n",
              "      <th>34</th>\n",
              "      <td>0.171933</td>\n",
              "      <td>0.516514</td>\n",
              "      <td>0.625777</td>\n",
              "      <td>0.071212</td>\n",
              "      <td>0.334916</td>\n",
              "      <td>-0.632815</td>\n",
              "    </tr>\n",
              "    <tr>\n",
              "      <th>35</th>\n",
              "      <td>0.210639</td>\n",
              "      <td>-0.318999</td>\n",
              "      <td>1.957218</td>\n",
              "      <td>-0.495249</td>\n",
              "      <td>-0.104693</td>\n",
              "      <td>3.494237</td>\n",
              "    </tr>\n",
              "    <tr>\n",
              "      <th>36</th>\n",
              "      <td>0.326758</td>\n",
              "      <td>0.098758</td>\n",
              "      <td>-0.039943</td>\n",
              "      <td>-0.495249</td>\n",
              "      <td>0.252371</td>\n",
              "      <td>-0.632815</td>\n",
              "    </tr>\n",
              "    <tr>\n",
              "      <th>37</th>\n",
              "      <td>0.346111</td>\n",
              "      <td>0.098758</td>\n",
              "      <td>-0.705664</td>\n",
              "      <td>-0.495249</td>\n",
              "      <td>0.289478</td>\n",
              "      <td>0.742869</td>\n",
              "    </tr>\n",
              "    <tr>\n",
              "      <th>38</th>\n",
              "      <td>0.520290</td>\n",
              "      <td>2.187538</td>\n",
              "      <td>1.291498</td>\n",
              "      <td>1.446905</td>\n",
              "      <td>0.348926</td>\n",
              "      <td>0.742869</td>\n",
              "    </tr>\n",
              "    <tr>\n",
              "      <th>39</th>\n",
              "      <td>0.713821</td>\n",
              "      <td>-0.736755</td>\n",
              "      <td>-0.705664</td>\n",
              "      <td>-0.495249</td>\n",
              "      <td>0.316741</td>\n",
              "      <td>-0.632815</td>\n",
              "    </tr>\n",
              "    <tr>\n",
              "      <th>40</th>\n",
              "      <td>0.713821</td>\n",
              "      <td>2.605295</td>\n",
              "      <td>1.291498</td>\n",
              "      <td>1.123213</td>\n",
              "      <td>0.316741</td>\n",
              "      <td>-0.632815</td>\n",
              "    </tr>\n",
              "    <tr>\n",
              "      <th>41</th>\n",
              "      <td>0.907352</td>\n",
              "      <td>0.098758</td>\n",
              "      <td>-0.039943</td>\n",
              "      <td>0.313982</td>\n",
              "      <td>0.496598</td>\n",
              "      <td>0.742869</td>\n",
              "    </tr>\n",
              "    <tr>\n",
              "      <th>42</th>\n",
              "      <td>1.100884</td>\n",
              "      <td>-0.820306</td>\n",
              "      <td>-1.371384</td>\n",
              "      <td>-0.495249</td>\n",
              "      <td>0.839273</td>\n",
              "      <td>-0.632815</td>\n",
              "    </tr>\n",
              "    <tr>\n",
              "      <th>43</th>\n",
              "      <td>1.487946</td>\n",
              "      <td>0.098758</td>\n",
              "      <td>-0.039943</td>\n",
              "      <td>-0.495249</td>\n",
              "      <td>1.846473</td>\n",
              "      <td>-0.632815</td>\n",
              "    </tr>\n",
              "    <tr>\n",
              "      <th>44</th>\n",
              "      <td>1.681478</td>\n",
              "      <td>0.516514</td>\n",
              "      <td>0.625777</td>\n",
              "      <td>-0.495249</td>\n",
              "      <td>2.058515</td>\n",
              "      <td>0.742869</td>\n",
              "    </tr>\n",
              "    <tr>\n",
              "      <th>45</th>\n",
              "      <td>1.875009</td>\n",
              "      <td>2.438192</td>\n",
              "      <td>1.957218</td>\n",
              "      <td>-0.495249</td>\n",
              "      <td>1.248211</td>\n",
              "      <td>2.118553</td>\n",
              "    </tr>\n",
              "    <tr>\n",
              "      <th>46</th>\n",
              "      <td>2.184659</td>\n",
              "      <td>0.516514</td>\n",
              "      <td>0.625777</td>\n",
              "      <td>-0.495249</td>\n",
              "      <td>2.090321</td>\n",
              "      <td>0.742869</td>\n",
              "    </tr>\n",
              "    <tr>\n",
              "      <th>47</th>\n",
              "      <td>2.262071</td>\n",
              "      <td>0.934270</td>\n",
              "      <td>1.291498</td>\n",
              "      <td>-0.495249</td>\n",
              "      <td>2.883964</td>\n",
              "      <td>2.118553</td>\n",
              "    </tr>\n",
              "    <tr>\n",
              "      <th>48</th>\n",
              "      <td>2.262071</td>\n",
              "      <td>2.605295</td>\n",
              "      <td>-0.039943</td>\n",
              "      <td>2.741675</td>\n",
              "      <td>1.710160</td>\n",
              "      <td>0.742869</td>\n",
              "    </tr>\n",
              "    <tr>\n",
              "      <th>49</th>\n",
              "      <td>2.262071</td>\n",
              "      <td>1.769782</td>\n",
              "      <td>1.291498</td>\n",
              "      <td>1.123213</td>\n",
              "      <td>2.618912</td>\n",
              "      <td>-0.632815</td>\n",
              "    </tr>\n",
              "  </tbody>\n",
              "</table>\n",
              "</div>"
            ],
            "text/plain": [
              "    Mthly_HH_Income  Mthly_HH_Expense  ...  Annual_HH_Income  No_of_Earning_Members\n",
              "0         -1.415024         -0.903857  ...         -1.343624              -0.632815\n",
              "1         -1.376317         -0.987408  ...         -1.294021              -0.632815\n",
              "2         -1.221492         -1.196287  ...         -1.190272              -0.632815\n",
              "3         -1.221492         -1.405165  ...         -1.239496              -0.632815\n",
              "4         -1.124727         -0.569652  ...         -1.082358              -0.632815\n",
              "5         -1.066667         -0.903857  ...         -0.925977              -0.632815\n",
              "6         -1.027961         -0.235447  ...         -1.017988              -0.632815\n",
              "7         -0.911842          0.098758  ...         -0.864636              -0.632815\n",
              "8         -0.873136         -0.820306  ...         -0.855549              -0.632815\n",
              "9         -0.834430         -0.820306  ...         -0.849490               0.742869\n",
              "10        -0.834430         -0.068345  ...         -0.667740               0.742869\n",
              "11        -0.757017          0.516514  ...         -0.663196              -0.632815\n",
              "12        -0.702828         -1.154511  ...         -0.624726              -0.632815\n",
              "13        -0.679605         -0.694979  ...         -0.546573               0.742869\n",
              "14        -0.679605         -0.736755  ...         -0.773761               0.742869\n",
              "15        -0.640898         -0.544587  ...         -0.769975              -0.632815\n",
              "16        -0.640898          0.098758  ...         -0.722644              -0.632815\n",
              "17        -0.640898         -0.736755  ...         -0.732110               2.118553\n",
              "18        -0.486073         -1.020829  ...         -0.448125              -0.632815\n",
              "19        -0.447367         -0.486101  ...         -0.330745              -0.632815\n",
              "20        -0.428014          0.516514  ...         -0.437523              -0.632815\n",
              "21        -0.369954         -0.318999  ...         -0.140664              -0.632815\n",
              "22        -0.292542          0.015206  ...         -0.503408              -0.632815\n",
              "23        -0.292542          0.516514  ...         -0.065692              -0.632815\n",
              "24        -0.253836         -0.569652  ...         -0.075158              -0.632815\n",
              "25        -0.253836          0.516514  ...         -0.128169               0.742869\n",
              "26        -0.099011         -0.903857  ...          0.211098              -0.632815\n",
              "27        -0.060304         -0.736755  ...         -0.243656              -0.632815\n",
              "28         0.017108         -0.318999  ...         -0.003594              -0.632815\n",
              "29         0.055814         -0.569652  ...          0.407616              -0.632815\n",
              "30         0.133227          0.516514  ...          0.106592               2.118553\n",
              "31         0.133227          1.769782  ...          0.055475               0.742869\n",
              "32         0.133227         -0.736755  ...         -0.166033              -0.632815\n",
              "33         0.133227          0.265860  ...          0.379218              -0.632815\n",
              "34         0.171933          0.516514  ...          0.334916              -0.632815\n",
              "35         0.210639         -0.318999  ...         -0.104693               3.494237\n",
              "36         0.326758          0.098758  ...          0.252371              -0.632815\n",
              "37         0.346111          0.098758  ...          0.289478               0.742869\n",
              "38         0.520290          2.187538  ...          0.348926               0.742869\n",
              "39         0.713821         -0.736755  ...          0.316741              -0.632815\n",
              "40         0.713821          2.605295  ...          0.316741              -0.632815\n",
              "41         0.907352          0.098758  ...          0.496598               0.742869\n",
              "42         1.100884         -0.820306  ...          0.839273              -0.632815\n",
              "43         1.487946          0.098758  ...          1.846473              -0.632815\n",
              "44         1.681478          0.516514  ...          2.058515               0.742869\n",
              "45         1.875009          2.438192  ...          1.248211               2.118553\n",
              "46         2.184659          0.516514  ...          2.090321               0.742869\n",
              "47         2.262071          0.934270  ...          2.883964               2.118553\n",
              "48         2.262071          2.605295  ...          1.710160               0.742869\n",
              "49         2.262071          1.769782  ...          2.618912              -0.632815\n",
              "\n",
              "[50 rows x 6 columns]"
            ]
          },
          "metadata": {
            "tags": []
          },
          "execution_count": 712
        }
      ]
    },
    {
      "cell_type": "code",
      "metadata": {
        "id": "cMykdLB20WOM",
        "colab": {
          "base_uri": "https://localhost:8080/",
          "height": 1000
        },
        "outputId": "8e874f9c-534e-4720-a06c-3b0fa9ef376c"
      },
      "source": [
        "print(\"z score for all numerical cols using your inbuild  function is \\n\\n\")\r\n",
        "\r\n",
        "df[['Mthly_HH_Income','Mthly_HH_Expense','No_of_Fly_Members','Emi_or_Rent_Amt','Annual_HH_Income','No_of_Earning_Members']].apply(zscore)"
      ],
      "execution_count": 713,
      "outputs": [
        {
          "output_type": "stream",
          "text": [
            "z score for all numerical cols using your inbuild  function is \n",
            "\n",
            "\n"
          ],
          "name": "stdout"
        },
        {
          "output_type": "execute_result",
          "data": {
            "text/html": [
              "<div>\n",
              "<style scoped>\n",
              "    .dataframe tbody tr th:only-of-type {\n",
              "        vertical-align: middle;\n",
              "    }\n",
              "\n",
              "    .dataframe tbody tr th {\n",
              "        vertical-align: top;\n",
              "    }\n",
              "\n",
              "    .dataframe thead th {\n",
              "        text-align: right;\n",
              "    }\n",
              "</style>\n",
              "<table border=\"1\" class=\"dataframe\">\n",
              "  <thead>\n",
              "    <tr style=\"text-align: right;\">\n",
              "      <th></th>\n",
              "      <th>Mthly_HH_Income</th>\n",
              "      <th>Mthly_HH_Expense</th>\n",
              "      <th>No_of_Fly_Members</th>\n",
              "      <th>Emi_or_Rent_Amt</th>\n",
              "      <th>Annual_HH_Income</th>\n",
              "      <th>No_of_Earning_Members</th>\n",
              "    </tr>\n",
              "  </thead>\n",
              "  <tbody>\n",
              "    <tr>\n",
              "      <th>0</th>\n",
              "      <td>-1.415024</td>\n",
              "      <td>-0.903857</td>\n",
              "      <td>-0.705664</td>\n",
              "      <td>-0.171557</td>\n",
              "      <td>-1.343624</td>\n",
              "      <td>-0.632815</td>\n",
              "    </tr>\n",
              "    <tr>\n",
              "      <th>1</th>\n",
              "      <td>-1.376317</td>\n",
              "      <td>-0.987408</td>\n",
              "      <td>-1.371384</td>\n",
              "      <td>-0.009711</td>\n",
              "      <td>-1.294021</td>\n",
              "      <td>-0.632815</td>\n",
              "    </tr>\n",
              "    <tr>\n",
              "      <th>2</th>\n",
              "      <td>-1.221492</td>\n",
              "      <td>-1.196287</td>\n",
              "      <td>-1.371384</td>\n",
              "      <td>-0.495249</td>\n",
              "      <td>-1.190272</td>\n",
              "      <td>-0.632815</td>\n",
              "    </tr>\n",
              "    <tr>\n",
              "      <th>3</th>\n",
              "      <td>-1.221492</td>\n",
              "      <td>-1.405165</td>\n",
              "      <td>-2.037105</td>\n",
              "      <td>-0.495249</td>\n",
              "      <td>-1.239496</td>\n",
              "      <td>-0.632815</td>\n",
              "    </tr>\n",
              "    <tr>\n",
              "      <th>4</th>\n",
              "      <td>-1.124727</td>\n",
              "      <td>-0.569652</td>\n",
              "      <td>-1.371384</td>\n",
              "      <td>-0.009711</td>\n",
              "      <td>-1.082358</td>\n",
              "      <td>-0.632815</td>\n",
              "    </tr>\n",
              "    <tr>\n",
              "      <th>5</th>\n",
              "      <td>-1.066667</td>\n",
              "      <td>-0.903857</td>\n",
              "      <td>-1.371384</td>\n",
              "      <td>-0.495249</td>\n",
              "      <td>-0.925977</td>\n",
              "      <td>-0.632815</td>\n",
              "    </tr>\n",
              "    <tr>\n",
              "      <th>6</th>\n",
              "      <td>-1.027961</td>\n",
              "      <td>-0.235447</td>\n",
              "      <td>-0.705664</td>\n",
              "      <td>5.169368</td>\n",
              "      <td>-1.017988</td>\n",
              "      <td>-0.632815</td>\n",
              "    </tr>\n",
              "    <tr>\n",
              "      <th>7</th>\n",
              "      <td>-0.911842</td>\n",
              "      <td>0.098758</td>\n",
              "      <td>0.625777</td>\n",
              "      <td>0.799520</td>\n",
              "      <td>-0.864636</td>\n",
              "      <td>-0.632815</td>\n",
              "    </tr>\n",
              "    <tr>\n",
              "      <th>8</th>\n",
              "      <td>-0.873136</td>\n",
              "      <td>-0.820306</td>\n",
              "      <td>-1.371384</td>\n",
              "      <td>-0.495249</td>\n",
              "      <td>-0.855549</td>\n",
              "      <td>-0.632815</td>\n",
              "    </tr>\n",
              "    <tr>\n",
              "      <th>9</th>\n",
              "      <td>-0.834430</td>\n",
              "      <td>-0.820306</td>\n",
              "      <td>-0.039943</td>\n",
              "      <td>-0.495249</td>\n",
              "      <td>-0.849490</td>\n",
              "      <td>0.742869</td>\n",
              "    </tr>\n",
              "    <tr>\n",
              "      <th>10</th>\n",
              "      <td>-0.834430</td>\n",
              "      <td>-0.068345</td>\n",
              "      <td>-0.039943</td>\n",
              "      <td>0.799520</td>\n",
              "      <td>-0.667740</td>\n",
              "      <td>0.742869</td>\n",
              "    </tr>\n",
              "    <tr>\n",
              "      <th>11</th>\n",
              "      <td>-0.757017</td>\n",
              "      <td>0.516514</td>\n",
              "      <td>1.291498</td>\n",
              "      <td>1.446905</td>\n",
              "      <td>-0.663196</td>\n",
              "      <td>-0.632815</td>\n",
              "    </tr>\n",
              "    <tr>\n",
              "      <th>12</th>\n",
              "      <td>-0.702828</td>\n",
              "      <td>-1.154511</td>\n",
              "      <td>-0.705664</td>\n",
              "      <td>-0.495249</td>\n",
              "      <td>-0.624726</td>\n",
              "      <td>-0.632815</td>\n",
              "    </tr>\n",
              "    <tr>\n",
              "      <th>13</th>\n",
              "      <td>-0.679605</td>\n",
              "      <td>-0.694979</td>\n",
              "      <td>1.291498</td>\n",
              "      <td>-0.495249</td>\n",
              "      <td>-0.546573</td>\n",
              "      <td>0.742869</td>\n",
              "    </tr>\n",
              "    <tr>\n",
              "      <th>14</th>\n",
              "      <td>-0.679605</td>\n",
              "      <td>-0.736755</td>\n",
              "      <td>-0.039943</td>\n",
              "      <td>-0.495249</td>\n",
              "      <td>-0.773761</td>\n",
              "      <td>0.742869</td>\n",
              "    </tr>\n",
              "    <tr>\n",
              "      <th>15</th>\n",
              "      <td>-0.640898</td>\n",
              "      <td>-0.544587</td>\n",
              "      <td>-0.705664</td>\n",
              "      <td>-0.495249</td>\n",
              "      <td>-0.769975</td>\n",
              "      <td>-0.632815</td>\n",
              "    </tr>\n",
              "    <tr>\n",
              "      <th>16</th>\n",
              "      <td>-0.640898</td>\n",
              "      <td>0.098758</td>\n",
              "      <td>-0.705664</td>\n",
              "      <td>0.071212</td>\n",
              "      <td>-0.722644</td>\n",
              "      <td>-0.632815</td>\n",
              "    </tr>\n",
              "    <tr>\n",
              "      <th>17</th>\n",
              "      <td>-0.640898</td>\n",
              "      <td>-0.736755</td>\n",
              "      <td>1.291498</td>\n",
              "      <td>-0.495249</td>\n",
              "      <td>-0.732110</td>\n",
              "      <td>2.118553</td>\n",
              "    </tr>\n",
              "    <tr>\n",
              "      <th>18</th>\n",
              "      <td>-0.486073</td>\n",
              "      <td>-1.020829</td>\n",
              "      <td>-1.371384</td>\n",
              "      <td>-0.171557</td>\n",
              "      <td>-0.448125</td>\n",
              "      <td>-0.632815</td>\n",
              "    </tr>\n",
              "    <tr>\n",
              "      <th>19</th>\n",
              "      <td>-0.447367</td>\n",
              "      <td>-0.486101</td>\n",
              "      <td>-0.039943</td>\n",
              "      <td>-0.495249</td>\n",
              "      <td>-0.330745</td>\n",
              "      <td>-0.632815</td>\n",
              "    </tr>\n",
              "    <tr>\n",
              "      <th>20</th>\n",
              "      <td>-0.428014</td>\n",
              "      <td>0.516514</td>\n",
              "      <td>0.625777</td>\n",
              "      <td>0.313982</td>\n",
              "      <td>-0.437523</td>\n",
              "      <td>-0.632815</td>\n",
              "    </tr>\n",
              "    <tr>\n",
              "      <th>21</th>\n",
              "      <td>-0.369954</td>\n",
              "      <td>-0.318999</td>\n",
              "      <td>-0.039943</td>\n",
              "      <td>-0.495249</td>\n",
              "      <td>-0.140664</td>\n",
              "      <td>-0.632815</td>\n",
              "    </tr>\n",
              "    <tr>\n",
              "      <th>22</th>\n",
              "      <td>-0.292542</td>\n",
              "      <td>0.015206</td>\n",
              "      <td>1.291498</td>\n",
              "      <td>-0.495249</td>\n",
              "      <td>-0.503408</td>\n",
              "      <td>-0.632815</td>\n",
              "    </tr>\n",
              "    <tr>\n",
              "      <th>23</th>\n",
              "      <td>-0.292542</td>\n",
              "      <td>0.516514</td>\n",
              "      <td>-0.705664</td>\n",
              "      <td>0.152135</td>\n",
              "      <td>-0.065692</td>\n",
              "      <td>-0.632815</td>\n",
              "    </tr>\n",
              "    <tr>\n",
              "      <th>24</th>\n",
              "      <td>-0.253836</td>\n",
              "      <td>-0.569652</td>\n",
              "      <td>-0.705664</td>\n",
              "      <td>-0.495249</td>\n",
              "      <td>-0.075158</td>\n",
              "      <td>-0.632815</td>\n",
              "    </tr>\n",
              "    <tr>\n",
              "      <th>25</th>\n",
              "      <td>-0.253836</td>\n",
              "      <td>0.516514</td>\n",
              "      <td>-0.039943</td>\n",
              "      <td>-0.495249</td>\n",
              "      <td>-0.128169</td>\n",
              "      <td>0.742869</td>\n",
              "    </tr>\n",
              "    <tr>\n",
              "      <th>26</th>\n",
              "      <td>-0.099011</td>\n",
              "      <td>-0.903857</td>\n",
              "      <td>-0.039943</td>\n",
              "      <td>-0.495249</td>\n",
              "      <td>0.211098</td>\n",
              "      <td>-0.632815</td>\n",
              "    </tr>\n",
              "    <tr>\n",
              "      <th>27</th>\n",
              "      <td>-0.060304</td>\n",
              "      <td>-0.736755</td>\n",
              "      <td>-0.039943</td>\n",
              "      <td>-0.495249</td>\n",
              "      <td>-0.243656</td>\n",
              "      <td>-0.632815</td>\n",
              "    </tr>\n",
              "    <tr>\n",
              "      <th>28</th>\n",
              "      <td>0.017108</td>\n",
              "      <td>-0.318999</td>\n",
              "      <td>-0.039943</td>\n",
              "      <td>-0.495249</td>\n",
              "      <td>-0.003594</td>\n",
              "      <td>-0.632815</td>\n",
              "    </tr>\n",
              "    <tr>\n",
              "      <th>29</th>\n",
              "      <td>0.055814</td>\n",
              "      <td>-0.569652</td>\n",
              "      <td>-0.039943</td>\n",
              "      <td>-0.495249</td>\n",
              "      <td>0.407616</td>\n",
              "      <td>-0.632815</td>\n",
              "    </tr>\n",
              "    <tr>\n",
              "      <th>30</th>\n",
              "      <td>0.133227</td>\n",
              "      <td>0.516514</td>\n",
              "      <td>1.291498</td>\n",
              "      <td>-0.495249</td>\n",
              "      <td>0.106592</td>\n",
              "      <td>2.118553</td>\n",
              "    </tr>\n",
              "    <tr>\n",
              "      <th>31</th>\n",
              "      <td>0.133227</td>\n",
              "      <td>1.769782</td>\n",
              "      <td>1.291498</td>\n",
              "      <td>0.071212</td>\n",
              "      <td>0.055475</td>\n",
              "      <td>0.742869</td>\n",
              "    </tr>\n",
              "    <tr>\n",
              "      <th>32</th>\n",
              "      <td>0.133227</td>\n",
              "      <td>-0.736755</td>\n",
              "      <td>-1.371384</td>\n",
              "      <td>-0.333403</td>\n",
              "      <td>-0.166033</td>\n",
              "      <td>-0.632815</td>\n",
              "    </tr>\n",
              "    <tr>\n",
              "      <th>33</th>\n",
              "      <td>0.133227</td>\n",
              "      <td>0.265860</td>\n",
              "      <td>-0.039943</td>\n",
              "      <td>-0.090634</td>\n",
              "      <td>0.379218</td>\n",
              "      <td>-0.632815</td>\n",
              "    </tr>\n",
              "    <tr>\n",
              "      <th>34</th>\n",
              "      <td>0.171933</td>\n",
              "      <td>0.516514</td>\n",
              "      <td>0.625777</td>\n",
              "      <td>0.071212</td>\n",
              "      <td>0.334916</td>\n",
              "      <td>-0.632815</td>\n",
              "    </tr>\n",
              "    <tr>\n",
              "      <th>35</th>\n",
              "      <td>0.210639</td>\n",
              "      <td>-0.318999</td>\n",
              "      <td>1.957218</td>\n",
              "      <td>-0.495249</td>\n",
              "      <td>-0.104693</td>\n",
              "      <td>3.494237</td>\n",
              "    </tr>\n",
              "    <tr>\n",
              "      <th>36</th>\n",
              "      <td>0.326758</td>\n",
              "      <td>0.098758</td>\n",
              "      <td>-0.039943</td>\n",
              "      <td>-0.495249</td>\n",
              "      <td>0.252371</td>\n",
              "      <td>-0.632815</td>\n",
              "    </tr>\n",
              "    <tr>\n",
              "      <th>37</th>\n",
              "      <td>0.346111</td>\n",
              "      <td>0.098758</td>\n",
              "      <td>-0.705664</td>\n",
              "      <td>-0.495249</td>\n",
              "      <td>0.289478</td>\n",
              "      <td>0.742869</td>\n",
              "    </tr>\n",
              "    <tr>\n",
              "      <th>38</th>\n",
              "      <td>0.520290</td>\n",
              "      <td>2.187538</td>\n",
              "      <td>1.291498</td>\n",
              "      <td>1.446905</td>\n",
              "      <td>0.348926</td>\n",
              "      <td>0.742869</td>\n",
              "    </tr>\n",
              "    <tr>\n",
              "      <th>39</th>\n",
              "      <td>0.713821</td>\n",
              "      <td>-0.736755</td>\n",
              "      <td>-0.705664</td>\n",
              "      <td>-0.495249</td>\n",
              "      <td>0.316741</td>\n",
              "      <td>-0.632815</td>\n",
              "    </tr>\n",
              "    <tr>\n",
              "      <th>40</th>\n",
              "      <td>0.713821</td>\n",
              "      <td>2.605295</td>\n",
              "      <td>1.291498</td>\n",
              "      <td>1.123213</td>\n",
              "      <td>0.316741</td>\n",
              "      <td>-0.632815</td>\n",
              "    </tr>\n",
              "    <tr>\n",
              "      <th>41</th>\n",
              "      <td>0.907352</td>\n",
              "      <td>0.098758</td>\n",
              "      <td>-0.039943</td>\n",
              "      <td>0.313982</td>\n",
              "      <td>0.496598</td>\n",
              "      <td>0.742869</td>\n",
              "    </tr>\n",
              "    <tr>\n",
              "      <th>42</th>\n",
              "      <td>1.100884</td>\n",
              "      <td>-0.820306</td>\n",
              "      <td>-1.371384</td>\n",
              "      <td>-0.495249</td>\n",
              "      <td>0.839273</td>\n",
              "      <td>-0.632815</td>\n",
              "    </tr>\n",
              "    <tr>\n",
              "      <th>43</th>\n",
              "      <td>1.487946</td>\n",
              "      <td>0.098758</td>\n",
              "      <td>-0.039943</td>\n",
              "      <td>-0.495249</td>\n",
              "      <td>1.846473</td>\n",
              "      <td>-0.632815</td>\n",
              "    </tr>\n",
              "    <tr>\n",
              "      <th>44</th>\n",
              "      <td>1.681478</td>\n",
              "      <td>0.516514</td>\n",
              "      <td>0.625777</td>\n",
              "      <td>-0.495249</td>\n",
              "      <td>2.058515</td>\n",
              "      <td>0.742869</td>\n",
              "    </tr>\n",
              "    <tr>\n",
              "      <th>45</th>\n",
              "      <td>1.875009</td>\n",
              "      <td>2.438192</td>\n",
              "      <td>1.957218</td>\n",
              "      <td>-0.495249</td>\n",
              "      <td>1.248211</td>\n",
              "      <td>2.118553</td>\n",
              "    </tr>\n",
              "    <tr>\n",
              "      <th>46</th>\n",
              "      <td>2.184659</td>\n",
              "      <td>0.516514</td>\n",
              "      <td>0.625777</td>\n",
              "      <td>-0.495249</td>\n",
              "      <td>2.090321</td>\n",
              "      <td>0.742869</td>\n",
              "    </tr>\n",
              "    <tr>\n",
              "      <th>47</th>\n",
              "      <td>2.262071</td>\n",
              "      <td>0.934270</td>\n",
              "      <td>1.291498</td>\n",
              "      <td>-0.495249</td>\n",
              "      <td>2.883964</td>\n",
              "      <td>2.118553</td>\n",
              "    </tr>\n",
              "    <tr>\n",
              "      <th>48</th>\n",
              "      <td>2.262071</td>\n",
              "      <td>2.605295</td>\n",
              "      <td>-0.039943</td>\n",
              "      <td>2.741675</td>\n",
              "      <td>1.710160</td>\n",
              "      <td>0.742869</td>\n",
              "    </tr>\n",
              "    <tr>\n",
              "      <th>49</th>\n",
              "      <td>2.262071</td>\n",
              "      <td>1.769782</td>\n",
              "      <td>1.291498</td>\n",
              "      <td>1.123213</td>\n",
              "      <td>2.618912</td>\n",
              "      <td>-0.632815</td>\n",
              "    </tr>\n",
              "  </tbody>\n",
              "</table>\n",
              "</div>"
            ],
            "text/plain": [
              "    Mthly_HH_Income  Mthly_HH_Expense  ...  Annual_HH_Income  No_of_Earning_Members\n",
              "0         -1.415024         -0.903857  ...         -1.343624              -0.632815\n",
              "1         -1.376317         -0.987408  ...         -1.294021              -0.632815\n",
              "2         -1.221492         -1.196287  ...         -1.190272              -0.632815\n",
              "3         -1.221492         -1.405165  ...         -1.239496              -0.632815\n",
              "4         -1.124727         -0.569652  ...         -1.082358              -0.632815\n",
              "5         -1.066667         -0.903857  ...         -0.925977              -0.632815\n",
              "6         -1.027961         -0.235447  ...         -1.017988              -0.632815\n",
              "7         -0.911842          0.098758  ...         -0.864636              -0.632815\n",
              "8         -0.873136         -0.820306  ...         -0.855549              -0.632815\n",
              "9         -0.834430         -0.820306  ...         -0.849490               0.742869\n",
              "10        -0.834430         -0.068345  ...         -0.667740               0.742869\n",
              "11        -0.757017          0.516514  ...         -0.663196              -0.632815\n",
              "12        -0.702828         -1.154511  ...         -0.624726              -0.632815\n",
              "13        -0.679605         -0.694979  ...         -0.546573               0.742869\n",
              "14        -0.679605         -0.736755  ...         -0.773761               0.742869\n",
              "15        -0.640898         -0.544587  ...         -0.769975              -0.632815\n",
              "16        -0.640898          0.098758  ...         -0.722644              -0.632815\n",
              "17        -0.640898         -0.736755  ...         -0.732110               2.118553\n",
              "18        -0.486073         -1.020829  ...         -0.448125              -0.632815\n",
              "19        -0.447367         -0.486101  ...         -0.330745              -0.632815\n",
              "20        -0.428014          0.516514  ...         -0.437523              -0.632815\n",
              "21        -0.369954         -0.318999  ...         -0.140664              -0.632815\n",
              "22        -0.292542          0.015206  ...         -0.503408              -0.632815\n",
              "23        -0.292542          0.516514  ...         -0.065692              -0.632815\n",
              "24        -0.253836         -0.569652  ...         -0.075158              -0.632815\n",
              "25        -0.253836          0.516514  ...         -0.128169               0.742869\n",
              "26        -0.099011         -0.903857  ...          0.211098              -0.632815\n",
              "27        -0.060304         -0.736755  ...         -0.243656              -0.632815\n",
              "28         0.017108         -0.318999  ...         -0.003594              -0.632815\n",
              "29         0.055814         -0.569652  ...          0.407616              -0.632815\n",
              "30         0.133227          0.516514  ...          0.106592               2.118553\n",
              "31         0.133227          1.769782  ...          0.055475               0.742869\n",
              "32         0.133227         -0.736755  ...         -0.166033              -0.632815\n",
              "33         0.133227          0.265860  ...          0.379218              -0.632815\n",
              "34         0.171933          0.516514  ...          0.334916              -0.632815\n",
              "35         0.210639         -0.318999  ...         -0.104693               3.494237\n",
              "36         0.326758          0.098758  ...          0.252371              -0.632815\n",
              "37         0.346111          0.098758  ...          0.289478               0.742869\n",
              "38         0.520290          2.187538  ...          0.348926               0.742869\n",
              "39         0.713821         -0.736755  ...          0.316741              -0.632815\n",
              "40         0.713821          2.605295  ...          0.316741              -0.632815\n",
              "41         0.907352          0.098758  ...          0.496598               0.742869\n",
              "42         1.100884         -0.820306  ...          0.839273              -0.632815\n",
              "43         1.487946          0.098758  ...          1.846473              -0.632815\n",
              "44         1.681478          0.516514  ...          2.058515               0.742869\n",
              "45         1.875009          2.438192  ...          1.248211               2.118553\n",
              "46         2.184659          0.516514  ...          2.090321               0.742869\n",
              "47         2.262071          0.934270  ...          2.883964               2.118553\n",
              "48         2.262071          2.605295  ...          1.710160               0.742869\n",
              "49         2.262071          1.769782  ...          2.618912              -0.632815\n",
              "\n",
              "[50 rows x 6 columns]"
            ]
          },
          "metadata": {
            "tags": []
          },
          "execution_count": 713
        }
      ]
    },
    {
      "cell_type": "markdown",
      "metadata": {
        "id": "EkbYcbGJ0ddc"
      },
      "source": [
        "Compute mode using your own function for the first two columns and verify using inbuilt Python function"
      ]
    },
    {
      "cell_type": "code",
      "metadata": {
        "colab": {
          "base_uri": "https://localhost:8080/"
        },
        "id": "nmklU2HLNS8l",
        "outputId": "2b76e54b-59f7-4851-ef4d-1c3999c7ab1a"
      },
      "source": [
        "print(\"mode using your my own function for the first two columns is \\n\\n\")\r\n",
        "\r\n",
        "def my_mode(data):\r\n",
        "  data = Counter(data) \r\n",
        "  n= len(data)\r\n",
        "  get_mode = dict(data) \r\n",
        "  mode = [k for k, v in get_mode.items() if v == max(list(data.values()))] \r\n",
        "  if len(mode) == n: \r\n",
        "    get_mode = \"No mode found\"\r\n",
        "  else: \r\n",
        "    get_mode = \"Mode is / are: \" + ', '.join(map(str, mode)) \r\n",
        "  return get_mode\t\r\n",
        "\r\n",
        "\r\n",
        "\r\n",
        "df[['Mthly_HH_Income','Mthly_HH_Expense']].apply(my_mode)"
      ],
      "execution_count": 714,
      "outputs": [
        {
          "output_type": "stream",
          "text": [
            "mode using your my own function for the first two columns is \n",
            "\n",
            "\n"
          ],
          "name": "stdout"
        },
        {
          "output_type": "execute_result",
          "data": {
            "text/plain": [
              "Mthly_HH_Income     Mode is / are: 45000\n",
              "Mthly_HH_Expense    Mode is / are: 25000\n",
              "dtype: object"
            ]
          },
          "metadata": {
            "tags": []
          },
          "execution_count": 714
        }
      ]
    },
    {
      "cell_type": "code",
      "metadata": {
        "id": "JAOXOaQw0djV",
        "colab": {
          "base_uri": "https://localhost:8080/",
          "height": 129
        },
        "outputId": "72dfa81f-884f-47b0-b2cd-f4e8473a2f7a"
      },
      "source": [
        "print(\"mode using your inbuild function for the first two columns is \\n\\n\")\r\n",
        "\r\n",
        "df[['Mthly_HH_Income','Mthly_HH_Expense']].mode()"
      ],
      "execution_count": 715,
      "outputs": [
        {
          "output_type": "stream",
          "text": [
            "mode using your inbuild function for the first two columns is \n",
            "\n",
            "\n"
          ],
          "name": "stdout"
        },
        {
          "output_type": "execute_result",
          "data": {
            "text/html": [
              "<div>\n",
              "<style scoped>\n",
              "    .dataframe tbody tr th:only-of-type {\n",
              "        vertical-align: middle;\n",
              "    }\n",
              "\n",
              "    .dataframe tbody tr th {\n",
              "        vertical-align: top;\n",
              "    }\n",
              "\n",
              "    .dataframe thead th {\n",
              "        text-align: right;\n",
              "    }\n",
              "</style>\n",
              "<table border=\"1\" class=\"dataframe\">\n",
              "  <thead>\n",
              "    <tr style=\"text-align: right;\">\n",
              "      <th></th>\n",
              "      <th>Mthly_HH_Income</th>\n",
              "      <th>Mthly_HH_Expense</th>\n",
              "    </tr>\n",
              "  </thead>\n",
              "  <tbody>\n",
              "    <tr>\n",
              "      <th>0</th>\n",
              "      <td>45000</td>\n",
              "      <td>25000</td>\n",
              "    </tr>\n",
              "  </tbody>\n",
              "</table>\n",
              "</div>"
            ],
            "text/plain": [
              "   Mthly_HH_Income  Mthly_HH_Expense\n",
              "0            45000             25000"
            ]
          },
          "metadata": {
            "tags": []
          },
          "execution_count": 715
        }
      ]
    },
    {
      "cell_type": "markdown",
      "metadata": {
        "id": "HGPGOGDo04O1"
      },
      "source": [
        "Comment if the data for the first two cols is bi-modal, multi-modal or single modal"
      ]
    },
    {
      "cell_type": "markdown",
      "metadata": {
        "id": "htf1w87Lj48C"
      },
      "source": [
        "\r\n",
        "\r\n",
        "> Both coloumn is **single modal** because it have only one most frequent occuring observation i.e. 45000 and 25000 respectively.\r\n",
        "\r\n",
        "\r\n",
        "\r\n",
        "\r\n",
        "\r\n"
      ]
    }
  ]
}