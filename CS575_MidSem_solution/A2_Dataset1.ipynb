{
  "nbformat": 4,
  "nbformat_minor": 0,
  "metadata": {
    "colab": {
      "name": "A2_Dataset1.ipynb",
      "provenance": [],
      "authorship_tag": "ABX9TyOao1avP94tAt7kuBtdJomW",
      "include_colab_link": true
    },
    "kernelspec": {
      "name": "python3",
      "display_name": "Python 3"
    }
  },
  "cells": [
    {
      "cell_type": "markdown",
      "metadata": {
        "id": "view-in-github",
        "colab_type": "text"
      },
      "source": [
        "<a href=\"https://colab.research.google.com/github/vipingupta1907/2011MT22_CS575/blob/main/CS575_MidSem_solution/A2_Dataset1.ipynb\" target=\"_parent\"><img src=\"https://colab.research.google.com/assets/colab-badge.svg\" alt=\"Open In Colab\"/></a>"
      ]
    },
    {
      "cell_type": "markdown",
      "metadata": {
        "id": "5JKT_qAwfNjJ"
      },
      "source": [
        "# Solution for Dataset1"
      ]
    },
    {
      "cell_type": "code",
      "metadata": {
        "id": "IrmQ7hYcIl5Q"
      },
      "source": [
        "#importing the libraries\r\n",
        "\r\n",
        "import numpy as np\r\n",
        "import pandas as pd\r\n",
        "import math\r\n",
        "import matplotlib.pyplot as plt\r\n",
        "from scipy import stats\r\n",
        "import warnings\r\n",
        "warnings.filterwarnings(\"ignore\")\r\n",
        "from statsmodels.tsa.holtwinters import (ExponentialSmoothing, Holt, SimpleExpSmoothing)\r\n",
        "from sklearn.model_selection import TimeSeriesSplit\r\n",
        "from statsmodels.tsa.arima_model import ARIMA"
      ],
      "execution_count": null,
      "outputs": []
    },
    {
      "cell_type": "code",
      "metadata": {
        "colab": {
          "base_uri": "https://localhost:8080/",
          "height": 199
        },
        "id": "-fFinqChanc1",
        "outputId": "27a54c2b-c40f-46c0-ad75-c4ed875b8ef4"
      },
      "source": [
        "#importing the dataset\r\n",
        "\r\n",
        "D1 = pd.read_csv(\"Dataset1_global_mean_temp.csv\", names = [\"global_mean_temp\"])\r\n",
        "D1.head()"
      ],
      "execution_count": null,
      "outputs": [
        {
          "output_type": "execute_result",
          "data": {
            "text/html": [
              "<div>\n",
              "<style scoped>\n",
              "    .dataframe tbody tr th:only-of-type {\n",
              "        vertical-align: middle;\n",
              "    }\n",
              "\n",
              "    .dataframe tbody tr th {\n",
              "        vertical-align: top;\n",
              "    }\n",
              "\n",
              "    .dataframe thead th {\n",
              "        text-align: right;\n",
              "    }\n",
              "</style>\n",
              "<table border=\"1\" class=\"dataframe\">\n",
              "  <thead>\n",
              "    <tr style=\"text-align: right;\">\n",
              "      <th></th>\n",
              "      <th>global_mean_temp</th>\n",
              "    </tr>\n",
              "  </thead>\n",
              "  <tbody>\n",
              "    <tr>\n",
              "      <th>0</th>\n",
              "      <td>-0.36</td>\n",
              "    </tr>\n",
              "    <tr>\n",
              "      <th>1</th>\n",
              "      <td>-0.30</td>\n",
              "    </tr>\n",
              "    <tr>\n",
              "      <th>2</th>\n",
              "      <td>-0.23</td>\n",
              "    </tr>\n",
              "    <tr>\n",
              "      <th>3</th>\n",
              "      <td>-0.23</td>\n",
              "    </tr>\n",
              "    <tr>\n",
              "      <th>4</th>\n",
              "      <td>-0.51</td>\n",
              "    </tr>\n",
              "  </tbody>\n",
              "</table>\n",
              "</div>"
            ],
            "text/plain": [
              "   global_mean_temp\n",
              "0             -0.36\n",
              "1             -0.30\n",
              "2             -0.23\n",
              "3             -0.23\n",
              "4             -0.51"
            ]
          },
          "metadata": {
            "tags": []
          },
          "execution_count": 96
        }
      ]
    },
    {
      "cell_type": "code",
      "metadata": {
        "colab": {
          "base_uri": "https://localhost:8080/",
          "height": 282
        },
        "id": "PoN5fQi6X5oM",
        "outputId": "8540ccb0-d498-42d9-ba6c-4bae6f8c015c"
      },
      "source": [
        "plt.plot(D1['global_mean_temp'])"
      ],
      "execution_count": null,
      "outputs": [
        {
          "output_type": "execute_result",
          "data": {
            "text/plain": [
              "[<matplotlib.lines.Line2D at 0x7fdb8243a110>]"
            ]
          },
          "metadata": {
            "tags": []
          },
          "execution_count": 97
        },
        {
          "output_type": "display_data",
          "data": {
            "image/png": "[encoded data removed]",
            "text/plain": [
              "<Figure size 432x288 with 1 Axes>"
            ]
          },
          "metadata": {
            "tags": [],
            "needs_background": "light"
          }
        }
      ]
    },
    {
      "cell_type": "markdown",
      "metadata": {
        "id": "RunGI8YSt5Jw"
      },
      "source": [
        "#KPSS Test"
      ]
    },
    {
      "cell_type": "code",
      "metadata": {
        "colab": {
          "base_uri": "https://localhost:8080/"
        },
        "id": "1Wgr3C7edGLS",
        "outputId": "a5f60c7a-8f77-47f5-ff1d-c90f0fcf8150"
      },
      "source": [
        "#define function for kpss test\r\n",
        "\r\n",
        "from statsmodels.tsa.stattools import kpss\r\n",
        "def kpss_test(atr):\r\n",
        "    timeseries = D1[atr].dropna()\r\n",
        "    print ('Results of KPSS Test for ',atr)\r\n",
        "    kpsstest = kpss(timeseries, regression='c')\r\n",
        "    kpss_output = pd.Series(kpsstest[0:3], index=['Test Statistic','p-value','Lags Used'])\r\n",
        "    for key,value in kpsstest[3].items():\r\n",
        "        kpss_output['Critical Value (%s)'%key] = value\r\n",
        "    print (kpss_output)\r\n",
        "kpss_test('global_mean_temp')"
      ],
      "execution_count": null,
      "outputs": [
        {
          "output_type": "stream",
          "text": [
            "Results of KPSS Test for  global_mean_temp\n",
            "Test Statistic            0.937789\n",
            "p-value                   0.010000\n",
            "Lags Used                13.000000\n",
            "Critical Value (10%)      0.347000\n",
            "Critical Value (5%)       0.463000\n",
            "Critical Value (2.5%)     0.574000\n",
            "Critical Value (1%)       0.739000\n",
            "dtype: float64\n"
          ],
          "name": "stdout"
        }
      ]
    },
    {
      "cell_type": "markdown",
      "metadata": {
        "id": "iG8gokqk7KYH"
      },
      "source": [
        ">For the given dataset D1 , the value of the test statistic is greater than the critical value at all confidence intervals in the KPSS test, hence the series is non stationary."
      ]
    },
    {
      "cell_type": "markdown",
      "metadata": {
        "id": "yWLq4lZpt-Nb"
      },
      "source": [
        "#ADF Test"
      ]
    },
    {
      "cell_type": "code",
      "metadata": {
        "colab": {
          "base_uri": "https://localhost:8080/"
        },
        "id": "_yTIfsZPdnqe",
        "outputId": "52a39259-908d-433c-c43e-105467a5a44d"
      },
      "source": [
        "#define function for ADF test\r\n",
        "\r\n",
        "from statsmodels.tsa.stattools import adfuller\r\n",
        "\r\n",
        "def adf_test(atr):\r\n",
        "    timeseries = D1[atr].dropna()\r\n",
        "    print ('Results of Dickey-Fuller Test for ',atr,'\\n')\r\n",
        "    dftest = adfuller(timeseries, autolag='AIC')\r\n",
        "    dfoutput = pd.Series(dftest[0:4], index=['Test Statistic','p-value','#Lags Used','Number of Observations Used'])\r\n",
        "    for key,value in dftest[4].items():\r\n",
        "       dfoutput['Critical Value (%s)'%key] = value\r\n",
        "    print(dfoutput)\r\n",
        "\r\n",
        "adf_test('global_mean_temp')"
      ],
      "execution_count": null,
      "outputs": [
        {
          "output_type": "stream",
          "text": [
            "Results of Dickey-Fuller Test for  global_mean_temp \n",
            "\n",
            "Test Statistic                   0.330692\n",
            "p-value                          0.978710\n",
            "#Lags Used                       3.000000\n",
            "Number of Observations Used    130.000000\n",
            "Critical Value (1%)             -3.481682\n",
            "Critical Value (5%)             -2.884042\n",
            "Critical Value (10%)            -2.578770\n",
            "dtype: float64\n"
          ],
          "name": "stdout"
        }
      ]
    },
    {
      "cell_type": "markdown",
      "metadata": {
        "id": "VM-QN4TaRA-u"
      },
      "source": [
        ">For the given dataset D1 , the value of the test statistic is greater than the critical value at all confidence intervals in the ADF test, hence  the series is non stationary.\n",
        "\n",
        "Note:  The signed values should be compared and not the absolute values."
      ]
    },
    {
      "cell_type": "markdown",
      "metadata": {
        "id": "rnz15pwTO4ne"
      },
      "source": [
        "**Since, both tests conclude that the series is non stationary, therefore, the dataset is concluded as Non Stationary.**"
      ]
    },
    {
      "cell_type": "markdown",
      "metadata": {
        "id": "jsZifPslfDzm"
      },
      "source": [
        "# making non stationary series to stationary"
      ]
    },
    {
      "cell_type": "code",
      "metadata": {
        "colab": {
          "base_uri": "https://localhost:8080/",
          "height": 644
        },
        "id": "UZPcUhIKYjVQ",
        "outputId": "6fc13fb2-3908-4c28-cdb2-539b999cb72a"
      },
      "source": [
        "# Differencing\r\n",
        "D1['diff'] = D1['global_mean_temp'].diff(periods=1)\r\n",
        "\r\n",
        "# Seasonal Differencing\r\n",
        "D1['seas_diff'] = D1['global_mean_temp'].diff(periods=1)\r\n",
        "\r\n",
        "# Transformation (here we use log transformation)\r\n",
        "D1_log = np.log(D1['global_mean_temp'])\r\n",
        "D1['log_diff'] = D1_log.diff(periods=1)\r\n",
        "\r\n",
        "D1.plot(subplots=True, figsize=(10,12))\r\n",
        "plt.show()"
      ],
      "execution_count": null,
      "outputs": [
        {
          "output_type": "display_data",
          "data": {
            "image/png": "[encoded data removed]",
            "text/plain": [
              "<Figure size 720x864 with 4 Axes>"
            ]
          },
          "metadata": {
            "tags": [],
            "needs_background": "light"
          }
        }
      ]
    },
    {
      "cell_type": "markdown",
      "metadata": {
        "id": "A7RE1SQccK0E"
      },
      "source": [
        "\r\n",
        "\r\n",
        "> From the above plot we can visiualise that coloumn seas_diff is stationary series\r\n",
        "\r\n",
        "\r\n"
      ]
    },
    {
      "cell_type": "code",
      "metadata": {
        "id": "L7Phzjf6glIo"
      },
      "source": [
        "data = D1['global_mean_temp']"
      ],
      "execution_count": null,
      "outputs": []
    },
    {
      "cell_type": "markdown",
      "metadata": {
        "id": "tSCbkLyFtZJ-"
      },
      "source": [
        "#Single Exponential Smoothing"
      ]
    },
    {
      "cell_type": "code",
      "metadata": {
        "id": "JKjRx0snue2S"
      },
      "source": [
        "#Defining function for calling data values with interval 'n'\r\n",
        "\r\n",
        "def data_n(arr,interval):\r\n",
        "  arr1=[arr[0]]\r\n",
        "  for i in range(1,len(arr)):\r\n",
        "    if i%interval==0:  \r\n",
        "      arr1.append(arr[i])\r\n",
        "  return arr1"
      ],
      "execution_count": null,
      "outputs": []
    },
    {
      "cell_type": "code",
      "metadata": {
        "id": "sIyNFYEHk6eT"
      },
      "source": [
        "#Defining single Exponential Smoothing function with interval \r\n",
        "\r\n",
        "def single_exponential_smoothing(arr, alpha, interval):\r\n",
        "  arr1 = [arr[0]]\r\n",
        "  j=1\r\n",
        "  for i in range(1, len(arr)):\r\n",
        "    if i%interval == 0:\r\n",
        "      arr1.append(alpha*arr[i-1] + (1-alpha)*arr1[j-1])\r\n",
        "      j+=1\r\n",
        "  return arr1"
      ],
      "execution_count": null,
      "outputs": []
    },
    {
      "cell_type": "code",
      "metadata": {
        "id": "Osg4SodfwxJl"
      },
      "source": [
        "#Calculating mean square error function for single exponential smoothing \r\n",
        "\r\n",
        "def MSE_SES(arr, alpha, interval):\r\n",
        "  Y_true = data_n(arr, interval)\r\n",
        "  Y_pred = single_exponential_smoothing(arr, alpha, interval)\r\n",
        "  MSE = np.square(np.subtract(Y_true,Y_pred)).mean() \r\n",
        "  return MSE\r\n"
      ],
      "execution_count": null,
      "outputs": []
    },
    {
      "cell_type": "code",
      "metadata": {
        "id": "CnfBpOIzgEOs"
      },
      "source": [
        "#Calculating mean absolute error function for single exponential smoothing \r\n",
        "\r\n",
        "def MAE_SES(arr, alpha, interval):\r\n",
        "  Y_true = data_n(arr, interval)\r\n",
        "  Y_pred = single_exponential_smoothing(arr, alpha, interval)\r\n",
        "  MAE = abs(np.subtract(Y_true,Y_pred)).mean() \r\n",
        "  return MAE\r\n"
      ],
      "execution_count": null,
      "outputs": []
    },
    {
      "cell_type": "code",
      "metadata": {
        "colab": {
          "base_uri": "https://localhost:8080/"
        },
        "id": "ZrugLVYlsCM7",
        "outputId": "535eee56-8ffe-4685-884b-d3dcf3f955d4"
      },
      "source": [
        "#calculating mean square error for different combinations of alpha for single exponential smoothing\r\n",
        "\r\n",
        "print(\"MSE for alpha =.4 is  \" ,MSE_SES(data, .4, interval=1), \"\\n\")\r\n",
        "print(\"MSE for alpha =.35 is \" ,MSE_SES(data, .35, interval=2), \"\\n\")\r\n",
        "print(\"MSE for alpha =.65 is \" ,MSE_SES(data, .65, interval=4), \"\\n\")\r\n",
        "print(\"MSE for alpha =.85 is \" ,MSE_SES(data, .85, interval=8), \"\\n\")\r\n",
        "print(\"MSE for alpha =.65 is \" ,MSE_SES(data, .65, interval=12), \"\\n\")\r\n",
        "print(\"MSE for alpha =.85 is \" ,MSE_SES(data, .85, interval=24), \"\\n\")"
      ],
      "execution_count": null,
      "outputs": [
        {
          "output_type": "stream",
          "text": [
            "MSE for alpha =.4 is   0.01594797832968231 \n",
            "\n",
            "MSE for alpha =.35 is  0.017698638391144723 \n",
            "\n",
            "MSE for alpha =.65 is  0.01497395392622031 \n",
            "\n",
            "MSE for alpha =.85 is  0.014159195861500922 \n",
            "\n",
            "MSE for alpha =.65 is  0.018819568159627598 \n",
            "\n",
            "MSE for alpha =.85 is  0.011645205444593028 \n",
            "\n"
          ],
          "name": "stdout"
        }
      ]
    },
    {
      "cell_type": "code",
      "metadata": {
        "colab": {
          "base_uri": "https://localhost:8080/"
        },
        "id": "Y0aaUdZt7Nim",
        "outputId": "bf0ca0c8-0439-4cc0-9d71-0d6f3a5719ce"
      },
      "source": [
        "#calculating mean Absolute error after aplying different combinations\r\n",
        "print(\"MAE  is \" ,MAE_SES(data, .4 ,interval=1), \"\\n\")\r\n",
        "print(\"MAE  is \" ,MAE_SES(data, .4  ,interval=2), \"\\n\")\r\n",
        "print(\"MAE  is \" ,MAE_SES(data,.4  , interval=4), \"\\n\")\r\n",
        "print(\"MAE  is \" ,MAE_SES(data,.4  , interval=8), \"\\n\")\r\n",
        "print(\"MAE  is \" ,MAE_SES(data,.4  ,interval=12), \"\\n\")\r\n",
        "print(\"MAE  is \" ,MAE_SES(data,.4 ,interval=24), \"\\n\")"
      ],
      "execution_count": null,
      "outputs": [
        {
          "output_type": "stream",
          "text": [
            "MAE  is  0.10291313932665104 \n",
            "\n",
            "MAE  is  0.10637972614055607 \n",
            "\n",
            "MAE  is  0.09271043500911745 \n",
            "\n",
            "MAE  is  0.08867317782053637 \n",
            "\n",
            "MAE  is  0.1535611716437333 \n",
            "\n",
            "MAE  is  0.16380213333333335 \n",
            "\n"
          ],
          "name": "stdout"
        }
      ]
    },
    {
      "cell_type": "markdown",
      "metadata": {
        "id": "rKqqC8z1tpeL"
      },
      "source": [
        "#Double Exponential Smoothing"
      ]
    },
    {
      "cell_type": "code",
      "metadata": {
        "id": "js71BVwGS39I"
      },
      "source": [
        "#Defining Double Exponential Smoothing function double_exponential_smoothing with interval \r\n",
        "\r\n",
        "\r\n",
        "def double_exponential_smoothing(arr,alpha,beta,interval):\r\n",
        "  a=[arr[0]]\r\n",
        "  l=len(arr)\r\n",
        "  b=[(arr[l-1]-arr[0])/(l-1)]\r\n",
        "  arr1 = [arr[0]]\r\n",
        "  j=0\r\n",
        "  for i in range(1,len(arr)):\r\n",
        "      if i%interval==0:\r\n",
        "        arr1.append(a[j]+b[j])\r\n",
        "        j+=1\r\n",
        "        a.append(alpha * arr[i] + (1 - alpha) * (a[j-1]+b[j-1]))\r\n",
        "        b.append(beta * (a[j]-a[j-1]) + (1 - beta) * (b[j-1]))        \r\n",
        "  return arr1"
      ],
      "execution_count": null,
      "outputs": []
    },
    {
      "cell_type": "code",
      "metadata": {
        "id": "cAdgBFF92heU"
      },
      "source": [
        "#Calculating mean square error function for double exponential smoothing \r\n",
        "\r\n",
        "def MSE_DES(arr, alpha,beta,interval):\r\n",
        "  Y_true = data_n(arr, interval)\r\n",
        "  Y_pred = double_exponential_smoothing(arr, alpha,beta, interval)\r\n",
        "  MSE = np.square(np.subtract(Y_true,Y_pred)).mean() \r\n",
        "  return MSE"
      ],
      "execution_count": null,
      "outputs": []
    },
    {
      "cell_type": "code",
      "metadata": {
        "id": "UElSLko2fv0V"
      },
      "source": [
        "#Calculating mean absolute error function for double exponential smoothing \r\n",
        "\r\n",
        "def MAE_DES(arr, alpha,beta,interval):\r\n",
        "  Y_true = data_n(arr, interval)\r\n",
        "  Y_pred = double_exponential_smoothing(arr, alpha,beta, interval)\r\n",
        "  MAE = abs(np.subtract(Y_true,Y_pred)).mean() \r\n",
        "  return MAE"
      ],
      "execution_count": null,
      "outputs": []
    },
    {
      "cell_type": "code",
      "metadata": {
        "colab": {
          "base_uri": "https://localhost:8080/"
        },
        "id": "K4e95XD1s6I5",
        "outputId": "45f35f8b-f7f4-494d-c37b-eb41bfbcb8f8"
      },
      "source": [
        "#calculating mean square error for different combinations of alpha, beta for double exponential smoothing \r\n",
        "\r\n",
        "print(\"MSE for alpha =.4,  beta = .2  is \" ,MSE_DES(data, .4, .2 ,interval=1), \"\\n\")\r\n",
        "print(\"MSE for alpha =.35, beta = .5  is \" ,MSE_DES(data, .35, .5, interval=2), \"\\n\")\r\n",
        "print(\"MSE for alpha =.85, beta = .6  is \" ,MSE_DES(data, .85, .6 ,interval=4), \"\\n\")\r\n",
        "print(\"MSE for alpha =.45, beta = .6  is \" ,MSE_DES(data, .45, .6 ,interval=8), \"\\n\")\r\n",
        "print(\"MSE for alpha =.7,  beta = .55 is \" ,MSE_DES(data, .7, .55, interval=12), \"\\n\")\r\n",
        "print(\"MSE for alpha =.2,  beta = .6  is \" ,MSE_DES(data, .2, .6 ,interval=24), \"\\n\")\r\n"
      ],
      "execution_count": null,
      "outputs": [
        {
          "output_type": "stream",
          "text": [
            "MSE for alpha =.4,  beta = .2  is  0.017536076618427186 \n",
            "\n",
            "MSE for alpha =.35, beta = .5  is  0.021648531011961007 \n",
            "\n",
            "MSE for alpha =.85, beta = .6  is  0.03963367220293091 \n",
            "\n",
            "MSE for alpha =.45, beta = .6  is  0.03328364702784446 \n",
            "\n",
            "MSE for alpha =.7,  beta = .55 is  0.0799888391964689 \n",
            "\n",
            "MSE for alpha =.2,  beta = .6  is  0.11075664448712613 \n",
            "\n"
          ],
          "name": "stdout"
        }
      ]
    },
    {
      "cell_type": "code",
      "metadata": {
        "colab": {
          "base_uri": "https://localhost:8080/"
        },
        "id": "ddYXhv3z6iOf",
        "outputId": "dfe98a86-8123-4ce0-b6c4-7b6e9772c665"
      },
      "source": [
        "#calculating mean Absolute error after aplying different combinations\r\n",
        "print(\"MAE  is \" ,MAE_DES(data, .4, .2 ,interval=1), \"\\n\")\r\n",
        "print(\"MAE  is \" ,MAE_DES(data, .4, .2 ,interval=2), \"\\n\")\r\n",
        "print(\"MAE  is \" ,MAE_DES(data,.4, .2 , interval=4), \"\\n\")\r\n",
        "print(\"MAE  is \" ,MAE_DES(data,.4, .2 , interval=8), \"\\n\")\r\n",
        "print(\"MAE  is \" ,MAE_DES(data,.4, .2 ,interval=12), \"\\n\")\r\n",
        "print(\"MAE  is \" ,MAE_DES(data,.4, .2 ,interval=24), \"\\n\")"
      ],
      "execution_count": null,
      "outputs": [
        {
          "output_type": "stream",
          "text": [
            "MAE  is  0.10723459437143268 \n",
            "\n",
            "MAE  is  0.11099978603732098 \n",
            "\n",
            "MAE  is  0.11605706147912483 \n",
            "\n",
            "MAE  is  0.142977259857898 \n",
            "\n",
            "MAE  is  0.22733483103966637 \n",
            "\n",
            "MAE  is  0.24641766355087716 \n",
            "\n"
          ],
          "name": "stdout"
        }
      ]
    },
    {
      "cell_type": "markdown",
      "metadata": {
        "id": "ppPX57fNtyNa"
      },
      "source": [
        "#Triple Exponential Smoothing"
      ]
    },
    {
      "cell_type": "code",
      "metadata": {
        "id": "lTPz56oePwAu"
      },
      "source": [
        "#Defining Triple Exponential Smoothing function double_exponential_smoothing with interval \r\n",
        "\r\n",
        "def initial_trend(data, slen):\r\n",
        "    sum = 0.0\r\n",
        "    for i in range(slen):\r\n",
        "        sum += float(data[i+slen] - data[i]) / slen\r\n",
        "    return sum / slen\r\n",
        "\r\n",
        "def initial_seasonal_components(data, slen):\r\n",
        "    seasonals = {}\r\n",
        "    season_averages = []\r\n",
        "    n_seasons = int(len(data)/slen)\r\n",
        "    # compute season averages\r\n",
        "    for j in range(n_seasons):\r\n",
        "        season_averages.append(sum(data[slen*j:slen*j+slen])/float(slen))\r\n",
        "    # compute initial values\r\n",
        "    for i in range(slen):\r\n",
        "        sum_of_vals_over_avg = 0.0\r\n",
        "        for j in range(n_seasons):\r\n",
        "            sum_of_vals_over_avg += data[slen*j+i]-season_averages[j]\r\n",
        "        seasonals[i] = sum_of_vals_over_avg/n_seasons\r\n",
        "    return seasonals\r\n",
        "\r\n",
        "def triple_exponential_smoothing(data, slen, alpha, beta, gamma, interval):\r\n",
        "    data2 = data_n(data,interval)\r\n",
        "    result = []\r\n",
        "    seasonals = initial_seasonal_components(data2, slen)\r\n",
        "    for i in range(len(data2)):\r\n",
        "        if i == 0: \r\n",
        "            smooth = data2[0]\r\n",
        "            trend = initial_trend(data2, slen)\r\n",
        "            result.append(data2[0])\r\n",
        "            continue\r\n",
        "        if i >= len(data2): \r\n",
        "            m = i - len(data2) + 1\r\n",
        "            result.append((smooth + m*trend) + seasonals[i%slen])\r\n",
        "        else:\r\n",
        "            val = data2[i]\r\n",
        "            last_smooth, smooth = smooth, alpha*(val-seasonals[i%slen]) + (1-alpha)*(smooth+trend)\r\n",
        "            trend = beta * (smooth-last_smooth) + (1-beta)*trend\r\n",
        "            seasonals[i%slen] = gamma*(val-smooth) + (1-gamma)*seasonals[i%slen]\r\n",
        "            result.append(smooth+trend+seasonals[i%slen])\r\n",
        "    return result"
      ],
      "execution_count": null,
      "outputs": []
    },
    {
      "cell_type": "code",
      "metadata": {
        "id": "OHVBE1JLZcz-"
      },
      "source": [
        "#Calculating mean square error function for Triple exponential smoothing \r\n",
        "\r\n",
        "def MSE_TES(arr,slen, alpha,beta,gamma, interval):\r\n",
        "  Y_true = data_n(arr, interval)\r\n",
        "  Y_pred = triple_exponential_smoothing(arr,slen , alpha,beta, gamma, interval)\r\n",
        "  MSE = np.square(np.subtract(Y_true,Y_pred)).mean() \r\n",
        "  return MSE"
      ],
      "execution_count": null,
      "outputs": []
    },
    {
      "cell_type": "code",
      "metadata": {
        "id": "YSJ17VrfdOIQ"
      },
      "source": [
        "#Calculating mean absolute error function for Triple exponential smoothing \r\n",
        "\r\n",
        "def MAE_TES(arr,slen, alpha,beta,gamma, interval):\r\n",
        "  Y_true = data_n(arr, interval)\r\n",
        "  Y_pred = triple_exponential_smoothing(arr,slen , alpha,beta, gamma, interval)\r\n",
        "  MAE = abs(np.subtract(Y_true,Y_pred)).mean() \r\n",
        "  return MAE"
      ],
      "execution_count": null,
      "outputs": []
    },
    {
      "cell_type": "code",
      "metadata": {
        "colab": {
          "base_uri": "https://localhost:8080/"
        },
        "id": "EURXItxStbUt",
        "outputId": "f537ac84-2033-4956-e8a1-f264e52c437a"
      },
      "source": [
        "#calculating mean square error for different combinations of alpha, beta, gamma for triple exponential smoothing\r\n",
        "\r\n",
        "print(\"MSE for alpha =.4,  beta = .2,  gamma = .5  is \" ,MSE_TES(data,1, .4, .2 , .5,interval=1), \"\\n\")\r\n",
        "print(\"MSE for alpha =.35, beta = .5,  gamma = .3  is \" ,MSE_TES(data,1, .35, .5, .3, interval=2), \"\\n\")\r\n",
        "print(\"MSE for alpha =.45, beta = .6,  gamma = .4  is \" ,MSE_TES(data,1, .45, .6, .4 ,interval=4), \"\\n\")\r\n",
        "print(\"MSE for alpha =.4,  beta = .2,  gamma = .5  is \" ,MSE_TES(data,1, .4, .2 , .5,interval=8), \"\\n\")\r\n",
        "print(\"MSE for alpha =.3,  beta = .5,  gamma = .55 is \" ,MSE_TES(data,1, .3, .5, .55, interval=12), \"\\n\")\r\n",
        "print(\"MSE for alpha =.3,  beta = .5,  gamma = .55 is \" ,MSE_TES(data,1, .3, .5, .55, interval=24), \"\\n\")\r\n"
      ],
      "execution_count": null,
      "outputs": [
        {
          "output_type": "stream",
          "text": [
            "MSE for alpha =.4,  beta = .2,  gamma = .5  is  0.0016837110579346422 \n",
            "\n",
            "MSE for alpha =.35, beta = .5,  gamma = .3  is  0.005265628189404686 \n",
            "\n",
            "MSE for alpha =.45, beta = .6,  gamma = .4  is  0.005253355402164649 \n",
            "\n",
            "MSE for alpha =.4,  beta = .2,  gamma = .5  is  0.0013929225270934648 \n",
            "\n",
            "MSE for alpha =.3,  beta = .5,  gamma = .55 is  0.011310483442402255 \n",
            "\n",
            "MSE for alpha =.3,  beta = .5,  gamma = .55 is  0.01768535224223506 \n",
            "\n"
          ],
          "name": "stdout"
        }
      ]
    },
    {
      "cell_type": "code",
      "metadata": {
        "colab": {
          "base_uri": "https://localhost:8080/"
        },
        "id": "Qshqu8-Y42jP",
        "outputId": "a82ad582-3383-429c-8f1a-3d04b24585b2"
      },
      "source": [
        "#calculating mean Absolute error after aplying different combinations\r\n",
        "print(\"MAE  is \" ,MAE_TES(data,1, .4, .2 , .5,interval=1), \"\\n\")\r\n",
        "print(\"MAE  is \" ,MAE_TES(data,1, .4, .2 , .5,interval=2), \"\\n\")\r\n",
        "print(\"MAE  is \" ,MAE_TES(data,1, .4, .2 , .5,interval=4), \"\\n\")\r\n",
        "print(\"MAE  is \" ,MAE_TES(data,1, .4, .2 , .5,interval=8), \"\\n\")\r\n",
        "print(\"MAE  is \" ,MAE_TES(data,1, .4, .2 , .5,interval=12), \"\\n\")\r\n",
        "print(\"MAE  is \" ,MAE_TES(data,1, .4, .2 , .5,interval=24), \"\\n\")"
      ],
      "execution_count": null,
      "outputs": [
        {
          "output_type": "stream",
          "text": [
            "MAE  is  0.03188115714914041 \n",
            "\n",
            "MAE  is  0.04864154539895381 \n",
            "\n",
            "MAE  is  0.06454839664207113 \n",
            "\n",
            "MAE  is  0.031539601580397536 \n",
            "\n",
            "MAE  is  0.10338742679746389 \n",
            "\n",
            "MAE  is  0.14758751653333338 \n",
            "\n"
          ],
          "name": "stdout"
        }
      ]
    },
    {
      "cell_type": "markdown",
      "metadata": {
        "id": "VCVgc0V_oGQf"
      },
      "source": [
        "# AR"
      ]
    },
    {
      "cell_type": "code",
      "metadata": {
        "colab": {
          "base_uri": "https://localhost:8080/"
        },
        "id": "4L2mPUeeqShA",
        "outputId": "30334b0a-810c-4655-fda1-d45f62b2da96"
      },
      "source": [
        "#fit model\r\n",
        "model=ARIMA(D1['seas_diff'].dropna(), order=(2,0,0))\r\n",
        "model_fit=model.fit()\r\n",
        "\r\n",
        "#model summary\r\n",
        "print(model_fit.summary())\r\n",
        "\r\n",
        "#make prediction\r\n",
        "D1['forecast1'] = model_fit.predict()"
      ],
      "execution_count": null,
      "outputs": [
        {
          "output_type": "stream",
          "text": [
            "                              ARMA Model Results                              \n",
            "==============================================================================\n",
            "Dep. Variable:              seas_diff   No. Observations:                  133\n",
            "Model:                     ARMA(1, 0)   Log Likelihood                  78.323\n",
            "Method:                       css-mle   S.D. of innovations              0.134\n",
            "Date:                Mon, 01 Mar 2021   AIC                           -150.647\n",
            "Time:                        05:06:18   BIC                           -141.975\n",
            "Sample:                             0   HQIC                          -147.123\n",
            "                                                                              \n",
            "===================================================================================\n",
            "                      coef    std err          z      P>|z|      [0.025      0.975]\n",
            "-----------------------------------------------------------------------------------\n",
            "const               0.0086      0.009      0.977      0.329      -0.009       0.026\n",
            "ar.L1.seas_diff    -0.3198      0.082     -3.910      0.000      -0.480      -0.160\n",
            "                                    Roots                                    \n",
            "=============================================================================\n",
            "                  Real          Imaginary           Modulus         Frequency\n",
            "-----------------------------------------------------------------------------\n",
            "AR.1           -3.1270           +0.0000j            3.1270            0.5000\n",
            "-----------------------------------------------------------------------------\n"
          ],
          "name": "stdout"
        }
      ]
    },
    {
      "cell_type": "code",
      "metadata": {
        "colab": {
          "base_uri": "https://localhost:8080/"
        },
        "id": "o3tPVCLfvxbO",
        "outputId": "e653f7f2-3a0e-4acd-b079-cdcdf9b08110"
      },
      "source": [
        "#Calculating mean square error function \r\n",
        "MSE = np.square(np.subtract(D1['seas_diff'],D1['forecast1'])).mean() \r\n",
        "print(\"MSE for AR is\", MSE)"
      ],
      "execution_count": null,
      "outputs": [
        {
          "output_type": "stream",
          "text": [
            "MSE for AR is 0.018018270962289987\n"
          ],
          "name": "stdout"
        }
      ]
    },
    {
      "cell_type": "code",
      "metadata": {
        "colab": {
          "base_uri": "https://localhost:8080/"
        },
        "id": "P1Iw1sdVvxbm",
        "outputId": "ef845b70-d1bd-4ca1-ab92-8511f4e97cf4"
      },
      "source": [
        "#Calculating mean absolute error function \r\n",
        "MAE = abs(np.subtract(D1['seas_diff'],D1['forecast1'])).mean() \r\n",
        "print(\"MAE for AR is\", MAE)\r\n"
      ],
      "execution_count": null,
      "outputs": [
        {
          "output_type": "stream",
          "text": [
            "MAE for AR is 0.10783827755540124\n"
          ],
          "name": "stdout"
        }
      ]
    },
    {
      "cell_type": "markdown",
      "metadata": {
        "id": "LSqcHTBZrHV7"
      },
      "source": [
        "# MA"
      ]
    },
    {
      "cell_type": "code",
      "metadata": {
        "colab": {
          "base_uri": "https://localhost:8080/"
        },
        "id": "NWzi26IvrJMX",
        "outputId": "f6a0e0dc-54e4-4153-a01a-364184b952a4"
      },
      "source": [
        "#fit model\r\n",
        "model=ARIMA(D1['seas_diff'].dropna(), order=(2,0,1))\r\n",
        "model_fit=model.fit()\r\n",
        "\r\n",
        "#model summary\r\n",
        "print(model_fit.summary())\r\n",
        "\r\n",
        "#make prediction\r\n",
        "D1['forecast2'] = model_fit.predict()"
      ],
      "execution_count": null,
      "outputs": [
        {
          "output_type": "stream",
          "text": [
            "                              ARMA Model Results                              \n",
            "==============================================================================\n",
            "Dep. Variable:              seas_diff   No. Observations:                  133\n",
            "Model:                     ARMA(0, 1)   Log Likelihood                  88.320\n",
            "Method:                       css-mle   S.D. of innovations              0.124\n",
            "Date:                Mon, 01 Mar 2021   AIC                           -170.641\n",
            "Time:                        05:06:18   BIC                           -161.969\n",
            "Sample:                             0   HQIC                          -167.117\n",
            "                                                                              \n",
            "===================================================================================\n",
            "                      coef    std err          z      P>|z|      [0.025      0.975]\n",
            "-----------------------------------------------------------------------------------\n",
            "const               0.0088      0.003      2.576      0.010       0.002       0.016\n",
            "ma.L1.seas_diff    -0.6882      0.073     -9.471      0.000      -0.831      -0.546\n",
            "                                    Roots                                    \n",
            "=============================================================================\n",
            "                  Real          Imaginary           Modulus         Frequency\n",
            "-----------------------------------------------------------------------------\n",
            "MA.1            1.4532           +0.0000j            1.4532            0.0000\n",
            "-----------------------------------------------------------------------------\n"
          ],
          "name": "stdout"
        }
      ]
    },
    {
      "cell_type": "code",
      "metadata": {
        "colab": {
          "base_uri": "https://localhost:8080/"
        },
        "id": "SiCIcgeOxqnM",
        "outputId": "9ce8eea6-77d6-40f5-d279-b8f116443ae2"
      },
      "source": [
        "#Calculating mean square error function \r\n",
        "MSE = np.square(np.subtract(D1['seas_diff'],D1['forecast2'])).mean() \r\n",
        "print(\"MSE for MR is\", MSE)"
      ],
      "execution_count": null,
      "outputs": [
        {
          "output_type": "stream",
          "text": [
            "MSE for MR is 0.015471073328011089\n"
          ],
          "name": "stdout"
        }
      ]
    },
    {
      "cell_type": "code",
      "metadata": {
        "colab": {
          "base_uri": "https://localhost:8080/"
        },
        "id": "2oX7IR9cxqnO",
        "outputId": "9de0c253-e6ca-45dc-d0d2-931b25996e0b"
      },
      "source": [
        "#Calculating mean absolute error function \r\n",
        "MAE = abs(np.subtract(D1['seas_diff'],D1['forecast2'])).mean() \r\n",
        "print(\"MAE for MR is\", MAE)\r\n"
      ],
      "execution_count": null,
      "outputs": [
        {
          "output_type": "stream",
          "text": [
            "MAE for MR is 0.10012759157368091\n"
          ],
          "name": "stdout"
        }
      ]
    },
    {
      "cell_type": "markdown",
      "metadata": {
        "id": "sb-DFg5ErZnP"
      },
      "source": [
        "# ARIMA"
      ]
    },
    {
      "cell_type": "code",
      "metadata": {
        "colab": {
          "base_uri": "https://localhost:8080/"
        },
        "id": "oUORLzc3rc4F",
        "outputId": "229378e7-df95-4954-b32c-ee9148225692"
      },
      "source": [
        "#fit model\r\n",
        "model=ARIMA(D1['global_mean_temp'].dropna(), order=(2,1,1))\r\n",
        "model_fit=model.fit()\r\n",
        "\r\n",
        "#model summary\r\n",
        "print(model_fit.summary())\r\n",
        "\r\n",
        "#make prediction\r\n",
        "D1['forecast3'] = model_fit.predict()"
      ],
      "execution_count": null,
      "outputs": [
        {
          "output_type": "stream",
          "text": [
            "                             ARIMA Model Results                              \n",
            "==============================================================================\n",
            "Dep. Variable:     D.global_mean_temp   No. Observations:                  133\n",
            "Model:                 ARIMA(1, 1, 1)   Log Likelihood                  90.331\n",
            "Method:                       css-mle   S.D. of innovations              0.122\n",
            "Date:                Mon, 01 Mar 2021   AIC                           -172.662\n",
            "Time:                        05:06:19   BIC                           -161.101\n",
            "Sample:                             1   HQIC                          -167.964\n",
            "                                                                              \n",
            "============================================================================================\n",
            "                               coef    std err          z      P>|z|      [0.025      0.975]\n",
            "--------------------------------------------------------------------------------------------\n",
            "const                        0.0090      0.003      3.076      0.002       0.003       0.015\n",
            "ar.L1.D.global_mean_temp     0.2267      0.111      2.033      0.042       0.008       0.445\n",
            "ma.L1.D.global_mean_temp    -0.7918      0.064    -12.348      0.000      -0.918      -0.666\n",
            "                                    Roots                                    \n",
            "=============================================================================\n",
            "                  Real          Imaginary           Modulus         Frequency\n",
            "-----------------------------------------------------------------------------\n",
            "AR.1            4.4119           +0.0000j            4.4119            0.0000\n",
            "MA.1            1.2629           +0.0000j            1.2629            0.0000\n",
            "-----------------------------------------------------------------------------\n"
          ],
          "name": "stdout"
        }
      ]
    },
    {
      "cell_type": "code",
      "metadata": {
        "colab": {
          "base_uri": "https://localhost:8080/"
        },
        "id": "48pbJEz7xWZo",
        "outputId": "6b1b2c2a-97d7-4b3c-e456-467cd0755b66"
      },
      "source": [
        "#Calculating mean square error function \r\n",
        "MSE = np.square(np.subtract(D1['seas_diff'],D1['forecast3'])).mean() \r\n",
        "print(\"MSE for ARIMA is\", MSE)"
      ],
      "execution_count": null,
      "outputs": [
        {
          "output_type": "stream",
          "text": [
            "MSE for ARIMA is 0.015121154549546795\n"
          ],
          "name": "stdout"
        }
      ]
    },
    {
      "cell_type": "code",
      "metadata": {
        "colab": {
          "base_uri": "https://localhost:8080/"
        },
        "id": "dcI-GJzPxWZw",
        "outputId": "cc414958-0e05-4131-fef8-9e6543027591"
      },
      "source": [
        "#Calculating mean absolute error function \r\n",
        "MAE = abs(np.subtract(D1['seas_diff'],D1['forecast3'])).mean() \r\n",
        "print(\"MAE for ARIMA is\", MAE)\r\n"
      ],
      "execution_count": null,
      "outputs": [
        {
          "output_type": "stream",
          "text": [
            "MAE for ARIMA is 0.0985452056002884\n"
          ],
          "name": "stdout"
        }
      ]
    },
    {
      "cell_type": "markdown",
      "metadata": {
        "id": "29KJ5aokzhew"
      },
      "source": [
        "# Optimal model check by auto arima"
      ]
    },
    {
      "cell_type": "code",
      "metadata": {
        "colab": {
          "base_uri": "https://localhost:8080/"
        },
        "id": "FNjMiJom2NZV",
        "outputId": "fc7df109-3d6c-4679-ddb0-b2a175c5f443"
      },
      "source": [
        "!pip3 install pmdarima\r\n",
        "import pmdarima as pm"
      ],
      "execution_count": null,
      "outputs": [
        {
          "output_type": "stream",
          "text": [
            "Requirement already satisfied: pmdarima in /usr/local/lib/python3.7/dist-packages (1.8.0)\n",
            "Requirement already satisfied: Cython<0.29.18,>=0.29 in /usr/local/lib/python3.7/dist-packages (from pmdarima) (0.29.17)\n",
            "Requirement already satisfied: numpy>=1.17.3 in /usr/local/lib/python3.7/dist-packages (from pmdarima) (1.19.5)\n",
            "Requirement already satisfied: scipy>=1.3.2 in /usr/local/lib/python3.7/dist-packages (from pmdarima) (1.4.1)\n",
            "Requirement already satisfied: setuptools!=50.0.0,>=38.6.0 in /usr/local/lib/python3.7/dist-packages (from pmdarima) (53.0.0)\n",
            "Requirement already satisfied: urllib3 in /usr/local/lib/python3.7/dist-packages (from pmdarima) (1.24.3)\n",
            "Requirement already satisfied: pandas>=0.19 in /usr/local/lib/python3.7/dist-packages (from pmdarima) (1.1.5)\n",
            "Requirement already satisfied: joblib>=0.11 in /usr/local/lib/python3.7/dist-packages (from pmdarima) (1.0.1)\n",
            "Requirement already satisfied: statsmodels!=0.12.0,>=0.11 in /usr/local/lib/python3.7/dist-packages (from pmdarima) (0.12.2)\n",
            "Requirement already satisfied: scikit-learn>=0.22 in /usr/local/lib/python3.7/dist-packages (from pmdarima) (0.22.2.post1)\n",
            "Requirement already satisfied: python-dateutil>=2.7.3 in /usr/local/lib/python3.7/dist-packages (from pandas>=0.19->pmdarima) (2.8.1)\n",
            "Requirement already satisfied: pytz>=2017.2 in /usr/local/lib/python3.7/dist-packages (from pandas>=0.19->pmdarima) (2018.9)\n",
            "Requirement already satisfied: patsy>=0.5 in /usr/local/lib/python3.7/dist-packages (from statsmodels!=0.12.0,>=0.11->pmdarima) (0.5.1)\n",
            "Requirement already satisfied: six>=1.5 in /usr/local/lib/python3.7/dist-packages (from python-dateutil>=2.7.3->pandas>=0.19->pmdarima) (1.15.0)\n"
          ],
          "name": "stdout"
        }
      ]
    },
    {
      "cell_type": "code",
      "metadata": {
        "colab": {
          "base_uri": "https://localhost:8080/"
        },
        "id": "t9TmSyPazkkb",
        "outputId": "e6106e1c-8f5e-408c-d2db-f5adc3fe96c9"
      },
      "source": [
        "model = pm.auto_arima(D1.iloc[:,0], start_p=1, start_q=1,test='adf',max_p=3, max_q=3,m=1,d=None,seasonal=False,start_P=0, D=0, trace=True,error_action='ignore',  suppress_warnings=True,stepwise=True)\r\n",
        "print(model.summary())"
      ],
      "execution_count": null,
      "outputs": [
        {
          "output_type": "stream",
          "text": [
            "Performing stepwise search to minimize aic\n",
            " ARIMA(1,1,1)(0,0,0)[0] intercept   : AIC=-172.662, Time=0.23 sec\n",
            " ARIMA(0,1,0)(0,0,0)[0] intercept   : AIC=-138.203, Time=0.03 sec\n",
            " ARIMA(1,1,0)(0,0,0)[0] intercept   : AIC=-150.647, Time=0.14 sec\n",
            " ARIMA(0,1,1)(0,0,0)[0] intercept   : AIC=-170.641, Time=0.08 sec\n",
            " ARIMA(0,1,0)(0,0,0)[0]             : AIC=-139.692, Time=0.02 sec\n",
            " ARIMA(2,1,1)(0,0,0)[0] intercept   : AIC=-171.777, Time=0.36 sec\n",
            " ARIMA(1,1,2)(0,0,0)[0] intercept   : AIC=-171.188, Time=0.23 sec\n",
            " ARIMA(0,1,2)(0,0,0)[0] intercept   : AIC=-173.183, Time=0.12 sec\n",
            " ARIMA(0,1,3)(0,0,0)[0] intercept   : AIC=-171.195, Time=0.34 sec\n",
            " ARIMA(1,1,3)(0,0,0)[0] intercept   : AIC=-172.644, Time=0.41 sec\n",
            " ARIMA(0,1,2)(0,0,0)[0]             : AIC=-168.699, Time=0.06 sec\n",
            "\n",
            "Best model:  ARIMA(0,1,2)(0,0,0)[0] intercept\n",
            "Total fit time: 2.059 seconds\n",
            "                               SARIMAX Results                                \n",
            "==============================================================================\n",
            "Dep. Variable:                      y   No. Observations:                  134\n",
            "Model:               SARIMAX(0, 1, 2)   Log Likelihood                  90.592\n",
            "Date:                Mon, 01 Mar 2021   AIC                           -173.183\n",
            "Time:                        05:06:24   BIC                           -161.622\n",
            "Sample:                             0   HQIC                          -168.485\n",
            "                                - 134                                         \n",
            "Covariance Type:                  opg                                         \n",
            "==============================================================================\n",
            "                 coef    std err          z      P>|z|      [0.025      0.975]\n",
            "------------------------------------------------------------------------------\n",
            "intercept      0.0090      0.003      3.000      0.003       0.003       0.015\n",
            "ma.L1         -0.5536      0.091     -6.055      0.000      -0.733      -0.374\n",
            "ma.L2         -0.1737      0.092     -1.880      0.060      -0.355       0.007\n",
            "sigma2         0.0149      0.002      7.529      0.000       0.011       0.019\n",
            "===================================================================================\n",
            "Ljung-Box (L1) (Q):                   0.00   Jarque-Bera (JB):                 0.68\n",
            "Prob(Q):                              0.99   Prob(JB):                         0.71\n",
            "Heteroskedasticity (H):               1.14   Skew:                            -0.11\n",
            "Prob(H) (two-sided):                  0.66   Kurtosis:                         2.72\n",
            "===================================================================================\n",
            "\n",
            "Warnings:\n",
            "[1] Covariance matrix calculated using the outer product of gradients (complex-step).\n"
          ],
          "name": "stdout"
        }
      ]
    },
    {
      "cell_type": "markdown",
      "metadata": {
        "id": "GE1dExIJ31fP"
      },
      "source": [
        "so best optimal model is ARIMA(0,1,2)"
      ]
    },
    {
      "cell_type": "markdown",
      "metadata": {
        "id": "vX4goXMTOkTS"
      },
      "source": [
        "# table"
      ]
    },
    {
      "cell_type": "markdown",
      "metadata": {
        "id": "8KYT3cknx5Yc"
      },
      "source": [
        "![image.png](data:image/png;base64,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)"
      ]
    }
  ]
}