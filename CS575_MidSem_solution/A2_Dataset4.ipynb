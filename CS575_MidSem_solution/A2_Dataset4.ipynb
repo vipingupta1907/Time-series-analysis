{
  "nbformat": 4,
  "nbformat_minor": 0,
  "metadata": {
    "colab": {
      "name": "A2_Dataset4.ipynb",
      "provenance": [],
      "authorship_tag": "ABX9TyNB47OePNcDa2c2XYH5iTAG",
      "include_colab_link": true
    },
    "kernelspec": {
      "name": "python3",
      "display_name": "Python 3"
    }
  },
  "cells": [
    {
      "cell_type": "markdown",
      "metadata": {
        "id": "view-in-github",
        "colab_type": "text"
      },
      "source": [
        "<a href=\"https://colab.research.google.com/github/vipingupta1907/2011MT22_CS575/blob/main/CS575_MidSem_solution/A2_Dataset4.ipynb\" target=\"_parent\"><img src=\"https://colab.research.google.com/assets/colab-badge.svg\" alt=\"Open In Colab\"/></a>"
      ]
    },
    {
      "cell_type": "markdown",
      "metadata": {
        "id": "5JKT_qAwfNjJ"
      },
      "source": [
        "# Solution for Dataset4"
      ]
    },
    {
      "cell_type": "code",
      "metadata": {
        "id": "IrmQ7hYcIl5Q"
      },
      "source": [
        "#importing the libraries\r\n",
        "\r\n",
        "import numpy as np\r\n",
        "import pandas as pd\r\n",
        "import math\r\n",
        "import matplotlib.pyplot as plt\r\n",
        "from scipy import stats\r\n",
        "import warnings\r\n",
        "warnings.filterwarnings(\"ignore\")\r\n",
        "from statsmodels.tsa.holtwinters import (ExponentialSmoothing, Holt, SimpleExpSmoothing)\r\n",
        "from sklearn.model_selection import TimeSeriesSplit\r\n",
        "from statsmodels.tsa.arima_model import ARIMA"
      ],
      "execution_count": 69,
      "outputs": []
    },
    {
      "cell_type": "code",
      "metadata": {
        "colab": {
          "base_uri": "https://localhost:8080/",
          "height": 199
        },
        "id": "-fFinqChanc1",
        "outputId": "ede75bee-2fc5-41b4-ae50-35974e0cbba7"
      },
      "source": [
        "#importing the dataset\r\n",
        "\r\n",
        "D4 = pd.read_csv(\"Dataset4_yahoo304.96.8.14.csv\", names = [\"actual\"])\r\n",
        "D4.head()"
      ],
      "execution_count": 70,
      "outputs": [
        {
          "output_type": "execute_result",
          "data": {
            "text/html": [
              "<div>\n",
              "<style scoped>\n",
              "    .dataframe tbody tr th:only-of-type {\n",
              "        vertical-align: middle;\n",
              "    }\n",
              "\n",
              "    .dataframe tbody tr th {\n",
              "        vertical-align: top;\n",
              "    }\n",
              "\n",
              "    .dataframe thead th {\n",
              "        text-align: right;\n",
              "    }\n",
              "</style>\n",
              "<table border=\"1\" class=\"dataframe\">\n",
              "  <thead>\n",
              "    <tr style=\"text-align: right;\">\n",
              "      <th></th>\n",
              "      <th>actual</th>\n",
              "    </tr>\n",
              "  </thead>\n",
              "  <tbody>\n",
              "    <tr>\n",
              "      <th>0</th>\n",
              "      <td>35.91</td>\n",
              "    </tr>\n",
              "    <tr>\n",
              "      <th>1</th>\n",
              "      <td>35.66</td>\n",
              "    </tr>\n",
              "    <tr>\n",
              "      <th>2</th>\n",
              "      <td>35.79</td>\n",
              "    </tr>\n",
              "    <tr>\n",
              "      <th>3</th>\n",
              "      <td>35.70</td>\n",
              "    </tr>\n",
              "    <tr>\n",
              "      <th>4</th>\n",
              "      <td>36.53</td>\n",
              "    </tr>\n",
              "  </tbody>\n",
              "</table>\n",
              "</div>"
            ],
            "text/plain": [
              "   actual\n",
              "0   35.91\n",
              "1   35.66\n",
              "2   35.79\n",
              "3   35.70\n",
              "4   36.53"
            ]
          },
          "metadata": {
            "tags": []
          },
          "execution_count": 70
        }
      ]
    },
    {
      "cell_type": "code",
      "metadata": {
        "colab": {
          "base_uri": "https://localhost:8080/",
          "height": 282
        },
        "id": "PoN5fQi6X5oM",
        "outputId": "c437d515-e5fa-4989-ae82-68a38ae1cbe4"
      },
      "source": [
        "plt.plot(D4['actual'])"
      ],
      "execution_count": 71,
      "outputs": [
        {
          "output_type": "execute_result",
          "data": {
            "text/plain": [
              "[<matplotlib.lines.Line2D at 0x7f2216360790>]"
            ]
          },
          "metadata": {
            "tags": []
          },
          "execution_count": 71
        },
        {
          "output_type": "display_data",
          "data": {
            "image/png": "[encoded data removed]",
            "text/plain": [
              "<Figure size 432x288 with 1 Axes>"
            ]
          },
          "metadata": {
            "tags": [],
            "needs_background": "light"
          }
        }
      ]
    },
    {
      "cell_type": "markdown",
      "metadata": {
        "id": "RunGI8YSt5Jw"
      },
      "source": [
        "#KPSS Test"
      ]
    },
    {
      "cell_type": "code",
      "metadata": {
        "colab": {
          "base_uri": "https://localhost:8080/"
        },
        "id": "1Wgr3C7edGLS",
        "outputId": "1569ad94-fa9f-482d-a594-0c1f5e82b2cf"
      },
      "source": [
        "#define function for kpss test\r\n",
        "\r\n",
        "from statsmodels.tsa.stattools import kpss\r\n",
        "def kpss_test(atr):\r\n",
        "    timeseries = D4[atr].dropna()\r\n",
        "    print ('Results of KPSS Test for ',atr)\r\n",
        "    kpsstest = kpss(timeseries, regression='c')\r\n",
        "    kpss_output = pd.Series(kpsstest[0:3], index=['Test Statistic','p-value','Lags Used'])\r\n",
        "    for key,value in kpsstest[3].items():\r\n",
        "        kpss_output['Critical Value (%s)'%key] = value\r\n",
        "    print (kpss_output)\r\n",
        "kpss_test('actual')"
      ],
      "execution_count": 72,
      "outputs": [
        {
          "output_type": "stream",
          "text": [
            "Results of KPSS Test for  actual\n",
            "Test Statistic            3.701679\n",
            "p-value                   0.010000\n",
            "Lags Used                32.000000\n",
            "Critical Value (10%)      0.347000\n",
            "Critical Value (5%)       0.463000\n",
            "Critical Value (2.5%)     0.574000\n",
            "Critical Value (1%)       0.739000\n",
            "dtype: float64\n"
          ],
          "name": "stdout"
        }
      ]
    },
    {
      "cell_type": "markdown",
      "metadata": {
        "id": "iG8gokqk7KYH"
      },
      "source": [
        ">For the given dataset D4 , the value of the test statistic is greater than the critical value at all confidence intervals in the KPSS test, hence the series is non stationary."
      ]
    },
    {
      "cell_type": "markdown",
      "metadata": {
        "id": "yWLq4lZpt-Nb"
      },
      "source": [
        "#ADF Test"
      ]
    },
    {
      "cell_type": "code",
      "metadata": {
        "colab": {
          "base_uri": "https://localhost:8080/"
        },
        "id": "_yTIfsZPdnqe",
        "outputId": "8678fae9-c2bd-4312-b487-543defd07f05"
      },
      "source": [
        "#define function for ADF test\r\n",
        "\r\n",
        "from statsmodels.tsa.stattools import adfuller\r\n",
        "\r\n",
        "def adf_test(atr):\r\n",
        "    timeseries = D4[atr].dropna()\r\n",
        "    print ('Results of Dickey-Fuller Test for ',atr,'\\n')\r\n",
        "    dftest = adfuller(timeseries, autolag='AIC')\r\n",
        "    dfoutput = pd.Series(dftest[0:4], index=['Test Statistic','p-value','#Lags Used','Number of Observations Used'])\r\n",
        "    for key,value in dftest[4].items():\r\n",
        "       dfoutput['Critical Value (%s)'%key] = value\r\n",
        "    print(dfoutput)\r\n",
        "\r\n",
        "adf_test('actual')"
      ],
      "execution_count": 73,
      "outputs": [
        {
          "output_type": "stream",
          "text": [
            "Results of Dickey-Fuller Test for  actual \n",
            "\n",
            "Test Statistic                   -3.286733\n",
            "p-value                           0.015482\n",
            "#Lags Used                       30.000000\n",
            "Number of Observations Used    4582.000000\n",
            "Critical Value (1%)              -3.431778\n",
            "Critical Value (5%)              -2.862171\n",
            "Critical Value (10%)             -2.567106\n",
            "dtype: float64\n"
          ],
          "name": "stdout"
        }
      ]
    },
    {
      "cell_type": "markdown",
      "metadata": {
        "id": "VM-QN4TaRA-u"
      },
      "source": [
        ">For the given dataset D4 , the value of the test statistic is greater than the critical value at all confidence intervals in the ADF test, hence  the series is non stationary.\n",
        "\n",
        "Note:  The signed values should be compared and not the absolute values."
      ]
    },
    {
      "cell_type": "markdown",
      "metadata": {
        "id": "rnz15pwTO4ne"
      },
      "source": [
        "**Since, both tests conclude that the series is non stationary, therefore, the dataset is concluded as Non Stationary.**"
      ]
    },
    {
      "cell_type": "markdown",
      "metadata": {
        "id": "jsZifPslfDzm"
      },
      "source": [
        "# making non stationary series to stationary"
      ]
    },
    {
      "cell_type": "code",
      "metadata": {
        "colab": {
          "base_uri": "https://localhost:8080/",
          "height": 647
        },
        "id": "UZPcUhIKYjVQ",
        "outputId": "7daae29f-6f11-4623-fcf1-1084725605ba"
      },
      "source": [
        "# Differencing\r\n",
        "D4['diff'] = D4['actual'].diff(periods=1)\r\n",
        "\r\n",
        "# Seasonal Differencing\r\n",
        "D4['seas_diff'] = D4['actual'].diff(periods=1)\r\n",
        "\r\n",
        "# Transformation (here we use log transformation)\r\n",
        "D4_log = np.log(D4['actual'])\r\n",
        "D4['log_diff'] = D4_log.diff(periods=1)\r\n",
        "\r\n",
        "D4.plot(subplots=True, figsize=(10,12))\r\n",
        "plt.show()"
      ],
      "execution_count": 74,
      "outputs": [
        {
          "output_type": "display_data",
          "data": {
            "image/png": "[encoded data removed]",
            "text/plain": [
              "<Figure size 720x864 with 4 Axes>"
            ]
          },
          "metadata": {
            "tags": [],
            "needs_background": "light"
          }
        }
      ]
    },
    {
      "cell_type": "markdown",
      "metadata": {
        "id": "A7RE1SQccK0E"
      },
      "source": [
        "\r\n",
        "\r\n",
        "> From the above plot we can visiualise that coloumn log_diff is stationary series\r\n",
        "\r\n",
        "\r\n"
      ]
    },
    {
      "cell_type": "code",
      "metadata": {
        "id": "L7Phzjf6glIo"
      },
      "source": [
        "data = D4['actual']"
      ],
      "execution_count": 75,
      "outputs": []
    },
    {
      "cell_type": "markdown",
      "metadata": {
        "id": "tSCbkLyFtZJ-"
      },
      "source": [
        "#Single Exponential Smoothing"
      ]
    },
    {
      "cell_type": "code",
      "metadata": {
        "id": "JKjRx0snue2S"
      },
      "source": [
        "#Defining function for calling data values with interval 'n'\r\n",
        "\r\n",
        "def data_n(arr,interval):\r\n",
        "  arr1=[arr[0]]\r\n",
        "  for i in range(1,len(arr)):\r\n",
        "    if i%interval==0:  \r\n",
        "      arr1.append(arr[i])\r\n",
        "  return arr1"
      ],
      "execution_count": 76,
      "outputs": []
    },
    {
      "cell_type": "code",
      "metadata": {
        "id": "sIyNFYEHk6eT"
      },
      "source": [
        "#Defining single Exponential Smoothing function with interval \r\n",
        "\r\n",
        "def single_exponential_smoothing(arr, alpha, interval):\r\n",
        "  arr1 = [arr[0]]\r\n",
        "  j=1\r\n",
        "  for i in range(1, len(arr)):\r\n",
        "    if i%interval == 0:\r\n",
        "      arr1.append(alpha*arr[i-1] + (1-alpha)*arr1[j-1])\r\n",
        "      j+=1\r\n",
        "  return arr1"
      ],
      "execution_count": 77,
      "outputs": []
    },
    {
      "cell_type": "code",
      "metadata": {
        "id": "Osg4SodfwxJl"
      },
      "source": [
        "#Calculating mean square error function for single exponential smoothing \r\n",
        "\r\n",
        "def MSE_SES(arr, alpha, interval):\r\n",
        "  Y_true = data_n(arr, interval)\r\n",
        "  Y_pred = single_exponential_smoothing(arr, alpha, interval)\r\n",
        "  MSE = np.square(np.subtract(Y_true,Y_pred)).mean() \r\n",
        "  return MSE\r\n"
      ],
      "execution_count": 78,
      "outputs": []
    },
    {
      "cell_type": "code",
      "metadata": {
        "id": "CnfBpOIzgEOs"
      },
      "source": [
        "#Calculating mean absolute error function for single exponential smoothing \r\n",
        "\r\n",
        "def MAE_SES(arr, alpha, interval):\r\n",
        "  Y_true = data_n(arr, interval)\r\n",
        "  Y_pred = single_exponential_smoothing(arr, alpha, interval)\r\n",
        "  MAE = abs(np.subtract(Y_true,Y_pred)).mean() \r\n",
        "  return MAE\r\n"
      ],
      "execution_count": 79,
      "outputs": []
    },
    {
      "cell_type": "code",
      "metadata": {
        "colab": {
          "base_uri": "https://localhost:8080/"
        },
        "id": "ZrugLVYlsCM7",
        "outputId": "85f65103-fd9d-4363-9c86-d495e821d814"
      },
      "source": [
        "#calculating mean square error for different combinations of alpha for single exponential smoothing\r\n",
        "\r\n",
        "print(\"MSE for alpha =.4 is  \" ,MSE_SES(data, .4, interval=1), \"\\n\")\r\n",
        "print(\"MSE for alpha =.35 is \" ,MSE_SES(data, .35, interval=2), \"\\n\")\r\n",
        "print(\"MSE for alpha =.65 is \" ,MSE_SES(data, .65, interval=4), \"\\n\")\r\n",
        "print(\"MSE for alpha =.85 is \" ,MSE_SES(data, .85, interval=8), \"\\n\")\r\n",
        "print(\"MSE for alpha =.65 is \" ,MSE_SES(data, .65, interval=12), \"\\n\")\r\n",
        "print(\"MSE for alpha =.85 is \" ,MSE_SES(data, .85, interval=24), \"\\n\")"
      ],
      "execution_count": 80,
      "outputs": [
        {
          "output_type": "stream",
          "text": [
            "MSE for alpha =.4 is   55.57114482453616 \n",
            "\n",
            "MSE for alpha =.35 is  74.16358827985897 \n",
            "\n",
            "MSE for alpha =.65 is  56.14085053481442 \n",
            "\n",
            "MSE for alpha =.85 is  20.267643060308714 \n",
            "\n",
            "MSE for alpha =.65 is  51.619888550495176 \n",
            "\n",
            "MSE for alpha =.85 is  24.644737929888255 \n",
            "\n"
          ],
          "name": "stdout"
        }
      ]
    },
    {
      "cell_type": "code",
      "metadata": {
        "colab": {
          "base_uri": "https://localhost:8080/"
        },
        "id": "Y0aaUdZt7Nim",
        "outputId": "a34ce0a2-f4be-43dc-ab57-8f62fca365b3"
      },
      "source": [
        "#calculating mean Absolute error after aplying different combinations\r\n",
        "print(\"MAE  is \" ,MAE_SES(data, .4 ,interval=1), \"\\n\")\r\n",
        "print(\"MAE  is \" ,MAE_SES(data, .4  ,interval=2), \"\\n\")\r\n",
        "print(\"MAE  is \" ,MAE_SES(data,.4  , interval=4), \"\\n\")\r\n",
        "print(\"MAE  is \" ,MAE_SES(data,.4  , interval=8), \"\\n\")\r\n",
        "print(\"MAE  is \" ,MAE_SES(data,.4  ,interval=12), \"\\n\")\r\n",
        "print(\"MAE  is \" ,MAE_SES(data,.4 ,interval=24), \"\\n\")"
      ],
      "execution_count": 81,
      "outputs": [
        {
          "output_type": "stream",
          "text": [
            "MAE  is  2.1467574530885147 \n",
            "\n",
            "MAE  is  2.466090859681382 \n",
            "\n",
            "MAE  is  3.279742703139816 \n",
            "\n",
            "MAE  is  4.443611381658667 \n",
            "\n",
            "MAE  is  5.013224652770376 \n",
            "\n",
            "MAE  is  7.2539365479939875 \n",
            "\n"
          ],
          "name": "stdout"
        }
      ]
    },
    {
      "cell_type": "markdown",
      "metadata": {
        "id": "rKqqC8z1tpeL"
      },
      "source": [
        "#Double Exponential Smoothing"
      ]
    },
    {
      "cell_type": "code",
      "metadata": {
        "id": "js71BVwGS39I"
      },
      "source": [
        "#Defining Double Exponential Smoothing function double_exponential_smoothing with interval \r\n",
        "\r\n",
        "\r\n",
        "def double_exponential_smoothing(arr,alpha,beta,interval):\r\n",
        "  a=[arr[0]]\r\n",
        "  l=len(arr)\r\n",
        "  b=[(arr[l-1]-arr[0])/(l-1)]\r\n",
        "  arr1 = [arr[0]]\r\n",
        "  j=0\r\n",
        "  for i in range(1,len(arr)):\r\n",
        "      if i%interval==0:\r\n",
        "        arr1.append(a[j]+b[j])\r\n",
        "        j+=1\r\n",
        "        a.append(alpha * arr[i] + (1 - alpha) * (a[j-1]+b[j-1]))\r\n",
        "        b.append(beta * (a[j]-a[j-1]) + (1 - beta) * (b[j-1]))        \r\n",
        "  return arr1"
      ],
      "execution_count": 82,
      "outputs": []
    },
    {
      "cell_type": "code",
      "metadata": {
        "id": "cAdgBFF92heU"
      },
      "source": [
        "#Calculating mean square error function for double exponential smoothing \r\n",
        "\r\n",
        "def MSE_DES(arr, alpha,beta,interval):\r\n",
        "  Y_true = data_n(arr, interval)\r\n",
        "  Y_pred = double_exponential_smoothing(arr, alpha,beta, interval)\r\n",
        "  MSE = np.square(np.subtract(Y_true,Y_pred)).mean() \r\n",
        "  return MSE"
      ],
      "execution_count": 83,
      "outputs": []
    },
    {
      "cell_type": "code",
      "metadata": {
        "id": "UElSLko2fv0V"
      },
      "source": [
        "#Calculating mean absolute error function for double exponential smoothing \r\n",
        "\r\n",
        "def MAE_DES(arr, alpha,beta,interval):\r\n",
        "  Y_true = data_n(arr, interval)\r\n",
        "  Y_pred = double_exponential_smoothing(arr, alpha,beta, interval)\r\n",
        "  MAE = abs(np.subtract(Y_true,Y_pred)).mean() \r\n",
        "  return MAE"
      ],
      "execution_count": 84,
      "outputs": []
    },
    {
      "cell_type": "code",
      "metadata": {
        "colab": {
          "base_uri": "https://localhost:8080/"
        },
        "id": "K4e95XD1s6I5",
        "outputId": "809cb606-dc2c-4767-9624-01e6f53d3de0"
      },
      "source": [
        "#calculating mean square error for different combinations of alpha, beta for double exponential smoothing \r\n",
        "\r\n",
        "print(\"MSE for alpha =.4,  beta = .2  is \" ,MSE_DES(data, .4, .2 ,interval=1), \"\\n\")\r\n",
        "print(\"MSE for alpha =.35, beta = .5  is \" ,MSE_DES(data, .35, .5, interval=2), \"\\n\")\r\n",
        "print(\"MSE for alpha =.85, beta = .6  is \" ,MSE_DES(data, .85, .6 ,interval=4), \"\\n\")\r\n",
        "print(\"MSE for alpha =.45, beta = .6  is \" ,MSE_DES(data, .45, .6 ,interval=8), \"\\n\")\r\n",
        "print(\"MSE for alpha =.7,  beta = .55 is \" ,MSE_DES(data, .7, .55, interval=12), \"\\n\")\r\n",
        "print(\"MSE for alpha =.2,  beta = .6  is \" ,MSE_DES(data, .2, .6 ,interval=24), \"\\n\")\r\n"
      ],
      "execution_count": 85,
      "outputs": [
        {
          "output_type": "stream",
          "text": [
            "MSE for alpha =.4,  beta = .2  is  59.06449089875912 \n",
            "\n",
            "MSE for alpha =.35, beta = .5  is  121.82207961336375 \n",
            "\n",
            "MSE for alpha =.85, beta = .6  is  175.40776247112936 \n",
            "\n",
            "MSE for alpha =.45, beta = .6  is  475.58308546904107 \n",
            "\n",
            "MSE for alpha =.7,  beta = .55 is  462.3059220949977 \n",
            "\n",
            "MSE for alpha =.2,  beta = .6  is  1614.8211558948444 \n",
            "\n"
          ],
          "name": "stdout"
        }
      ]
    },
    {
      "cell_type": "code",
      "metadata": {
        "colab": {
          "base_uri": "https://localhost:8080/"
        },
        "id": "ddYXhv3z6iOf",
        "outputId": "d93e2da2-b1dc-4312-ad95-5dfe26e465a7"
      },
      "source": [
        "#calculating mean Absolute error after aplying different combinations\r\n",
        "print(\"MAE  is \" ,MAE_DES(data, .4, .2 ,interval=1), \"\\n\")\r\n",
        "print(\"MAE  is \" ,MAE_DES(data, .4, .2 ,interval=2), \"\\n\")\r\n",
        "print(\"MAE  is \" ,MAE_DES(data,.4, .2 , interval=4), \"\\n\")\r\n",
        "print(\"MAE  is \" ,MAE_DES(data,.4, .2 , interval=8), \"\\n\")\r\n",
        "print(\"MAE  is \" ,MAE_DES(data,.4, .2 ,interval=12), \"\\n\")\r\n",
        "print(\"MAE  is \" ,MAE_DES(data,.4, .2 ,interval=24), \"\\n\")"
      ],
      "execution_count": 86,
      "outputs": [
        {
          "output_type": "stream",
          "text": [
            "MAE  is  2.2299543237312234 \n",
            "\n",
            "MAE  is  3.1657649152143206 \n",
            "\n",
            "MAE  is  4.731809167431678 \n",
            "\n",
            "MAE  is  7.354606140833322 \n",
            "\n",
            "MAE  is  8.657222086982955 \n",
            "\n",
            "MAE  is  12.436793004608832 \n",
            "\n"
          ],
          "name": "stdout"
        }
      ]
    },
    {
      "cell_type": "markdown",
      "metadata": {
        "id": "ppPX57fNtyNa"
      },
      "source": [
        "#Triple Exponential Smoothing"
      ]
    },
    {
      "cell_type": "code",
      "metadata": {
        "id": "lTPz56oePwAu"
      },
      "source": [
        "#Defining Triple Exponential Smoothing function double_exponential_smoothing with interval \r\n",
        "\r\n",
        "def initial_trend(data, slen):\r\n",
        "    sum = 0.0\r\n",
        "    for i in range(slen):\r\n",
        "        sum += float(data[i+slen] - data[i]) / slen\r\n",
        "    return sum / slen\r\n",
        "\r\n",
        "def initial_seasonal_components(data, slen):\r\n",
        "    seasonals = {}\r\n",
        "    season_averages = []\r\n",
        "    n_seasons = int(len(data)/slen)\r\n",
        "    # compute season averages\r\n",
        "    for j in range(n_seasons):\r\n",
        "        season_averages.append(sum(data[slen*j:slen*j+slen])/float(slen))\r\n",
        "    # compute initial values\r\n",
        "    for i in range(slen):\r\n",
        "        sum_of_vals_over_avg = 0.0\r\n",
        "        for j in range(n_seasons):\r\n",
        "            sum_of_vals_over_avg += data[slen*j+i]-season_averages[j]\r\n",
        "        seasonals[i] = sum_of_vals_over_avg/n_seasons\r\n",
        "    return seasonals\r\n",
        "\r\n",
        "def triple_exponential_smoothing(data, slen, alpha, beta, gamma, interval):\r\n",
        "    data2 = data_n(data,interval)\r\n",
        "    result = []\r\n",
        "    seasonals = initial_seasonal_components(data2, slen)\r\n",
        "    for i in range(len(data2)):\r\n",
        "        if i == 0: \r\n",
        "            smooth = data2[0]\r\n",
        "            trend = initial_trend(data2, slen)\r\n",
        "            result.append(data2[0])\r\n",
        "            continue\r\n",
        "        if i >= len(data2): \r\n",
        "            m = i - len(data2) + 1\r\n",
        "            result.append((smooth + m*trend) + seasonals[i%slen])\r\n",
        "        else:\r\n",
        "            val = data2[i]\r\n",
        "            last_smooth, smooth = smooth, alpha*(val-seasonals[i%slen]) + (1-alpha)*(smooth+trend)\r\n",
        "            trend = beta * (smooth-last_smooth) + (1-beta)*trend\r\n",
        "            seasonals[i%slen] = gamma*(val-smooth) + (1-gamma)*seasonals[i%slen]\r\n",
        "            result.append(smooth+trend+seasonals[i%slen])\r\n",
        "    return result"
      ],
      "execution_count": 87,
      "outputs": []
    },
    {
      "cell_type": "code",
      "metadata": {
        "id": "OHVBE1JLZcz-"
      },
      "source": [
        "#Calculating mean square error function for Triple exponential smoothing \r\n",
        "\r\n",
        "def MSE_TES(arr,slen, alpha,beta,gamma, interval):\r\n",
        "  Y_true = data_n(arr, interval)\r\n",
        "  Y_pred = triple_exponential_smoothing(arr,slen , alpha,beta, gamma, interval)\r\n",
        "  MSE = np.square(np.subtract(Y_true,Y_pred)).mean() \r\n",
        "  return MSE"
      ],
      "execution_count": 88,
      "outputs": []
    },
    {
      "cell_type": "code",
      "metadata": {
        "id": "YSJ17VrfdOIQ"
      },
      "source": [
        "#Calculating mean absolute error function for Triple exponential smoothing \r\n",
        "\r\n",
        "def MAE_TES(arr,slen, alpha,beta,gamma, interval):\r\n",
        "  Y_true = data_n(arr, interval)\r\n",
        "  Y_pred = triple_exponential_smoothing(arr,slen , alpha,beta, gamma, interval)\r\n",
        "  MAE = abs(np.subtract(Y_true,Y_pred)).mean() \r\n",
        "  return MAE"
      ],
      "execution_count": 89,
      "outputs": []
    },
    {
      "cell_type": "code",
      "metadata": {
        "colab": {
          "base_uri": "https://localhost:8080/"
        },
        "id": "EURXItxStbUt",
        "outputId": "b6f0f6bb-9fa3-4e23-f29c-74c66e389ba5"
      },
      "source": [
        "#calculating mean square error for different combinations of alpha, beta, gamma for triple exponential smoothing\r\n",
        "\r\n",
        "print(\"MSE for alpha =.4,  beta = .2,  gamma = .5  is \" ,MSE_TES(data,1, .4, .2 , .5,interval=1), \"\\n\")\r\n",
        "print(\"MSE for alpha =.35, beta = .5,  gamma = .3  is \" ,MSE_TES(data,1, .35, .5, .3, interval=2), \"\\n\")\r\n",
        "print(\"MSE for alpha =.45, beta = .6,  gamma = .4  is \" ,MSE_TES(data,1, .45, .6, .4 ,interval=4), \"\\n\")\r\n",
        "print(\"MSE for alpha =.4,  beta = .2,  gamma = .5  is \" ,MSE_TES(data,1, .4, .2 , .5,interval=8), \"\\n\")\r\n",
        "print(\"MSE for alpha =.3,  beta = .5,  gamma = .55 is \" ,MSE_TES(data,1, .3, .5, .55, interval=12), \"\\n\")\r\n",
        "print(\"MSE for alpha =.3,  beta = .5,  gamma = .55 is \" ,MSE_TES(data,1, .3, .5, .55, interval=24), \"\\n\")\r\n"
      ],
      "execution_count": 90,
      "outputs": [
        {
          "output_type": "stream",
          "text": [
            "MSE for alpha =.4,  beta = .2,  gamma = .5  is  4.63569243099167 \n",
            "\n",
            "MSE for alpha =.35, beta = .5,  gamma = .3  is  22.957856213022183 \n",
            "\n",
            "MSE for alpha =.45, beta = .6,  gamma = .4  is  30.684070342444787 \n",
            "\n",
            "MSE for alpha =.4,  beta = .2,  gamma = .5  is  31.09447259900941 \n",
            "\n",
            "MSE for alpha =.3,  beta = .5,  gamma = .55 is  51.294025914851744 \n",
            "\n",
            "MSE for alpha =.3,  beta = .5,  gamma = .55 is  103.1272736445109 \n",
            "\n"
          ],
          "name": "stdout"
        }
      ]
    },
    {
      "cell_type": "code",
      "metadata": {
        "colab": {
          "base_uri": "https://localhost:8080/"
        },
        "id": "Qshqu8-Y42jP",
        "outputId": "d7445e79-03d9-4eb0-8955-9b3d2cc4977a"
      },
      "source": [
        "#calculating mean Absolute error after aplying different combinations\r\n",
        "print(\"MAE  is \" ,MAE_TES(data,1, .4, .2 , .5,interval=1), \"\\n\")\r\n",
        "print(\"MAE  is \" ,MAE_TES(data,1, .4, .2 , .5,interval=2), \"\\n\")\r\n",
        "print(\"MAE  is \" ,MAE_TES(data,1, .4, .2 , .5,interval=4), \"\\n\")\r\n",
        "print(\"MAE  is \" ,MAE_TES(data,1, .4, .2 , .5,interval=8), \"\\n\")\r\n",
        "print(\"MAE  is \" ,MAE_TES(data,1, .4, .2 , .5,interval=12), \"\\n\")\r\n",
        "print(\"MAE  is \" ,MAE_TES(data,1, .4, .2 , .5,interval=24), \"\\n\")"
      ],
      "execution_count": 91,
      "outputs": [
        {
          "output_type": "stream",
          "text": [
            "MAE  is  0.6737595094634797 \n",
            "\n",
            "MAE  is  0.9795282663728786 \n",
            "\n",
            "MAE  is  1.391658182635285 \n",
            "\n",
            "MAE  is  2.02898341590649 \n",
            "\n",
            "MAE  is  2.2845636652122816 \n",
            "\n",
            "MAE  is  3.458384160231372 \n",
            "\n"
          ],
          "name": "stdout"
        }
      ]
    },
    {
      "cell_type": "markdown",
      "metadata": {
        "id": "VCVgc0V_oGQf"
      },
      "source": [
        "# AR"
      ]
    },
    {
      "cell_type": "code",
      "metadata": {
        "colab": {
          "base_uri": "https://localhost:8080/"
        },
        "id": "4L2mPUeeqShA",
        "outputId": "b3aef7d7-4fb7-4eb4-d710-2e2bd9ade440"
      },
      "source": [
        "#fit model\r\n",
        "model=ARIMA(D4['log_diff'].dropna(), order=(1,0,0))\r\n",
        "model_fit=model.fit()\r\n",
        "\r\n",
        "#model summary\r\n",
        "print(model_fit.summary())\r\n",
        "\r\n",
        "#make prediction\r\n",
        "D4['forecast1'] = model_fit.predict()"
      ],
      "execution_count": 92,
      "outputs": [
        {
          "output_type": "stream",
          "text": [
            "                              ARMA Model Results                              \n",
            "==============================================================================\n",
            "Dep. Variable:               log_diff   No. Observations:                 4612\n",
            "Model:                     ARMA(1, 0)   Log Likelihood                7878.786\n",
            "Method:                       css-mle   S.D. of innovations              0.044\n",
            "Date:                Mon, 01 Mar 2021   AIC                         -15751.572\n",
            "Time:                        05:53:57   BIC                         -15732.263\n",
            "Sample:                             0   HQIC                        -15744.776\n",
            "                                                                              \n",
            "==================================================================================\n",
            "                     coef    std err          z      P>|z|      [0.025      0.975]\n",
            "----------------------------------------------------------------------------------\n",
            "const           -1.83e-05      0.001     -0.028      0.978      -0.001       0.001\n",
            "ar.L1.log_diff     0.0085      0.015      0.579      0.563      -0.020       0.037\n",
            "                                    Roots                                    \n",
            "=============================================================================\n",
            "                  Real          Imaginary           Modulus         Frequency\n",
            "-----------------------------------------------------------------------------\n",
            "AR.1          117.3808           +0.0000j          117.3808            0.0000\n",
            "-----------------------------------------------------------------------------\n"
          ],
          "name": "stdout"
        }
      ]
    },
    {
      "cell_type": "code",
      "metadata": {
        "colab": {
          "base_uri": "https://localhost:8080/"
        },
        "id": "o3tPVCLfvxbO",
        "outputId": "6ea39b53-a0ec-4b27-a95c-7949bd686877"
      },
      "source": [
        "#Calculating mean square error function \r\n",
        "MSE = np.square(np.subtract(D4['log_diff'],D4['forecast1'])).mean() \r\n",
        "print(\"MSE for AR is\", MSE)"
      ],
      "execution_count": 93,
      "outputs": [
        {
          "output_type": "stream",
          "text": [
            "MSE for AR is 0.0019217420489272981\n"
          ],
          "name": "stdout"
        }
      ]
    },
    {
      "cell_type": "code",
      "metadata": {
        "colab": {
          "base_uri": "https://localhost:8080/"
        },
        "id": "P1Iw1sdVvxbm",
        "outputId": "5872454b-9cfa-446b-b63b-c865fdaf69b5"
      },
      "source": [
        "#Calculating mean absolute error function \r\n",
        "MAE = abs(np.subtract(D4['log_diff'],D4['forecast1'])).mean() \r\n",
        "print(\"MAE for AR is\", MAE)\r\n"
      ],
      "execution_count": 94,
      "outputs": [
        {
          "output_type": "stream",
          "text": [
            "MAE for AR is 0.025875214608960327\n"
          ],
          "name": "stdout"
        }
      ]
    },
    {
      "cell_type": "markdown",
      "metadata": {
        "id": "LSqcHTBZrHV7"
      },
      "source": [
        "# MA"
      ]
    },
    {
      "cell_type": "code",
      "metadata": {
        "colab": {
          "base_uri": "https://localhost:8080/"
        },
        "id": "NWzi26IvrJMX",
        "outputId": "a9be8358-3ac7-46da-d523-a66cad2fbe62"
      },
      "source": [
        "#fit model\r\n",
        "model=ARIMA(D4['log_diff'].dropna(), order=(0,0,1))\r\n",
        "model_fit=model.fit()\r\n",
        "\r\n",
        "#model summary\r\n",
        "print(model_fit.summary())\r\n",
        "\r\n",
        "#make prediction\r\n",
        "D4['forecast2'] = model_fit.predict()"
      ],
      "execution_count": 95,
      "outputs": [
        {
          "output_type": "stream",
          "text": [
            "                              ARMA Model Results                              \n",
            "==============================================================================\n",
            "Dep. Variable:               log_diff   No. Observations:                 4612\n",
            "Model:                     ARMA(0, 1)   Log Likelihood                7878.798\n",
            "Method:                       css-mle   S.D. of innovations              0.044\n",
            "Date:                Mon, 01 Mar 2021   AIC                         -15751.596\n",
            "Time:                        05:53:57   BIC                         -15732.286\n",
            "Sample:                             0   HQIC                        -15744.800\n",
            "                                                                              \n",
            "==================================================================================\n",
            "                     coef    std err          z      P>|z|      [0.025      0.975]\n",
            "----------------------------------------------------------------------------------\n",
            "const           -1.83e-05      0.001     -0.028      0.978      -0.001       0.001\n",
            "ma.L1.log_diff     0.0091      0.015      0.599      0.549      -0.021       0.039\n",
            "                                    Roots                                    \n",
            "=============================================================================\n",
            "                  Real          Imaginary           Modulus         Frequency\n",
            "-----------------------------------------------------------------------------\n",
            "MA.1         -109.6652           +0.0000j          109.6652            0.5000\n",
            "-----------------------------------------------------------------------------\n"
          ],
          "name": "stdout"
        }
      ]
    },
    {
      "cell_type": "code",
      "metadata": {
        "colab": {
          "base_uri": "https://localhost:8080/"
        },
        "id": "SiCIcgeOxqnM",
        "outputId": "6c932125-7947-408f-81b3-643afc8b2394"
      },
      "source": [
        "#Calculating mean square error function \r\n",
        "MSE = np.square(np.subtract(D4['log_diff'],D4['forecast2'])).mean() \r\n",
        "print(\"MSE for MR is\", MSE)"
      ],
      "execution_count": 96,
      "outputs": [
        {
          "output_type": "stream",
          "text": [
            "MSE for MR is 0.0019217321788021836\n"
          ],
          "name": "stdout"
        }
      ]
    },
    {
      "cell_type": "code",
      "metadata": {
        "colab": {
          "base_uri": "https://localhost:8080/"
        },
        "id": "2oX7IR9cxqnO",
        "outputId": "fc091574-c70b-4773-9c0d-07e198062a34"
      },
      "source": [
        "#Calculating mean absolute error function \r\n",
        "MAE = abs(np.subtract(D4['log_diff'],D4['forecast2'])).mean() \r\n",
        "print(\"MAE for MR is\", MAE)\r\n"
      ],
      "execution_count": 97,
      "outputs": [
        {
          "output_type": "stream",
          "text": [
            "MAE for MR is 0.02587521864494126\n"
          ],
          "name": "stdout"
        }
      ]
    },
    {
      "cell_type": "markdown",
      "metadata": {
        "id": "sb-DFg5ErZnP"
      },
      "source": [
        "# ARIMA"
      ]
    },
    {
      "cell_type": "code",
      "metadata": {
        "colab": {
          "base_uri": "https://localhost:8080/"
        },
        "id": "oUORLzc3rc4F",
        "outputId": "5d0989c5-d8e2-45cc-8b20-dd84b74739d9"
      },
      "source": [
        "#fit model\r\n",
        "model=ARIMA(D4['actual'].dropna(), order=(1,1,1))\r\n",
        "model_fit=model.fit()\r\n",
        "\r\n",
        "#model summary\r\n",
        "print(model_fit.summary())\r\n",
        "\r\n",
        "#make prediction\r\n",
        "D4['forecast3'] = model_fit.predict()"
      ],
      "execution_count": 98,
      "outputs": [
        {
          "output_type": "stream",
          "text": [
            "                             ARIMA Model Results                              \n",
            "==============================================================================\n",
            "Dep. Variable:               D.actual   No. Observations:                 4612\n",
            "Model:                 ARIMA(1, 1, 1)   Log Likelihood              -14674.697\n",
            "Method:                       css-mle   S.D. of innovations              5.829\n",
            "Date:                Mon, 01 Mar 2021   AIC                          29357.393\n",
            "Time:                        05:53:58   BIC                          29383.139\n",
            "Sample:                             1   HQIC                         29366.454\n",
            "                                                                              \n",
            "==================================================================================\n",
            "                     coef    std err          z      P>|z|      [0.025      0.975]\n",
            "----------------------------------------------------------------------------------\n",
            "const             -0.0006      0.091     -0.007      0.995      -0.179       0.178\n",
            "ar.L1.D.actual     0.1223      0.145      0.846      0.398      -0.161       0.406\n",
            "ma.L1.D.actual    -0.0683      0.145     -0.472      0.637      -0.352       0.216\n",
            "                                    Roots                                    \n",
            "=============================================================================\n",
            "                  Real          Imaginary           Modulus         Frequency\n",
            "-----------------------------------------------------------------------------\n",
            "AR.1            8.1758           +0.0000j            8.1758            0.0000\n",
            "MA.1           14.6348           +0.0000j           14.6348            0.0000\n",
            "-----------------------------------------------------------------------------\n"
          ],
          "name": "stdout"
        }
      ]
    },
    {
      "cell_type": "code",
      "metadata": {
        "colab": {
          "base_uri": "https://localhost:8080/"
        },
        "id": "48pbJEz7xWZo",
        "outputId": "38061e67-f206-46a7-d73d-9da338f58dd7"
      },
      "source": [
        "#Calculating mean square error function \r\n",
        "MSE = np.square(np.subtract(D4['log_diff'],D4['forecast3'])).mean() \r\n",
        "print(\"MSE for ARIMA is\", MSE)"
      ],
      "execution_count": 99,
      "outputs": [
        {
          "output_type": "stream",
          "text": [
            "MSE for ARIMA is 0.10180030107463137\n"
          ],
          "name": "stdout"
        }
      ]
    },
    {
      "cell_type": "code",
      "metadata": {
        "colab": {
          "base_uri": "https://localhost:8080/"
        },
        "id": "dcI-GJzPxWZw",
        "outputId": "a911ed75-d911-48f4-cdca-39f40ee2f06b"
      },
      "source": [
        "#Calculating mean absolute error function \r\n",
        "MAE = abs(np.subtract(D4['log_diff'],D4['forecast3'])).mean() \r\n",
        "print(\"MAE for ARIMA is\", MAE)\r\n"
      ],
      "execution_count": 100,
      "outputs": [
        {
          "output_type": "stream",
          "text": [
            "MAE for ARIMA is 0.09715640070197691\n"
          ],
          "name": "stdout"
        }
      ]
    },
    {
      "cell_type": "markdown",
      "metadata": {
        "id": "29KJ5aokzhew"
      },
      "source": [
        "# Optimal model check"
      ]
    },
    {
      "cell_type": "code",
      "metadata": {
        "colab": {
          "base_uri": "https://localhost:8080/"
        },
        "id": "FNjMiJom2NZV",
        "outputId": "a092cca3-b3c6-42d3-aa4c-454dd33f7994"
      },
      "source": [
        "!pip3 install pmdarima\r\n",
        "import pmdarima as pm"
      ],
      "execution_count": 101,
      "outputs": [
        {
          "output_type": "stream",
          "text": [
            "Requirement already satisfied: pmdarima in /usr/local/lib/python3.7/dist-packages (1.8.0)\n",
            "Requirement already satisfied: Cython<0.29.18,>=0.29 in /usr/local/lib/python3.7/dist-packages (from pmdarima) (0.29.17)\n",
            "Requirement already satisfied: joblib>=0.11 in /usr/local/lib/python3.7/dist-packages (from pmdarima) (1.0.1)\n",
            "Requirement already satisfied: statsmodels!=0.12.0,>=0.11 in /usr/local/lib/python3.7/dist-packages (from pmdarima) (0.12.2)\n",
            "Requirement already satisfied: urllib3 in /usr/local/lib/python3.7/dist-packages (from pmdarima) (1.24.3)\n",
            "Requirement already satisfied: numpy>=1.17.3 in /usr/local/lib/python3.7/dist-packages (from pmdarima) (1.19.5)\n",
            "Requirement already satisfied: scipy>=1.3.2 in /usr/local/lib/python3.7/dist-packages (from pmdarima) (1.4.1)\n",
            "Requirement already satisfied: pandas>=0.19 in /usr/local/lib/python3.7/dist-packages (from pmdarima) (1.1.5)\n",
            "Requirement already satisfied: setuptools!=50.0.0,>=38.6.0 in /usr/local/lib/python3.7/dist-packages (from pmdarima) (53.0.0)\n",
            "Requirement already satisfied: scikit-learn>=0.22 in /usr/local/lib/python3.7/dist-packages (from pmdarima) (0.22.2.post1)\n",
            "Requirement already satisfied: patsy>=0.5 in /usr/local/lib/python3.7/dist-packages (from statsmodels!=0.12.0,>=0.11->pmdarima) (0.5.1)\n",
            "Requirement already satisfied: pytz>=2017.2 in /usr/local/lib/python3.7/dist-packages (from pandas>=0.19->pmdarima) (2018.9)\n",
            "Requirement already satisfied: python-dateutil>=2.7.3 in /usr/local/lib/python3.7/dist-packages (from pandas>=0.19->pmdarima) (2.8.1)\n",
            "Requirement already satisfied: six in /usr/local/lib/python3.7/dist-packages (from patsy>=0.5->statsmodels!=0.12.0,>=0.11->pmdarima) (1.15.0)\n"
          ],
          "name": "stdout"
        }
      ]
    },
    {
      "cell_type": "code",
      "metadata": {
        "colab": {
          "base_uri": "https://localhost:8080/"
        },
        "id": "t9TmSyPazkkb",
        "outputId": "27145b34-fa15-40f3-cc79-a0fcc6c552c9"
      },
      "source": [
        "model = pm.auto_arima(D4.iloc[:,0], start_p=1, start_q=1,test='adf',max_p=3, max_q=3,m=1,d=None,seasonal=False,start_P=0, D=0, trace=True,error_action='ignore',  suppress_warnings=True,stepwise=True)\r\n",
        "print(model.summary())"
      ],
      "execution_count": 102,
      "outputs": [
        {
          "output_type": "stream",
          "text": [
            "Performing stepwise search to minimize aic\n",
            " ARIMA(1,0,1)(0,0,0)[0]             : AIC=29358.877, Time=0.37 sec\n",
            " ARIMA(0,0,0)(0,0,0)[0]             : AIC=52832.194, Time=0.08 sec\n",
            " ARIMA(1,0,0)(0,0,0)[0]             : AIC=inf, Time=0.18 sec\n",
            " ARIMA(0,0,1)(0,0,0)[0]             : AIC=46916.004, Time=0.59 sec\n",
            " ARIMA(2,0,1)(0,0,0)[0]             : AIC=29360.811, Time=0.67 sec\n",
            " ARIMA(1,0,2)(0,0,0)[0]             : AIC=29357.882, Time=0.48 sec\n",
            " ARIMA(0,0,2)(0,0,0)[0]             : AIC=42222.823, Time=2.74 sec\n",
            " ARIMA(2,0,2)(0,0,0)[0]             : AIC=29345.809, Time=1.96 sec\n",
            " ARIMA(3,0,2)(0,0,0)[0]             : AIC=29290.882, Time=4.33 sec\n",
            " ARIMA(3,0,1)(0,0,0)[0]             : AIC=29348.048, Time=1.93 sec\n",
            " ARIMA(3,0,3)(0,0,0)[0]             : AIC=29296.227, Time=4.24 sec\n",
            " ARIMA(2,0,3)(0,0,0)[0]             : AIC=29340.140, Time=1.12 sec\n",
            " ARIMA(3,0,2)(0,0,0)[0] intercept   : AIC=29295.962, Time=8.71 sec\n",
            "\n",
            "Best model:  ARIMA(3,0,2)(0,0,0)[0]          \n",
            "Total fit time: 27.419 seconds\n",
            "                               SARIMAX Results                                \n",
            "==============================================================================\n",
            "Dep. Variable:                      y   No. Observations:                 4613\n",
            "Model:               SARIMAX(3, 0, 2)   Log Likelihood              -14639.441\n",
            "Date:                Mon, 01 Mar 2021   AIC                          29290.882\n",
            "Time:                        05:54:29   BIC                          29329.502\n",
            "Sample:                             0   HQIC                         29304.473\n",
            "                               - 4613                                         \n",
            "Covariance Type:                  opg                                         \n",
            "==============================================================================\n",
            "                 coef    std err          z      P>|z|      [0.025      0.975]\n",
            "------------------------------------------------------------------------------\n",
            "ar.L1          0.6191      0.008     77.475      0.000       0.603       0.635\n",
            "ar.L2         -0.5112      0.010    -49.807      0.000      -0.531      -0.491\n",
            "ar.L3          0.8846      0.008    105.040      0.000       0.868       0.901\n",
            "ma.L1          0.4173      0.007     55.685      0.000       0.403       0.432\n",
            "ma.L2          0.9431      0.008    123.834      0.000       0.928       0.958\n",
            "sigma2        33.4673      0.092    363.507      0.000      33.287      33.648\n",
            "===================================================================================\n",
            "Ljung-Box (L1) (Q):                   1.46   Jarque-Bera (JB):          36931252.63\n",
            "Prob(Q):                              0.23   Prob(JB):                         0.00\n",
            "Heteroskedasticity (H):             442.37   Skew:                            13.32\n",
            "Prob(H) (two-sided):                  0.00   Kurtosis:                       440.53\n",
            "===================================================================================\n",
            "\n",
            "Warnings:\n",
            "[1] Covariance matrix calculated using the outer product of gradients (complex-step).\n"
          ],
          "name": "stdout"
        }
      ]
    },
    {
      "cell_type": "markdown",
      "metadata": {
        "id": "GE1dExIJ31fP"
      },
      "source": [
        "so best optimal model is ARIMA"
      ]
    },
    {
      "cell_type": "markdown",
      "metadata": {
        "id": "IYeF-EV-Xw57"
      },
      "source": [
        "# table"
      ]
    },
    {
      "cell_type": "markdown",
      "metadata": {
        "id": "VoPGMHxeXym4"
      },
      "source": [
        "![image.png](data:image/png;base64,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)"
      ]
    }
  ]
}