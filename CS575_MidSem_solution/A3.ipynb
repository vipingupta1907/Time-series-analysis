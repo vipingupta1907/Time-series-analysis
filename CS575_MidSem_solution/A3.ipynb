{
  "nbformat": 4,
  "nbformat_minor": 0,
  "metadata": {
    "colab": {
      "name": "A3.ipynb",
      "provenance": [],
      "authorship_tag": "ABX9TyO91rIHLOd0Ula6UZyY03vj",
      "include_colab_link": true
    },
    "kernelspec": {
      "name": "python3",
      "display_name": "Python 3"
    }
  },
  "cells": [
    {
      "cell_type": "markdown",
      "metadata": {
        "id": "view-in-github",
        "colab_type": "text"
      },
      "source": [
        "<a href=\"https://colab.research.google.com/github/vipingupta1907/2011MT22_CS575/blob/main/CS575_MidSem_solution/A3.ipynb\" target=\"_parent\"><img src=\"https://colab.research.google.com/assets/colab-badge.svg\" alt=\"Open In Colab\"/></a>"
      ]
    },
    {
      "cell_type": "markdown",
      "metadata": {
        "id": "ztTPY7gKQocl"
      },
      "source": [
        "#Question 3"
      ]
    },
    {
      "cell_type": "code",
      "metadata": {
        "id": "SbUPgh4qPDHZ"
      },
      "source": [
        "import numpy as np\r\n",
        "import pandas as pd\r\n",
        "import math\r\n",
        "from scipy import stats\r\n",
        "import math\r\n",
        "from numpy import log10"
      ],
      "execution_count": null,
      "outputs": []
    },
    {
      "cell_type": "code",
      "metadata": {
        "colab": {
          "base_uri": "https://localhost:8080/",
          "height": 351
        },
        "id": "Jem8Qj8gQwf7",
        "outputId": "edf6a100-af17-4340-fe1d-ba00877f14be"
      },
      "source": [
        "#importing the dataset\r\n",
        "df=pd.read_excel(\"dataset_metrics.xlsx\")\r\n",
        "df.head(20)"
      ],
      "execution_count": null,
      "outputs": [
        {
          "output_type": "execute_result",
          "data": {
            "text/html": [
              "<div>\n",
              "<style scoped>\n",
              "    .dataframe tbody tr th:only-of-type {\n",
              "        vertical-align: middle;\n",
              "    }\n",
              "\n",
              "    .dataframe tbody tr th {\n",
              "        vertical-align: top;\n",
              "    }\n",
              "\n",
              "    .dataframe thead th {\n",
              "        text-align: right;\n",
              "    }\n",
              "</style>\n",
              "<table border=\"1\" class=\"dataframe\">\n",
              "  <thead>\n",
              "    <tr style=\"text-align: right;\">\n",
              "      <th></th>\n",
              "      <th>actual_y</th>\n",
              "      <th>predicted_y</th>\n",
              "    </tr>\n",
              "  </thead>\n",
              "  <tbody>\n",
              "    <tr>\n",
              "      <th>0</th>\n",
              "      <td>12</td>\n",
              "      <td>11</td>\n",
              "    </tr>\n",
              "    <tr>\n",
              "      <th>1</th>\n",
              "      <td>15</td>\n",
              "      <td>16</td>\n",
              "    </tr>\n",
              "    <tr>\n",
              "      <th>2</th>\n",
              "      <td>9</td>\n",
              "      <td>7</td>\n",
              "    </tr>\n",
              "    <tr>\n",
              "      <th>3</th>\n",
              "      <td>7</td>\n",
              "      <td>13</td>\n",
              "    </tr>\n",
              "    <tr>\n",
              "      <th>4</th>\n",
              "      <td>13</td>\n",
              "      <td>13</td>\n",
              "    </tr>\n",
              "    <tr>\n",
              "      <th>5</th>\n",
              "      <td>20</td>\n",
              "      <td>19</td>\n",
              "    </tr>\n",
              "    <tr>\n",
              "      <th>6</th>\n",
              "      <td>24</td>\n",
              "      <td>25</td>\n",
              "    </tr>\n",
              "    <tr>\n",
              "      <th>7</th>\n",
              "      <td>19</td>\n",
              "      <td>22</td>\n",
              "    </tr>\n",
              "    <tr>\n",
              "      <th>8</th>\n",
              "      <td>13</td>\n",
              "      <td>14</td>\n",
              "    </tr>\n",
              "    <tr>\n",
              "      <th>9</th>\n",
              "      <td>28</td>\n",
              "      <td>25</td>\n",
              "    </tr>\n",
              "  </tbody>\n",
              "</table>\n",
              "</div>"
            ],
            "text/plain": [
              "   actual_y  predicted_y\n",
              "0        12           11\n",
              "1        15           16\n",
              "2         9            7\n",
              "3         7           13\n",
              "4        13           13\n",
              "5        20           19\n",
              "6        24           25\n",
              "7        19           22\n",
              "8        13           14\n",
              "9        28           25"
            ]
          },
          "metadata": {
            "tags": []
          },
          "execution_count": 322
        }
      ]
    },
    {
      "cell_type": "code",
      "metadata": {
        "id": "xoHJM9QpRzIE"
      },
      "source": [
        "e = np.array(df.actual_y)\r\n",
        "s = np.array(df.predicted_y)"
      ],
      "execution_count": null,
      "outputs": []
    },
    {
      "cell_type": "markdown",
      "metadata": {
        "id": "mJoLzPYzSF4O"
      },
      "source": [
        "# 1. bias"
      ]
    },
    {
      "cell_type": "code",
      "metadata": {
        "colab": {
          "base_uri": "https://localhost:8080/"
        },
        "id": "AuvmJdkvSQOf",
        "outputId": "1b48c0c9-61d9-47c3-9d9e-c31c4208415a"
      },
      "source": [
        "def bias(e,s):\r\n",
        "    sum = 0\r\n",
        "\r\n",
        "    for i in range(len(e)):\r\n",
        "        sum =sum + e[i] - s[i]\r\n",
        "        \r\n",
        "    bias = sum/len(e)\r\n",
        "    return bias\r\n",
        "\r\n",
        "print(\"bias of the dataset is \", bias(e,s))"
      ],
      "execution_count": null,
      "outputs": [
        {
          "output_type": "stream",
          "text": [
            "bias of the dataset is  -0.5\n"
          ],
          "name": "stdout"
        }
      ]
    },
    {
      "cell_type": "markdown",
      "metadata": {
        "id": "c-Zrj5sKSZia"
      },
      "source": [
        "# 2. pbias"
      ]
    },
    {
      "cell_type": "code",
      "metadata": {
        "colab": {
          "base_uri": "https://localhost:8080/"
        },
        "id": "MtLG6dn8SdV6",
        "outputId": "fa92c6cd-f49d-4d4b-b86f-821ea12d088e"
      },
      "source": [
        "def pbias(e,s):\r\n",
        "    num = 0\r\n",
        "    den = 0\r\n",
        "\r\n",
        "    for i in range(len(e)):\r\n",
        "        num = num + e[i] - s[i]\r\n",
        "        den = den + e[i]\r\n",
        "\r\n",
        "    pbias = 100*(num/den)\r\n",
        "    return pbias\r\n",
        "\r\n",
        "print(\"pbias of the dataset is \", pbias(e,s))"
      ],
      "execution_count": null,
      "outputs": [
        {
          "output_type": "stream",
          "text": [
            "pbias of the dataset is  -3.125\n"
          ],
          "name": "stdout"
        }
      ]
    },
    {
      "cell_type": "markdown",
      "metadata": {
        "id": "LxnzD0JiSih9"
      },
      "source": [
        "# 3. Nash-Sutcliffe (NSE)\r\n"
      ]
    },
    {
      "cell_type": "code",
      "metadata": {
        "colab": {
          "base_uri": "https://localhost:8080/"
        },
        "id": "rP0UkxTxSmZ2",
        "outputId": "bae57258-c583-4076-974e-12bd83481b1d"
      },
      "source": [
        "def NSE(e,s):\r\n",
        "  error=e-s\r\n",
        "  num=0\r\n",
        "  den=0\r\n",
        "\r\n",
        "  for i in error:\r\n",
        "    num+=i**2\r\n",
        "\r\n",
        "  m=0\r\n",
        "  for j in e:\r\n",
        "    m+=j\r\n",
        "  mean=m/len(e)\r\n",
        "\r\n",
        "  for k in e:\r\n",
        "    den+=(k-(mean))**2\r\n",
        "    \r\n",
        "  NSE = 1-(num/den)\r\n",
        "  return NSE\r\n",
        "\r\n",
        "print(\"Nash-Sutcliffe (NSE) of the dataset is \", NSE(e,s))"
      ],
      "execution_count": null,
      "outputs": [
        {
          "output_type": "stream",
          "text": [
            "Nash-Sutcliffe (NSE) of the dataset is  0.8417085427135679\n"
          ],
          "name": "stdout"
        }
      ]
    },
    {
      "cell_type": "markdown",
      "metadata": {
        "id": "gA46GzS5TIDX"
      },
      "source": [
        "# 4. log Nash-Sutcliffe"
      ]
    },
    {
      "cell_type": "code",
      "metadata": {
        "colab": {
          "base_uri": "https://localhost:8080/"
        },
        "id": "rsbbFMWXTLNQ",
        "outputId": "d39fae71-1ff1-40ac-9bda-7c02efef706b"
      },
      "source": [
        "def mean(data):\r\n",
        "  sum=0\r\n",
        "  for i in range(0, len(data)):\r\n",
        "    sum = sum + data[i]\r\n",
        "  return sum / len(data)\r\n",
        "\r\n",
        "def lognse(e,s):\r\n",
        "  num=0\r\n",
        "  den=0\r\n",
        "\r\n",
        "  for i in range(len(e)):\r\n",
        "    num+=(log10(e[i])-log10(s[i]))**2\r\n",
        "    \r\n",
        "\r\n",
        "  for i in range(len(e)):\r\n",
        "    den+=(log10(e[i])-log10(mean(e)))**2\r\n",
        "\r\n",
        "  lognse = 1-(num/den)\r\n",
        "  return lognse\r\n",
        "\r\n",
        "print(\"log Nash-Sutcliffe (logNSE) of the dataset is \", lognse(e,s))  "
      ],
      "execution_count": null,
      "outputs": [
        {
          "output_type": "stream",
          "text": [
            "log Nash-Sutcliffe (logNSE) of the dataset is  0.7121054364600314\n"
          ],
          "name": "stdout"
        }
      ]
    },
    {
      "cell_type": "markdown",
      "metadata": {
        "id": "xL7pxB9ETV5P"
      },
      "source": [
        "# 5. correlationcoefficient\r\n"
      ]
    },
    {
      "cell_type": "code",
      "metadata": {
        "colab": {
          "base_uri": "https://localhost:8080/"
        },
        "id": "hiBbF73JTZRV",
        "outputId": "5919d76f-cc4f-44e6-9b37-fac855b4eee3"
      },
      "source": [
        "\r\n",
        "def mean(data):\r\n",
        "  sum=0\r\n",
        "  for i in range(0, len(data)):\r\n",
        "    sum = sum + data[i]\r\n",
        "  return sum / len(data)\r\n",
        "\r\n",
        "def std(data):\r\n",
        "  n = len(data)\r\n",
        "  mean = mean(data)\r\n",
        "  deviations = [(x - mean) ** 2 for x in data]\r\n",
        "  var = sum(deviations) / n\r\n",
        "  std_dev = math.sqrt(var)\r\n",
        "  return std_dev\r\n",
        "\r\n",
        "def correlationCoefficient(X, Y) :\r\n",
        "  n=len(X) \r\n",
        "  sum_X = 0\r\n",
        "  sum_Y = 0\r\n",
        "  sum_XY = 0\r\n",
        "  squareSum_X = 0\r\n",
        "  squareSum_Y = 0\r\n",
        "  \r\n",
        "  i = 0\r\n",
        "  while i < n : \r\n",
        "    sum_X = sum_X + X[i]  \r\n",
        "    sum_Y = sum_Y + Y[i] \r\n",
        "    sum_XY = sum_XY + X[i] * Y[i]  \r\n",
        "    squareSum_X = squareSum_X + X[i] * X[i] \r\n",
        "    squareSum_Y = squareSum_Y + Y[i] * Y[i] \r\n",
        "\t\t\r\n",
        "    i = i + 1\r\n",
        "    p = (float)(n * sum_XY - sum_X * sum_Y)\r\n",
        "    q = (float)(math.sqrt(n * squareSum_X -sum_X * sum_X))\r\n",
        "    w = (float)(math.sqrt(n * squareSum_Y -sum_Y * sum_Y))\r\n",
        "    corr = p/(q*w)\r\n",
        "  return corr \r\n",
        "\r\n",
        "print(\"correlationCoefficient of the dataset is \", correlationCoefficient(e,s))"
      ],
      "execution_count": null,
      "outputs": [
        {
          "output_type": "stream",
          "text": [
            "correlationCoefficient of the dataset is  0.9208893410030699\n"
          ],
          "name": "stdout"
        }
      ]
    },
    {
      "cell_type": "markdown",
      "metadata": {
        "id": "K4QbleGsTlWA"
      },
      "source": [
        "# 6. rsquared"
      ]
    },
    {
      "cell_type": "code",
      "metadata": {
        "colab": {
          "base_uri": "https://localhost:8080/"
        },
        "id": "JNBZWjzXErDB",
        "outputId": "ac733582-dd29-4332-e32b-de5acfd0d32b"
      },
      "source": [
        "def mean(data):\r\n",
        "  sum=0\r\n",
        "  for i in range(0, len(data)):\r\n",
        "    sum = sum + data[i]\r\n",
        "  return sum / len(data)\r\n",
        "\r\n",
        "def std(data):\r\n",
        "  n = len(data)\r\n",
        "  mean = mean(data)\r\n",
        "  deviations = [(x - mean) ** 2 for x in data]\r\n",
        "  var = sum(deviations) / n\r\n",
        "  std_dev = math.sqrt(var)\r\n",
        "  return std_dev\r\n",
        "\r\n",
        "def correlationCoefficient(X, Y) :\r\n",
        "  n=len(X) \r\n",
        "  sum_X = 0\r\n",
        "  sum_Y = 0\r\n",
        "  sum_XY = 0\r\n",
        "  squareSum_X = 0\r\n",
        "  squareSum_Y = 0\r\n",
        "  \r\n",
        "  i = 0\r\n",
        "  while i < n : \r\n",
        "    sum_X = sum_X + X[i]  \r\n",
        "    sum_Y = sum_Y + Y[i] \r\n",
        "    sum_XY = sum_XY + X[i] * Y[i]  \r\n",
        "    squareSum_X = squareSum_X + X[i] * X[i] \r\n",
        "    squareSum_Y = squareSum_Y + Y[i] * Y[i] \r\n",
        "\t\t\r\n",
        "    i = i + 1\r\n",
        "    p = (float)(n * sum_XY - sum_X * sum_Y)\r\n",
        "    q = (float)(math.sqrt(n * squareSum_X -sum_X * sum_X))\r\n",
        "    w = (float)(math.sqrt(n * squareSum_Y -sum_Y * sum_Y))\r\n",
        "    corr = p/(q*w)\r\n",
        "  return corr \r\n",
        "\r\n",
        "correlationcoeff =(correlationCoefficient(e,s))**2\r\n",
        "\r\n",
        "print(\"rsquared of the dataset is \", correlationcoeff)"
      ],
      "execution_count": null,
      "outputs": [
        {
          "output_type": "stream",
          "text": [
            "rsquared of the dataset is  0.8480371783730682\n"
          ],
          "name": "stdout"
        }
      ]
    },
    {
      "cell_type": "markdown",
      "metadata": {
        "id": "85q2VL1cUTlJ"
      },
      "source": [
        "# 7. mse\r\n"
      ]
    },
    {
      "cell_type": "code",
      "metadata": {
        "colab": {
          "base_uri": "https://localhost:8080/"
        },
        "id": "2wXaWdtvUXnG",
        "outputId": "8ca5a9be-c685-4777-d19d-096317b9fbc2"
      },
      "source": [
        "def mse(e,s):\r\n",
        "  arr=[]\r\n",
        "  for i, j in zip(e, s):\r\n",
        "    arr.append(i-j)\r\n",
        "  sum=0\r\n",
        "  for i in arr:\r\n",
        "    sqr=i**2\r\n",
        "    sum+=sqr\r\n",
        "  mse=sum/(len(s))\r\n",
        "  return mse\r\n",
        "\r\n",
        "print('Mean of Squared Error mse is ',mse(e,s))"
      ],
      "execution_count": null,
      "outputs": [
        {
          "output_type": "stream",
          "text": [
            "Mean of Squared Error mse is  6.3\n"
          ],
          "name": "stdout"
        }
      ]
    },
    {
      "cell_type": "markdown",
      "metadata": {
        "id": "lF0X0Dp5UmVm"
      },
      "source": [
        "# 8. rmse"
      ]
    },
    {
      "cell_type": "code",
      "metadata": {
        "colab": {
          "base_uri": "https://localhost:8080/"
        },
        "id": "boyLxkzVUqur",
        "outputId": "f7a6b103-2e28-431e-ed44-b1790594a9b7"
      },
      "source": [
        "\r\n",
        "def rmse(e,s):\r\n",
        "  arr=[]\r\n",
        "  for i, j in zip(e, s):\r\n",
        "    arr.append(i-j)\r\n",
        "  sum=0\r\n",
        "  for i in arr:\r\n",
        "    sqr=i**2\r\n",
        "    sum+=sqr\r\n",
        "  mse=sum/(len(s))\r\n",
        "  rmse = math.sqrt(mse)\r\n",
        "\r\n",
        "  return rmse\r\n",
        "\r\n",
        "print('Root mean of Squared Error rmse is ',rmse(e,s))"
      ],
      "execution_count": null,
      "outputs": [
        {
          "output_type": "stream",
          "text": [
            "Root mean of Squared Error rmse is  2.5099800796022267\n"
          ],
          "name": "stdout"
        }
      ]
    },
    {
      "cell_type": "markdown",
      "metadata": {
        "id": "Ca2I9mErUsGb"
      },
      "source": [
        "# 9. mae"
      ]
    },
    {
      "cell_type": "code",
      "metadata": {
        "colab": {
          "base_uri": "https://localhost:8080/"
        },
        "id": "RyzF9TUuUvYu",
        "outputId": "6a63ef94-ab4b-4aa1-d5d5-843ef6395a2f"
      },
      "source": [
        "def mae(e,s):\r\n",
        "  arr=[]\r\n",
        "  for i, j in zip(e, s):\r\n",
        "    arr.append(i-j)\r\n",
        "  sum=0\r\n",
        "  for i in arr:\r\n",
        "    absolute_error=abs(i)\r\n",
        "    sum+=absolute_error\r\n",
        "  mse=sum/(len(s))\r\n",
        "  return mse\r\n",
        "\r\n",
        "print('Mean absolute error mae is ',mae(e,s))"
      ],
      "execution_count": null,
      "outputs": [
        {
          "output_type": "stream",
          "text": [
            "Mean absolute error mae is  1.9\n"
          ],
          "name": "stdout"
        }
      ]
    },
    {
      "cell_type": "markdown",
      "metadata": {
        "id": "wjXRypZ6Uv59"
      },
      "source": [
        "# 10. rrmse"
      ]
    },
    {
      "cell_type": "code",
      "metadata": {
        "colab": {
          "base_uri": "https://localhost:8080/"
        },
        "id": "0A105PnvUz51",
        "outputId": "4c298f09-08a3-4ae5-e5dc-948a21f9a3c1"
      },
      "source": [
        "def rrmse(e,s):\r\n",
        "  arr=[]\r\n",
        "\r\n",
        "  for i, j in zip(e, s):\r\n",
        "    arr.append(i-j)\r\n",
        "\r\n",
        "  sum=0\r\n",
        "  for i in arr:\r\n",
        "    sqr=i**2\r\n",
        "    sum+=sqr\r\n",
        "    \r\n",
        "  mse=sum/(len(s))\r\n",
        "  rmse = math.sqrt(mse)\r\n",
        "  rrmse = rmse/mean(e)\r\n",
        "\r\n",
        "  return rrmse\r\n",
        "\r\n",
        "print('RRMSE is ',rrmse(e,s))"
      ],
      "execution_count": null,
      "outputs": [
        {
          "output_type": "stream",
          "text": [
            "RRMSE is  0.15687375497513917\n"
          ],
          "name": "stdout"
        }
      ]
    },
    {
      "cell_type": "markdown",
      "metadata": {
        "id": "X6vA4KwTU3zZ"
      },
      "source": [
        "# 11. agreementindex"
      ]
    },
    {
      "cell_type": "code",
      "metadata": {
        "colab": {
          "base_uri": "https://localhost:8080/"
        },
        "id": "JgLalNIYU7Xx",
        "outputId": "eefc0bfb-c828-4548-bcd3-d417a27e41b9"
      },
      "source": [
        "def aggrement_index(e,s):\r\n",
        "  Num = 0\r\n",
        "  den = 0\r\n",
        "\r\n",
        "  for i in range(len(e)):\r\n",
        "    sq_diff = (e[i] - s[i])**2\r\n",
        "    Num += sq_diff\r\n",
        "    \r\n",
        "  for j in range(len(e)):\r\n",
        "    sq_dev = (abs(s[j] - mean(e)) + abs(e[j] - mean(e)))**2\r\n",
        "    den += sq_dev\r\n",
        "    \r\n",
        "  d = 1 - (Num/den)  \r\n",
        "  return d\r\n",
        " \r\n",
        "print(\"aggrement_index of the dataset is \", aggrement_index(e,s) )"
      ],
      "execution_count": null,
      "outputs": [
        {
          "output_type": "stream",
          "text": [
            "aggrement_index of the dataset is  0.955096222380613\n"
          ],
          "name": "stdout"
        }
      ]
    },
    {
      "cell_type": "markdown",
      "metadata": {
        "id": "Xbe3MQOcU79h"
      },
      "source": [
        "# 12. covariance"
      ]
    },
    {
      "cell_type": "code",
      "metadata": {
        "colab": {
          "base_uri": "https://localhost:8080/"
        },
        "id": "Ej4pksViVAc-",
        "outputId": "9e7051f2-7a67-4edf-d04f-277d92389297"
      },
      "source": [
        "def mean(data):\r\n",
        "  sum=0\r\n",
        "  for i in range(0, len(data)):\r\n",
        "    sum = sum + data[i]\r\n",
        "  return sum/len(data)\r\n",
        "\r\n",
        "def std(data):\r\n",
        "  n = len(data)\r\n",
        "  mean = mean(data)\r\n",
        "  deviations = [(x - mean) ** 2 for x in data]\r\n",
        "  var = sum(deviations) / n\r\n",
        "  std_dev = math.sqrt(var)\r\n",
        "  return std_dev\r\n",
        "\r\n",
        "def covariance(X, Y) :\r\n",
        "  n=len(X) \r\n",
        "  sum_X = 0\r\n",
        "  sum_Y = 0\r\n",
        "  sum_XY = 0\r\n",
        "  squareSum_X = 0\r\n",
        "  squareSum_Y = 0\r\n",
        "  \r\n",
        "  i = 0\r\n",
        "  while i < n : \r\n",
        "    sum_X = sum_X + X[i]  \r\n",
        "    sum_Y = sum_Y + Y[i] \r\n",
        "    sum_XY = sum_XY + X[i] * Y[i]  \r\n",
        "    squareSum_X = squareSum_X + X[i] * X[i] \r\n",
        "    squareSum_Y = squareSum_Y + Y[i] * Y[i] \r\n",
        "\t\t\r\n",
        "    i = i + 1\r\n",
        "    p = (float)(n * sum_XY - sum_X * sum_Y)/n\r\n",
        "    corr = p/len(e)\r\n",
        "  return corr \r\n",
        "\r\n",
        "print(\"covariance of the dataset is \", covariance(e,s))"
      ],
      "execution_count": null,
      "outputs": [
        {
          "output_type": "stream",
          "text": [
            "covariance of the dataset is  33.5\n"
          ],
          "name": "stdout"
        }
      ]
    },
    {
      "cell_type": "markdown",
      "metadata": {
        "id": "ShA6N72OVBCy"
      },
      "source": [
        "# 13. Kling-Gupta Efficiency (kge)\r\n"
      ]
    },
    {
      "cell_type": "code",
      "metadata": {
        "colab": {
          "base_uri": "https://localhost:8080/"
        },
        "id": "3sLeO_HHVGwV",
        "outputId": "83928747-5aab-46b4-f47f-1d0b85b49f52"
      },
      "source": [
        "\r\n",
        "def mean(data):\r\n",
        "  sum=0\r\n",
        "  for i in range(0, len(data)):\r\n",
        "    sum = sum + data[i]\r\n",
        "  return sum / len(data)\r\n",
        "\r\n",
        "def std(data):\r\n",
        "  n = len(data)\r\n",
        "  deviations = [(x - mean(data)) ** 2 for x in data]\r\n",
        "  var = sum(deviations) / n\r\n",
        "  std_dev = math.sqrt(var)\r\n",
        "  return std_dev\r\n",
        "  \r\n",
        "def correlationCoefficient(X, Y) :\r\n",
        "  n=len(X) \r\n",
        "  sum_X = 0\r\n",
        "  sum_Y = 0\r\n",
        "  sum_XY = 0\r\n",
        "  squareSum_X = 0\r\n",
        "  squareSum_Y = 0\r\n",
        "  \r\n",
        "  i = 0\r\n",
        "  while i < n : \r\n",
        "    sum_X = sum_X + X[i]  \r\n",
        "    sum_Y = sum_Y + Y[i] \r\n",
        "    sum_XY = sum_XY + X[i] * Y[i]  \r\n",
        "    squareSum_X = squareSum_X + X[i] * X[i] \r\n",
        "    squareSum_Y = squareSum_Y + Y[i] * Y[i] \r\n",
        "\t\t\r\n",
        "    i = i + 1\r\n",
        "    p = (float)(n * sum_XY - sum_X * sum_Y)\r\n",
        "    q = (float)(math.sqrt(n * squareSum_X -sum_X * sum_X))\r\n",
        "    w = (float)(math.sqrt(n * squareSum_Y -sum_Y * sum_Y))\r\n",
        "    corr = p/(q*w)\r\n",
        "  return corr \r\n",
        "\r\n",
        "\r\n",
        "\r\n",
        "KGE =  1 - np.sqrt((correlationCoefficient(e,s)-1)**2 + (mean(e)/mean(s))**2 + (std(e)/std(s))**2)\r\n",
        "\r\n",
        "print(\"KGE of the dataset is \", KGE )"
      ],
      "execution_count": null,
      "outputs": [
        {
          "output_type": "stream",
          "text": [
            "KGE of the dataset is  -0.46409125077961644\n"
          ],
          "name": "stdout"
        }
      ]
    },
    {
      "cell_type": "markdown",
      "metadata": {
        "id": "OOTUv_QNVHND"
      },
      "source": [
        "# 14. rsr"
      ]
    },
    {
      "cell_type": "code",
      "metadata": {
        "colab": {
          "base_uri": "https://localhost:8080/"
        },
        "id": "Xj-D9a8QVKbF",
        "outputId": "12bd6b9c-8469-4c64-fd5a-d5a752b813a3"
      },
      "source": [
        "def rsr(e,s):\r\n",
        "  X = 0\r\n",
        "  for i in range(len(e)):\r\n",
        "    diff = e[i] - s[i]\r\n",
        "    sq = diff*diff\r\n",
        "    X += sq\r\n",
        "  underrootmean = (X/len(e))**0.5\r\n",
        "\r\n",
        "  summ = 0\r\n",
        "  for j in e:\r\n",
        "    j = j - np.mean(e)\r\n",
        "    square_deviation = j*j\r\n",
        "    summ += square_deviation\r\n",
        "  std = (summ/(len(e)-1))**0.5\r\n",
        "\r\n",
        "  rsr = underrootmean/std\r\n",
        "  return rsr\r\n",
        "\r\n",
        "\r\n",
        "print(\"rsr of the dataset is \", rsr(e,s) )"
      ],
      "execution_count": null,
      "outputs": [
        {
          "output_type": "stream",
          "text": [
            "rsr of the dataset is  0.37744179890122\n"
          ],
          "name": "stdout"
        }
      ]
    },
    {
      "cell_type": "markdown",
      "metadata": {
        "id": "bvFchyvEVLCN"
      },
      "source": [
        "# 15. volume error"
      ]
    },
    {
      "cell_type": "code",
      "metadata": {
        "colab": {
          "base_uri": "https://localhost:8080/"
        },
        "id": "GqTZJAk0VPG1",
        "outputId": "06393171-92a6-4e4b-e40c-d04a6aceb3fe"
      },
      "source": [
        "def vol_error(e,s):\r\n",
        "  X = 0\r\n",
        "  for i in range(len(e)):\r\n",
        "    diff = s[i] - e[i]\r\n",
        "    X += diff\r\n",
        "  Y = 0\r\n",
        "  for j in e:\r\n",
        "    Y += j\r\n",
        "  vol_error = X/Y\r\n",
        "  return vol_error   \r\n",
        "\r\n",
        "print(\"vol_error of the dataset is \", vol_error(e,s) )"
      ],
      "execution_count": null,
      "outputs": [
        {
          "output_type": "stream",
          "text": [
            "vol_error of the dataset is  0.03125\n"
          ],
          "name": "stdout"
        }
      ]
    }
  ]
}