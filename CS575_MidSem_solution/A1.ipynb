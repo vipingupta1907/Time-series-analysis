{
  "nbformat": 4,
  "nbformat_minor": 0,
  "metadata": {
    "colab": {
      "name": "Q1.ipynb",
      "provenance": [],
      "collapsed_sections": [],
      "include_colab_link": true
    },
    "kernelspec": {
      "name": "python3",
      "display_name": "Python 3"
    }
  },
  "cells": [
    {
      "cell_type": "markdown",
      "metadata": {
        "id": "view-in-github",
        "colab_type": "text"
      },
      "source": [
        "<a href=\"https://colab.research.google.com/github/vipingupta1907/2011MT22_CS575/blob/main/CS575_MidSem_solution/A1.ipynb\" target=\"_parent\"><img src=\"https://colab.research.google.com/assets/colab-badge.svg\" alt=\"Open In Colab\"/></a>"
      ]
    },
    {
      "cell_type": "markdown",
      "metadata": {
        "id": "1VDa6LS1VbHh"
      },
      "source": [
        "#Question 1"
      ]
    },
    {
      "cell_type": "code",
      "metadata": {
        "id": "X-x6YlZiS3u7"
      },
      "source": [
        "import numpy as np\r\n",
        "import pandas as pd\r\n",
        "import matplotlib.pyplot as plt\r\n",
        "from statsmodels.tsa.stattools import adfuller\r\n",
        "from statsmodels.graphics.tsaplots import plot_acf,plot_pacf"
      ],
      "execution_count": null,
      "outputs": []
    },
    {
      "cell_type": "markdown",
      "metadata": {
        "id": "FO6Hza9IbI4C"
      },
      "source": [
        "creating function to use in further question"
      ]
    },
    {
      "cell_type": "code",
      "metadata": {
        "id": "ACXVaGzvf2qz"
      },
      "source": [
        "def ADF_test(data):\r\n",
        "    result = adfuller(data)\r\n",
        "    print('ADF Statistic is %f' % result[0])\r\n",
        "    print('p-value is %f' % result[1])"
      ],
      "execution_count": null,
      "outputs": []
    },
    {
      "cell_type": "code",
      "metadata": {
        "id": "dah8IW2EbK9V"
      },
      "source": [
        "def mean(data):\r\n",
        "  sum=0\r\n",
        "  n=len(data)\r\n",
        "  for i in data:\r\n",
        "    sum += i\r\n",
        "  mean = sum/n\r\n",
        "  return mean"
      ],
      "execution_count": null,
      "outputs": []
    },
    {
      "cell_type": "code",
      "metadata": {
        "id": "cC-KHnZobU2g"
      },
      "source": [
        "def autocovariance(a,N,k,m):\r\n",
        "    autocovariance = 0\r\n",
        "    for i in np.arange(0, N-k):\r\n",
        "        autocovariance += ((a[i+k])-m)*(a[i]-m)\r\n",
        "    return (1/(N-1))*autocovariance"
      ],
      "execution_count": null,
      "outputs": []
    },
    {
      "cell_type": "markdown",
      "metadata": {
        "id": "l1qW-1mbVfuJ"
      },
      "source": [
        "# a"
      ]
    },
    {
      "cell_type": "code",
      "metadata": {
        "id": "1-cAZURpbvMI"
      },
      "source": [
        "#Creating random error value in array\r\n",
        "et = np.random.normal(0, 1, 103)"
      ],
      "execution_count": null,
      "outputs": []
    },
    {
      "cell_type": "code",
      "metadata": {
        "id": "piua2T5PbvIH"
      },
      "source": [
        "#Finding array of Yt according to given forecast equation\r\n",
        "Yt = []\r\n",
        "for i in range(100):  \r\n",
        "  difference = et[i+3] - et[i]\r\n",
        "  Yt.append(difference)"
      ],
      "execution_count": null,
      "outputs": []
    },
    {
      "cell_type": "code",
      "metadata": {
        "colab": {
          "base_uri": "https://localhost:8080/"
        },
        "id": "O78gAEbSf-oe",
        "outputId": "e09393ed-7bce-49f8-b274-5a00d95cda07"
      },
      "source": [
        "#Applying ADF teat\r\n",
        "ADF_test(Yt) \r\n"
      ],
      "execution_count": null,
      "outputs": [
        {
          "output_type": "stream",
          "text": [
            "ADF Statistic is -5.910071\n",
            "p-value is 0.000000\n"
          ],
          "name": "stdout"
        }
      ]
    },
    {
      "cell_type": "markdown",
      "metadata": {
        "id": "ZndaiNJQ59c7"
      },
      "source": [
        ">p-value by ADF test is less than 0.05 so its a stationary time series "
      ]
    },
    {
      "cell_type": "code",
      "metadata": {
        "id": "A1aZAk05buvB",
        "colab": {
          "base_uri": "https://localhost:8080/"
        },
        "outputId": "058b29dc-baad-47d5-fd44-f7e45694d75f"
      },
      "source": [
        "#finding mean \r\n",
        "mean_Yt = mean(Yt)\r\n",
        "print('mean is %f' % mean_Yt)"
      ],
      "execution_count": null,
      "outputs": [
        {
          "output_type": "stream",
          "text": [
            "mean is -0.008106\n"
          ],
          "name": "stdout"
        }
      ]
    },
    {
      "cell_type": "code",
      "metadata": {
        "colab": {
          "base_uri": "https://localhost:8080/"
        },
        "id": "Di2D0XrV4Vdp",
        "outputId": "3efded37-d4d0-4b7c-f871-2845d9f15f38"
      },
      "source": [
        "#finding autocovariance\r\n",
        "autocovariance_Yt = autocovariance(Yt, len(Yt), 15, mean_Yt)\r\n",
        "print('autocovariance is %f' % autocovariance_Yt)"
      ],
      "execution_count": null,
      "outputs": [
        {
          "output_type": "stream",
          "text": [
            "autocovariance is 0.180502\n"
          ],
          "name": "stdout"
        }
      ]
    },
    {
      "cell_type": "code",
      "metadata": {
        "colab": {
          "base_uri": "https://localhost:8080/",
          "height": 281
        },
        "id": "2oGk1jkY39k2",
        "outputId": "56111506-335d-44bb-b3d1-6c23cac4491b"
      },
      "source": [
        "#plotting ACF\r\n",
        "plot_acf(Yt, lags = 15)  \r\n",
        "plt.show()"
      ],
      "execution_count": null,
      "outputs": [
        {
          "output_type": "display_data",
          "data": {
            "image/png": "[encoded data removed]",
            "text/plain": [
              "<Figure size 432x288 with 1 Axes>"
            ]
          },
          "metadata": {
            "tags": [],
            "needs_background": "light"
          }
        }
      ]
    },
    {
      "cell_type": "code",
      "metadata": {
        "id": "b9JABhDObu0e",
        "colab": {
          "base_uri": "https://localhost:8080/",
          "height": 281
        },
        "outputId": "b53d9184-747e-4453-d597-18e558d51685"
      },
      "source": [
        "#plotting PACF\r\n",
        "plot_pacf(Yt,lags=15)\r\n",
        "plt.show()"
      ],
      "execution_count": null,
      "outputs": [
        {
          "output_type": "display_data",
          "data": {
            "image/png": "[encoded data removed]",
            "text/plain": [
              "<Figure size 432x288 with 1 Axes>"
            ]
          },
          "metadata": {
            "tags": [],
            "needs_background": "light"
          }
        }
      ]
    },
    {
      "cell_type": "markdown",
      "metadata": {
        "id": "shUnamuqVZDF"
      },
      "source": [
        "# b"
      ]
    },
    {
      "cell_type": "code",
      "metadata": {
        "id": "7wqqj8Em86Fv"
      },
      "source": [
        "#Creating random error value in array\r\n",
        "et = np.random.normal(0, 1, 102)"
      ],
      "execution_count": null,
      "outputs": []
    },
    {
      "cell_type": "code",
      "metadata": {
        "id": "0wMIzNt5izv0"
      },
      "source": [
        "#assuming random 2 intial values for Y\r\n",
        "Yt=list(np.random.randint(0,100,2))"
      ],
      "execution_count": null,
      "outputs": []
    },
    {
      "cell_type": "code",
      "metadata": {
        "id": "FLq6kNfHiz0b"
      },
      "source": [
        "#Finding array of Yt according to given forecast equation\r\n",
        "for i in range(2,102):\r\n",
        "  Yt.append(Yt[i-1]+0.9*Yt[i-2]+e[i])"
      ],
      "execution_count": null,
      "outputs": []
    },
    {
      "cell_type": "code",
      "metadata": {
        "colab": {
          "base_uri": "https://localhost:8080/"
        },
        "id": "i5scNsaP86GI",
        "outputId": "1accacae-1b4c-4254-911b-52db6ee3dce6"
      },
      "source": [
        "#Applying ADF teat\r\n",
        "ADF_test(Yt) \r\n"
      ],
      "execution_count": null,
      "outputs": [
        {
          "output_type": "stream",
          "text": [
            "ADF Statistic is 59521959652364088.000000\n",
            "p-value is 1.000000\n"
          ],
          "name": "stdout"
        }
      ]
    },
    {
      "cell_type": "markdown",
      "metadata": {
        "id": "aTcfu5PH86GJ"
      },
      "source": [
        ">p-value by ADF test is greater than 0.05 so its a non stationary time series"
      ]
    },
    {
      "cell_type": "code",
      "metadata": {
        "colab": {
          "base_uri": "https://localhost:8080/"
        },
        "id": "FMjmqQdu86GK",
        "outputId": "ff585499-86b6-4b05-af14-3349aac9695f"
      },
      "source": [
        "#finding mean \r\n",
        "mean_Yt = mean(Yt)\r\n",
        "print('mean is %f' % mean_Yt)\r\n"
      ],
      "execution_count": null,
      "outputs": [
        {
          "output_type": "stream",
          "text": [
            "mean is 18746903534848716800.000000\n"
          ],
          "name": "stdout"
        }
      ]
    },
    {
      "cell_type": "code",
      "metadata": {
        "id": "OTVJJd_t86GL",
        "colab": {
          "base_uri": "https://localhost:8080/"
        },
        "outputId": "82616424-6014-4890-bcc6-865d58746361"
      },
      "source": [
        "#finding autocovariance\r\n",
        "autocovariance_Yt = autocovariance(Yt, len(Yt), 15, mean_Yt)\r\n",
        "print('autocovariance is %f' % autocovariance_Yt)"
      ],
      "execution_count": null,
      "outputs": [
        {
          "output_type": "stream",
          "text": [
            "autocovariance is -43522331007793981911867973971256279040.000000\n"
          ],
          "name": "stdout"
        }
      ]
    },
    {
      "cell_type": "code",
      "metadata": {
        "id": "HNg2M1J186GM",
        "colab": {
          "base_uri": "https://localhost:8080/",
          "height": 281
        },
        "outputId": "0bef114e-2c20-45c1-8776-c13a3f08cbaf"
      },
      "source": [
        "#plotting ACF\r\n",
        "plot_acf(Yt, lags = 15)  \r\n",
        "plt.show()"
      ],
      "execution_count": null,
      "outputs": [
        {
          "output_type": "display_data",
          "data": {
            "image/png": "[encoded data removed]",
            "text/plain": [
              "<Figure size 432x288 with 1 Axes>"
            ]
          },
          "metadata": {
            "tags": [],
            "needs_background": "light"
          }
        }
      ]
    },
    {
      "cell_type": "code",
      "metadata": {
        "id": "YizHRlDT86GN",
        "colab": {
          "base_uri": "https://localhost:8080/",
          "height": 281
        },
        "outputId": "a7b82528-9056-4a0d-da1f-9e9239891a74"
      },
      "source": [
        "#plotting PACF\r\n",
        "plot_pacf(Yt,lags=15)\r\n",
        "plt.show()"
      ],
      "execution_count": null,
      "outputs": [
        {
          "output_type": "display_data",
          "data": {
            "image/png": "[encoded data removed]",
            "text/plain": [
              "<Figure size 432x288 with 1 Axes>"
            ]
          },
          "metadata": {
            "tags": [],
            "needs_background": "light"
          }
        }
      ]
    },
    {
      "cell_type": "markdown",
      "metadata": {
        "id": "qZfX1g7oCDPF"
      },
      "source": [
        "# c"
      ]
    },
    {
      "cell_type": "code",
      "metadata": {
        "id": "Adcuhb_6CDPG"
      },
      "source": [
        "#Creating random error value in array\r\n",
        "et = np.random.normal(0,1,104)"
      ],
      "execution_count": null,
      "outputs": []
    },
    {
      "cell_type": "code",
      "metadata": {
        "id": "Cws4aQ5HCDPI"
      },
      "source": [
        "#assuming random 4 intial values for Y\r\n",
        "Yt=list(np.random.randint(0,100,4))"
      ],
      "execution_count": null,
      "outputs": []
    },
    {
      "cell_type": "code",
      "metadata": {
        "id": "EhCFQc0aCDPK"
      },
      "source": [
        "#Finding array of Yt according to given forecast equation\r\n",
        "for i in range(4,104):\r\n",
        "  Yt.append(0.7*Yt[i-1]+0.2*Yt[i-2]-0.1*Yt[i-3]-0.3*Yt[1-4]+et[i])"
      ],
      "execution_count": null,
      "outputs": []
    },
    {
      "cell_type": "code",
      "metadata": {
        "colab": {
          "base_uri": "https://localhost:8080/"
        },
        "id": "m_hzL2o-CDPN",
        "outputId": "2c2a607a-25dc-4b89-ac4a-0685699444e3"
      },
      "source": [
        "#Applying ADF teat\r\n",
        "ADF_test(Yt) \r\n"
      ],
      "execution_count": null,
      "outputs": [
        {
          "output_type": "stream",
          "text": [
            "ADF Statistic is -8.293923\n",
            "p-value is 0.000000\n"
          ],
          "name": "stdout"
        }
      ]
    },
    {
      "cell_type": "markdown",
      "metadata": {
        "id": "4nthBp1YKXNT"
      },
      "source": [
        ">p-value by ADF test is less than 0.05 so its a stationary time series"
      ]
    },
    {
      "cell_type": "code",
      "metadata": {
        "colab": {
          "base_uri": "https://localhost:8080/"
        },
        "id": "h1WYEkPhCDPQ",
        "outputId": "ae17ab82-94a4-4716-ecbb-31103ce1392f"
      },
      "source": [
        "#finding mean \r\n",
        "mean_Yt = mean(Yt)\r\n",
        "print('mean is %f' % mean_Yt)"
      ],
      "execution_count": null,
      "outputs": [
        {
          "output_type": "stream",
          "text": [
            "mean is 1.784454\n"
          ],
          "name": "stdout"
        }
      ]
    },
    {
      "cell_type": "code",
      "metadata": {
        "colab": {
          "base_uri": "https://localhost:8080/"
        },
        "id": "x0bYayCmCDPS",
        "outputId": "0e48e065-b204-43f3-d1cc-b94bf3c64631"
      },
      "source": [
        "#finding autocovariance\r\n",
        "autocovariance_Yt = autocovariance(Yt, len(Yt), 15, mean_Yt)\r\n",
        "print('autocovariance is %f' % autocovariance_Yt)"
      ],
      "execution_count": null,
      "outputs": [
        {
          "output_type": "stream",
          "text": [
            "autocovariance is -8.682822\n"
          ],
          "name": "stdout"
        }
      ]
    },
    {
      "cell_type": "code",
      "metadata": {
        "colab": {
          "base_uri": "https://localhost:8080/",
          "height": 281
        },
        "id": "gWCiQcZ1CDPT",
        "outputId": "813d596f-673d-44d3-a32f-8c918053fdce"
      },
      "source": [
        "#plotting ACF\r\n",
        "plot_acf(Yt, lags = 15)  \r\n",
        "plt.show()"
      ],
      "execution_count": null,
      "outputs": [
        {
          "output_type": "display_data",
          "data": {
            "image/png": "[encoded data removed]",
            "text/plain": [
              "<Figure size 432x288 with 1 Axes>"
            ]
          },
          "metadata": {
            "tags": [],
            "needs_background": "light"
          }
        }
      ]
    },
    {
      "cell_type": "code",
      "metadata": {
        "colab": {
          "base_uri": "https://localhost:8080/",
          "height": 281
        },
        "id": "4KTknyQ0CDPV",
        "outputId": "ba975938-bb44-4976-f479-5baa60f6937c"
      },
      "source": [
        "#plotting PACF\r\n",
        "plot_pacf(Yt,lags=15)\r\n",
        "plt.show()"
      ],
      "execution_count": null,
      "outputs": [
        {
          "output_type": "display_data",
          "data": {
            "image/png": "[encoded data removed]",
            "text/plain": [
              "<Figure size 432x288 with 1 Axes>"
            ]
          },
          "metadata": {
            "tags": [],
            "needs_background": "light"
          }
        }
      ]
    },
    {
      "cell_type": "markdown",
      "metadata": {
        "id": "8wMqomvmDsAa"
      },
      "source": [
        "# d"
      ]
    },
    {
      "cell_type": "code",
      "metadata": {
        "id": "zzlb47w2DsAc"
      },
      "source": [
        "#Creating random error value in array\r\n",
        "et = np.random.normal(0, 1, 100)"
      ],
      "execution_count": null,
      "outputs": []
    },
    {
      "cell_type": "code",
      "metadata": {
        "id": "LsDvQc0YDsAd"
      },
      "source": [
        "#making list t\r\n",
        "t= list(range(1, 101))"
      ],
      "execution_count": null,
      "outputs": []
    },
    {
      "cell_type": "code",
      "metadata": {
        "id": "sgIJNKaeDsAd"
      },
      "source": [
        "#Finding array of Yt according to given forecast equation\r\n",
        "Yt=t+et"
      ],
      "execution_count": null,
      "outputs": []
    },
    {
      "cell_type": "code",
      "metadata": {
        "colab": {
          "base_uri": "https://localhost:8080/"
        },
        "id": "cH_EXBRjDsAf",
        "outputId": "4e434620-43b0-452d-c8bc-2c0545928cd4"
      },
      "source": [
        "#Applying ADF teat\r\n",
        "ADF_test(Yt) \r\n"
      ],
      "execution_count": null,
      "outputs": [
        {
          "output_type": "stream",
          "text": [
            "ADF Statistic is 0.707195\n",
            "p-value is 0.989980\n"
          ],
          "name": "stdout"
        }
      ]
    },
    {
      "cell_type": "markdown",
      "metadata": {
        "id": "mgBLk-KoKlDM"
      },
      "source": [
        ">p-value by ADF test is greater than 0.05 so its a non stationary time series"
      ]
    },
    {
      "cell_type": "code",
      "metadata": {
        "colab": {
          "base_uri": "https://localhost:8080/"
        },
        "id": "xXk-dTziDsAg",
        "outputId": "81249618-22ed-4507-858e-4dcf3ef5fecf"
      },
      "source": [
        "#finding mean \r\n",
        "mean_Yt = mean(Yt)\r\n",
        "print('mean is %f' % mean_Yt)"
      ],
      "execution_count": null,
      "outputs": [
        {
          "output_type": "stream",
          "text": [
            "mean is 50.564513\n"
          ],
          "name": "stdout"
        }
      ]
    },
    {
      "cell_type": "code",
      "metadata": {
        "colab": {
          "base_uri": "https://localhost:8080/"
        },
        "id": "kth0nL9oDsAh",
        "outputId": "a9c65842-ded3-4820-a48e-5ef4e4793501"
      },
      "source": [
        "#finding autocovariance\r\n",
        "autocovariance_Yt = autocovariance(Yt, len(Yt), 15, mean_Yt)\r\n",
        "print('autocovariance is %f' % autocovariance_Yt)"
      ],
      "execution_count": null,
      "outputs": [
        {
          "output_type": "stream",
          "text": [
            "autocovariance is 469.162563\n"
          ],
          "name": "stdout"
        }
      ]
    },
    {
      "cell_type": "code",
      "metadata": {
        "colab": {
          "base_uri": "https://localhost:8080/",
          "height": 281
        },
        "id": "51jfaKBXDsAi",
        "outputId": "fe290ddc-e261-4282-ae3b-4f2df0683e67"
      },
      "source": [
        "#plotting ACF\r\n",
        "plot_acf(Yt, lags = 15)  \r\n",
        "plt.show()"
      ],
      "execution_count": null,
      "outputs": [
        {
          "output_type": "display_data",
          "data": {
            "image/png": "[encoded data removed]",
            "text/plain": [
              "<Figure size 432x288 with 1 Axes>"
            ]
          },
          "metadata": {
            "tags": [],
            "needs_background": "light"
          }
        }
      ]
    },
    {
      "cell_type": "code",
      "metadata": {
        "colab": {
          "base_uri": "https://localhost:8080/",
          "height": 281
        },
        "id": "2pnnfHjADsAj",
        "outputId": "54bcf65e-9d22-4b33-be1a-e1df9d232188"
      },
      "source": [
        "#plotting PACF\r\n",
        "plot_pacf(Yt,lags=15)\r\n",
        "plt.show()"
      ],
      "execution_count": null,
      "outputs": [
        {
          "output_type": "display_data",
          "data": {
            "image/png": "[encoded data removed]",
            "text/plain": [
              "<Figure size 432x288 with 1 Axes>"
            ]
          },
          "metadata": {
            "tags": [],
            "needs_background": "light"
          }
        }
      ]
    },
    {
      "cell_type": "markdown",
      "metadata": {
        "id": "yGwL4xTzEZ3V"
      },
      "source": [
        "# e"
      ]
    },
    {
      "cell_type": "code",
      "metadata": {
        "id": "7Sqs-K9AEZ3W"
      },
      "source": [
        "#Creating random error value in array\r\n",
        "et = np.random.normal(0,1,100)"
      ],
      "execution_count": null,
      "outputs": []
    },
    {
      "cell_type": "code",
      "metadata": {
        "id": "ZIl2sEHhEZ3X"
      },
      "source": [
        "#Finding array of Yt according to given forecast equation\r\n",
        "Yt=et"
      ],
      "execution_count": null,
      "outputs": []
    },
    {
      "cell_type": "code",
      "metadata": {
        "colab": {
          "base_uri": "https://localhost:8080/"
        },
        "id": "_Tt0ZbKbEZ3Z",
        "outputId": "be478d0c-8c25-49fc-b2a3-c1cc248109b5"
      },
      "source": [
        "#Applying ADF teat\r\n",
        "ADF_test(Yt) \r\n"
      ],
      "execution_count": null,
      "outputs": [
        {
          "output_type": "stream",
          "text": [
            "ADF Statistic is -10.296151\n",
            "p-value is 0.000000\n"
          ],
          "name": "stdout"
        }
      ]
    },
    {
      "cell_type": "markdown",
      "metadata": {
        "id": "Y01bzJ2mKq5s"
      },
      "source": [
        ">p-value by ADF test is less than 0.05 so its a non stationary time series"
      ]
    },
    {
      "cell_type": "code",
      "metadata": {
        "colab": {
          "base_uri": "https://localhost:8080/"
        },
        "id": "4-Na503eEZ3a",
        "outputId": "4aa28a27-f0d7-4ba2-ffd8-85d6f4cb7fd2"
      },
      "source": [
        "#finding mean \r\n",
        "mean_Yt = mean(Yt)\r\n",
        "print('mean is %f' % mean_Yt)"
      ],
      "execution_count": null,
      "outputs": [
        {
          "output_type": "stream",
          "text": [
            "mean is -0.029561\n"
          ],
          "name": "stdout"
        }
      ]
    },
    {
      "cell_type": "code",
      "metadata": {
        "colab": {
          "base_uri": "https://localhost:8080/"
        },
        "id": "4SlVzXC3EZ3b",
        "outputId": "be6b2d89-318d-4c77-ac04-81c3447d3f89"
      },
      "source": [
        "#finding autocovariance\r\n",
        "autocovariance_Yt = autocovariance(Yt, len(Yt), 15, mean_Yt)\r\n",
        "print('autocovariance is %f' % autocovariance_Yt)"
      ],
      "execution_count": null,
      "outputs": [
        {
          "output_type": "stream",
          "text": [
            "autocovariance is -0.002758\n"
          ],
          "name": "stdout"
        }
      ]
    },
    {
      "cell_type": "code",
      "metadata": {
        "colab": {
          "base_uri": "https://localhost:8080/",
          "height": 281
        },
        "id": "yEe78e6CEZ3c",
        "outputId": "9456a1aa-0c53-40fc-aee6-b09c50dd1eed"
      },
      "source": [
        "#plotting ACF\r\n",
        "plot_acf(Yt, lags = 15)  \r\n",
        "plt.show()"
      ],
      "execution_count": null,
      "outputs": [
        {
          "output_type": "display_data",
          "data": {
            "image/png": "[encoded data removed]",
            "text/plain": [
              "<Figure size 432x288 with 1 Axes>"
            ]
          },
          "metadata": {
            "tags": [],
            "needs_background": "light"
          }
        }
      ]
    },
    {
      "cell_type": "code",
      "metadata": {
        "colab": {
          "base_uri": "https://localhost:8080/",
          "height": 281
        },
        "id": "SPl2fVKaEZ3d",
        "outputId": "34af4bea-fb04-4f37-e22c-d800f6412ee7"
      },
      "source": [
        "#plotting PACF\r\n",
        "plot_pacf(Yt,lags=15)\r\n",
        "plt.show()"
      ],
      "execution_count": null,
      "outputs": [
        {
          "output_type": "display_data",
          "data": {
            "image/png": "[encoded data removed]",
            "text/plain": [
              "<Figure size 432x288 with 1 Axes>"
            ]
          },
          "metadata": {
            "tags": [],
            "needs_background": "light"
          }
        }
      ]
    },
    {
      "cell_type": "markdown",
      "metadata": {
        "id": "2WMI0G4rFCsl"
      },
      "source": [
        "# f"
      ]
    },
    {
      "cell_type": "code",
      "metadata": {
        "id": "hDepK3GOFCsm"
      },
      "source": [
        "#Creating random error value in array\r\n",
        "et = np.random.normal(0, 1, 102)"
      ],
      "execution_count": null,
      "outputs": []
    },
    {
      "cell_type": "code",
      "metadata": {
        "id": "sWjkt1bDFCso"
      },
      "source": [
        "#Finding array of Yt according to given forecast equation\r\n",
        "Yt=[]\r\n",
        "for i in range(2,102):\r\n",
        "  Yt.append(et[i-2]*et[i])"
      ],
      "execution_count": null,
      "outputs": []
    },
    {
      "cell_type": "code",
      "metadata": {
        "colab": {
          "base_uri": "https://localhost:8080/"
        },
        "id": "5_fBohlEFCsp",
        "outputId": "223489be-064d-4fa4-ca3a-05fd9406b8e1"
      },
      "source": [
        "#Applying ADF teat\r\n",
        "ADF_test(Yt) \r\n"
      ],
      "execution_count": null,
      "outputs": [
        {
          "output_type": "stream",
          "text": [
            "ADF Statistic is -5.402091\n",
            "p-value is 0.000003\n"
          ],
          "name": "stdout"
        }
      ]
    },
    {
      "cell_type": "markdown",
      "metadata": {
        "id": "kEXq_2ahFCsq"
      },
      "source": [
        ">p-value by ADF test is less than .05 so its a stationary time series"
      ]
    },
    {
      "cell_type": "code",
      "metadata": {
        "colab": {
          "base_uri": "https://localhost:8080/"
        },
        "id": "Vys2gpWHFCsq",
        "outputId": "347cb4da-38a5-490e-e848-ef1185e90219"
      },
      "source": [
        "#finding mean \r\n",
        "mean_Yt = mean(Yt)\r\n",
        "print('mean is %f' % mean_Yt)"
      ],
      "execution_count": null,
      "outputs": [
        {
          "output_type": "stream",
          "text": [
            "mean is -0.059114\n"
          ],
          "name": "stdout"
        }
      ]
    },
    {
      "cell_type": "code",
      "metadata": {
        "colab": {
          "base_uri": "https://localhost:8080/"
        },
        "id": "FF9JGXoaFCsr",
        "outputId": "77b272b6-9bd7-4fad-c124-b1b0d434eb66"
      },
      "source": [
        "#finding autocovariance\r\n",
        "autocovariance_Yt = autocovariance(Yt, len(Yt), 15, mean_Yt)\r\n",
        "print('autocovariance is %f' % autocovariance_Yt)"
      ],
      "execution_count": null,
      "outputs": [
        {
          "output_type": "stream",
          "text": [
            "autocovariance is -0.075296\n"
          ],
          "name": "stdout"
        }
      ]
    },
    {
      "cell_type": "code",
      "metadata": {
        "colab": {
          "base_uri": "https://localhost:8080/",
          "height": 281
        },
        "id": "JCjtq9JNFCsr",
        "outputId": "051b4eb7-d8da-43d2-b0a6-fa28b3a15404"
      },
      "source": [
        "#plotting ACF\r\n",
        "plot_acf(Yt, lags = 15)  \r\n",
        "plt.show()"
      ],
      "execution_count": null,
      "outputs": [
        {
          "output_type": "display_data",
          "data": {
            "image/png": "[encoded data removed]",
            "text/plain": [
              "<Figure size 432x288 with 1 Axes>"
            ]
          },
          "metadata": {
            "tags": [],
            "needs_background": "light"
          }
        }
      ]
    },
    {
      "cell_type": "code",
      "metadata": {
        "colab": {
          "base_uri": "https://localhost:8080/",
          "height": 281
        },
        "id": "E-UNmEFfFCss",
        "outputId": "d08528c1-eeac-40f8-d89a-f80dba68a6ee"
      },
      "source": [
        "#plotting PACF\r\n",
        "plot_pacf(Yt,lags=15)\r\n",
        "plt.show()"
      ],
      "execution_count": null,
      "outputs": [
        {
          "output_type": "display_data",
          "data": {
            "image/png": "[encoded data removed]",
            "text/plain": [
              "<Figure size 432x288 with 1 Axes>"
            ]
          },
          "metadata": {
            "tags": [],
            "needs_background": "light"
          }
        }
      ]
    }
  ]
}