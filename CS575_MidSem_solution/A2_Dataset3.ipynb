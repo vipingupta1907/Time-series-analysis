{
  "nbformat": 4,
  "nbformat_minor": 0,
  "metadata": {
    "colab": {
      "name": "A2_Dataset3.ipynb",
      "provenance": [],
      "authorship_tag": "ABX9TyPIEF26tfTWIKcQEtp1nvhV",
      "include_colab_link": true
    },
    "kernelspec": {
      "name": "python3",
      "display_name": "Python 3"
    }
  },
  "cells": [
    {
      "cell_type": "markdown",
      "metadata": {
        "id": "view-in-github",
        "colab_type": "text"
      },
      "source": [
        "<a href=\"https://colab.research.google.com/github/vipingupta1907/2011MT22_CS575/blob/main/CS575_MidSem_solution/A2_Dataset3.ipynb\" target=\"_parent\"><img src=\"https://colab.research.google.com/assets/colab-badge.svg\" alt=\"Open In Colab\"/></a>"
      ]
    },
    {
      "cell_type": "markdown",
      "metadata": {
        "id": "5JKT_qAwfNjJ"
      },
      "source": [
        "# Solution for Dataset3"
      ]
    },
    {
      "cell_type": "code",
      "metadata": {
        "id": "IrmQ7hYcIl5Q"
      },
      "source": [
        "#importing the libraries\r\n",
        "\r\n",
        "import numpy as np\r\n",
        "import pandas as pd\r\n",
        "import math\r\n",
        "import matplotlib.pyplot as plt\r\n",
        "from scipy import stats\r\n",
        "import warnings\r\n",
        "warnings.filterwarnings(\"ignore\")\r\n",
        "from statsmodels.tsa.holtwinters import (ExponentialSmoothing, Holt, SimpleExpSmoothing)\r\n",
        "from sklearn.model_selection import TimeSeriesSplit\r\n",
        "from statsmodels.tsa.arima_model import ARIMA"
      ],
      "execution_count": null,
      "outputs": []
    },
    {
      "cell_type": "code",
      "metadata": {
        "colab": {
          "base_uri": "https://localhost:8080/",
          "height": 199
        },
        "id": "-fFinqChanc1",
        "outputId": "f1dc1784-0c25-421d-a866-a649c7af11ea"
      },
      "source": [
        "#importing the dataset\r\n",
        "\r\n",
        "D3 = pd.read_csv(\"Dataset3_nasdaq_1985_2014.csv\", names = [\"actual\"])\r\n",
        "D3.head()"
      ],
      "execution_count": null,
      "outputs": [
        {
          "output_type": "execute_result",
          "data": {
            "text/html": [
              "<div>\n",
              "<style scoped>\n",
              "    .dataframe tbody tr th:only-of-type {\n",
              "        vertical-align: middle;\n",
              "    }\n",
              "\n",
              "    .dataframe tbody tr th {\n",
              "        vertical-align: top;\n",
              "    }\n",
              "\n",
              "    .dataframe thead th {\n",
              "        text-align: right;\n",
              "    }\n",
              "</style>\n",
              "<table border=\"1\" class=\"dataframe\">\n",
              "  <thead>\n",
              "    <tr style=\"text-align: right;\">\n",
              "      <th></th>\n",
              "      <th>actual</th>\n",
              "    </tr>\n",
              "  </thead>\n",
              "  <tbody>\n",
              "    <tr>\n",
              "      <th>0</th>\n",
              "      <td>3888.09</td>\n",
              "    </tr>\n",
              "    <tr>\n",
              "      <th>1</th>\n",
              "      <td>3857.94</td>\n",
              "    </tr>\n",
              "    <tr>\n",
              "      <th>2</th>\n",
              "      <td>3874.27</td>\n",
              "    </tr>\n",
              "    <tr>\n",
              "      <th>3</th>\n",
              "      <td>3874.94</td>\n",
              "    </tr>\n",
              "    <tr>\n",
              "      <th>4</th>\n",
              "      <td>3908.77</td>\n",
              "    </tr>\n",
              "  </tbody>\n",
              "</table>\n",
              "</div>"
            ],
            "text/plain": [
              "    actual\n",
              "0  3888.09\n",
              "1  3857.94\n",
              "2  3874.27\n",
              "3  3874.94\n",
              "4  3908.77"
            ]
          },
          "metadata": {
            "tags": []
          },
          "execution_count": 70
        }
      ]
    },
    {
      "cell_type": "code",
      "metadata": {
        "colab": {
          "base_uri": "https://localhost:8080/",
          "height": 282
        },
        "id": "PoN5fQi6X5oM",
        "outputId": "f51af8d8-390c-4bd4-d225-9ac16d18d00b"
      },
      "source": [
        "plt.plot(D3['actual'])"
      ],
      "execution_count": null,
      "outputs": [
        {
          "output_type": "execute_result",
          "data": {
            "text/plain": [
              "[<matplotlib.lines.Line2D at 0x7f7293b5f210>]"
            ]
          },
          "metadata": {
            "tags": []
          },
          "execution_count": 71
        },
        {
          "output_type": "display_data",
          "data": {
            "image/png": "[encoded data removed]",
            "text/plain": [
              "<Figure size 432x288 with 1 Axes>"
            ]
          },
          "metadata": {
            "tags": [],
            "needs_background": "light"
          }
        }
      ]
    },
    {
      "cell_type": "markdown",
      "metadata": {
        "id": "RunGI8YSt5Jw"
      },
      "source": [
        "#KPSS Test"
      ]
    },
    {
      "cell_type": "code",
      "metadata": {
        "colab": {
          "base_uri": "https://localhost:8080/"
        },
        "id": "1Wgr3C7edGLS",
        "outputId": "96460275-022f-4a17-fcc3-ad178d1c014c"
      },
      "source": [
        "#define function for kpss test\r\n",
        "\r\n",
        "from statsmodels.tsa.stattools import kpss\r\n",
        "def kpss_test(atr):\r\n",
        "    timeseries = D3[atr].dropna()\r\n",
        "    print ('Results of KPSS Test for ',atr)\r\n",
        "    kpsstest = kpss(timeseries, regression='c')\r\n",
        "    kpss_output = pd.Series(kpsstest[0:3], index=['Test Statistic','p-value','Lags Used'])\r\n",
        "    for key,value in kpsstest[3].items():\r\n",
        "        kpss_output['Critical Value (%s)'%key] = value\r\n",
        "    print (kpss_output)\r\n",
        "kpss_test('actual')"
      ],
      "execution_count": null,
      "outputs": [
        {
          "output_type": "stream",
          "text": [
            "Results of KPSS Test for  actual\n",
            "Test Statistic           12.143812\n",
            "p-value                   0.010000\n",
            "Lags Used                36.000000\n",
            "Critical Value (10%)      0.347000\n",
            "Critical Value (5%)       0.463000\n",
            "Critical Value (2.5%)     0.574000\n",
            "Critical Value (1%)       0.739000\n",
            "dtype: float64\n"
          ],
          "name": "stdout"
        }
      ]
    },
    {
      "cell_type": "markdown",
      "metadata": {
        "id": "iG8gokqk7KYH"
      },
      "source": [
        ">For the given dataset D3 , the value of the test statistic is greater than the critical value at all confidence intervals in the KPSS test, hence the series is non stationary."
      ]
    },
    {
      "cell_type": "markdown",
      "metadata": {
        "id": "yWLq4lZpt-Nb"
      },
      "source": [
        "#ADF Test"
      ]
    },
    {
      "cell_type": "code",
      "metadata": {
        "colab": {
          "base_uri": "https://localhost:8080/"
        },
        "id": "_yTIfsZPdnqe",
        "outputId": "7b3c5896-2abc-40e8-cf3c-e36bea977460"
      },
      "source": [
        "#define function for ADF test\r\n",
        "\r\n",
        "from statsmodels.tsa.stattools import adfuller\r\n",
        "\r\n",
        "def adf_test(atr):\r\n",
        "    timeseries = D3[atr].dropna()\r\n",
        "    print ('Results of Dickey-Fuller Test for ',atr,'\\n')\r\n",
        "    dftest = adfuller(timeseries, autolag='AIC')\r\n",
        "    dfoutput = pd.Series(dftest[0:4], index=['Test Statistic','p-value','#Lags Used','Number of Observations Used'])\r\n",
        "    for key,value in dftest[4].items():\r\n",
        "       dfoutput['Critical Value (%s)'%key] = value\r\n",
        "    print(dfoutput)\r\n",
        "\r\n",
        "adf_test('actual')"
      ],
      "execution_count": null,
      "outputs": [
        {
          "output_type": "stream",
          "text": [
            "Results of Dickey-Fuller Test for  actual \n",
            "\n",
            "Test Statistic                   -2.381102\n",
            "p-value                           0.147141\n",
            "#Lags Used                       35.000000\n",
            "Number of Observations Used    7240.000000\n",
            "Critical Value (1%)              -3.431254\n",
            "Critical Value (5%)              -2.861939\n",
            "Critical Value (10%)             -2.566983\n",
            "dtype: float64\n"
          ],
          "name": "stdout"
        }
      ]
    },
    {
      "cell_type": "markdown",
      "metadata": {
        "id": "VM-QN4TaRA-u"
      },
      "source": [
        ">For the given dataset D3 , the value of the test statistic is greater than the critical value at all confidence intervals in the ADF test, hence  the series is non stationary.\n"
      ]
    },
    {
      "cell_type": "markdown",
      "metadata": {
        "id": "rnz15pwTO4ne"
      },
      "source": [
        "**Since, both tests conclude that the series is non stationary, therefore, the dataset is concluded as Non Stationary.**"
      ]
    },
    {
      "cell_type": "markdown",
      "metadata": {
        "id": "jsZifPslfDzm"
      },
      "source": [
        "# making non stationary series to stationary"
      ]
    },
    {
      "cell_type": "code",
      "metadata": {
        "colab": {
          "base_uri": "https://localhost:8080/",
          "height": 647
        },
        "id": "UZPcUhIKYjVQ",
        "outputId": "d976cb3e-82f5-4342-85cb-3f4a3cf8b737"
      },
      "source": [
        "# Differencing\r\n",
        "D3['diff'] = D3['actual'].diff(periods=1)\r\n",
        "\r\n",
        "# Seasonal Differencing\r\n",
        "D3['seas_diff'] = D3['actual'].diff(periods=1)\r\n",
        "\r\n",
        "# Transformation (here we use log transformation)\r\n",
        "D3_log = np.log(D3['actual'])\r\n",
        "D3['log_diff'] = D3_log.diff(periods=1)\r\n",
        "\r\n",
        "D3.plot(subplots=True, figsize=(10,12))\r\n",
        "plt.show()"
      ],
      "execution_count": null,
      "outputs": [
        {
          "output_type": "display_data",
          "data": {
            "image/png": "[encoded data removed]",
            "text/plain": [
              "<Figure size 720x864 with 4 Axes>"
            ]
          },
          "metadata": {
            "tags": [],
            "needs_background": "light"
          }
        }
      ]
    },
    {
      "cell_type": "markdown",
      "metadata": {
        "id": "A7RE1SQccK0E"
      },
      "source": [
        "\r\n",
        "\r\n",
        "> From the above plot we can visiualise that coloumn log_diff is stationary series\r\n",
        "\r\n",
        "\r\n"
      ]
    },
    {
      "cell_type": "code",
      "metadata": {
        "id": "L7Phzjf6glIo"
      },
      "source": [
        "data = D3['actual']"
      ],
      "execution_count": null,
      "outputs": []
    },
    {
      "cell_type": "markdown",
      "metadata": {
        "id": "tSCbkLyFtZJ-"
      },
      "source": [
        "#Single Exponential Smoothing"
      ]
    },
    {
      "cell_type": "code",
      "metadata": {
        "id": "JKjRx0snue2S"
      },
      "source": [
        "#Defining function for calling data values with interval 'n'\r\n",
        "\r\n",
        "def data_n(arr,interval):\r\n",
        "  arr1=[arr[0]]\r\n",
        "  for i in range(1,len(arr)):\r\n",
        "    if i%interval==0:  \r\n",
        "      arr1.append(arr[i])\r\n",
        "  return arr1"
      ],
      "execution_count": null,
      "outputs": []
    },
    {
      "cell_type": "code",
      "metadata": {
        "id": "sIyNFYEHk6eT"
      },
      "source": [
        "#Defining single Exponential Smoothing function with interval \r\n",
        "\r\n",
        "def single_exponential_smoothing(arr, alpha, interval):\r\n",
        "  arr1 = [arr[0]]\r\n",
        "  j=1\r\n",
        "  for i in range(1, len(arr)):\r\n",
        "    if i%interval == 0:\r\n",
        "      arr1.append(alpha*arr[i-1] + (1-alpha)*arr1[j-1])\r\n",
        "      j+=1\r\n",
        "  return arr1"
      ],
      "execution_count": null,
      "outputs": []
    },
    {
      "cell_type": "code",
      "metadata": {
        "id": "Osg4SodfwxJl"
      },
      "source": [
        "#Calculating mean square error function for single exponential smoothing \r\n",
        "\r\n",
        "def MSE_SES(arr, alpha, interval):\r\n",
        "  Y_true = data_n(arr, interval)\r\n",
        "  Y_pred = single_exponential_smoothing(arr, alpha, interval)\r\n",
        "  MSE = np.square(np.subtract(Y_true,Y_pred)).mean() \r\n",
        "  return MSE\r\n"
      ],
      "execution_count": null,
      "outputs": []
    },
    {
      "cell_type": "code",
      "metadata": {
        "id": "CnfBpOIzgEOs"
      },
      "source": [
        "#Calculating mean absolute error function for single exponential smoothing \r\n",
        "\r\n",
        "def MAE_SES(arr, alpha, interval):\r\n",
        "  Y_true = data_n(arr, interval)\r\n",
        "  Y_pred = single_exponential_smoothing(arr, alpha, interval)\r\n",
        "  MAE = abs(np.subtract(Y_true,Y_pred)).mean() \r\n",
        "  return MAE\r\n"
      ],
      "execution_count": null,
      "outputs": []
    },
    {
      "cell_type": "code",
      "metadata": {
        "colab": {
          "base_uri": "https://localhost:8080/"
        },
        "id": "ZrugLVYlsCM7",
        "outputId": "2fbd7b2b-28ca-40e7-b49b-015cb1ac46d5"
      },
      "source": [
        "#calculating mean square error for different combinations of alpha for single exponential smoothing\r\n",
        "\r\n",
        "print(\"MSE for alpha =.4 is  \" ,MSE_SES(data, .4, interval=1), \"\\n\")\r\n",
        "print(\"MSE for alpha =.35 is \" ,MSE_SES(data, .35, interval=2), \"\\n\")\r\n",
        "print(\"MSE for alpha =.65 is \" ,MSE_SES(data, .65, interval=4), \"\\n\")\r\n",
        "print(\"MSE for alpha =.85 is \" ,MSE_SES(data, .85, interval=8), \"\\n\")\r\n",
        "print(\"MSE for alpha =.65 is \" ,MSE_SES(data, .65, interval=12), \"\\n\")\r\n",
        "print(\"MSE for alpha =.85 is \" ,MSE_SES(data, .85, interval=24), \"\\n\")"
      ],
      "execution_count": null,
      "outputs": [
        {
          "output_type": "stream",
          "text": [
            "MSE for alpha =.4 is   1515.4431892222867 \n",
            "\n",
            "MSE for alpha =.35 is  2109.3801074529774 \n",
            "\n",
            "MSE for alpha =.65 is  1480.4305946599552 \n",
            "\n",
            "MSE for alpha =.85 is  1091.1829606672313 \n",
            "\n",
            "MSE for alpha =.65 is  2851.012360790199 \n",
            "\n",
            "MSE for alpha =.85 is  1745.7915913447398 \n",
            "\n"
          ],
          "name": "stdout"
        }
      ]
    },
    {
      "cell_type": "code",
      "metadata": {
        "colab": {
          "base_uri": "https://localhost:8080/"
        },
        "id": "Y0aaUdZt7Nim",
        "outputId": "db1e75d8-74f7-4f91-f431-d74fc394faea"
      },
      "source": [
        "#calculating mean Absolute error after aplying different combinations\r\n",
        "print(\"MAE  is \" ,MAE_SES(data, .4 ,interval=1), \"\\n\")\r\n",
        "print(\"MAE  is \" ,MAE_SES(data, .4  ,interval=2), \"\\n\")\r\n",
        "print(\"MAE  is \" ,MAE_SES(data,.4  , interval=4), \"\\n\")\r\n",
        "print(\"MAE  is \" ,MAE_SES(data,.4  , interval=8), \"\\n\")\r\n",
        "print(\"MAE  is \" ,MAE_SES(data,.4  ,interval=12), \"\\n\")\r\n",
        "print(\"MAE  is \" ,MAE_SES(data,.4 ,interval=24), \"\\n\")"
      ],
      "execution_count": null,
      "outputs": [
        {
          "output_type": "stream",
          "text": [
            "MAE  is  21.355617040046365 \n",
            "\n",
            "MAE  is  24.088571036089164 \n",
            "\n",
            "MAE  is  30.465650544609684 \n",
            "\n",
            "MAE  is  40.50366714134317 \n",
            "\n",
            "MAE  is  50.656881983647125 \n",
            "\n",
            "MAE  is  73.3454452436858 \n",
            "\n"
          ],
          "name": "stdout"
        }
      ]
    },
    {
      "cell_type": "markdown",
      "metadata": {
        "id": "rKqqC8z1tpeL"
      },
      "source": [
        "#Double Exponential Smoothing"
      ]
    },
    {
      "cell_type": "code",
      "metadata": {
        "id": "js71BVwGS39I"
      },
      "source": [
        "#Defining Double Exponential Smoothing function double_exponential_smoothing with interval \r\n",
        "\r\n",
        "\r\n",
        "def double_exponential_smoothing(arr,alpha,beta,interval):\r\n",
        "  a=[arr[0]]\r\n",
        "  l=len(arr)\r\n",
        "  b=[(arr[l-1]-arr[0])/(l-1)]\r\n",
        "  arr1 = [arr[0]]\r\n",
        "  j=0\r\n",
        "  for i in range(1,len(arr)):\r\n",
        "      if i%interval==0:\r\n",
        "        arr1.append(a[j]+b[j])\r\n",
        "        j+=1\r\n",
        "        a.append(alpha * arr[i] + (1 - alpha) * (a[j-1]+b[j-1]))\r\n",
        "        b.append(beta * (a[j]-a[j-1]) + (1 - beta) * (b[j-1]))        \r\n",
        "  return arr1"
      ],
      "execution_count": null,
      "outputs": []
    },
    {
      "cell_type": "code",
      "metadata": {
        "id": "cAdgBFF92heU"
      },
      "source": [
        "#Calculating mean square error function for double exponential smoothing \r\n",
        "\r\n",
        "def MSE_DES(arr, alpha,beta,interval):\r\n",
        "  Y_true = data_n(arr, interval)\r\n",
        "  Y_pred = double_exponential_smoothing(arr, alpha,beta, interval)\r\n",
        "  MSE = np.square(np.subtract(Y_true,Y_pred)).mean() \r\n",
        "  return MSE"
      ],
      "execution_count": null,
      "outputs": []
    },
    {
      "cell_type": "code",
      "metadata": {
        "id": "UElSLko2fv0V"
      },
      "source": [
        "#Calculating mean absolute error function for double exponential smoothing \r\n",
        "\r\n",
        "def MAE_DES(arr, alpha,beta,interval):\r\n",
        "  Y_true = data_n(arr, interval)\r\n",
        "  Y_pred = double_exponential_smoothing(arr, alpha,beta, interval)\r\n",
        "  MAE = abs(np.subtract(Y_true,Y_pred)).mean() \r\n",
        "  return MAE"
      ],
      "execution_count": null,
      "outputs": []
    },
    {
      "cell_type": "code",
      "metadata": {
        "colab": {
          "base_uri": "https://localhost:8080/"
        },
        "id": "K4e95XD1s6I5",
        "outputId": "01cc4206-a8f1-4a82-d289-b65a150d1326"
      },
      "source": [
        "#calculating mean square error for different combinations of alpha, beta for double exponential smoothing \r\n",
        "\r\n",
        "print(\"MSE for alpha =.4,  beta = .2  is \" ,MSE_DES(data, .4, .2 ,interval=1), \"\\n\")\r\n",
        "print(\"MSE for alpha =.35, beta = .5  is \" ,MSE_DES(data, .35, .5, interval=2), \"\\n\")\r\n",
        "print(\"MSE for alpha =.85, beta = .6  is \" ,MSE_DES(data, .85, .6 ,interval=4), \"\\n\")\r\n",
        "print(\"MSE for alpha =.45, beta = .6  is \" ,MSE_DES(data, .45, .6 ,interval=8), \"\\n\")\r\n",
        "print(\"MSE for alpha =.7,  beta = .55 is \" ,MSE_DES(data, .7, .55, interval=12), \"\\n\")\r\n",
        "print(\"MSE for alpha =.2,  beta = .6  is \" ,MSE_DES(data, .2, .6 ,interval=24), \"\\n\")\r\n"
      ],
      "execution_count": null,
      "outputs": [
        {
          "output_type": "stream",
          "text": [
            "MSE for alpha =.4,  beta = .2  is  1607.2881281068817 \n",
            "\n",
            "MSE for alpha =.35, beta = .5  is  3310.5516498351135 \n",
            "\n",
            "MSE for alpha =.85, beta = .6  is  4537.862256810189 \n",
            "\n",
            "MSE for alpha =.45, beta = .6  is  10459.372349153586 \n",
            "\n",
            "MSE for alpha =.7,  beta = .55 is  13654.093966098233 \n",
            "\n",
            "MSE for alpha =.2,  beta = .6  is  57665.504533328385 \n",
            "\n"
          ],
          "name": "stdout"
        }
      ]
    },
    {
      "cell_type": "code",
      "metadata": {
        "colab": {
          "base_uri": "https://localhost:8080/"
        },
        "id": "ddYXhv3z6iOf",
        "outputId": "dae77a1f-14fc-411a-e97e-c3268d4d74e1"
      },
      "source": [
        "#calculating mean Absolute error after aplying different combinations\r\n",
        "print(\"MAE  is \" ,MAE_DES(data, .4, .2 ,interval=1), \"\\n\")\r\n",
        "print(\"MAE  is \" ,MAE_DES(data, .4, .2 ,interval=2), \"\\n\")\r\n",
        "print(\"MAE  is \" ,MAE_DES(data,.4, .2 , interval=4), \"\\n\")\r\n",
        "print(\"MAE  is \" ,MAE_DES(data,.4, .2 , interval=8), \"\\n\")\r\n",
        "print(\"MAE  is \" ,MAE_DES(data,.4, .2 ,interval=12), \"\\n\")\r\n",
        "print(\"MAE  is \" ,MAE_DES(data,.4, .2 ,interval=24), \"\\n\")"
      ],
      "execution_count": null,
      "outputs": [
        {
          "output_type": "stream",
          "text": [
            "MAE  is  21.69472930416115 \n",
            "\n",
            "MAE  is  29.609059454419167 \n",
            "\n",
            "MAE  is  41.04007315704296 \n",
            "\n",
            "MAE  is  59.82496355021401 \n",
            "\n",
            "MAE  is  76.45615811875881 \n",
            "\n",
            "MAE  is  112.88841612167026 \n",
            "\n"
          ],
          "name": "stdout"
        }
      ]
    },
    {
      "cell_type": "markdown",
      "metadata": {
        "id": "ppPX57fNtyNa"
      },
      "source": [
        "#Triple Exponential Smoothing"
      ]
    },
    {
      "cell_type": "code",
      "metadata": {
        "id": "lTPz56oePwAu"
      },
      "source": [
        "#Defining Triple Exponential Smoothing function double_exponential_smoothing with interval \r\n",
        "\r\n",
        "def initial_trend(data, slen):\r\n",
        "    sum = 0.0\r\n",
        "    for i in range(slen):\r\n",
        "        sum += float(data[i+slen] - data[i]) / slen\r\n",
        "    return sum / slen\r\n",
        "\r\n",
        "def initial_seasonal_components(data, slen):\r\n",
        "    seasonals = {}\r\n",
        "    season_averages = []\r\n",
        "    n_seasons = int(len(data)/slen)\r\n",
        "    # compute season averages\r\n",
        "    for j in range(n_seasons):\r\n",
        "        season_averages.append(sum(data[slen*j:slen*j+slen])/float(slen))\r\n",
        "    # compute initial values\r\n",
        "    for i in range(slen):\r\n",
        "        sum_of_vals_over_avg = 0.0\r\n",
        "        for j in range(n_seasons):\r\n",
        "            sum_of_vals_over_avg += data[slen*j+i]-season_averages[j]\r\n",
        "        seasonals[i] = sum_of_vals_over_avg/n_seasons\r\n",
        "    return seasonals\r\n",
        "\r\n",
        "def triple_exponential_smoothing(data, slen, alpha, beta, gamma, interval):\r\n",
        "    data2 = data_n(data,interval)\r\n",
        "    result = []\r\n",
        "    seasonals = initial_seasonal_components(data2, slen)\r\n",
        "    for i in range(len(data2)):\r\n",
        "        if i == 0: \r\n",
        "            smooth = data2[0]\r\n",
        "            trend = initial_trend(data2, slen)\r\n",
        "            result.append(data2[0])\r\n",
        "            continue\r\n",
        "        if i >= len(data2): \r\n",
        "            m = i - len(data2) + 1\r\n",
        "            result.append((smooth + m*trend) + seasonals[i%slen])\r\n",
        "        else:\r\n",
        "            val = data2[i]\r\n",
        "            last_smooth, smooth = smooth, alpha*(val-seasonals[i%slen]) + (1-alpha)*(smooth+trend)\r\n",
        "            trend = beta * (smooth-last_smooth) + (1-beta)*trend\r\n",
        "            seasonals[i%slen] = gamma*(val-smooth) + (1-gamma)*seasonals[i%slen]\r\n",
        "            result.append(smooth+trend+seasonals[i%slen])\r\n",
        "    return result"
      ],
      "execution_count": null,
      "outputs": []
    },
    {
      "cell_type": "code",
      "metadata": {
        "id": "OHVBE1JLZcz-"
      },
      "source": [
        "#Calculating mean square error function for Triple exponential smoothing \r\n",
        "\r\n",
        "def MSE_TES(arr,slen, alpha,beta,gamma, interval):\r\n",
        "  Y_true = data_n(arr, interval)\r\n",
        "  Y_pred = triple_exponential_smoothing(arr,slen , alpha,beta, gamma, interval)\r\n",
        "  MSE = np.square(np.subtract(Y_true,Y_pred)).mean() \r\n",
        "  return MSE"
      ],
      "execution_count": null,
      "outputs": []
    },
    {
      "cell_type": "code",
      "metadata": {
        "id": "YSJ17VrfdOIQ"
      },
      "source": [
        "#Calculating mean absolute error function for Triple exponential smoothing \r\n",
        "\r\n",
        "def MAE_TES(arr,slen, alpha,beta,gamma, interval):\r\n",
        "  Y_true = data_n(arr, interval)\r\n",
        "  Y_pred = triple_exponential_smoothing(arr,slen , alpha,beta, gamma, interval)\r\n",
        "  MAE = abs(np.subtract(Y_true,Y_pred)).mean() \r\n",
        "  return MAE"
      ],
      "execution_count": null,
      "outputs": []
    },
    {
      "cell_type": "code",
      "metadata": {
        "colab": {
          "base_uri": "https://localhost:8080/"
        },
        "id": "EURXItxStbUt",
        "outputId": "5a2e6b21-cdd0-4eba-d330-02c52617ef82"
      },
      "source": [
        "#calculating mean square error for different combinations of alpha, beta, gamma for triple exponential smoothing\r\n",
        "\r\n",
        "print(\"MSE for alpha =.4,  beta = .2,  gamma = .5  is \" ,MSE_TES(data,1, .4, .2 , .5,interval=1), \"\\n\")\r\n",
        "print(\"MSE for alpha =.35, beta = .5,  gamma = .3  is \" ,MSE_TES(data,1, .35, .5, .3, interval=2), \"\\n\")\r\n",
        "print(\"MSE for alpha =.45, beta = .6,  gamma = .4  is \" ,MSE_TES(data,1, .45, .6, .4 ,interval=4), \"\\n\")\r\n",
        "print(\"MSE for alpha =.4,  beta = .2,  gamma = .5  is \" ,MSE_TES(data,1, .4, .2 , .5,interval=8), \"\\n\")\r\n",
        "print(\"MSE for alpha =.3,  beta = .5,  gamma = .55 is \" ,MSE_TES(data,1, .3, .5, .55, interval=12), \"\\n\")\r\n",
        "print(\"MSE for alpha =.3,  beta = .5,  gamma = .55 is \" ,MSE_TES(data,1, .3, .5, .55, interval=24), \"\\n\")\r\n"
      ],
      "execution_count": null,
      "outputs": [
        {
          "output_type": "stream",
          "text": [
            "MSE for alpha =.4,  beta = .2,  gamma = .5  is  131.1391742132832 \n",
            "\n",
            "MSE for alpha =.35, beta = .5,  gamma = .3  is  607.588146960391 \n",
            "\n",
            "MSE for alpha =.45, beta = .6,  gamma = .4  is  834.4877259788155 \n",
            "\n",
            "MSE for alpha =.4,  beta = .2,  gamma = .5  is  1067.6462198132922 \n",
            "\n",
            "MSE for alpha =.3,  beta = .5,  gamma = .55 is  2225.839753673527 \n",
            "\n",
            "MSE for alpha =.3,  beta = .5,  gamma = .55 is  4845.662803494255 \n",
            "\n"
          ],
          "name": "stdout"
        }
      ]
    },
    {
      "cell_type": "code",
      "metadata": {
        "colab": {
          "base_uri": "https://localhost:8080/"
        },
        "id": "Qshqu8-Y42jP",
        "outputId": "6a1dc293-ee6a-45ec-f828-939929f365e3"
      },
      "source": [
        "#calculating mean Absolute error after aplying different combinations\r\n",
        "print(\"MAE  is \" ,MAE_TES(data,1, .4, .2 , .5,interval=1), \"\\n\")\r\n",
        "print(\"MAE  is \" ,MAE_TES(data,1, .4, .2 , .5,interval=2), \"\\n\")\r\n",
        "print(\"MAE  is \" ,MAE_TES(data,1, .4, .2 , .5,interval=4), \"\\n\")\r\n",
        "print(\"MAE  is \" ,MAE_TES(data,1, .4, .2 , .5,interval=8), \"\\n\")\r\n",
        "print(\"MAE  is \" ,MAE_TES(data,1, .4, .2 , .5,interval=12), \"\\n\")\r\n",
        "print(\"MAE  is \" ,MAE_TES(data,1, .4, .2 , .5,interval=24), \"\\n\")"
      ],
      "execution_count": null,
      "outputs": [
        {
          "output_type": "stream",
          "text": [
            "MAE  is  6.293700117207059 \n",
            "\n",
            "MAE  is  8.80745243778473 \n",
            "\n",
            "MAE  is  12.769487781217768 \n",
            "\n",
            "MAE  is  19.495273780566755 \n",
            "\n",
            "MAE  is  25.085040243260252 \n",
            "\n",
            "MAE  is  37.50917931617524 \n",
            "\n"
          ],
          "name": "stdout"
        }
      ]
    },
    {
      "cell_type": "markdown",
      "metadata": {
        "id": "VCVgc0V_oGQf"
      },
      "source": [
        "# AR"
      ]
    },
    {
      "cell_type": "code",
      "metadata": {
        "colab": {
          "base_uri": "https://localhost:8080/"
        },
        "id": "4L2mPUeeqShA",
        "outputId": "65cd1374-f909-470c-9466-81a2d5c30e2e"
      },
      "source": [
        "#fit model\r\n",
        "model=ARIMA(D3['log_diff'].dropna(), order=(1,0,0))\r\n",
        "model_fit=model.fit()\r\n",
        "\r\n",
        "#model summary\r\n",
        "print(model_fit.summary())\r\n",
        "\r\n",
        "#make prediction\r\n",
        "D3['forecast1'] = model_fit.predict()"
      ],
      "execution_count": null,
      "outputs": [
        {
          "output_type": "stream",
          "text": [
            "                              ARMA Model Results                              \n",
            "==============================================================================\n",
            "Dep. Variable:               log_diff   No. Observations:                 7275\n",
            "Model:                     ARMA(1, 0)   Log Likelihood               18485.506\n",
            "Method:                       css-mle   S.D. of innovations              0.019\n",
            "Date:                Mon, 01 Mar 2021   AIC                         -36965.012\n",
            "Time:                        05:43:47   BIC                         -36944.335\n",
            "Sample:                             0   HQIC                        -36957.901\n",
            "                                                                              \n",
            "==================================================================================\n",
            "                     coef    std err          z      P>|z|      [0.025      0.975]\n",
            "----------------------------------------------------------------------------------\n",
            "const             -0.0004      0.000     -1.782      0.075      -0.001    3.91e-05\n",
            "ar.L1.log_diff    -0.0159      0.012     -1.359      0.174      -0.039       0.007\n",
            "                                    Roots                                    \n",
            "=============================================================================\n",
            "                  Real          Imaginary           Modulus         Frequency\n",
            "-----------------------------------------------------------------------------\n",
            "AR.1          -62.7908           +0.0000j           62.7908            0.5000\n",
            "-----------------------------------------------------------------------------\n"
          ],
          "name": "stdout"
        }
      ]
    },
    {
      "cell_type": "code",
      "metadata": {
        "colab": {
          "base_uri": "https://localhost:8080/"
        },
        "id": "o3tPVCLfvxbO",
        "outputId": "7a02ee55-e3b8-4b8b-ec54-0ea48b96fd5a"
      },
      "source": [
        "#Calculating mean square error function \r\n",
        "MSE = np.square(np.subtract(D3['log_diff'],D3['forecast1'])).mean() \r\n",
        "print(\"MSE for AR is\", MSE)"
      ],
      "execution_count": null,
      "outputs": [
        {
          "output_type": "stream",
          "text": [
            "MSE for AR is 0.00036347388846149514\n"
          ],
          "name": "stdout"
        }
      ]
    },
    {
      "cell_type": "code",
      "metadata": {
        "colab": {
          "base_uri": "https://localhost:8080/"
        },
        "id": "P1Iw1sdVvxbm",
        "outputId": "e820e2a9-b282-4244-976e-dc4b41a05557"
      },
      "source": [
        "#Calculating mean absolute error function \r\n",
        "MAE = abs(np.subtract(D3['log_diff'],D3['forecast1'])).mean() \r\n",
        "print(\"MAE for AR is\", MAE)\r\n"
      ],
      "execution_count": null,
      "outputs": [
        {
          "output_type": "stream",
          "text": [
            "MAE for AR is 0.011831845162916653\n"
          ],
          "name": "stdout"
        }
      ]
    },
    {
      "cell_type": "markdown",
      "metadata": {
        "id": "LSqcHTBZrHV7"
      },
      "source": [
        "# MA"
      ]
    },
    {
      "cell_type": "code",
      "metadata": {
        "colab": {
          "base_uri": "https://localhost:8080/"
        },
        "id": "NWzi26IvrJMX",
        "outputId": "c09625aa-1583-4738-f0be-39c07dd39fbd"
      },
      "source": [
        "#fit model\r\n",
        "model=ARIMA(D3['log_diff'].dropna(), order=(0,0,1))\r\n",
        "model_fit=model.fit()\r\n",
        "\r\n",
        "#model summary\r\n",
        "print(model_fit.summary())\r\n",
        "\r\n",
        "#make prediction\r\n",
        "D3['forecast2'] = model_fit.predict()"
      ],
      "execution_count": null,
      "outputs": [
        {
          "output_type": "stream",
          "text": [
            "                              ARMA Model Results                              \n",
            "==============================================================================\n",
            "Dep. Variable:               log_diff   No. Observations:                 7275\n",
            "Model:                     ARMA(0, 1)   Log Likelihood               18485.611\n",
            "Method:                       css-mle   S.D. of innovations              0.019\n",
            "Date:                Mon, 01 Mar 2021   AIC                         -36965.222\n",
            "Time:                        05:43:47   BIC                         -36944.545\n",
            "Sample:                             0   HQIC                        -36958.111\n",
            "                                                                              \n",
            "==================================================================================\n",
            "                     coef    std err          z      P>|z|      [0.025      0.975]\n",
            "----------------------------------------------------------------------------------\n",
            "const             -0.0004      0.000     -1.786      0.074      -0.001    3.82e-05\n",
            "ma.L1.log_diff    -0.0177      0.012     -1.434      0.152      -0.042       0.007\n",
            "                                    Roots                                    \n",
            "=============================================================================\n",
            "                  Real          Imaginary           Modulus         Frequency\n",
            "-----------------------------------------------------------------------------\n",
            "MA.1           56.3667           +0.0000j           56.3667            0.0000\n",
            "-----------------------------------------------------------------------------\n"
          ],
          "name": "stdout"
        }
      ]
    },
    {
      "cell_type": "code",
      "metadata": {
        "colab": {
          "base_uri": "https://localhost:8080/"
        },
        "id": "SiCIcgeOxqnM",
        "outputId": "5fd1bbfa-2f74-4b88-e6ac-c407a75598db"
      },
      "source": [
        "#Calculating mean square error function \r\n",
        "MSE = np.square(np.subtract(D3['log_diff'],D3['forecast2'])).mean() \r\n",
        "print(\"MSE for MR is\", MSE)"
      ],
      "execution_count": null,
      "outputs": [
        {
          "output_type": "stream",
          "text": [
            "MSE for MR is 0.00036346337947605064\n"
          ],
          "name": "stdout"
        }
      ]
    },
    {
      "cell_type": "code",
      "metadata": {
        "colab": {
          "base_uri": "https://localhost:8080/"
        },
        "id": "2oX7IR9cxqnO",
        "outputId": "17241af2-0b2a-458e-c317-2a55f61f3d99"
      },
      "source": [
        "#Calculating mean absolute error function \r\n",
        "MAE = abs(np.subtract(D3['log_diff'],D3['forecast2'])).mean() \r\n",
        "print(\"MAE for MR is\", MAE)\r\n"
      ],
      "execution_count": null,
      "outputs": [
        {
          "output_type": "stream",
          "text": [
            "MAE for MR is 0.011832984393080111\n"
          ],
          "name": "stdout"
        }
      ]
    },
    {
      "cell_type": "markdown",
      "metadata": {
        "id": "sb-DFg5ErZnP"
      },
      "source": [
        "# ARIMA"
      ]
    },
    {
      "cell_type": "code",
      "metadata": {
        "colab": {
          "base_uri": "https://localhost:8080/"
        },
        "id": "oUORLzc3rc4F",
        "outputId": "0d1cc428-7945-4488-e21e-66658e2280ed"
      },
      "source": [
        "#fit model\r\n",
        "model=ARIMA(D3['actual'].dropna(), order=(1,1,1))\r\n",
        "model_fit=model.fit()\r\n",
        "\r\n",
        "#model summary\r\n",
        "print(model_fit.summary())\r\n",
        "\r\n",
        "#make prediction\r\n",
        "D3['forecast3'] = model_fit.predict()"
      ],
      "execution_count": null,
      "outputs": [
        {
          "output_type": "stream",
          "text": [
            "                             ARIMA Model Results                              \n",
            "==============================================================================\n",
            "Dep. Variable:               D.actual   No. Observations:                 7275\n",
            "Model:                 ARIMA(1, 1, 1)   Log Likelihood              -35782.761\n",
            "Method:                       css-mle   S.D. of innovations             33.104\n",
            "Date:                Mon, 01 Mar 2021   AIC                          71573.521\n",
            "Time:                        05:43:48   BIC                          71601.090\n",
            "Sample:                             1   HQIC                         71583.003\n",
            "                                                                              \n",
            "==================================================================================\n",
            "                     coef    std err          z      P>|z|      [0.025      0.975]\n",
            "----------------------------------------------------------------------------------\n",
            "const             -0.5036      0.320     -1.573      0.116      -1.131       0.124\n",
            "ar.L1.D.actual     0.5945      0.068      8.791      0.000       0.462       0.727\n",
            "ma.L1.D.actual    -0.6655      0.063    -10.632      0.000      -0.788      -0.543\n",
            "                                    Roots                                    \n",
            "=============================================================================\n",
            "                  Real          Imaginary           Modulus         Frequency\n",
            "-----------------------------------------------------------------------------\n",
            "AR.1            1.6822           +0.0000j            1.6822            0.0000\n",
            "MA.1            1.5027           +0.0000j            1.5027            0.0000\n",
            "-----------------------------------------------------------------------------\n"
          ],
          "name": "stdout"
        }
      ]
    },
    {
      "cell_type": "code",
      "metadata": {
        "colab": {
          "base_uri": "https://localhost:8080/"
        },
        "id": "48pbJEz7xWZo",
        "outputId": "36cbab1f-9923-4d5e-ce59-6745e24e9cc8"
      },
      "source": [
        "#Calculating mean square error function \r\n",
        "MSE = np.square(np.subtract(D3['log_diff'],D3['forecast3'])).mean() \r\n",
        "print(\"MSE for ARIMA is\", MSE)"
      ],
      "execution_count": null,
      "outputs": [
        {
          "output_type": "stream",
          "text": [
            "MSE for ARIMA is 8.78745535569359\n"
          ],
          "name": "stdout"
        }
      ]
    },
    {
      "cell_type": "code",
      "metadata": {
        "colab": {
          "base_uri": "https://localhost:8080/"
        },
        "id": "dcI-GJzPxWZw",
        "outputId": "aab025f7-a545-4cad-a45d-0f18b9517cfc"
      },
      "source": [
        "#Calculating mean absolute error function \r\n",
        "MAE = abs(np.subtract(D3['log_diff'],D3['forecast3'])).mean() \r\n",
        "print(\"MAE for ARIMA is\", MAE)\r\n"
      ],
      "execution_count": null,
      "outputs": [
        {
          "output_type": "stream",
          "text": [
            "MAE for ARIMA is 1.6994350554387914\n"
          ],
          "name": "stdout"
        }
      ]
    },
    {
      "cell_type": "markdown",
      "metadata": {
        "id": "29KJ5aokzhew"
      },
      "source": [
        "# Optimal model check"
      ]
    },
    {
      "cell_type": "code",
      "metadata": {
        "colab": {
          "base_uri": "https://localhost:8080/"
        },
        "id": "FNjMiJom2NZV",
        "outputId": "1d0c9541-1180-4033-a56a-f5d0042e0c04"
      },
      "source": [
        "!pip3 install pmdarima\r\n",
        "import pmdarima as pm"
      ],
      "execution_count": null,
      "outputs": [
        {
          "output_type": "stream",
          "text": [
            "Requirement already satisfied: pmdarima in /usr/local/lib/python3.7/dist-packages (1.8.0)\n",
            "Requirement already satisfied: statsmodels!=0.12.0,>=0.11 in /usr/local/lib/python3.7/dist-packages (from pmdarima) (0.12.2)\n",
            "Requirement already satisfied: setuptools!=50.0.0,>=38.6.0 in /usr/local/lib/python3.7/dist-packages (from pmdarima) (53.0.0)\n",
            "Requirement already satisfied: Cython<0.29.18,>=0.29 in /usr/local/lib/python3.7/dist-packages (from pmdarima) (0.29.17)\n",
            "Requirement already satisfied: pandas>=0.19 in /usr/local/lib/python3.7/dist-packages (from pmdarima) (1.1.5)\n",
            "Requirement already satisfied: numpy>=1.17.3 in /usr/local/lib/python3.7/dist-packages (from pmdarima) (1.19.5)\n",
            "Requirement already satisfied: urllib3 in /usr/local/lib/python3.7/dist-packages (from pmdarima) (1.24.3)\n",
            "Requirement already satisfied: scikit-learn>=0.22 in /usr/local/lib/python3.7/dist-packages (from pmdarima) (0.22.2.post1)\n",
            "Requirement already satisfied: joblib>=0.11 in /usr/local/lib/python3.7/dist-packages (from pmdarima) (1.0.1)\n",
            "Requirement already satisfied: scipy>=1.3.2 in /usr/local/lib/python3.7/dist-packages (from pmdarima) (1.4.1)\n",
            "Requirement already satisfied: patsy>=0.5 in /usr/local/lib/python3.7/dist-packages (from statsmodels!=0.12.0,>=0.11->pmdarima) (0.5.1)\n",
            "Requirement already satisfied: pytz>=2017.2 in /usr/local/lib/python3.7/dist-packages (from pandas>=0.19->pmdarima) (2018.9)\n",
            "Requirement already satisfied: python-dateutil>=2.7.3 in /usr/local/lib/python3.7/dist-packages (from pandas>=0.19->pmdarima) (2.8.1)\n",
            "Requirement already satisfied: six in /usr/local/lib/python3.7/dist-packages (from patsy>=0.5->statsmodels!=0.12.0,>=0.11->pmdarima) (1.15.0)\n"
          ],
          "name": "stdout"
        }
      ]
    },
    {
      "cell_type": "code",
      "metadata": {
        "colab": {
          "base_uri": "https://localhost:8080/"
        },
        "id": "t9TmSyPazkkb",
        "outputId": "f45d2110-4787-4e1b-9770-aa6e36acd727"
      },
      "source": [
        "model = pm.auto_arima(D3.iloc[:,0], start_p=1, start_q=1,test='adf',max_p=3, max_q=3,m=1,d=None,seasonal=False,start_P=0, D=0, trace=True,error_action='ignore',  suppress_warnings=True,stepwise=True)\r\n",
        "print(model.summary())"
      ],
      "execution_count": null,
      "outputs": [
        {
          "output_type": "stream",
          "text": [
            "Performing stepwise search to minimize aic\n",
            " ARIMA(1,1,1)(0,0,0)[0] intercept   : AIC=71573.519, Time=2.56 sec\n",
            " ARIMA(0,1,0)(0,0,0)[0] intercept   : AIC=71626.005, Time=0.19 sec\n",
            " ARIMA(1,1,0)(0,0,0)[0] intercept   : AIC=71602.481, Time=0.24 sec\n",
            " ARIMA(0,1,1)(0,0,0)[0] intercept   : AIC=71598.884, Time=0.70 sec\n",
            " ARIMA(0,1,0)(0,0,0)[0]             : AIC=71625.676, Time=0.13 sec\n",
            " ARIMA(2,1,1)(0,0,0)[0] intercept   : AIC=71573.861, Time=4.79 sec\n",
            " ARIMA(1,1,2)(0,0,0)[0] intercept   : AIC=71573.643, Time=3.38 sec\n",
            " ARIMA(0,1,2)(0,0,0)[0] intercept   : AIC=71574.051, Time=2.54 sec\n",
            " ARIMA(2,1,0)(0,0,0)[0] intercept   : AIC=71575.909, Time=0.77 sec\n",
            " ARIMA(2,1,2)(0,0,0)[0] intercept   : AIC=71575.157, Time=5.13 sec\n",
            " ARIMA(1,1,1)(0,0,0)[0]             : AIC=71573.985, Time=0.83 sec\n",
            "\n",
            "Best model:  ARIMA(1,1,1)(0,0,0)[0] intercept\n",
            "Total fit time: 21.300 seconds\n",
            "                               SARIMAX Results                                \n",
            "==============================================================================\n",
            "Dep. Variable:                      y   No. Observations:                 7276\n",
            "Model:               SARIMAX(1, 1, 1)   Log Likelihood              -35782.760\n",
            "Date:                Mon, 01 Mar 2021   AIC                          71573.519\n",
            "Time:                        05:44:12   BIC                          71601.088\n",
            "Sample:                             0   HQIC                         71583.001\n",
            "                               - 7276                                         \n",
            "Covariance Type:                  opg                                         \n",
            "==============================================================================\n",
            "                 coef    std err          z      P>|z|      [0.025      0.975]\n",
            "------------------------------------------------------------------------------\n",
            "intercept     -0.2041      0.131     -1.552      0.121      -0.462       0.054\n",
            "ar.L1          0.5947      0.030     19.738      0.000       0.536       0.654\n",
            "ma.L1         -0.6657      0.028    -23.530      0.000      -0.721      -0.610\n",
            "sigma2      1096.2903      5.118    214.201      0.000    1086.259    1106.322\n",
            "===================================================================================\n",
            "Ljung-Box (L1) (Q):                   0.26   Jarque-Bera (JB):            167022.66\n",
            "Prob(Q):                              0.61   Prob(JB):                         0.00\n",
            "Heteroskedasticity (H):               0.15   Skew:                             0.19\n",
            "Prob(H) (two-sided):                  0.00   Kurtosis:                        26.47\n",
            "===================================================================================\n",
            "\n",
            "Warnings:\n",
            "[1] Covariance matrix calculated using the outer product of gradients (complex-step).\n"
          ],
          "name": "stdout"
        }
      ]
    },
    {
      "cell_type": "markdown",
      "metadata": {
        "id": "GE1dExIJ31fP"
      },
      "source": [
        "so best optimal model is ARIMA(1,1,1)"
      ]
    },
    {
      "cell_type": "markdown",
      "metadata": {
        "id": "sQNkAaebVqpQ"
      },
      "source": [
        "# table"
      ]
    },
    {
      "cell_type": "markdown",
      "metadata": {
        "id": "FWbY3tFe9sSk"
      },
      "source": [
        "![image.png](data:image/png;base64,iVBORw0KGgoAAAANSUhEUgAABcgAAAEtCAYAAAA88YNZAAAgAElEQVR4AeydabasqBKFc7o5nhxLzuP8qEncUVgLEIkAxCZtEL63Vr1U6WLv2AQYeryv//77b+A/OEADaAANoAE0gAbQABpAA2gADaABNIAG0AAaQANoAA2ggd408DKA+R8MwAAMwMA+Boih+3ijFQzAQL0M9B7XwN/3vQH+x//1RufzLUP/6P98ldU7AvpH//Wq83zL0P9/Awny83XGCDAAAw0z0PtC0rBrgQYD3TLQe1wDPzfI3U7+YbB/WQz+fhkg/hH/+lU/8Y/5z/zvff6TIO9ZAWCHARj4mYHeNxI/E0gHMAAD1THQe1wDPzeI1U3KCw1C/+j/QrlVNxT6R//VifJCg9A/+r9QbtUNZfRPgrw6t2AQDMDAkxjofSPxJF9hKwzAwDoGeo9r4OcGcd1MabMW+kf/bSp7HSr0j/7XKaXNWugf/bep7HWojP5JkK/jilowAAMwkGWg941ElhQuwgAMPJqB3uMa+LlBfPQE/tF49I/+f5TQo5ujf/T/aAH/aDz6R/8/SujRzY3+SZA/2oUYDwMwcDcDixuJv8/wen+Hf3cbyvgwAAMwsJKBxbi2sp+nVgM/N4hP1e4RdqN/9H+Ejp7aB/pH/0/V7hF2o3/0f4SOntqH0X+UIP83fN+v4fXS/33+1kP8930Pry0N1netal41jhqUExiAARiIGFjcSGxIkF8V15bGseXTOvAZNiwBETucwgAMPJGBxbj2RFAbbAY/N4gb5NJcVfSP/psT9QZA6B/9b5BLc1XRP/pvTtQbABn9ZxPk769419Ekd16vQV0rDLKUeCk03VR01TibjKIyDMBAdwwsbiQelyD/Gz7ijfe/z+uSh57dCQfAMFAxA4txrWLbjzAN/NwgHqGjp/aB/tH/U7V7hN3oH/0foaOn9oH+0f9TtXuE3Ub/ywlyM5JNkou3CP99h/f0duFrcC+Mp2+fT0n1bH0HQb+p+B5Cbj7uz48fX1+fvD+CNPqAARiAAclAspFQ8e49fL/RJ1ZUef3x08ZokTCX2DmGARhok4EkrrUJcxYV+LlBnBVHBwXoH/13IPNZiOgf/c+Ko4MC9I/+O5D5LESj/3UJ8uFv+Lx8Ike/XRgnT9I3uwv1baLIJ761nfFbi8vj6PacwQAMwMAVDOiNhHuANz0cHGNn+AZ5IR4Ow1Bf/HSxP+C5glHGgAEYuJsBHdfutub68cHPDeL1qqtnRPSP/utR4/WWoH/0f73q6hkR/aP/etR4vSVG/zsS5JGhUZI7TfAU6o9vUiafLLfX5dvkpg+TqAnXFseJhuUUBmAABs5gQG0konhoxyt9YiWqvxjXZH177B9cCmT2eoiVrmRj/Bw/rWX/PYokQIuxOIQBGGiSARXXmkRYBgV+bhDLCmm7FP2j/7YVXkaH/tF/WSFtl6J/9N+2wsvojP53JchtEkd8YuX1Cm+B5xI8pfrDmORR3zkX1/Q/GBqSPrlxynAphQEYgIHjGVAbifhzVGa4KEFeioe5uFaqf0X8dOOHGH88g/QIAzBQGwMqrtVm3AX2gJ8bxAtkVu0Q6B/9VyvOCwxD/+j/AplVOwT6R//VivMCw4z+1yXIZdJHHhsjbTI7JE+SBM9C/YBTfMYl6jPUCUfJOKGIIxiAARi4jAG1kcjFLpkgX4iHSVxbqB9Anhg/LabwcDKMyREMwECrDKi41irIAi7wc4NYkEfzRegf/Tcv8gJA9I/+C/Jovgj9o//mRV4AaPS/nCC3yRHxD2FGCRv7rfD4DXL5D7ot1A/2uW/3yn/ws/TdW5tIkuOEjjiCARiAgcsY0BsJl6ieYtcYP6dvkC/EwySuLdQPIA+Mn8Zm8VkVa5OI8WFMjmAABlplQMe1VlHO4wI/N4jz6mi/BP2j//ZVPo8Q/aP/eXW0X4L+0X/7Kp9HaPSfTZDPfdbEd+WS4q/BfRblO3xk8sQnhF4hqT5b3yZ/XD92TJGUGQaX8FG2yIR4ZhxvH78wAAMwcBUDyUZCxCb7+SlzLmLXbDw0Bou2Psk+W/+0+BnHXt4ev0pLjAMDtTCQxLVaDLvIDvBzg3iR1KocBv2j/yqFeZFR6B/9XyS1KodB/+i/SmFeZJTRf5Qgv2hkhoEBGICBRhjofSPRiBuBAQMwIBjoPa6BnxtEMR26O0T/6L870QvA6B/9Czl0d4j+0X93oheAjf5JkAtCOIQBGICBrQz0vpHYyhf1YQAG6meg97gGfm4Q65+l51mI/tH/eeqqv2f0j/7rV+l5FqJ/9H+euurv2eifBHn9fsJCGICBihnofSNRsWswDQZgYCcDvcc18HODuHPqNNEM/aP/JoS8EwT6R/87pdNEM/SP/psQ8k4QRv8kyHeSRzMYgAEYMAz0vpFABTAAA+0x0HtcAz83iO3N6vWI0D/6X6+W9mqif/TfnqrXI0L/6H+9WtqrafRvE+TmgP/gAA2gATSABtAAGkADaAANoAE0gAbQABpAA2gADaABNIAGetIAb5C39+ADRDAAAxcyYBYM/gcDMAADLTHQe1wDf9/rGv7H/y3F861Y0D/636qZluqjf/Tfkp63YkH/fGJlq2aoDwMwAAOKgd4XEkUGJzAAA00w0HtcAz83yE1M5J0g0D/63ymdJpqhf/TfhJB3gkD/6H+ndJpoZvTPG+RNuBIQMAADdzHQ+0biLt4ZFwZg4DwGeo9r4OcG8bzZVX/P6B/916/S8yxE/+j/PHXV3zP6R//1q/Q8C43+SZCfxy89wwAMdMBA7xuJDlwMRBjojoHe4xr4uUHsbtILwOgf/Qs5dHeI/tF/d6IXgNE/+hdy6O7Q6J8EeXduBzAMwMCRDPS+kTiSS/qCARiog4He4xr4uUGsYybeYwX6R//3KK+OUdE/+q9DifdYgf7R/z3Kq2NUo38S5HX4AitgAAYeykDvG4mHug2zYQAGCgz0HtfAzw1iYXo0X4T+0X/zIi8ARP/ovyCP5ovQP/pvXuQFgEb/JMgLBFEEAzAAA0sM9L6RWOKHchiAgecx0HtcAz83iM+btcdZjP7R/3Fqel5P6B/9P0+1x1mM/tH/cWp6Xk9G/yTIn+c3LIYBGKiIgd43EhW5AlNgAAYOYqD3uAZ+bhAPmkqP7Ab9o/9HCvcgo9E/+j9ISo/sBv2j/0cK9yCjjf5JkB9EJt3AAAz0yUDvG4k+vQ5qGGibgd7jGvi5QWx7hpfRoX/0X1ZI26XoH/23rfAyOvSP/ssKabvU6J8Eeds+Bh0MwMDJDPS+kTiZXrqHARi4gYHe4xr4uUG8YdpVMyT6R//ViPEGQ9A/+r9BdtUMif7RfzVivMEQo38S5DcQz5AwAAPtMND7RqIdT4IEBmDAM9B7XAM/N4h+LvT4i/7Rf4+695jRP/r3WujxF/2j/x517zEb/ZMg92zwCwMwAAM7GOh9I7GDMprAAAxUzkDvcQ383CBWPkVPNQ/9o/9TBVZ55+gf/Vcu0VPNQ//o/1SBVd650T8J8sqdhHkwAAN1M9D7RqJu72AdDMDAHgZ6j2vg5wZxz7xppQ36R/+taHkPDvSP/vfoppU26B/9t6LlPTiM/kmQ72GONjAAAzAwMtD7RgIhwAAMtMdA73EN/Nwgtjer1yNC/+h/vVraq4n+0X97ql6PCP2j//Vqaa+m0T8J8vb8CiIYgIELGeh9I3Eh1QwFAzBwEQO9xzXwc4N40VSrchj0j/6rFOZFRqF/9H+R1KocBv2j/yqFeZFRRv8kyC8im2FgAAbaZKD3jUSbXgUVDPTNQO9xDfzcIPYcAdA/+kf//TLA/Gf+96v+YUD/6J8Eec8RAOwwAAM/M9D7QvozgXQAAzBQHQO9xzXwc4NU3aS80CD0j/4vlFt1Q6F/9F+dKC80CP2j/wvlVt1QRv8kyKtzCwbBAAw8iYHeNxJP8hW2wgAMrGOg97gGfm4Q182UNmuhf/TfprLXoUL/6H+dUtqshf7Rf5vKXofK6J8E+TquqAUDMAADWQZ630hkSeEiDMDAoxnoPa6BnxvER0/gH41H/+j/Rwk9ujn6R/+PFvCPxqN/9P+jhB7d3OjfJsjNAf/BARpAA2gADaABNIAG0AAaQANoAA2gATSABtAAGkADaAAN9KQB3iB/9DMOjIcBGLibAbNg8D8YgAEYaImB3uMa+Pte1/A//m8pnm/Fgv7R/1bNtFQf/aP/lvS8FQv65xMrWzVDfRiAARhQDPS+kCgyOIEBGGiCgd7jGvi5QW5iIu8Egf7R/07pNNEM/aP/JoS8EwT6R/87pdNEM6N/3iBvwpWAgAEYuIuB3jcSd/HOuDAAA+cx0HtcAz83iOfNrvp7Rv/ov36Vnmch+kf/56mr/p7RP/qvX6XnWWj0T4L8PH7pGQZgoAMGet9IdOBiIMJAdwz0HtfAzw1id5NeAEb/6F/IobtD9I/+uxO9AIz+0b+QQ3eHRv8kyLtzO4BhAAaOZKD3jcSRXNIXDMBAHQz0HtfAzw1iHTPxHivQP/q/R3l1jIr+0X8dSrzHCvSP/u9RXh2jGv2TIK/DF1gBAzDwUAZ630g81G2YDQMwUGCg97gGfm4QC9Oj+SL0j/6bF3kBIPpH/wV5NF+E/tF/8yIvADT6TxLkf5/X8Pr8FZrFRf+G7/s1vF76vy1d/Pu+N44Z27DufHGcv4/CITEsto1MyNW33L6/w7+oLqcwAAPPZSDeSNh5/noN76+e6bmYcDbqrWPm6hO3zvYS/cNAfQzEca0+C8+1CPzcIJ6rsLp7R//ov26Fnmsd+kf/5yqs7t7RP/qvW6HnWmf0f1iCXCWDxkSzulbAkkvKFKrvLiqO8+87vF+vISTF/4aPSGYX22Ys2lo/0wWXYAAGHsBAvJEwCeX3+z28Xp9BPmq8IyZsHXNr/Qe4BxNhAAZ2MBDHtR1dPLoJ+LlBfLSAfzQe/aP/HyX06OboH/0/WsA/Go/+0f+PEnp0c6P/xQS5TZhMb4e/h+ilyGEY3BvkSTLcJslFgmhMQPs3zV0iOn37fOonW9/xPW9T3J8fP76evt052PHm8Xm7zW/Zxvmx7JuYIQM/cRf69vYanK6fz9/f8JnlPx5Ltjft3sP369+K/wyf5K8DXPsJz6PljPEwcA8D8UbCJsi/f+4va8R8T5PPpfm7Zv4HvGlMjPsmbgW2OIIBGFhiII5rS/VbKwc/N4itaXoLHvSP/rfopbW66B/9t6bpLXjQP/rfopfW6hr9lxPkNmksk645CuaSrC6x6/JDmbexi29nF+oXbIoT0DZpVBxH4vEJpVySfBjS5FbBRpPeznw2Rts3jhcn0Ka3TlN7dPthiM81Xp9YF/7LPrTI45XMcAwDMDDPQLyRMPPSPnSKHrrpmPD7/J8sKsREPaZpQdyaeOMABmBgloE4rs1WbLQA/NwgNirtVbDQP/pfJZRGK6F/9N+otFfBQv/of5VQGq1k9L8iQS4/O5JjwiV60reQZYI8ahcldNIkTqG+bZuxKUpGuR7Gt6jHTwEvjmPSR+Yta/vGtk4cL7ZdgUkltKP6qb2OV5E/N8YNL5/wX8Sb419fW8QUuYFTGICBlIF4IzElyH08Geesmm+/zn9phu0rExNnHtTJpu4vZ8JDNGXjWJG4pRjjBAa6YCCOa12AFiDBzw2ikEN3h+gf/XcnegEY/aN/IYfuDtE/+u9O9AKw0X85QW4qj8kX9WkR0Yn/FMhSgtwmXqZPhZgkdDkpU6qftUnYGT5ZYsYJie5c8kdBESdu/HLbko25sVSiKX6b244tk+LyeDQsSZD7ZL789TbrZLiHFuzK9O8r8QsDMLCagXgjIRPk9o3t8bNMYe7ZzLmKgW4wOSfl8WiKnP+xdSL+yVisxhzb2GsbYjFxKyabcxhon4E4rrWPWCMEPzeIWhF9naF/9N+X4jVa9I/+tSL6OkP/6L8vxWu0Rv/LCfKpTT7hOpsglwlgeWz6s8mcQoJ8of5kkvlcgP+HNaM+Q51wlEsWhdL4SCeokrYLNib1/duk/pXwrL0Gj09w6/GtdWZM9QZ54DC23ifm/HBTuR/X/04FHMAADOxhIN5I6AR5SIZ/5WeXsvNvw/yfNVTExNwb5MStWeYogAEYCAzEcS2U9HEEfm4Q+1B6HiX6R/95ZfRxFf2j/z6UnkeJ/tF/Xhl9XDX635AgzyRsLU/uunxr0b/hPV2LkjL2jcT4DXKf+DV9LtQP7pE2ZewIFZ2lJkElxxHlJqE92WuuWxt8snr8prhsu2CjTZDL+nGCfPxHOF8ig63bSGyjoWbMqc8lvDpRFqC6dvYtezF2KOcIBmBgCwPxRiJJkPu5bt7anubcOA+n8zjGLM3/OQt1Ox1TfFwLD9YWYzFxa45orsNA0wzEca1psBlw4OcGMSOLbi6hf/TfjdgzQNE/+s/IoptL6B/9dyP2DFCj/3KC3CaBxec7RDIn9CcSrtOf7YfEsq/nEjGur/f3O3xEgtwn1OVnXGbrF23K2DIllP2b696G8cPk3kCZxLI4Igz2jU/ddtZG0+dcfcWhS2JPn4SRto726OoyQW4HGb5v4R9j99THXIJ8TMT5N+8n/BzAAAzsYSDeSJi4oB62mU59PNAT2v4FzP75P1pbiol+3PEzL6YFcWuPl2kDA30xEMe1vtAPA/i5QexN8xIv+kf/Ug+9HaN/9N+b5iVe9I/+pR56Ozb6TxLkvZHQJV6bUAtvkXbJAaBh4CAGet9IHETjcjfErWWOqAEDBzHQe1wDPzeIB02lR3aD/tH/I4V7kNHoH/0fJKVHdoP+0f8jhXuQ0Ub/JMgPIvNJ3dg3SNWbrE+yHlthoC4Get9IXOUN4tZVTDMODPAGde9xHfzcIPccB9E/+kf//TLA/Gf+96t+9v9m/pMg724GzH96pTsqAAwDBzDQ+0bqAApXdEHcWkESVWDgMAZ6j2vg5wb5sMn0wI7QP/p/oGwPMxn9o//DxPTAjtA/+n+gbA8z2eifBPlhdNIRDMBAjwz0vpHo0edghoHWGeg9roGfG8TW53gJH/pH/yV9tF6G/tF/6xov4UP/6L+kj9bLjP5tgtwc8B8coAE0gAbQABpAA2gADaABNIAG0AAaQANoAA2gATSABtBATxrgDfLWH4OADwZg4FQGzILB/2AABmAABmAABmAABmAABmAABp7LQO/3deDv+74e//OJledGbyyHARiogoHeF5IqnIARMAADMAADMAADMAADMAADMPADA73f14GfBPkP0+fxTY3+eYP88W4EAAzAwJ0M9L6RuJN7xoYBGIABGIABGIABGIABGICBIxjo/b4O/CTIj5hHT+2DBPlTPYfdMAAD1TDQ+0aiGkdgCAzAAAzAAAzAAAzAAAzAAAzsZKD3+zrwkyDfOXWaaEaCvAk3AgIGYOBOBnrfSNzJPWPDAAzAAAzAAAzAAAzAAAzAwBEM9H5fB34S5EfMo6f2sTJB/m/4vl/D6/UaXu/v8O8xaJ3dn7/KDf77bOAVX1TuTczrkIHeNxIduvxSyH+f1/CqfiG7lJKDB3vIXuFg1HR3EAOb9nAHjUk3FTDQd9w4Y106o89ThMKcX6C1rrkR6yo+D2DqsnsYarMnMNX6Ue/3deAnQd76HC/hyybIk4XDbARen6H2PHMK9CELS2GjZX0hH0qc7It/3/dJiZh6fHEexlSBXOmDgXgjEc/bJ2tuq+25+jEffajiOJTJmnxc10Ptvsnp6Vf4aZ8Xrk//vsPbvGww/ld87jFb19nr+7C/Mx0d4V/bx+s1pENk7MjU8+2lvWlfw5D6Zb+nj+xr0YrCHu5IO/b2tbVdrv4ROvI8HtmX7/OK35SXC+PGBoAxv6ndwyFx346Tm8gbbI2rntFnPMYh54U5f0j/B3USa2FvtzkNyb7S8rrmRqyr+DxgudfuK3k8ShuBu7aO4vu6ttAtowE/CfJllbRbY32CXCZpH8PHvQvdapq2bLS21F1tQKiYLs6h7LejenxxHsbfGKL1cxlY2kg8WXNbbd9a/7lev87y+Zu562y4a6Qz9JT2edX69Dd8Xq/h/R3/Ds+s56/34E81x6W6V9lrLDJ2vIfPJ/fw3Nkx4bHVDSaB0fTw0ecaZzhL/RLKth4d2dfi2IV92ZF27O1ra7ut9Rf5aaRCysuV83A/iand+/uSLc9Yl87oU9p82HFhzh82RkUdLWkoLa9rbsS6is8D1ffaXTuPgaf2j5bu61pnAPwkyFvXeAnfYoLcBmvxtlP8Z97pIhPfMLnz8OaQfhNd9z93oxggJIuHvcGUfbqbSvdSg1/o3DVnQxhj2fYwbnK08GbX5y8/pu1HtX0P3+/8J1akjZqr3J/cl/E6DHP+iK8v39De44trMSZ+5wIMZBiINxJh3s7PKz2fQ1wK3f+iddPLmvZiNPPXI1OsN/bM2z6oGObfLJ2vH/jw48V1ZQxfYXd2fNO3S+bZmGqxfIZP8nkS179K6k1mzb/du85fhrd87J/jYLJjFtP4tt/0pp7nxxttM5DRZ7pK/Ip2Y/JSruvLOMfxJq2Mb0Nb+1L+3V+eLdiTxR63kWtSXCb1M2eDwR2383266+vXba/50Gexrac82a/4cX0F8VusW2gnujCHWne+XV6jUVN36hNB1keSZ1Ps+ps07DuIbDc2JHV8Xfvr+gnxR9aPy7QNqV7j+rIvMWhWc6bctS/6U7Wd28OV7IjLjsG0iQuFwes5titwp3VkaMrHytQGwfl4GPeVb2NsieOp4UnaGK+bsszEJcnrXFwotfG2x3U8L+76eq14nlfqzA9vq+f4zmMK/M7ZHceFeX/O+dmYFMaRhuauOzumGDCjnbRPz6/o38ej6VKMUfp8quQOZsf14xTiomo7N+czfwUTxUK3R0l1EGLfnP15X/t4Ndfezq1p72BoWOBL4TR2xvW99j23c+UrOF2yxQ+xGJP9WFMDI0K1J4q1Gp+Hlr6vvBbSdq6+07Y5jmPW2hjl+gl+9DyX7XF2x221hvLxNZ2nc/UCN30dxfd1faEfBvCTIO9N8xLvYoLcVo4WGtmBXYTkJtQurmFBiBcTG4D92+i2rg7kqu/cSdTm3/czvN9is6HK/aIxY0+8cYlszw3vrv0NH4/B7ivfYiFeGHNc6KeNok3ozH/bPeYvXvS1jevGTpMhwQfpZkqPoM4U12ZjeIUvLsaoAHMCA3kG4o1EPG+TeRXNnXyvv2p9qb0YtWBPYruJWbPxL3ODmNxIj3aJmzY7xrSOLNldGt/f1ISYtrRGBRYK/Rb4Ce1TuxWu4npTGHuGP0Hf4s2gtUP4LNgc3SStwjneqI8vQWt9ZPhP7B81MtlTxq77d5Zn55fsb3w4MvdZuLTP1Hd6jJKNS20D26kfXNuwH1hb14/pP9US9jihhxxXvl2or3HGrZ0+ws2/v2n39ebsdzrwGjVj5DD6Xvxv6pdIn/F+q6DXXF9+HJukmvQS63GJoxjzqHnRXxhnTTyMxt+LaVO7kp7X2OwwB5+O/RVskJwozc228X7wsdyfh/2+nk9juRed18q0ruyJTdLqHC/eprn5VOJ5qa0ce4Zvf/8wYXRtFL+eB8GLqaXrFPoXutZ8x30Ie6tc637xhfOV0rtZYwQ3E/pIz+X7opTDmOOp3y2+FnbFcVD7PYo94xgK59hX3E+wyx2l5cv6LtsiR1jqy5UriUd5i3is+DyMtjBWUdtpW8vLND/HcmGoLt8TYxY0FOkx4IzaFerJNj0dx/d1PWE3WMFPgrw3zUu8vyfIxwXVx3u1SNqAGzaObmCzERuv2fKw2ZWGzR+7jZwbzyw2n+Hv7zPdfKnxp6fOoje1aMq+cguTaFc6VAuLWwA9H7aZHFPVHTuV5dE4ySJeqOvfDNg0tvVf8JHmLzImOZX8XeWLHfz+hDEBzQUYSBiINxLxvE3m1arY96vWF9pLFAV7EttlO3McxbRcfcVHVN91J9aFxbgdGaD6kzHJ19PXcvb5mupX9muPl9aqDN8q9mTsEDeys2MnyYzMOHJdsLaGmO76lfyqkXSiZA1OyYvpSo4d7QfsSBvtWdTTYn+aZ43WnaUaWOA07kRxsL6tHTfyuZkbISERBtpcd7oJD32YIzX3ds2toKXUJoc9tV/7wNqg/uLAJz21rYlflnxty/PzMulLD6XPtvhT1R27UXMg7jr6NM1ZmH7hIsKU407pyODN6a1gg2RF9TXbJp1XiV3SjgiDG0/GPa1JW27bBH2nbaTVuXuE1EYdD3V7Hds2tJU4VZcZTMmcz9kdxYXZ/tVgyVqv/Kiqarus36K4N1WP/Kb7XOBoo/+mMc2BGnfNOFHMMpxlMUnspt/CPeom+2W/I5IV7dWcWapf0IHqRxHpTtLyNZyunXsLfa1Y17SuIv0rPEtjaT9o3Jm2cg+oNOcHNf0FHnR/pk6mT6m9JZ/a8vwaqTgp1POW9vYb39eBvy8G8D8PCF6xCFTQNPNBBuPM/AgBPQrkY8CVfzLkjsNi4DYp7i2o9CYrM9i4+XN1/4aPyQabcexGJRp/aWFRb1bEbfNj+6sWc/aGL9OP5C+3AZHlfoDxd5svdowdcRR8GRkyc2rsu9YX12Ocgc5lGJgYWIqh2Xkl4mM+9v2q9YX2k/XjwYw9Odvn49/em3FpqzwebYti5Pz4+ubFQwwYMn37Sn49yMZ1f0NdWqtyfWt7QjxP685jim/m0rZqjRZ+1GuvWHcF5mDTeFG0z+tS39Dp9hqv7VH0N2dPCXvwXWpfvr+MDQKvOUz6jNZBW3215hb8Ica246qkimub43lL3fTP9sOg2j/rbZ14kvZaX0odzdmvfWBsyGEMVrqjxC8rtDO3h0z6igaz5dm5vsDRxj1cYseJmLZwMY8/Nz+iGBTNDUWtwDfnc63Judia+iHhUvpCHk8GyT60Jm0VYWs+lkwdjdWjhx0XxQ0V35VJGUx7E+RynosxSjpJ/CjahTLpA1dhfZ9pW8XFHv9dMOdDvFu4R91kf8bXK9qrObNUvzCvVT/Cz9FpW9MAACAASURBVP4wLT/Sdwt9rZiHQY/O4vjc41hMSKv9Q2xXfG56FX5bjFG52JvpU/ppyafGBFFHxuSEg5l6gZu+juL7ur7Q8wY5/idB/nOC3AXfz/Bng6t4yh6fF6OLWESK9UTCfnpz3Cwg5qbN9CHGX7FoztpesiFe5BTONYuZtFHgyYyZLGByYUzq7xhbPt1WC3/Sef6Ct+cyX9yAMY+cqzAwMRAvpPG8TW8epqZ6Ay0vL8UvFXd8QxMDfQJrYa74JsmvjsWJ7cX4l9vgR8mVX+0ujq9tn6D5Mf3vVCAOiv2KevKGR17O+SuKr7PrzcLYWk8Lfi1hVPa6E923rFDi0n/aw/zK9SzTZsmeBeyJ/pb6m/VPwJb0mfOdscsnjYo2LvgjDOteNlB8Zdr6+vGYORt9XcuJn/f+ovvV/s2MJ3Gqpq6uThzGD4hcHXnTbbuIbDc2JHXUWO4k8cuir2UnWntJX6pq9Aa0GmeBI1V37HSWw0w8zLWXtqnjDZi2tIv8M8WlsY8cd0pHcXs1tj/Rtvur5lf1JQvU3E39kNgl7cjyamzw8yJjT7aNMkidJOPn5qTUgrTP9KTGS/Gp5K8cOe5nKstgyvCb2h35YK7/+LqyP+pjsmk88HX9ry/f1OcCR3Hffozcb3HcHeOY/vz6EI/ny5bui7bYr+bGOOCK9sr3S/VjjgQu1Y+47g/T8h2c+s6S34W+luZhZk7Mx6ClscQ8TvjMtJV7wKS+ASpjVGa9WMKW7TMhcLyg48U8B7reXG+tX4/v61rHG+MDPwniWBM9nRv9/54gHwO4vZFS3/dwi8WaG6P4qe184DbucQvK5/Me/HCm/ufzGeT3teM+rWP9xmXysrMxtb2w+Ys2EdbW6aY3s0CqMd3CM3FiF7eZb9llFvXZDbTFszT2iNWT5hPiYpNnNzni3LKd/CN3E3mX+SKMeA7G0D9HMLCdgXgjEcev3LwKo2Q0bQsz11UsWZrPS+2DBfpIt0tsL8a/cYNfjCE/2l0cf25jP45p3h4T8U/hLvYra2p+Qokfwydkcly4Ou939CbiwtixntR5soaMY3zHj4QHA7NHqi9VYwansXWOw9xN/Lg/mNY8NYZd5FSS3dozracFDmfxzWkgDJxoeukmtOifDE+mfjQH3OiRbapf10/gdr7u3ydozPRrOcuOF+9jNthqbdPjmLEsd5N/XH/Kt6Me5TVjnzwPntBHc35Z0zbe76V9ibEU7yNHESYlceVP55fJpmT+iXE8X8o3Gc50E3Gm/VXEJFotclHEn5tzsY4iDsy8VxiNMdp2ad66mJO2t/ilYxQOVz/MnxhHNJ+sQa7N5EtpZOY45T+1Ue3RlX1bdSYNmOM7hyn2VcyD61f7YKb/ov3pONJi7/9q1roilgU/juvapJOFOb/1HnXqVxMYneV8vaxfPWeW6s/oIBvHtHmb58bSvkB1v+SfSIsZ/2i9R/U3juW1neYNnJ2v6aFcPPfGchHDYt7icz+WaGKMF/uLJZ9KcJrHmJNQU9cL1/s6iu/r+kLPG+T4nwcEByTIx0XglfvO1bggyD9r8xtpu2ERb6KJFWA+cLsQZcunGxp/kx2PnwnyamFxfdkFKWN7yQY3vn+b6iveXF8xpl+8LSfjm/eekygCJzZk7A9NVow9bvSmt8LicYVtftOW2BAGtEeOC/EW4ehX4c78zVIGy5wvwpDnYAz9cwQD2xmIF9JkzsTzapwj0zzUk2U04Fetr2k/DlWyJ7bdJ+TGmP7+yvhn76SG91TmkrQJH8U4tGy3izm5+Ju7iXQYl2PLeNM02S5wlfiZ5OLtdjY434q46L36fQ+mLHb5PKbczVw0RhJLnS2TvgymONZPrhcPDVbh1DzZMaa+5/gv21PC7t669L72Sf9Sf3M2TI4yG5ZIo953ok7E6byNy21Fr2pseSPtb4Rlgk/aqerGfpr4VyPZE2v3JLb1tup2sl/Jb8YPIjngW5m+/H7CX8v+Jn4xtTJjeLwxDxPOfBySY/7kT2Gn/QsKc+5tkoNY82OtnYRpIxfz+PPcJXpQHIwPUko2CF5UX7NtUq3aGC59bNvKGCvjYhzzpG6FMSV9yWrWbbEvUxt18krHSr1WLrdVw+f4HtdRSYlpo/jN2l2uI2NNSSfJOMrg+fvCbX1Kn7rveeu1rBAfInvmx13hC8V/+b5t8sHiPap1zvB9i/vg2bV6n36TObOkd4VTPCAV17OxPClfwemSLZP/1vRV1kms1fh8Gmq0Sc0pE2ei+J7fT3o7I1tC52Z2Dp9xj6n3TmOlo3mcja9RDCjUU+Z3dBLf13UE3UIFPwni3jQv8Rr9JwlyWWH1cbJRXd0yrWgXCLnpTasceiVn+9U2HArowM6u5iHniwPh0BUMnMFA7xuJMzg9vM/TY4u/OTrc8qo6tDeG0c2iudnM3jRXZTnGwAAMwAAMwEA/DKQJ8n6wn4o0u5/sYw94Kq8Vdd77fR34SZBXNB0vN+WwBPn809jtmMyCfuXNds72q23YztI1La7mIeeLa5AyCgzsZ6D3jcR+5q5reX5s6ePmKOXR4b5yzb5ONYwEAzAAAzAAA89kwKzXrM3H+y7dB5kx+tgDHs9mnT32fl8HfhLkdc7Ma6w6KEE+96df14D4bZQn2/4b8vpa44v6fIJFaxjofSOxhqN761wRW3q5OXI45edbuAG/V92MDgMwAAMwAAMTA9OnOi78a+xp8NYP5vaTvewBW/evw9f7fR34SZD3MdPzKA9KkOc75yoMwAAM9MBA7xuJHnwMRhiAARiAARiAARiAARiAgbYZ6P2+DvwkyNue4WV0U4LcHPAfHKABNIAG0AAaQANoAA2gATSABtAAGkADaAANoAE0gAbQQE8aOOYf6Swn4imFARiAgWYZMAsG/4MBGICBlhjoPa6Bv+91Df/j/5bi+VYs6B/9b9VMS/XRP/pvSc9bsaD//wYS5FtVQ30YgAEYEAz0vpAIKjiEARhohIHe4xr4uUFuZCrvgoH+0f8u4TTSCP2j/0akvAsG+kf/u4TTSCOjfxLkjTgTGDAAA/cw0PtG4h7WGRUGYOBMBnqPa+DnBvHM+VV73+gf/deu0TPtQ//o/0x91d43+kf/tWv0TPuM/kmQn8kwfcMADDTPQO8bieYdDEAY6JCB3uMa+LlB7HDaT5DRP/qfxNDhAfpH/x3KfoKM/tH/JIYOD4z+SZB36HggwwAMHMdA7xuJ45ikJxiAgVoY6D2ugZ8bxFrm4h12oH/0f4fuahkT/aP/WrR4hx3oH/3fobtaxjT6X5Eg/zd836/h9XoNr/d3+Ldk/d9noV6uv9y1pYEo/4mBRT/91PuGxs73n78NTagKAyUGLtZ27xuJkisogwEYeCYDvcc18HOD+MyZe4zV6B/9H6OkZ/aC/tH/M5V7jNXoH/0fo6Rn9mL0nyTI/z6v4SWzlSbZ9PoMq/OXUXLK9icT67n+ctcq4jTBUJFtu02J/LS7n58bkiCXFP77vvX8G4ahBv3FNuTslDhuPb5U239DbiNh+Xm9hvd3/pFijsOY51t5ZHAYgIFuGcjFtZ7IAD83iD3pPcaK/tF/rImeztE/+u9J7zFW9I/+Y030dG70vy5BLhPcSwwtJady5blrS+NQ/hsD1XBOglw6Mpc0leW1HFdt58Xa1huJv+FjE+N/9i9vtibIa/EvdsAADPTNgI5r/XEBfm4Q+1N9QIz+0X9QQ39H6B/996f6gBj9o/+ghv6OjP6LCXL/FqT9vIr5xIp8s9zz9e87vE2Z/e89fL/6Eyv2jcixXa6/3DXXtfjsiu1bvsVuklDjWKqs1MYnYl0Ca7JXvuCpsLwGD1diGIYV/ZgE3cTJyI3vbOQtSTDaNjHGYMMwY5vpTnP4HrIvrar2qZ88rmC3tGUF5pGXfHsvltzvb31v5nEywYxruJJ6MJidPVv04bn7/Mm+gh+0fqzHMslTOa7TjE+u6vY77FaYTN/St+v0E2yYt9NTu9knSptC8w/Rdn4j4XjyPvTcuN95DgPPXicbNXqAr7WtnMEADPTIQD6u9cME+LlB7EftKVL0j/5TVfRzBf2j/37UniJF/+g/VUU/V4z+iwlyS0Xxbcw4CTQmCMUb5zrhY78XkX6jPDNG3M4m3aZ+fSJSJ/rKbXxSai5x6foMCa2/4TOOp/td008YI0kWen3ZpGCw/9/3M7zfIjmoyoMtprniQtXznce/S34aMYkkvh1jSqQuYR4/AxK3n/wV2yPPl/pesC3CX+YxN673gbcj+EDxPBR8MCUlg9+VZuKHH9bmUFdZNfeJlYlbb+dauxd8E/EnbZHHCo/X4GSTrGkLh/ekHaPXtrWd30g4P4V4EnE0w6Hm+R5fp5ZyBQZgoDcG8nGtHxbAzw1iP2pPkaJ/9J+qop8r6B/996P2FCn6R/+pKvq5YvT/W4I8l1yLkt064bMyQZ5NIJoEtk8qumS2ys8ttnHJJtVG2honMYUONIaFfmJO5Biiz8EkXF8+GWv6/Ax/f5/pm8WziXXThxzDHvt+1ADhRNb3V6VduXJrn+d7DWZfdxpA+Mtfy/2u6dsng337OS1s4TEdN+G8oAnlgzFBPqst5evxAYeq7HHly5b0V7Tb+rbgmzX68d9BFzYnYwYIpnZX2s5vJJy+jkiQC9rdwzF5QWr0IF8rV3ICAzDQJQP5uNYPFeDnBrEftadI0T/6T1XRzxX0j/77UXuKFP2j/1QV/Vwx+v8tQS6TM543mXjNJNaGqNw2i6+NSbvwuQ7xCRf7SRSZgBsHXmyTJkSVLbENHk+CYaEflVhO394V3dp/fNEl0P6Gj0l6GQz2ret0DJuQVJ9tEUljgT2bkDPYxBu9Cee5cpX0Te1R3Inxtc/ixKxE748X+l60zXG8lkc/avgsirgSv70djT3vgwUM6m3hTN1gQpoAXaG/JFkt7V7jG1Enq5/EhnwiX8DoStv5jYTz8xyfhqvEbwnPqVaSNif4WvqRYxiAgT4ZyMe1frgAPzeI/ag9RYr+0X+qin6uoH/034/aU6ToH/2nqujnitH/bwlym1gTiVrDnUnYiE9r6Ldf03JLd9RGv52bc8hcgjyyRTVNk03KVploUu3iJPdCPyLZ6JLFBZs87unNcdO3SSobfKJdbFuOd0ekeHNXgMjV92Obarlylehfg1nYK4ZePtzTt+FHJN89liUelTHpuMXkY9EHaV9KW5LjLNfBsMSGQ5Kma32TmVejafE8ztkZUIh5vuSTIq+yxxnbcnx6PZjmufKDtZ3fSDhNXJ8g/93XknWOYQAG+mQgH9f64QL83CD2o/YUKfpH/6kq+rmC/tF/P2pPkaJ/9J+qop8rRv+/JcjHTylMSSCbjHr9niAf316e+k18kkuWLSWklpKYrs8wZvjmtE4OLvRjknPyEwiJ7fKCGfM9fD5v9Q+Cfj5RH1ES0dojE+hTlxnbbFmELfGTayfttgnQ6UFHpl+ZhFz0V/yQYTLYZDDtP1ipKMv0PW+b6Wslj3LYzLhJ0lfyLo990nrywRIGM/DIsfkrAAVWGaW/Lz8WLemvaPcK3wQLMjiyNoxvP0/6CD2Eo5U+KfIaevP8pdTdr+38RsJxGeKJxOKO9Rxz12rwdWopV2AABnpjIB/X+mEB/Nwg9qP2FCn6R/+pKvq5gv7Rfz9qT5Gif/SfqqKfK0b/PybI/Rua/hMon+HPJF9F4kwnfMSbpZJnlRD1BSKh6D8tMvXrkmJpsqzUJpP8i8f1iWM7XnhDWWNY7sfW9zab38lujy38urrirU+bMEy/KS77fH+/4Q3zsf70aZOUFDeYwpb6yX83eupH2byM2Scwp/YRbs1hwO/bKbNjv4wPYqa+lW2ur7U8hpFTTOVE85jkH/2qfJBJtidvkNup8h4MBoU1GOSOhJ98clVzt91uz/HEn/TNSv1oG/S893bGUNb6xNVzMUTxutI295b4fAw6W9t6I+Fik+L69Zr+bQHFUaW+VjZyAgMw0CUDOq71RwH4uUHsT/UBMfpH/0EN/R2hf/Tfn+oDYvSP/oMa+jsy+k8S5P3RcCziubdC55KIx45eaW82ESgeAlRq5ulm2YQvPJzO88UD9L6RuJhuhoMBGLiAgd7jGvi5QbxgmlU7BPpH/9WK8wLD0D/6v0Bm1Q6B/tF/teK8wDCjfxLkBxOdvGm76RMXBxtTSXfmoUHXDwhGP6TaqMRBmPETA71vJH4ij8YwAANVMtB7XAM/N4hVTsyLjEL/6P8iqVU5DPpH/1UK8yKj0D/6v0hqVQ5j9E+C/HDXuE9gyE8skBw+nOQHdjj3WaAHQsFkxUDvGwlFBicwAANNMNB7XAM/N4hNTOSdINA/+t8pnSaaoX/034SQd4JA/+h/p3SaaGb0T4K8CVcCAgZg4C4Get9I3MU748IADJzHQO9xDfzcIJ43u+rvGf2j//pVep6F6B/9n6eu+ntG/+i/fpWeZ6HRv02QmwP+gwM0gAbQABpAA2gADaABNIAG0AAaQANoAA2gATSABtAAGuhJA7xBft4DCHqGARjogAGzYPA/GIABGGiJAeJaS97cjqV3/4O/730N/sf/26NmOy3QP/pvR83bkaB/9E+CfPu8oQUMwAAMTAz0vpBORHAAAzDQDAPEtWZcuQtI7/4HPzfIuyZOI43QP/pvRMq7YKB/9L9LOI00Qv98g7wRKQMDBmDgLgZ6X0ju4p1xYQAGzmOAuHYet0/ouXf/g58EyRPm6Vk2on/0f5a2ntAv+kf/T9DpWTaifxLkZ2mLfmEABjphoPeFpBM3AxMGumKAuNaVuxOwvfsf/CRIkknR0QX0j/47knsCFf2j/0QUHV1A/yTIO5I7UGEABs5goPeF5AxO6RMGYOBeBohr9/J/9+i9+x/8JEjunoN3jo/+0f+d+rt7bPSP/u/W4J3jo38S5Hfqj7FhAAYaYKD3haQBFwIBBmAgYuCWuPb3GV7v7/AvsoXT6xm4xf/Xw5wdEfwkSGbF0UEB+kf/Hch8FiL6R/+z4uigAP2TIO9A5kCEARg4k4HeF5IzuaVvGICBexiI49rf5zW8XvK/z/B3tGlRgtyOuSJh/u/7Hl4fbc3atnsgpFy8BjX8v+/wVly9hvdXpv3/Dd+35NIcn8DnHnBjm9j/P3T1yKbgJ0HySOEeZDT6R/8HSemR3aB/9P9I4R5kNPonQX6QlOgGBmCgVwZ6X0h69Tu4YaBlBuK4ZpLCMslrk9JHJ3WjBPlafnMJ8rVt99SLuVB9GAyvfMI88OcS5OF8GGzSXWXZVa/6xI5xbkI99r82oP0z8JMgaV/l8wjRP/qfV0f7Jegf/bev8nmE6J8E+bw6KIEBGICBFQz0vpCsoIgqMAADD2MgjmtpUvhv+EyJYHP8Hr5flxwOb0PHb0pHSV31pvXYXrwxniSNVX2ThI77D0n8pO0Q15W2uLLPn8Pk3pR/D+qlb+G/lAtf6PqRiW9fMqikdqbe5ocD3laJYxrt54PY/z93+LAOwE+C5GGSPdRc9I/+DxXUwzpD/+j/YZI91Fz0T4L8UEHRGQzAQH8M9L6Q9OdxEMNA+wzEcS1JCttktU8i55O1cZLavuk9JcDjJPHYx1Qev1XtykPy+W/4jHVzb5Drsd1Y8jMs+g34sdwk+ccvoej22t8JF75YceIv+l9jv+8/xp7a51st/k4PDY5NlMf+X7SjsQrgJ0HSmKQ3wUH/6H+TYBqrjP7Rf2OS3gQH/ZMg3yQYKsMADMBAzEDvC0nMB+cwAAPPZyCOa3FS2CaQp2S2S16rL4Rkk8UiSWzLo6Ru9Ba1SlKrN7A1v4sJ8txYg7BlfLtc2R/ZIke0dqlvjI84suP4lpIjn5AP3yEPiX9ff+NvgZ+NPdnqsf/39PHkNuAnQfJk/f5qO/pH/79q6Mnt0T/6f7J+f7Ud/ZMg/1VDtIcBGOicgd4Xks7dD3wYaJKBOK4lSeEpOW7gy+TvSIdNFocEcPgHPse3qHMJ3SgpnSTI1ZiB9sUEeW4slRR3CestCfJsQtti9m+JB/vcUZqQn/rI2udauTfdPY/RAwVTZeI5UxabsOE89v+Gpk1UBT8JkiaEvBME+kf/O6XTRDP0j/6bEPJOEOifBPlO6dAMBmAABhwDvS8k6AAGYKA9BuK4ZpLVU0I3gTuXIC8kbXNvWy8lyGf+UdDFBHlurB/fIM9zkeHBc6WS4PlPrOT79B3Ev26s8L33uPy389j/v/X2vNbgJ0HyPNUeZzH6R//Hqel5PaF/9P881R5nMfonQX6cmugJBmCgSwZ6X0i6dDqgYaBxBuK4tjlBPr6hPZ/0dQneqdy/CS3eEldvkI9vqU/1zflY1ybIRTvjGt02/ca3bnPQG+T2he738Jq+NT6KZMQWbI8T5NbgYXWyWyXbzxFi7P9zRqm3V/CTIKlXnedbhv7R//kqq3cE9I/+61Xn+ZahfxLk56uMEWAABppmoPeFpGnnAg4GOmUgjmvbE+SGuDExLb/XLRPZPiluyz/DnzkX5TrJLT8nYj45Ij5lIvrxSeik7Zhgnz71Isbxdv78iRWvFZvA9p9FiWy1dTIJ8tE+ZYPv74bf2P83mHDrkOAnQXKrAG8eHP2j/5sleOvw6B/93yrAmwdH/yTIb5Ygw8MADDydgd4Xkqf7D/thAAZSBohrKSc9Xend/+AnQdLTfI+xon/0H2uip3P0j/570nuMFf2TII81wTkMwAAMbGKg94VkE1lUhgEYeAQDxLVHuOk0I3v3P/hJkJw2uR7QMfpH/w+Q6Wkmon/0f5q4HtAx+idB/gCZYiIMwEDNDPS+kNTsG2yDARjYxwBxbR9vrbTq3f/gJ0HSylzegwP9o/89ummlDfpH/61oeQ8O9E+CfI9uaAMDMAADEwO9LyQTERzAAAw0wwBxrRlX7gLSu//BT4Jk18RppBH6R/+NSHkXDPSP/ncJp5FG6H9MkBsi+A8O0AAaQANoAA2gATSABtAAGkADaAANoAE0gAbQABpAA2igJw28DFj+BwMwAAMwsI8BYug+3mgFAzBQLwO9xzXw931vgP/xf73R+XzL0D/6P19l9Y6A/tF/veo83zL0zydWzlcZI8AADDTNQO8LSdPOBRwMdMpA73EN/Nwgdzr1LWz0j/7Rf78MMP+Z//2qf7Bf1QB/vwyY+Mcb5P36H+QwAAMHMND7RvIACukCBmCgMgZ6j2vgJ0FQ2ZS81Bz0j/4vFVxlg6F/9F+ZJC81B/2j/0sFV9lgRv8kyCtzCubAAAw8i4HeNxLP8hbWwgAMrGGg97gGfm4Q18yTVuugf/TfqrbX4EL/6H+NTlqtg/7Rf6vaXoPL6J8E+RqmqAMDMAADMwz0vpGYoYXLMAADD2ag97gGfm4QHzx9fzYd/aP/n0X04A7QP/p/sHx/Nh39o/+fRfTgDoz+SZA/2IGYDgMwcD8DvW8k7vcAFsAADBzNQO9xDfzcIB49p57UH/pH/0/S69G2on/0f7SmntQf+kf/T9Lr0bYa/ZMgP5pV+oMBGOiKgd43El05G7Aw0AkDOq79G77v1/B6vYbPX4aAv48te72/wz9f7K+94nahL9Of/+/9nVr6Hm791fhvNeWWwcHPDfItwqtkUPQv9R9i9ur4P/rx7xPHf+/g0KdfA8xvLesA/pf+9z7r5xf/4/9+1J4iRf8kyFNVcAUGYAAGNjDQ+0KygSqqwgAMPIQBHddcMuP9fg8qCT5iMUmQz+cTyv59h7dKpv8Nnyl57vrKJloq4kbjr8iwi0wBPwmCi6RW5TDoX+p/Y/yfPPo3fF7v4fN5D68k4Ne9DuB/6f/Jod0c4H/8343YM0DRPwnyjCy4BAMwAAPrGeh9IVnPFDVhAAaewoCOaz6Z4RIe6mVvmwz/DH/mjXGfBLfX3oOqNwH3fU0XqjzQ+Ks08VSjwE+C4FSBVd45+pf69zF7Zfz3vvVrgl8j/HX76/tUF6s5wf/S/9W45TJD8D/+v0xsFQ6E/kmQVyhLTIIBGHgSA70vJE/yFbbCAAysY0DHtZDMMG+Lyz+D//cd3w70yRDbvav/euWS5KGvdZbcU0vjv8eGO0cFPwmCO/V399joX+o/xOx18d95L9R17eW6MQyhz7t9nRsf/0v/5xhq+xr+x/9tK7yMDv2TIC8rhFIYgAEYWGCg94VkgR6KYQAGHsiAjmsimWG/Lf4Z3KfIxRuFKkHuAJsEifu+rEyUu77kd2dfL99fPURp/PXYdZUl4CdBcJXWahwH/Uv974j/0V8R2Qep/i+MrMPrXgfwv/R/jTP0XJvwP/4/V2F1947+SZDXrVCsgwEYqJ6B3heS6h2EgTAAA5sZ0HFNJEgGkxQf/7FOmRSXx9FoNjkyvU0u+4oqVnSq8Vdk2EWmgJ8EwUVSq3IY9C/1L2P2uvifJMSjhDlvkFcp+8ko9C/1P9HSzQH+x//diD0D1Oj/1fskyPDCJRiAARhYzQAxdDVVVIQBGHgIAzquyQTJMPjPqoQ/oR+GoZAg18kQ3VetdGj8tVp5nl3g5wb5PHXV3zP6l/rXMXs5/rv6+q+E3F8Thc+s6D5rUwT+l/6vzTvn24P/8f/5Kqt3BPRPgrxedWIZDMDAIxjofSF5hJMwEgZgYBMDOq5FyQz7NqBJeIhPo4gEuUmghETImDznDfJN/N9dWfv/bmuuHx/8JEiuV109I2r9b4v/9mHpFO8DJptYn9aMqM9QrYojjb8Kky41AvzEv0sFV9lg6B/98wZ5ZZMSc2AABp7FQO8L6bO8hbUwAANrGNBxLU5muPPXx32J3PYnEuT+jfHwBuHSN8j1P/y5xr6z62j8Z49WX//g5waxPlVeZxH6l/rfFv/tvz0h14bJbeLzLOM/0hnWiPgN86nRLQf4X/r/FhfcOij+x/+3CvDmwdE/b5DfLEGGhwEYeDoDvS8kT/cf9sMADKQM9B7XwM8Ncjor+rmC/tF/P2pPkaJ/9J+qop8r6B/996P2sv7H1QAAIABJREFUFKnRP2+Qp7xwBQZgAAZWM9D7RmI1UVSEARh4DAO9xzXwc4P4mMl6gqHoH/2fIKvHdIn+0f9jxHqCoegf/Z8gq8d0afRPgvwx7sJQGICBGhnofSNRo0+wCQZg4DcGeo9r4OcG8bcZ9OzW6B/9P1vBv1mP/tH/bwp6dmv0j/6freDfrDf6J0H+G4e0hgEY6JyB3jcSnbsf+DDQJAO9xzXwc4PY5MReCQr9o/+VUmmyGvpH/00KeyUo9I/+V0qlyWpG/zZBbg74Dw7QABpAA2gADaABNIAG0AAaQANoAA2gATSABtAAGkADaKAnDfAGeZPPPgAFAzBwFQNmweB/MAADMNASA73HNfD3va7hf/zfUjzfigX9o/+tmmmpPvpH/y3peSsW9M8nVrZqhvowAAMwoBjofSFRZHACAzDQBAO9xzXwc4PcxETeCQL9o/+d0mmiGfpH/00IeScI9I/+d0qniWZG/7xB3oQrAQEDMHAXA71vJO7inXFhAAbOY6D3uAZ+bhDPm13194z+0X/9Kj3PQvSP/s9TV/09o3/0X79Kz7PQ6J8E+Xn80jMMwEAHDPS+kejAxUCEge4Y6D2ugZ8bxO4mvQCM/tG/kEN3h+gf/XcnegEY/aN/IYfuDo3+SZB353YAwwAMHMlA7xuJI7mkLxiAgToY6D2ugZ8bxDpm4j1WoH/0f4/y6hgV/aP/OpR4jxXoH/3fo7w6RjX6J0Fehy+wAgZg4KEM9L6ReKjbMBsGYKDAQO9xDfzcIBamR/NF6B/9Ny/yAkD0j/4L8mi+CP2j/+ZFXgBo9E+CvEAQRTAAAzCwxEDvG4klfiiHARh4HgO5uPbv+x5er9fw/v6bAfRv+L5fw+cvKv77DK/3d/Ct/j6vbD+2f9HY1rPnf8Pn5dqY8fV/nyEeLhp912mM32P3YwszRf/t4vcg53znyhvGbzQstJefAw3jH4bBz4EYu7/u+WlhbuyZ/y3NjRi/md/ez7H/fWwYhnb177G3pPHgt/Qo539TqyWNp6jDlQQ/8X92/rc4N2L/r8HY0tyI8YeZ0ceRwU+CvA9fgxIGYOAkBnpfSE6ilW5hAAZuZEDHNZegfn//bAL8iATJ+22S7Tq5bW9CRHbN3nCIc0vHv+/wfr2H2Rz9QZwp/GZMkeB3N0vadjfs+gTRo/B7Tu2Djs/wec89JGkVv9G/0NysBlvGb3yemf+Nzo3N87+xuaHwD8R/4r/Njg+vN/F/IP77HYF5atbk3kjFvzUYm47/wd29HBn/kyDvxdvghAEYOIUBtZCeMgKdwgAMwMC1DOTjmksAHpIgH5NtL5EArzZBHlN/xA3y4/D75G9JA75ORJi9edR/QeCTrY/wv/W3fCASJcwnuI3ij/DNz3/7mvHMA6xncZOPfyMRyfz32Nxvnh9fZyLTHVQ6N/L4S/gMnGdhjDyhTvP4xyqJ/33TlvF7bCUN+Dqej/G3Uo1HVqpT5X/i/8hNyfe+ytwLDM/ShvK/UkZujfPYSvz4OlFnlc6NIv4IQounBj8J8hY9CyYYgIHLGOh9IbmMaAaCARi4jIF8XCvdABjTttwE/HNvH4k3cx+TIDc3NdHb784x7eIPvilpoF387s+nTZK8T/xS3/kE8BiaGpkb+fiXx9ji3MjjL2nfcNPu/B89734a0bjCFJ3E/m9R4xFkdRrjJ/4bepbm//hXBg3sjWL/K3FE87/FuVHEr8ho88TgJ0Hepm9BBQMwcBEDvS8kF9HMMDAAAxcykI9rSzdIGxMk/pum4+dLwo2GA1rNJ1YU7yUOGsWv3qDrEP/of5ckeanv6StpbE0QPk7/Jd8bJkrlz5ob+fiXwdjo3MjjL/k3cCP+KMhND5NQEp+oMvPIP2Sxc4r4b/99jmrXv0Y17sSZ//+c/on/6+a/n9uaWeL/2n+fx/N3Z2zM6V/7s+0zg58Eeds+Bh0MwMDJDPS+kJxML93DAAzcwEA+rq27QdqSIBmm79v+c/8IlGhsbxDEuaXB3qyL70GfxE0e//iPlIlkjx5++01g/fhjTCUNxHVHdgoJsvrxGwzuG8xeijaRJf7yIWigVfweYcn3bc2NdfM/9neJn7hu3XMjj7+Ez+B5Fkav6txvHn9bGs/h9tcC/tinJQ3EdcfeiP+zD4j82mKSotU+IPGiKD4AbWtuBP1P4O2BTFqn8a6duTGHX7PR7pnBT4K8Xf+CDAZg4AIGel9ILqCYIWAABi5mIB/XSjcAxsB8ub3xE0llc5Ph35KxsMY/Wf1+34P8JnVtCXJ9c5RzSIv4XXL49XoNyX/Cp46NFvGbLwG9VYJjTudz1+P2T9X/HD7j+9bmRi7+pRjbnRs5/CX/tzz/faRP/e9L/G+L8a9djXuv5X6l/uP4PT8PWvS/ZCePz9RobW5I/3sGUoztzo0cfs9DD78GPwnyHjwNRhiAgdMY6H0hOY1YOoYBGLiNgXxcm79B8obam0n1DUp3E+HfvjX1zI2GSpCPiXWbgBUV7Q2JOLdj3PIGucMtPxPg8ca/beKXKMsaaBL/+ADnz9NgNfgaYmma4ibxe9zZB2Btzg0d/9ZibGduaPxeAGV87ep/rf9bn//Ww4P5VIRev70+GsVP/B8dnJv/bc4NHf/WYszx88y5ofEHDL0cGfwkyHvxNjhhAAZOYaD3heQUUukUBmDgVgZ0XMu/KVO+SQ5vHMf10gS5zSwOb/OWssg6VpMgtzfIAc/0JrWwVTrLJUlD/cfjl+CySVJVYUwSt4XfalG8RR/7VDLQnv8L87/RuaHi32qM5QSJ0chTtKHwj58YmuLeOA/m5sBTMMo5Gx8r/Kv973ppDr8ipx2NK1jRifK/f0Oa+K/+iszO/0bnhvL/aoztzA2FP5obPZwa/CTIe/A0GGEABk5joPeF5DRi6RgGYOA2BnqPa+D/7zbt1TAw/sf/NejwLhvQP/q/S3s1jIv+0X8NOrzLBvRPgvwu7TEuDMBAIwz0vpA04kZgwAAMCAZ6j2vg5wZZTIfuDtE/+u9O9AIw+kf/Qg7dHaJ/9N+d6AVgo3/eIBeEcAgDMAADWxnofSOxlS/qwwAM1M9A73EN/Nwg1j9Lz7MQ/aP/89RVf8/oH/3Xr9LzLET/6P88ddXfs9E/CfL6/YSFMAADFTPQ+0aiYtdgGgzAwE4Geo9r4OcGcefUaaIZ+kf/TQh5Jwj0j/53SqeJZugf/Tch5J0gjP5tgtwc8B8coAE0gAbQABpAA2gADaABNIAG0AAaQANoAA2gATSABtBATxrgDfKdTxdoBgMwAAOGAbNg8D8YgAEYaImB3uMa+Pte1/A//m8pnm/Fgv7R/1bNtFQf/aP/lvS8FQv65xMrWzVDfRiAARhQDPS+kCgyOIEBGGiCgd7jGvi5QW5iIu8Egf7R/07pNNEM/aP/JoS8EwT6R/87pdNEM6N/3iBvwpWAgAEYuIuB3jcSd/HOuDAAA+cx0HtcAz83iOfNrvp7Rv/ov36Vnmch+kf/56mr/p7RP/qvX6XnWWj0T4L8PH7pGQZgoAMGet9IdOBiIMJAdwz0HtfAzw1id5NeAEb/6F/IobtD9I/+uxO9AIz+0b+QQ3eHRv8kyLtzO4BhAAaOZKD3jcSRXNIXDMBAHQz0HtfAzw1iHTPxHivQP/q/R3l1jIr+0X8dSrzHCvSP/u9RXh2jGv3fliD/+7yG1+evDiYaseK5nP4bvu/XgBwaEWJnMLZsJLbN0d/nxb/ve3h//+3wyN/web2HXU13jEYTGICBuhjYEtfqsvwYa8DPDeIxSnpmL+gf/T9TucdYjf7R/zFKemYv6B/9P1O5x1ht9J8myP8+w+v1mv6TSUub3Hl/hz3pltjkbYki2doljaSN5nhfEkj2e/+xSWbFDw22cF7ktODXq5GnOJcTgVt4uBoP4/XNwJaNRHGOJjQuz4ukibqwPslt7Yri6P7kujKCExiAgQcysCWuXQHP7huiGDUMmf2g3LQOw7C3XU34PQa/740gzmC04If3zH5+UHvC9GFoTfiNvjwHc3v93BqmMUb3Cf++89wMw/AY/CUcCz4ucVoTfm9nVv8Ko/Tx3tjgollN+Gf1H2H3/Lxen0G+fpbOjWVu7sRf9PeKWODXI92P5OTZ+A2+1KcetfhdHRvkvHHt6/G/9NvCmiagy8M5rrQ+9Bp4J35p+9xxFlPJ36qjmvW/YNtqjA5w3scLY9y5/i/EdI0nmhvKx2HP5NaFfN2sju7EH2G469TMf50gH4UXNt9/w+eghHgM0jolDBQXF86dsHc1LfRaQ5EV/g/AZjm90K9reExxtuvTNXxQ59kMbNlIzc7RLAU/zguz0K6J37beZ/i8o03y2vZZ27kIAzDwZAa2xLVzcZoHfSY2/dm/NNMJ0lKM3NvOoakGv9m/iTjubpD8zU4Joy8bX2mxN15jEkAeG7j23PdZGf7B48j5f1SeXaviNcy0E0kPuw/2577PDDdjl9X4v4i/gKPoY99untNq8C/q3/vUJ8/8+d7Y8ED9j5o1P8keMzs3StzcjH/R33NrgSDBHur8heblqfhHjFmfZvDLB8oqHpRio+vnvvlf8puPW/NxO2bBrm3veG0Yk4diXY3b3Yc/tiRznvX/Fm4q1v/40kM+FbYFY8nHNeNP/R1iV2luxO1W1M3qyPVTtf5jqCecG/yZBLnfXKQjBieZMi8wJ1j3hCJqawNyeBvd1hlVr/sK/c09AQ/W+HHDlelIbYBzmyVjX8He5G0kecPgxz2jves7YA+JqoQnizFwKoNIUtcTE/Pir9tfM3bMi8EtbYr8qsqMLZIn06lsK8vj6x6nu/75m+dWY1uuH785JLWn4HMCAz8ykCwkq+eo0XE89+RcW6Hz1WPNgfRjuF+dfDLzUdoz1wfXYQAGWmMgiWu3A8zFKB+/Ssbta1cf/hFjdj+XwWj333JvFriySXaVHEhjfX34MxgtJR5XVG55kvgFxgI3XkmPwF/AscbHfq+u133HQH34M/ov+Xi8D5H3SN634TfSTCio7i8ISr6azE5iw8zcWMFNNf5PMBm0836buIgO9HzwvESVxGm9+L3tCxwUYsNQnDeOhFrwK7+VMAnfhcM5rsRaECqro1rwK6PsyQymTdz4PtLe/ZX78Bds24Sx5OPCGCMB9+H3Hhh/s/HPlam5ETWLT9O6ngP3G+8BqsEfA7no3ODXCfIpsZlPiuSSlC+RQNHlWpzWOWKnouumT71TZ3pWvFP9uf4N7WKnu3Npr607JXfHcmFjtnwW7xKGdPyYAzueGN8g03X0E6GA1XGg60pe0rFDqS/zNxL+PHwTXI8zlgs7szzNlo9P9US53+xI38RY9Lm3MehUl5e1F7BzBAO/M6AXki1zNNVxdi7NxpzSWK7veNGL0drx7FzM1XfX1FSNO+AcBmCgSQZ0XKsB4nyMCi8XhD1BsHhfu/rwj4iSm0RzPcWo921RnaQPs2cKez5Tuz78KUaLavo0YVpu94V2j6/LityYTh+Cv4hjhY9zuhnhV+j/0bII15yPPbbtscGN8xT9e3+ZX30fJO+1tP7XcFMN/sjfDm+MR7KQO3bxLeyHXfuSNmrFX96zB+zF2OC1komNvoc68Gu/LWHytvvfWa7GpOP7HV42jD9vWwd+jyT8zmHaxk3N+p+3bRPGoo/nx/BM1+L/OKZ7+4bpL8vWfPRazyPTx5yOfP+14Pf2XP1r8EcJcmeC23CYwKFvNrSjnMBU8sQsZP6tlPgJpSzzwdk3zj4hMQ7V4zvrYmHLN5RNjVEI73ewxTbM2GvrjmPE9to20oZMe4lpEcNCeyVYh9SiKf1jppHN2j+hD3+U92tqV5g4Y0u5QYnGdDUET0vlWZypDe7PosL37jW2hfqxDdJPngx+YeAgBooLSaTFRR3LmJR7y6ekZTWWi4M+xGahqvpuToUbCNfC2Btfy/bFRRiAgaYYKMa1W5DmY5Q0xe5dppcefMm+dvXhN3jmsKTX05tJl0Dz8TzsB91e3yQL5HpRH/4Uo34TMlPu7zXMd9j9vYnfg4pzw2y81j0B/68+ntdTjQ9I5vU/aTnyqY8AtqV5kLIhNjzB/xKfv/ed5vCK/Z1vn4ubdeDPz+mSbj0m+2vvXcck6ESMqmFPHoN/q0+j+RDHuNK8udX/M35binfKsyWubP8iv2Tr1r7+2YVreE8xTM+NTdwoosZk6dSvK7zV/8I+OTc3YVzhYz+MHMNfqwN/5j5+Zm54u9XvXN3S3Bg7qAO/QnPpicGfTZB7K5xoQhCxwXRaZNzknE5NI+OMKSCLpKnfpIrKqq8xOIWnueOCVkiQi668ueF3FIWuk7F3TKbberaNf4vadyXbyOOxXOJdxLDQ3m/atdH5NwLEP7okN3yKUw8h86v9mtply6Udkht5PPUt+lgqz+IU7X2fkttEP0v1y9rzQ/ALA0cwEC8kbn75GGZ+Q1zRczSjYxmTViTI58fKLKwKbDy2O/fJE1/V2Btf82X8wgAMtMtAHNfuR5qPUdquXNzb164+/OMbotMeWyJPMdq1QdVN64QeUt7qwx/b787DVjUu15jcWunuZ9ZwUz/+MbHxg49Licb68Of0P+/joG1/pOu6q7FmfN0aHxDM22qs1ppemhsBpztKuanB/3a/rPTt7S5z4WvJXzf/w15cliUPFyr5CxKNf5tPtR4MWsmZ9rfjJuR6TO0a/G+tFg+2ypikRxe4SvIUkhvXTy34A6oypvXchB7DkdaDuV4P/mDbJowrfFw7/hRvsNgc2XKRX9Cl+izULevIt6rH/96ia38N/mKC3AdUvwFdTO7IpGaSMNYLk+pLPc1YIiF2blzfTKb38P1+VGIqxuJajXXNXyhkbRDlS8mqbHtpW8ZuyZcXuyd7bKp4iid8NKaqK4dOjqUt8thVtBNJ2iHHjcZ0LQRPS+VZnKkN+mHLuDGebFqob23IJygTKrgAAz8yoBYSOVdMv9F80HM0o+Mtb5AXxzJzUr8RoWG68vShpH7TzthLglwzxxkM9MCAimtVAHbxshiPbLzVN/p+77e1XW347dqRTRYZ52S4ideH3B7W+zWpW9MNsjcyxlhew/5MYkXxJdoneF3ZtMWsKkEwh398KUndIKc4fGv37/Lo+7CsbsYGT9B/mkAQPp6AjwcbY0Nt+Eu+ShO85bmR/FF+hpu78W+Od7G/4/MMxqlKpqw+/Bt9Wohxa+bN3fizvilgmurbgwWuEn+ncaMa/BOwBUyruZk6DAcJHxWt/9K2LRhlO4s09fFEQFK3BvzO33JPMtnrDzJ2+6Lkd6q7oKOxYX36TxCdesHgVwlyEzTVTYQVY7jZWEzumPp+Q2qOC57N9aXGnoVe2ACqN41dvWDDeC7eSteLRFx/6Yn8uDn1eHM3KApDxm7Jl08cT/25xoon64+wwbVlYnOs6oqxy35N7bK8SN+pcdfxFHiPeUzP/cZPDvlTgnxBe4IaDmHgZwbUQqLmyvhgZ3aOjnNpISbNzoviWK5vHVPTuRvAz9dX44cGHMEADDTMgIprVeBMY9TfJ+xPjYl2DxTtofz+QsbCNe3qwT/G7QSXdErKTZI0i9aL0NrdMEl+TFk9+L2lOYy+zPxG5TFee4PoHxpHN59x3cfgX8bhGMr7OOFM0FmP/wv6j/0mfLxmjj8Dv3dKpG9/2d87in2mKBoPdds13Nzn/4K/J2Aaj7s8tvMbVqMFfxxx9Hz8BnHMQYRf/TVq9DCtMG88xbf5v+C38poW4/dI5rma1jzLh95L3IZfml08jv1fWgs0NzXrv2zbeozJ/BA+Lo/hSL/b/zYPF8f04tzQPrYv583EPy2rWEd14Nc2Xn9m/K8S5F5Q4a1CHTB0AtaRKvg3dychQe5vVuTnQMQGX/dlwI/Onakf6MnUe41vOWaDvsfg7XUTzGEMyWbXvyzTb1J6+0p4fZ3An+zDjx+QxHy5t03dm88+cMc82fORo/f3O3zEBIrrhpFizjwnpkZqVzlBbtqUeFpRPm5iDU8OZ2pDzI3GtrL+opYCQxzBwF4G4oV0/Rz1OpbzScYkXy4sK8TY5Xjg+pMPr0LPrszHHXfd2CVjRajNEQzAQNsMxHHtPrQyPoa/DLOxyu75wrXpBQ1r7N52Dmk1+GOMfl9jN6MFjAaG2Gupf1NIXff7MO3havDH+81p/xu/B5uuYXItDvvNEafiIF3nHoN/Doe6Hvt4QTc1PSAo6t+/hBBiwLSHiduJ+8/kHiajqcf4f5wfE249jb3Yh+9baKDIjWtyG/7YttXxLt7fjue+vdzLxmMobdSMXzo3jncx/kL8z+RnYv3c5v8kFxTFZhXXZFkG/0RXzFXMjX9wOjWo8AFxsM0dLWEqcPMk/cdzc4v/VV3h45rxW+e69Tmekz5fF3KMBR8vzaNJThkd1bT+T3Zee2DiX5QgP84Am2SNhG02q6nDjxuz3JMTgUpwlxtQ+lAG6tPeQ4nE7FUM7N9InhyTzCYgisGrAPlKdhMhE/a+gF8YgIHWGdgf19pgBvz/teHInSjwP/7fKZ0mmqF/9N+EkHeCQP/of6d0mmiG/k9MkOs3fo1e8k8prlPSycmo64Aw0gID9WlvwWCKH83A/oXk7JhknkLLJ8zbaE7n0bb21IYBGHguA/vj2nMxS8vBzw2y1ENvx+gf/femeYkX/aN/qYfejtE/+u9N8xKv0f9pb5D7hHj4U4A73x43sM9ORklqOb6XAefrerR3LxuMfi4D+zcS58ck89cU+/5q57fk+rmM0zsMwMDZDOyPa2dbdk3/4OcG8Rql1TkK+kf/dSrzGqvQP/q/Rml1joL+0X+dyrzGKqP/ExPk14BgFBiAARi4k4HeNxJ3cs/YMAAD5zDQe1wDPzeI58ysZ/SK/tH/M5R6jpXoH/2fo6xn9Ir+0f8zlHqOlUb/NkFuDvgPDtAAGkADaAANoAE0gAbQABpAA2gADaABNIAG0AAaQANooCcN8Ab5OQ8f6BUGYKATBsyCwf9gAAZgoCUGeo9r4O97XcP/+L+leL4VC/pH/1s101J99I/+W9LzVizon0+sbNUM9WEABmBAMdD7QqLI4AQGYKAJBnqPa+DnBrmJibwTBPpH/zul00Qz9I/+mxDyThDoH/3vlE4TzYz+eYO8CVcCAgZg4C4Get9I3MU748IADJzHQO9xDfzcIJ43u+rvGf2j//pVep6F6B/9n6eu+ntG/+i/fpWeZ6HRPwny8/ilZxiAgQ4Y6H0j0YGLgQgD3THQe1wDPzeI3U16ARj9o38hh+4O0T/67070AjD6R/9CDt0dGv2TIO/O7QCGARg4koHeNxJHcklfMAADdTDQe1wDPzeIdczEe6xA/+j/HuXVMSr6R/91KPEeK9A/+r9HeXWMavR/Q4L83/B9v4bP3zwJf5/X8CpVmG96bMnfZ3i9v8O/Y3st9lYN9qKVzyp8LqfLc+VZnmjT2i0biW1a/N3//77v4f3dE8H+hs/rPaxv+rute9RxHb491tEGBp7LwJa49lyU85aDnxvEeXW0X4L+0X/7Kp9HiP7R/7w62i9B/+i/fZXPIzT6jxLkLsnxer0G+d+xuerlRMq2JNI8wJ9LCglyk5hZk8S3WDYk2fdjz/tuX3LsZ+YO7SDH9RZei5waHwu9H6v1bTSkOFfOlQ362mYRtdcwsGUjUdRiMtiy/5Mm6sL6JLe16/VSyfRtyedfbR2GVP8KTOZkGZ/tc2Z+b8OXGZ5LMNAwA1vi2hU0+Lmc29P4MreWiwd7/77DOzf/o3U/7AE+g393oyb8Gl+w0fBeKpPlCW9z3IzOrAm/11e6TmX2vWITN8tNpf739m71leFnKzeD4kDMmRv9P4ffX3fzVOvfmKvLPZayNuY15Uqu1X/BVuUneW8eeMjjdzjyZYXxRmKuxe+9sfyr8ZRftjO96fpeG3bCiHs/cb1y/MsMhRoae8SV0lWb+D0TaWx0JZ6fJN4Ow1Cr/j2m5d+FOd66/xW+7XHzSf4v6XiuzF/3e1+xbbLSehL+5bmwvYbBn02Qq2Axikxd2z6WaOEmbewMUcFt9EoVZOUzjw32meSjFdcJNtpAvqvfZV7PpOrMvn/lepbT8QYx0P03fGb8fSY+33eKs12feswt/G5ZSGa1mCXiR/8X4pcaztb7DJ+3TpDbG+jV8+FHW/2NTJiMysTsyRI+M7+F/W5DEG4qt+HLWsBFGGiWgS1x7VwSzIMwE5v+7F8fxntRO6/FPA+2+HbjX9CYeFH4q5g4NleFX+DTduo9S1I2y9syN/XgHz2aXadK606Jm6ASf6S5uzpB4v2R07gvK+h4KzfxXLDnYm28PEHkMc7gn9X/mAAV5d6fw1DSRklTruxa/a+wNQBT98jz8e83bq7FL8CVDpf2dFHbWW6q039k+BGnJa56wO85NFjf8f1NKd64hlXq32Na9VuIKT35X3Al1/jZ2DDWf4b/SzoulJViw6PwC+cefGj8v5wgN4PaySQ3T27i+ScPr1dapvIcNkD5T5X4Seuc5/rQTy+liB3m0ngRK8bxuTeGps3S/LiDavsevt9cgjy2xSeVTL9jGzu+40RjMW0N1nkbdH2DLR5Pci2xu3qKd19scQmO1fmyTWUb/LjzmPa3j7F7rse3ZSRY5Tv9pDzldCRG8eDJ8r85Xgz30ibBqW0my8wTy9hXc+XxdY/TXf/8zXOrsS3X128NjU9VJY8ePr+rGUgW0tVaNP4qxYMV/lw91hwcP4b71cmnMaat+kKL72deq/NxwLUN64nXv82az8TzTAyYg+ivJ/N9Cz7fCb8w0AcDSVy7HfbGGDWzb80ud0lsuDpBup7c0o1dvizD2wpu6vK/X19iLP76Mn95bsZ21fg/xjd//xV07DmI2/rrKTcpF+laeI//YwxLtqd2hxbz+F0dX54f81r83pZg/eyR0moJf6lsebxr8c+iLRcoLuKq8/jr1X+M4cBzwVU/+L3O83Pc35Po+x5KAMbPAAAgAElEQVTH+SP0X5SHx55W6sf/ArvQ/zDMxwbf4ln+n9O3QVMqG9Eqbty1Z+H3Xjvu1+BflyC3YvJJR0e2/LyInWxTMjAzKTMJcvkmj26fJj50ErD0VFy/MaKDwGi3eINI9xuLyEyg14Y3yMf6Ew/OUbkxzsGe4V1oJXAR40x50f4Yy8NufPyTNZ/8TdtrzKk/gy3GwOX2tr4Y37TSY5T8HtcVpGTGDqXerhinnwexDlfyJHBonsf+RPkabjQP3uaQuNflelHI8Rrwc7SWAb2QbNFi6i+tibQ88ad4c8q2nc5d29zGT+IKGsjVd9eUJGVjdZzaqrGk81Dbm9N/icucvcqg9GRFUihtxBUY6JMBHddq4CAz58eN/fst/oR2DFhxfPHraS4m6rjqsNaH39jl9pk5DPNlKW9ruKkJv7XX+jXG4s7Dw9Ww99GKLfGWrk2m7T34Y3zxPtNYpuvs4iZZCx0/cq2vBX/Rj4X573ma08Y8b27Ea/Gv1XGk1RL+Utl07+PjZjpvrsWvvbz6LNGxaFnCn7SrRf/C/qMPJWZ5bMdpE//SHPcxIreePkL/RY0UYkon/pf0qD1eKTaMjZ7lf70nkLhLGp/qJXq4a/8zWXT7gfH/9gS5FZZPGnoMJrj6BdY5Sm609J+yZ8qjpzk5Iet/LE6O523I/CpbM+MaUfiEkqo79iXLo+5D4PUF6QJjShSWcVOiuDkMu8MXNoPxG8zOvvf7HTBb0zO8SJtyvMjyHCbJm23vtSG58tcy48v29iXS9Hvvmlff7/gb2Vys631k3/r3Npl+UrsSnxs7/QORaExnidDpUnkWZ2qDnksr9CW5jG2QZRGFnK5noLiQRpxrLWb8u2VuxSaqsfLxSDVR9Z0t8UbR2BtfU31MJwtY7FhyfpmGYn5k9T917g6UvSvwqea/4lOdcQIDzTNQjGu3oM/MYbsGi7hiY4R7iG3Xa7+/G+3Nx7N8LKkKv8U58xdfpTKLO+VtDTfV4FdxP8UipWhx+T2ZKVjkxlayL8PoffldN4gpvqKvfuDG7kWmv7Z9D+Yhk+TgHv+n+K1/5/xor+fnv9SFOVbaWMHbPfid1cpWBSSKVSX8pTLVZ8TNWHYn/si8mdMZrfjaC/jr1L83/ujflKvm8a+Y4/4+P3ePU7/+t2kkjinN+1/RsyFuju2e5f90fgf4pTJTK1/+LPwB7VFHBv/2BLlddOIEuSPYba7k8WiqaTPdqGTKbaIkbM7sxPU7NRvk/FNu+Ss2RYIRFwRkPW9rZlxpVw6XLBdjmEM7jrfRlkUTcKyvsGSSrv6tH9+Vqr8JewZfZLO/WfBjueJcO4Elx4vCkWkveVvEsNA+y3WcGPYbvJzf07oxLf7cacfrKrUr8bnkRh77DiVPS+VZnKkNPyXIo4Sk0tpkMwdbGYgXkvkYFGsx418VCzPlcm55zUw3uUb/Pt6JOZwFFPftzuONotFIfC3bndT6VEHYsBgHcjG1NK9F39N48wdW69MaFOqtxxfacAQDPTAQx7X7MWdiVLKuhjo2Dqs5H8oklrSeK60Pv7PLrS8+zkskPl7GZSnuFHNapw78zq6wZ03t1AzMrwtzvKVc3On/FF9qn6/jvtd9BDfxfYhh4B7/e2zz33VTfizMf60Lc+a14cZY4u0e/N5qb6s/d7+JFkr4S2W6W8FNKLgXf7Bj7mhuTzfVbxz/hHPFwSJX09wIndXu/2Bp7mjdHJ9LDpoen40/x0k+priaaVlL+DfFzZG6Z+EvrZulsjEnofbJjoBn4c/p/bdrBv+6BLlcaGyiI96Am8k1n1jUSb04cBkQsn2URMqONwNc2mmqqLaZcU19LwxVd+xflkdD2gkXdljZDYZpYhemqV7GhqOwZxNU0uiRY/Nd9SmJZsoXbMrxomzOtJe8ZdtLuxba+yTgxKFrq3gt+j32gRw7Ppa2yGNXL/G5HDeLU+h6qTyLM7VBz6UY20J9a0P+IULMBOfrGVALidSE6SLyu9Lt0tzLlcu5VRzLaC88dEzRuHL9FyejNnxMHOPXbwnycV2IeEjtGZM7cp7/hC+MULo5MGXr8IX+OIKBHhhQca0KwG59U/PVxhW/9zRGijpx/MjF00xiwEOtD/9oWYLZW+zXG8lHxImvuoKbOvCvW6c8LLfexvjH0ixv8+vkPfiFfj2oWV8dyE0yxl0Jogx+z4P/lX6Ux7a80H6qu463e/w/gpxs9aDNb0arST2Bv1QmuzXHSd27/B8blj8v7emmFgkmwc1UaTyoRv+xYb+fr+KqOfzr5rjaL0RU3zr/I1sOOU3mg+i1Of8LbFvj5tj0Wf4vxDa5J5a0+PykuN+Xxc/CLy0/5tjgX06Q20klkwjOEck3yAXJNiD7RMfYfkpEj85KvsM9177g3ISGaJJbO6ZksLPbm2XbmvrTuC6gTjdfid16tOSJVG4SegFOg47cTQ8TxqTQZEM+4TnZpE2IzjL4RI3gk9h/SzbF9WObM+MqXl35PIal9vF4DlTAY0lWSX/t95jTQIrxobLL6sffXKV2FRPkXteTr2O7XX+leZNqKrXhpwS5wSfsC0xw9AsDaiGxGgoPEMtaHDUxGw8W/F8cy7VV+s5oNOCery8lo+ZdaDwlpubjeq5/1YH7qxwRC63Wp/g9zuPpPNefuxY0Pp7LPtWQrlziU8WcwEDHDKi4VgUP83N+inNqDY8SSlG8NJDsmjvFFA2yGvxmLyqClLK5VDbByfG2zE01+Ccc1mPD9x3uR/4+fr/mKtn1ycf7FdwoLtU4dyUI9/nKma7bFrlRWKN7n7HsHv9rDNaUoh+j+mL+r8cf9XED/jW25rUa2S7wJ8k/UbZmvHv8r4SZOXF4w327rDKWTbGyxI1sV5P+pV2/Hpe4kn23il9ijLQwFc1dvyv+T4b9fLBmjrtB2vb/9rjpWKkz/s3JYl7HyTpgu1iODc/CP8fL/usGfzZBrt8q1BtQN5ybUFM9vyGdbJHln+HPLMxTHeOY9/D9+w7v6dMAIaFkukiTMKMzp/rz/3imS0i5NyHf3+/wmW5+XB/T2ukGEnb5p+j+DdvP8Gc2ZpPdEzh3YMpGe9zNmcOs+k+weBsifkTX+7FnOHqNNxJ2YyQ4trZ7vy7b5N9cyPvbt1cgNK8+MZf134r2CdepRub9ntYNlsaceU5MjdQuG2ilg2Nex4ckeZ5Mn9LvGQ0nOFMbfkqQez1m/RBY4WgbA/FCsl6L3r9SF2KeZjSY9f8Uh2S8y+l+1LvU8ATVlU2JJnvd2CXnRK5P34FpX47rfk5N88PYLeNrov9xvL347Pz08Vz8TvhTfB4NvzDQOwNxXLuPDxkfwzyeYpWIGya2TNPbGKzKdCzz6/HUTwSwHvxj3J7WbYmjVLaFN9mnI6Ie/NIx0ToVx3i5niT7zhij46cO///mK8fQBm7UvAgPHCTT1/q/hL+k8XiOi/lf1IZEGvE2Fl2Kf9HWglYjX87Hv23cXIpfuqN0HPPkY6IFPepEEjDHTXQ9FwOqxF/iJi4rcdUDfsVHPMdL8cY1bM7/cm3sxv874+ZjPrFT0nGhrBQbxnnzeP2r+b/9xOCPEuTbO6HFFgZckJbr95bW59St0aZzkPbeq03wy0VyTJjnNoe9c7UF//6F5OS5ZxbByN9bcMVvcMefi9nU1xmVj8Z3ho30CQMPZWB/XHso4Mhs8P8XMdLXKf7H/30pXqNF/+hfK6KvM/SP/vtSvEaL/kmQa0WcfnZyQmyX/TXatAsIjRYYmPvrBBLkC8QtFO9fSM6ee+YJcvzW3AIYURzrxTxgqUsrx+IT0DmEge4Z2B/X2qAO/Nwgt6HkfSjQP/rfp5w2WqF/9N+GkvehQP/of59y2mhl9M8b5Jf68uyE2B4wNdq0BwdtlhlwvpafuKgr4bmMoMYa+zcS58+9/Unt35LPV/mpdXxX8cg4MBAzsD+uxT098xz83CA+U7nHWI3+0f8xSnpmL+gf/T9TucdYjf7R/zFKemYvRv8kyJ/pO6yGARiohIHeNxKVuAEzYAAGDmSg97gGfm4QD5xOj+sK/aP/x4n2QIPRP/o/UE6P6wr9o//HifZAg43+bYLcHPAfHKABNIAG0AAaQANoAA2gATSABtAAGkADaAANoAE0gAbQQE8a4A3yA5840BUMwEB/DJgFg//BAAzAQEsM9B7XwN/3uob/8X9L8XwrFvSP/rdqpqX66B/9t6TnrVjQP59Y2aoZ6sMADMCAYqD3hUSRwQkMwEATDPQe18DPDXITE3knCPSP/ndKp4lm6B/9NyHknSDQP/rfKZ0mmhn98wZ5E64EBAzAwF0M9L6RuIt3xoUBGDiPgd7jGvi5QTxvdtXfM/pH//Wr9DwL0T/6P09d9feM/tF//So9z0KjfxLk5/FLzzAAAx0w0PtGogMXAxEGumOg97gGfm4Qu5v0AjD6R/9CDt0don/0353oBWD0j/6FHLo7NPonQd6d2wEMAzBwJAO9bySO5JK+YAAG6mCg97gGfm4Q65iJ91iB/tH/PcqrY1T0j/7rUOI9VqB/9H+P8uoY1ej/8gT53+c1vD5/dTDQiBXP5fTf8H2/BuTQiBA7hbFlI7Ftrv4+P/5938P7+2+HZ/6Gz+s9rG/6u607jByuw7fHujrawFEdfniaFVvi2tOwrbEX/NwgrtFJq3XQP/pvVdtrcKF/9L9GJ63WQf/ov1Vtr8Fl9C8S5CYh8hpe2f8+w1xK2yZ83t9hbQpmW4JIwnAJmNi+fckf2e/9xyaBET802MJrkdO/j/LpncnoFOdyUm0LD/d7Egt6ZGDLRqI4VxPyludH0kRdWJ/ktna9XiqZvi2x+qutg012x3FQwUlOlvHZmCPWNBn/tuFLBn/IhSWOMuuqIKkPjh7iyovN3BLXLjYtGc7P83g/6K+7fWO6j/XlcTszwBPxO5ziwea/7/DOxb9oXxj21YGjx+CPsEhfev/O+d/4Obf21eh/j0XisxNhzse2cFxXJw2M2og4q93/Hru3UyxRbt8w4dMv3My3K697Nfrf2JTVauTLRB/Zds/EP0o68rmId77C+Dvvf0uKuDdO+3hM/JOYV2hhqr5Qt2b83q+x1v31XJyYcJuDCLuv/3o9Y/3zOGP8Gleq6cBB3fPf4/N+CfF+2e6AcTCLX37/k9FAzGWt+tfcBL1q38tcrqgzkbPMY634JwgnHxj8IkEuRrOiKk0uUXfj4bYEkezcOTRMFFn27GMr+B+AzXI6BofQ9d/w2fAw42hWU5zt+vRo7uivXga2LCSzczUL78f5YTaBa+a7rfcZPm+dILcL7pr21vYfbbV7mfRBYZYWf3EJn4l/wn63sRCbhaX2fpwn/y5iXPDbYvsnk4PtJQa2xLVSP+eWuRc73t8/+9do+iZH73d07C21cxY/A/+YABVxLvDtMY6vr5i5XPirIM3PUx4QRA8A1b1Lyf8jSza+Zda+qh6QeD/OaFw+2I58bNe8rDaCSvxRtf4vreN7y4aFda8q/5e0WtJ/qd0D8Y9wVmu6pI1onrjkktgb1uh/P1Fnf1doYWq7XLfO9a8QC0v+nnDPH1Qb/5TJBfwrNB26qnj+F/24bHfA6LnK7X8erH+xnseaDdjd0Xz5Mo91zv8Y4XnnBv+GBPkoqK9/I9ktJtoBhnSTWHfCdE9/dKJd1zfgnKP8kyL5BE9DLzjUTCi58VfnyzaVbfDjzmPa3z7GHhJUCU8WU3gqFJLe41sF8oInTvHgL/rfHC/Gp9Im7bsyTtOvbGts9RuO+LrH6a5//ua51Tws188+Rctx42ngFwZ+ZCBZSFbPVaPnUrxcoffVY82B9GO43yTBJOPqXBf2uu9nfi5vjw/lNwB0bCga5wqTeGhsjWNcoR+7AQ0x2K5ZPrbM+sHwEvu4FGe31v+VI++3OdwbOZrrhuuPYyCJa1UjcDrW8UsbnE+szLd7Bv7C/LTxyu/BDBeFuZ7ExockyK3dEuM8H6n/PR95DdTn/4ydRR/Pc6Fnhl9D9FpYH/7R6oxWJzyry7zvp5bJQV34vb2RBhb1P9OuFAtGJurC792zQdO+if8V2khjQdpvnfg9mMzvohZEmxV168YfzQMBbToU/p6uzR1k6j4N/xpNB/g+LoQr8VE1+JVvlu2ecJTWxsfr36FMfT6hH9+e12t6KF3msRr/B6MvPTL4NybIZdLT2aqTFI50+ZaKdeCUKE2Tubp96W2YskODUFy9cKO0ZNNY7hMddq/4ziR3g9Bim+PzYIvhKB0/W1+Mb1rpOvpNGN1/XFdqKB07lPoyf3Phz8OfKOpxxnJhpy2ffLtUPvpWtF/DjebB2zjnC73Jsfap8QJ6jmDgKAb0QrJlrqZ6zs4pkcTV86E0lus7xME82jBHcvXdtXVTaAlLGqfs2OJpeLDF2/o7Pt+T/S1tmFTF3EkptizbmXtY6HnVPHge18bl5bHLGvDj+cR/iK2OhS0ayPHGtacyoONa7SicTue1buavfzAvscy3ewT+8ebx/fbzN/wbPzquGMzzWPW64vh5BH6/V7b70Hl8w5D6P6w3+Xb14U/tLPq4oA05A8zxo/yfrOMCzeoyx2V4MSte9+p6QFTSqvXdjP7n2z0L/+ThDZqe2vgDqQ15bMtdfPB7MnOpvvnvgcz/lrQQt1qqWzf+NBbG+HJ/FZDUGS88Kv5ZmzP4V2g64H/Q/Fe4lu32GItro1/zZuKm6aNu/RsL0z2Nx25Li//e4zKP9eOXaI8/Nvg3J8jlApI6wZGu6xgnhs2HCkTjYqf/IThdP8COHRon60exvN/RZwUWbLI2+GSEH03akGlvJqxP7CxiWGjvE/KatOyG1VvnvqsUbFacTpXCgVsIDV/BD/5mSQ4bNlNjWxmYlnhaKs/iXOZGY1uoH9sg/RTo4AgGDmWguJBEmlzUs130/Dxd0HuMQo3l4qGc33F1HUfcWHGCydgbX0v6sRcytkos1jaPy/cg42zuAZqvN/5uxaea/4hPjW13V2ENUOPYQDe8oweH0g/FOJt5s6tcPxpc2blCA0lz+XDYFa7XQNQZp49moBjXqkOWn9/qL8rkJJzsn2n3iBukMQ7JfZ2d/+4lh/QG0SVC03iejxNP8r9dV813qP2+3PvX7mHHhwfS/ypO5jVQH/7UzqKPLXax5gpteHrc75P8n3IQsOwtG/ce05rteqzG/yu0mtX/inaeO6ujWvF7I83vak3LRuY41cbEmf1+/XswDxlliKjG/zGUhfMJVxwLM+1KdevGn/pTw1sql7WfFP+83Xl8kz9nNO1bx7/1zv88Tm9/zm5VFs0Bw4/c/0x8RfVMH9Xqf25P44Hb37ymVRVxkuOxWvzC7jMPDf6LEuRh4bGC9KvQuGELT/H9WzBiUzcx4CaKbzpdlgejcHSdXDshHtsmJJtdd7KNPB4HM238hFrEsNA+mzhO3+hwAvb8mN9gs+JU8hEduz48t6ldtlySJ7mRx1O/oo+l8ixO0d73Kbm1+6HwRpTf5EgT7YbJ+0Im5JK2fgB+YeBYBuKFZP1czeh/fCrsNJ4pj+bH/FgixmXhxn27c7l5MM3iDUW2K3sx7s+2tm9tWiyLcTKfIN+PT1tqY+QUJ0LZenyGTx87t8TnlJdinN2RID+KI8dKqpv1HAVeOXo+A3FcqxtRPn5Jm908CfsmVzbf7hH4k31XwGPxqpgXyhJeVD1X+gj8ar30ic4QpxOcdt/seAj7yDwv9eFP7Sz6uKCNhJeH+H9uHTd49pY5LtJ1rw7/L2lV2+1inNH/UjupAMte2KuNRXXgj+xcqemoVVEbrq7m0VyrEn8MTJ1rDEELqtJ4sly3bvxpLJQoS7FA1jPHaQx1NZ6M3yHQPo5x6/O0bg34l/2Y2u1xpX6VmtHtcnOlBvwey9yvszve085req4f/zZ62BM9Mf7No9tTYvx/UYI8bFit4L0X1BPuJQjxgh/XN4J/D1/7jXQpmFy7sa75dn/WBlGeSViopGy2vbQtM34uyeU5GZsqnuJNQTSmqiuHTo6lLfLYVbSTTdohx43GdC0ET0vlfiGS/S9x6ze9U5vU5tQX+YcICRVcgIGDGFALqZwzpv9oXui5mtGzesiTKZexoziWmZvhwWQK1ZWnDyf1W3jG3jhpnvZlgdp/JG+aqrbSUnzQPRXjjx3C/FsTPrYv4Qt9W84zCQBTYzU+68eZ2FL0Q+rDMs6N9Ytjr+doYsviDOv1Jo6mTjhogQEV16oH5OZNMVZltO0fuufaPQJ/gknwEMeG3H4rSjBLNz8Bv42lKrYL/BKMOZ64Wrf21Yc/g63k4wmvJyLT/kH+X1rHp5eWPNzxt9RuqppwVUuCoKzVv2/+L6bf36/d/y3t7+rHP1noDhI/5TSt26zyfzKPavG/xlI62xIL19StL/5J9PN+X+Xvqav5PfJT8Qdo5t8L9PdL09X8QTKv7tf/Kj9m7J4AJnPaacbcoz5f/yPKLP55TU/cxAeZfurWfwzg+HOD/5QEufyURyxEK/opizIf5FK4QdxpmXyjz9V7RWPM2xTXjydPZlwz8aZNuSvP3WA5O5fax+O5VoqnaKLbMhH4VF1BjuFe2WX78cmP1C7rq4k3mz0SAdbVD7zGdi+Vx/WNoakNKuG9NUFu8En7BRccwsBZDKiFZNNcHeeMeDNZx8uF+VEcy7VV83+cb/k5Ml9fTqm5WOPn8lKc1fZoj2jscfwZY/wU9+btDfhcnRCr9Xje5lX4SrFlhR/kGGvi7Or6K8bWnI+cjAP8ffx64Lix/p3WNnPN1Zf2xCxy3iYDKq5VDzETD8ymXwjXzrspfnhAmXZj0TPwR/bbeODndHSjFMUKAzPPiSPgEfhjTPZGb3wwvMr/lgX7cFfHyfsTBKMMxU/ka1tS8nFUX2nDdfsM/zsc+XV8X9nyulej/43Pcj4VSTCpf6GcuF1b+H28G7UwxfySNiQ5bg7VP/+lzZnjUiyM9/7Fuq7vuuN/NA+sySV/x9pwGJ8R/zK+juNAUiXWtMZf9/yf92PZbo0xeStaal4eG+4ycbNK/a/Y0+Q1rbkp8+jEVCX+ROfnXTD4T0mQf/7c5HRPr8XinSQ8rTLt5lQ96VY36J6A0cH220rhTT67qGXFrhfNkk1+Ik02qPHduNOaa8wx42XqTO3VtxBXtB8np2nvF+k4EWXPR+zu7YDAa1zXM+Y3RcEuz0ngXeKyE0teiHkd3zaZ+lMcWGL0WwtxeYJzmRuNbWV9qZHYhkAORzBwCAPxQrJ+rno9z8VLXy7MjGLP+rFMH66/kEAW/WY3XMYuGTPkg0jZ1vf9Hr5/5i1vH59DjHK1x/Gncv22ut+kJHFwddyL8Nn45W0Rv1OM24LPJ+hFPyK2zPsh9WE5zm6tr+1aXhsWOBKYnM9SjmLPc94mA3FcqxOljJ1hbrp91Kj1Kd7IWFZq55A+A3+4ufP7sim8GRhizyUfXjqEjgO/54z9+xT8MvbKtWNa77L+l2idTmIe6sG/oNWSj1VZ/BdlD/F/aR0/qixZ9x6SIPf31JPGwz2kVLifC5PGY94egz+OaVLTC3sbz5EJkNG8mHgRpNUz/4VRC4eLsVAsDvN13SB14i/EwljT0t/Ze5+HxD/l8wL+oqYX5kZN87/kx7hM2R1hNLwpTuT+T9836X1DzfofMXptR/fnPpeZxrOImyKPNeNXk+HUExP/8gny3cM6J4gYvLun4xrWaNNx6OgpMGATTypguiCYBovQhiMY+JWB/RvJk2OTWQSj+bAJq11ERZLbbjbE+abOTqh8Ib7HxpajOTrBjXRZJwP741qdeLZaBf7/tlLWVH38j/+bEvRGMOgf/W+UTFPV0T/6b0rQG8GgfxLkGyVD9ZoZsE/E1dMZl4AkQV6z155v2/6F5OQEufqe+Xae4/lkksR1zSXzNoV+K2ALyi344rrJG1lbBr607rEcXWo6g93KwP64dqvZhw0Ofm6QDxPTAztC/+j/gbI9zGT0j/4PE9MDO0L/6P+Bsj3MZKN/3iA/jE46up8Bl3D0f2qc+7OZ+23EgtYY2L+RODtBbv7CbG9S+7fE6lU+vg7fc2PLdRxd5XXGuYKB/XHtCuvOHwP83CCer7J6R0D/6L9edZ5vGfpH/+errN4R0D/6r1ed51tm9H9wgvx8oxkBBmAABmpioPeNRE2+wBYYgIFjGOg9roGfG8RjZtIze0H/6P+Zyj3GavSP/o9R0jN7Qf/o/5nKPcZqo3+bIDcH/AcHaAANoAE0gAbQABpAA2gADaABNIAG0AAaQANoAA2gATTQkwZ4g/yYhw30AgMw0CkDZsHgfzAAAzDQEgO9xzXw972u4X/831I834oF/aP/rZppqT76R/8t6XkrFvTPJ1a2aob6MAADMKAY6H0hUWRwAgMw0AQDvcc18HOD3MRE3gkC/aP/ndJpohn6R/9NCHknCPSP/ndKp4lmRv+8Qd6EKwEBAzBwFwO9byTu4p1xYQAGzmOg97gGfm4Qz5td9feM/tF//So9z0L0j/7PU1f9PaN/9F+/Ss+z0OifBPl5/NIzDMBABwz0vpHowMVAhIHuGOg9roGfG8TuJr0AjP7Rv5BDd4foH/13J3oBGP2jfyGH7g6N/kmQd+d2AMMADBzJQO8biSO5pC8YgIE6GOg9roGfG8Q6ZuI9VqB/9H+P8uoYFf2j/zqUeI8V6B/936O8OkY1+j8tQf73eQ2vz18dSLECBmAABk5i4KyNxL/ve3h//62w+m/4vN7DqqoreqMKDMAADJwV157CLPi5QXyKVs+wE/2j/zN09ZQ+0T/6f4pWz7AT/aP/M3T1lD6N/vMJ8n/f4f16DS/x37pETYD+a4Lctn+9hjTH/m/4vrVtr9dnIBUfuOcIBmDgOgbmNhK/xbB80tskzU1cjuPx+mT6dbwwEgzAwHMZmItrmxBFe8l0Pyd6K9XdWebjpdvLpvtEXa4fMh6CX8B72iH4uUF+mmaPtBf9n6z/Uhpnwa0AACAASURBVEyPHblQ18fxeF9supkt+/sUcxz4/2T/xz6u7Bz/4//KJHmpOeg/lyAfFw11IzMuTrnFZ85jvyXIXXLo83ln3kJ3CXJpy29jzSHgOgzAAAwsM5BfSH6MYSYOv79DeH/c9GcS43/2AaGMf9bCpP6y3dSAARiAgTkG8nFtrnbuuo9ZYxSze0udhA6tSnV/KBMxNN4n2sSJKA+2uKPf8cc9Pusc/CQInqXYY61F/2fqvxTTYz+W6vqy3L54qUysRTbHIc6HYcD/Z/o/9nF95/gf/9enyussQv9JgjxNPk/usDc3/g0cV+/z5xYg93aOXlzkzYg8dv0VxjEVfLLHLlp+TG9Jpq2v76vwCwMwAAMXMZBdSHxM2hnD0pjpwWTiny0ysVjHYN+CXxiAARjYykA2rm3pRO0ZTUO/b8x0Uqq7tywaRifEl+Plz/ij8Z92Cn4SBE/T7JH2ov8T9V+K6bETV9Wd2xebzjJlyb48XQ/w/4n+j31c4Tn+x/8VyvIyk9B/nCDPPEUN3pALiFtwXiIhEyd01Hm8wBXHMflx/wmBzMKWLHajLeqV92A1RzAAAzBwJgO5heS3GJaLex7BXJm7Thj0PPELAzDwCwO5uLalP52QNi3nYtf4Z/Dqbe5Qt9RPqUzbavavfl9p/+5+eL/ew1t+ri8Knr/i1+M/7wz8JAiep9rjLEb/5+l/fdwurw3B22G9CNf8Ub7M5ijs51nz5fj/PP97z9T8i//xf836PNs29J9NkMdvbHs3uBsMdw/hFhR1P2GS4OIGRyXIB9l2XPBUYz9GuHHx/+Dc3EL6y/fRxWgcwgAMwMBPDCQLSfQAcHsM0/FSG5ffzJs6ISmvW3AGAzAAA1sZSOLaxg7SuDcfo0p195ZZc+3LGeO/WSP3nPa6+IsbG7P1v3nzK/6NdFVXHfwkCKoT5YUGof/z9F+K6bGL19Wd3xeXHsy6JPlL5S78+Pj/PP97jmv+xf/4v2Z9nm0b+s8myMVNg/KASdr4sq0JcpkUz7QV4ySLYZRsSha7+O100ReHMAADMHA2A/FC8nsMI0F+ts/oHwZgoMxAHNfKtdPSJA7e+gb5uAf1/6B7sm9MEyy/4k8ZedYV8JMgeJZij7UW/Z+n/6PWhuDxNH6Xy/Qe29oz5TdcS/x/nv+Db+o9wv/4v151nm8Z+o8T5NGb3soF6oYik+Q25bNvkPs3wz/Dn014z72l7vqVb4f74/CP0sULYXyurOYEBmAABk5lQC8kR8QwvXnXxs/HO94g10xxBgMwsJ8BHdd29KP2jKa9i13yRe6p11LdvWVT5+OBfNlCHtviNK7+jD8e/2Hn4CdB8DDJHmou+j9R/6WYHntxVd00fodu0rI1CXr8f6L/g3OqPcL/+L9acV5gGPpPEuT+LRv/pvjoBXszIb7fmLvRMYtYKUE+trEJ7+wd0viPc0ZPcY0F7umuT6qni539Rz39m0EXCIchYAAGYMAzoBYSu5mP4ufmGJaJcX6w2bcwXZu50Do15wAGYAAGVjCg4tqK+mmV6EGfSnS4ePWaAlap7s4ys2+d+l/YR2bi9u/4U0aedAX8JAiepNejbUX/Z+q/FNO3rA3e6xv3zGot8i/w8Yktz6b5Rf9n6l8yXecx/sf/dSrzGquM/l/ZSWAXj/G7jS/zGyd8MskY06aYIPc3KHoRklD1d8tVif0Hlty9Tm4hjBZb2ZRjGIABGDiRARlDj4phaT8uxvm/qPG/4S9rTHkcp08ETdcwAANNMyDj2m6g48sVLl7J+BQnQUKSIq27t2wcw+5hM/vY/9s7G2xXWR0Md7odT8ey59FpnFF4FiCSANpaRfl57lrf3VoxJC9PI6S0R/mWzktPif9n4e6/kfhZIN9P4X0ewH9h/lX+/fXZsDUv3rrm/j0MP482f8Nc2jHH+Bce//ve2l/1zPgz/l+B0mkj+F8rkJca8PhT21L9YBcFUAAFLlKgyIMk+sDxYyjk1o8S0QAFUOB7BYrkte+7v70l8bNAvh3CGx2Af/i/Eb/bu4Z/+L8dwhsdgH/4vxG/27s2/Od3kBdyLd0VWagjzKIACqDARQqUmUjs2xFObr1osOkGBQZRoExea0c84meB2A6t53sK//B/PlXtWIR/+G+H1vM9hX/4P5+qdiwa/i8skLuvO4mfhGxHKTxFARRAgRUFSk0kzL+9EH/tM+/CvmJ63gavogAKoEBQoFReCz3UfUT8LBDrJrSsd/AP/2UJq9s6/MN/3YSW9Q7+4b8sYXVbN/xfWCCvWwy8QwEUQIFfFBh9IvGLZtyDAihQtwKj5zXiZ4FY9zu0rHfwD/9lCavbOvzDf92ElvUO/uG/LGF1Wzf82wK5OeA/NIABGIABGIABGIABGIABGIABGIABGIABGIABGIABGBiJAXaQ1/0hBt6hAApUroB5YPA/FEABFOhJgdHzGvGP/Vxj/Bn/nvL53ljgH/73MtNTe/iH/5543hsL/PMTK3uZoT0KoAAKKAVGf5AoMThBARToQoHR8xrxs0Du4o38YxDwD/8/otPFbfAP/12A/GMQ8A//P6LTxW2Gf3aQdzGUBIECKHCXAqNPJO7SnX5RAAXKKTB6XiN+Fojl3l31W4Z/+K+f0nIewj/8l6OrfsvwD//1U1rOQ8M/BfJy+mIZBVBgAAVGn0gMMMSEiALDKTB6XiN+FojDvelFwPAP/wKH4Q7hH/6Hg14EDP/wL3AY7tDwT4F8uGEnYBRAgTMVGH0icaaW2EIBFKhDgdHzGvGzQKzjnXiPF/AP//eQV0ev8A//dZB4jxfwD//3kFdHr4b/YgXy9+sxPV7vOiLFCxRAARQopMBVE4l/f8/p+ffviyje0+vxnL5q+oU1mqAACoynwFV5rVZliZ8FYq1sXuEX/MP/FZzV2gf8w3+tbF7hF/zD/xWc1dqH4T9fIP/3Nz0fj+kh/vuuMBNC/a1A/m/6e7p+s7X198v59Pyb4jKR7e/xmLL3Bbc4QgEUQIFTFdATiVI5LF/0NkVzk6fj/Px9Mf1UKTCGAijQiQI6rxUIKppnbs7dttpuXPP50c1lX1O8ZUNf1x8qFo+/gKRnmiR+Fshn8tSaLfivlP+NfJ9jzOd4NUf2tQRR44ifEYx/peOfG+QCrzH+jH8BrJoxCf+5Avn84FCLlfmBpB4wH4b5SIH8+XxOj5Ui+Ov1ylxzxaPX68mu9Q/jwmUUQIFzFdAPElcgPz2HmbyscqLJeaYw/rYfKia5OWl/bsxYQwEU6FsBndfOjtXnr3mrg5136gJ16HGr7YdrImfGc1JbOBHXQ3/uqGz8cW/1nRM/BYL6qLzOI/ivkf+tfB+z4duuzJGj5vHzgfGvcfyjQSt4yvgz/gXxqt40/CcF8rm4k/tuvl3A+B04rt3r7R5A7pNXvbiRDxt57KhY60fa1fYmW6R/Te9c4ce/5ttUjx4OogAK9KKAfpCUyWFpDvXqreVSk5ujHOpv4S8KoAAKfFBA57UPjfdeVvNJc7PPmxlDW223rkWmdEH8c34sGn/kW42nxE+BoEYur/IJ/ivkf0e+D5yszZFDC1df0PNlxr/C8RdDVvqQ8Wf8SzNWs334jwvktsCsHxJhAOWCwj1wHqIAExdw1Hn8UFvtJyySzP1yV6Rd3Jht7cZWtOsntP3iQRgC4ggFUAAFDiugHyQlcthWXlu7Fvw4HCAGUAAFhlNA57Vzw9fFamN7LY9N01bbrWvaY7eZY5lTznPQ5/yTfnaTh/ra5DSVjF/7VucZ8VMgqJPMa7yC//r4/z7fS0bWny2+lapXzC8y/vWNvx+vK/4y/oz/FZzV2gf8Zwvkfpd4PGxugeHWEJniS1S41g8cee+84IkWI643YVcV1UVxPuon/uQ3fYDGcXCOAiiAAucpoB8kJXKYzp/a8/XJf/jgUN/BGQqgAAp8UkDntU+t913PzdPW8tVW261r1iM7j5z/PR0557Svi80gtmCu/w2bkvHvU+ue1sRPgeAe8uroFf7r4/9jvs+isz5Hds3z82vGv77xzw5voRcZf8a/EFpNmIX/bIFcLBrUMIoide7rsFHhWhfIZVFcFJCUfXMir4mHlrQtj80d5h+pkzvKV3enJ53xAgqgAAocVkA/SErkMJELE2/XJ/9rBafEBC+gAAqgQKSAzmvRxYOnybyt+A7yea74mDeA2AK53AyS5tGS8R+U75LbiZ8CwSWgVdoJ/NfH/57nRsAqze3hWqaGMF9k/OsbfzlupY8Zf8a/NGM124f/uEA+bRRi1IJCFoHmIY4K13GBfPkNcVvAlgsTiYi2ax+Gr/ekCj2qH9fe/Qb6vEto/lepl6/SSvMcowAKoMDJCugHSYkctpGXNwpLKm+eHDPmUAAF+lZA57WTY1XzSWNb503V21bbrWvKiN1NMT39zwImGylc/3LeWDT+2LcKz4mfAkGFWF7mEvxXyP+efL+Qkub25dJGzYPxr3D8w8AVP2L8Gf/ikFXcAfwnBXK/yybaRT5//TQsHjKLGfPgEju5kwL5vADK/dZjYCSyO/f78Lt+TEPZj31YRr76XeXyntABRyiAAihwqgL6QVIih21N8NeuRX6cGjHGUAAFeldA57Wzo40+9FOFD5e7HstPomy13bhm5o+LDT+39ZszoryZmUuWjf9sPc+3R/wUCM6nqh2L8F8j/xv53tcYRM53tEW5XiBoN+Gt1AoY/xrHXwxe4UPGn/EvjFjV5uE/UyC3I2YXC3JHdlyEzhRfzD2bBXK/QNG/86gJie2687BQ0gXytAjvrUUPUf8yf1EABVDgZAX0g6RMDktznctx8bdnwoeY5nqct08OHHMogALdKqDzWoEwlw0QZq4pc1Vm3rfa1u8M9/PVjJ35W4W6j/i+dF5aPP4Ckp5pkvgpEJzJU2u24L9S/lefBfFz45s58mMKc2ZNKONf6fjrYSp2xvgz/sXgasAw/K8VyEsNntolVKoT7KIACqDAdQpc8iCJPoD8GB259qNENEABFFhX4JK8tt797VeInwXy7RDe6AD8w/+N+N3eNfzD/+0Q3ugA/MP/jfjd3rXh/3HlmyDdBXm7BjiAAiiAAocUuCaH7tsRTq49NKTcjALDK3BNXqtXZuJngVgvneU9g3/4L09ZvT3AP/zXS2d5z+Af/stTVm8Phv8LC+Tu607Jz4PVqw+eoQAKoMBHBa6aSJjfS1z7Oqh2cl8xXd/LGQqgAApM01V5rVatiZ8FYq1sXuEX/MP/FZzV2gf8w3+tbF7hF/zD/xWc1dqH4f/CAnmtMuAXCqAACvyuwOgTid+V404UQIFaFRg9rxE/C8Ra35tX+AX/8H8FZ7X2Af/wXyubV/gF//B/BWe19mH4twVyc8B/aAADMAADMAADMAADMAADMAADMAADMAADMAADMAADMDASA+wgr/XjC/xCARRoQgHzwOB/KIACKNCTAqPnNeIf+7nG+DP+PeXzvbHAP/zvZaan9vAP/z3xvDcW+OcnVvYyQ3sUQAEUUAqM/iBRYnCCAijQhQKj5zXiZ4HcxRv5xyDgH/5/RKeL2+Af/rsA+ccg4B/+f0Sni9sM/+wg72IoCQIFUOAuBUafSNylO/2iAAqUU2D0vEb8LBDLvbvqtwz/8F8/peU8hH/4L0dX/ZbhH/7rp7Sch4Z/CuTl9MUyCqDAAAqMPpEYYIgJEQWGU2D0vEb8LBCHe9OLgOEf/gUOwx3CP/wPB70IGP7hX+Aw3KHhnwL5cMNOwCiAAmcqMPpE4kwtsYUCKFCHAqPnNeJngVjHO/EeL+Af/u8hr45e4R/+6yDxHi/gH/7vIa+OXg3/FMjrGAu8QAEUaFSBlicS//6e0/Pv343Kv6fX4znd6sKN0dM1CtSqQMt57QxNiZ8F4hkctWoD/uG/VXbP8Bv+4f8Mjlq1Af/w3yq7Z/ht+F8tkL9fj+nxeEyvd9zVv+nv6a6Z6+6/1ySb2XuXG0P75SVp8v1yNp5/U1ymWfdBGuAYBVAABe5TYG0isZ6/Qk68N4fmi9OmaG78+qZwfkbb+4v097FDzyhQqwJree12f/2ccZ5/ruapqF2Sa6PrsZ1q479oAIifBfJFqFXZDfzDf5VgXuQU/MP/RahV2Q38w/9KgdwVTl6v5/RIqtquuCMXE7ogPk36fG7/fE6PlSL46/XKXNvyocr3E06hAAoMqED+QbqVvyrJoaZApHKy8dkUxt/2Q1CZ49NhPbFt4kfaG6+gAApcq0A+r13rQ9qby6vLN07+/U3PHd9ACXPTz3bqjD9VpNQrxM8CsRRbLdiFf/hvgdNSPsI//JdiqwW78A//+QK5L1jYxYfeHT5NaXFn8u1n6sMixLzg2r/e0YLEXjKLm9f0ju63ZvxrWR/mjviDAiiAAjcrkH2QbuavOnKoztNSxIx/8rI6PqNt5tmg+uAEBVDgagWyee1qJ+L+kvngjtwhi+lf2Kky/liPgufEzwKxIF7Vm4Z/+K8e0oIOwj/8F8SretPwD//ZArkpnLjdg7niR/yaO5c7zXXhxV03G9GDXffesF/PdxeinYyybdxf9e8rHEQBFBhIgdyDNOS6XP6KX3Pn1+bQ2Ac5YFvXZDtzfEZbZyP5slLcFecogAKXKZDLa5d1vtGRnV+ajRW7ck/8zcb5fMNOrfFvSHPqJeJngXgqUI0Zg3/4bwzZU92Ff/g/FajGjME//KcFcrnLxpQ/zO/Rqq/hu2JG+D1HX0wP9K8VyO1Oc7sgMW3Fzh+/29Kb+OiDb8hfFEABFLhXgeRB+jF/1ZBDTf7N/RsTRsszit65MVm3Gz5QyN3HayiAAlcrkOS1qx3Y6M8VyR/R3HTjBjvfTPPdlp2a49+K9KxrxM8C8SyWWrQD//DfIrdn+Qz/8H8WSy3agX/4TwrkSUE8KvYkxRNT3F6K3u5tsFogl4sUWRSXx7mifOJDi283fEYBFOhRgfhB2kYOpUDeI4vEhAJnKRDntbPsHrOj85bNtV/8BnmSk+Vc1M85Izt1xn9MvT13Ez8LxD289NYW/uG/N6b3xAP/8L+Hl97awj/8RwXydGej3yke/sG2eBdgfB5/ldVd91+ftwuV11v/3IoqkH/jQ29vReJBARRoVQH9IP0mf8U5Mz6/IofqQpPWPvVHX5dn57RlB7nUlGMUuF8Bndfu98d4kBa6v8k/aa77xk6N8V85CsTPAvFK3mrrC/7hvzYmr/QH/uH/St5q6wv+4V8XyO1u8Of090+jahcTyy7xzILE3hf+Mc/1HeR2hTM9Hw+961wWyL/yQfvHGQqgAArcpYB6kH6Vv2rIoRkfFgHz13Re942Pt/XfSvIfonrL/EUBFLhPAZXX7nND9xzNNSf77UL/0ykuF8l/y8HcrOevs7lNO65NlfFrNYqeET8LxKKAVW4c/uG/ckSLugf/8F8UsMqNwz/8qwJ5vgBiKJY7cHIFEXl9e/ejL4aoRYxZrMy/c/6dD5W/s3APBVBgGAXkg/S7/FVHDk19dXncf2vI//XfHtLtz2ur/j2KYaghUBSoWwGZ12ry1OYhu8nCbLSQ/wZOrkDu8pTPYTKOdTuuVa3xyxhKHhM/C8SSfNVuG/7hv3ZGS/oH//Bfkq/abcM//KsCee3A4h8KoAAK1KZAsw9S8cHkR03tTs3wLaHN9nvaGkPxbs5N41xEARS4QoFm89pJ4hA/C6STUGrSDPzDf5PgnuQ0/MP/SSg1aQb+4b9JcE9y2vBPgfwkMTGDAigwpgLtTiTM7sr0J7Vyo2h+piC3C/NoW3O/3pmes8hrKIACVyvQbl47RyniZ4F4DkltWoF/+G+T3HO8hn/4P4ekNq3AP/y3Se45Xhv+KZCfoyVWUAAFBlWg5YnEnsJ3meH9vkhfpn+sogAK5BRoOa/l4tn7GvGzQNzLTE/t4R/+e+J5byzwD/97mempPfzDf088743F8E+BfK9qtEcBFEABocDoEwkhBYcogAKdKDB6XiN+FoidvJV/CgP+4f8ncDq5Cf7hvxOUfwoD/uH/J3A6ucnwbwvk5oD/0AAGYAAGYAAGYAAGYAAGYAAGYAAGYAAGYAAGYAAGYGAkBthB3smnHYSBAihwjwLmgcH/UAAFUKAnBUbPa8Q/9nON8Wf8e8rne2OBf/jfy0xP7eEf/nvieW8s8M9PrOxlhvYogAIooBQY/UGixOAEBVCgCwVGz2vEzwK5izfyj0HAP/z/iE4Xt8E//HcB8o9BwD/8/4hOF7cZ/tlB3sVQEgQKoMBdCow+kbhLd/pFARQop8DoeY34WSCWe3fVbxn+4b9+Sst5CP/wX46u+i3DP/zXT2k5Dw3/FMjL6YtlFECBARQYfSIxwBATIgoMp8DoeY34WSAO96YXAcM//AschjuEf/gfDnoRMPzDv8BhuEPDPwXy4YadgFEABc5UYPSJxJlaYgsFUKAOBUbPa8TPArGOd+I9XsA//N9DXh29wj/810HiPV7AP/zfQ14dvRr+hyiQ//t7Ts+/fxuq/5v+no/p8XhMj+fftNXSGXHtX+8Nk0cuvV9f+nGkk8IxHHGtsnvfr8f0OG2w39Pr8Zw2cawsftzZVqD1iUScH825zYUmHz4eU0AfdrdJ4CoK9KNA63nt6EgQPwvEowy1fD/8w3/L/B71Hf7h/yhDLd8P//DfMr9HfTf8pwVyU5ydCyO6OBK6swVDVTjx10ShebHxmmQdWRcbQ/tQhPG2pmnyvmSK1us+iPvtYVrUsfdKm7Yf7ae0YgtGysHCxeUdBfLUN+n51nHhGLa6buyaZtZgqT9I2TsGpv32BzaNCTS4u21PJOL8+J5eSW4MH+jA7uCwE/4wCrSd144PE/GzQDxOUbsW4B/+26X3uOfwD//HKWrXAvzDf7v0Hvfc8K8L5P/+pqcqfEfFEtunK6i8Xs/MrlpXdJXFv2xxcSk2z+2fz+yOaXPv65XbTb3lQyTMN8XmD23SAmjh4vIHf2SEqW/y6tZx4Ri2um7sWsxw7P7uMdgxvnFfnNenQNMTiY8smlwrdpF/bF/f+OARCqDAfgWazmv7w03uIH4WiAkUA70A//A/EO5JqPAP/wkUA70A//A/EO5JqIb/TIE87BZM7jAv+AKJLabHu67TAvnSfjami42+SBvvYpymydv3/Uln/Gu+jbwWHev+3EX5mi1uLrvd45/ScP7JHfWu+C/9nn+aJfnZjPjeWCvh6PzBhOvnOf39RR8KqOu+WBXbf4Rdydn2oj97+EUMG3a0bnlm1tvEvkfa/NTvls1jsUpejHThPO7TjUG47jV37cIHRxnefVP+NqdAPJFoifuU1Uh+k2tVboPdSCFOUaBLBeK81mWQG0ERPwvEDTy6vwT/8N895BsBwj/8b+DR/SX4h//uId8I0PCvC+STL/jlC57GlimoyCJxKPqZq3EhcLa37BiXxcXQ3lwOdp3HtsjkLiS7y0PbuD93b/j//PWkKOQL7uFGdbT4srw6xyUKR7HN+NzakD9dENkKOrodm+G30PUu/thO6tt2+6XbzFhrnzfs2AJ2VNQOht3RRhvdj/ksRH6D4Jd+U86szYf38dN4bfSpCuIutKz/gnH300C+b/9hj3xPOX/kLbF8nLejgJpINMW94zDknqC5e//Ev0FursNuUIkjFOhXAZXX+g1zNTLiZ4G4CscAF+Af/gfAfDVE+If/VTgGuAD/8D8A5qshGv6jArlrawuAdle1LOqlhT5d2DT3+kKk31Xti+nBB11cFMUWu1PRFxXFLsW4eG0LUMGv1IfQ1zS5YnNciNQ+iF3x8lZxbPtQRoTfvp30M/LRNREx+XvM31xBTdqSbTPtU9+iG3L2bZMPMURmlJ/Wpt/JHjecz9fa2NfD+LnWK9qYi9L/TZueHe+PtHkg1l8K5BF3uTEyDOYKk957/rajgJpIbDJaG/f5/GiVNzlI5bwwHrAbtOAIBXpVQOW1XoPciIv4WSBu4NH9JfiH/+4h3wgQ/uF/A4/uL8E//HcP+UaAhv9sgdzfYwt7Ype0PZe7oJNipytELoU/U2RZdvE6q7o4LQuXolgjC8Ty2NZL5W5jX0CNC08+AmHTv5QpeMY/AyOa2sO0wCn9nltLP+cimfxpluXnU/5F1jMaxf64cQgfOkhNU9/mHdnyZ2OiMXAefIjBa71mR8S4jHcUmituO7+XNuI+rU8Yw614szZzGqqdrsdi1czG34KY9Y6KiWFcMn3PDC6axLpx3pQCyURCML6MsXitHu7z+dGKb95TEdN+UCiQeyX4iwL9KpDktX5DzUZG/CwQs2AM8iL8w/8gqGfDhH/4z4IxyIvwD/+DoJ4N0/C/WSD3O8JdncQV+nRxJyp+zkXJpSiUnMfFRV089EVFVYCRhefMDnXvT+hTxpovAMUFz7ggLS2YY+9XeF37bV+XftpiWLyjOdytjnJtpS1zLAvcUfvEtw/tQ98fYvjaTl7j0I85Em0i/3U7WznejDe0/2TTXPdF92OxxrzE58kYGCd9nP5vcNweKcaja5y2pcD6ROIToyLOX95vWbZ2cC/fl8KVT4ew+0khrqNA+wqs57X2Y/smAuJngfgNJ722gX/475Xtb+KCf/j/hpNe28A//PfK9jdxGf5VgdwU+lSh2RZt5iKjPBbWbXFwKeC6QmRqIxSLdXExKlzago8puof2qnj9lQ/CuUyB3lzVPsxFWbkzXprwBXJ1PfLbGRW/lZ7RIbIZTl0RbdHMa+D7iwpn1nehj9Xft/V+iOtx+9Dvhxg+9LtpJ1ycj2RfH7T5qV9nU+541brI/meXTD9etw99xrzE57ovH/zsk9mBn+zEzfjjb+NvcwqsTyTkOLvj5X0eR/mBwdA8tSn50izKtrMFyf1KfjQttZ3Qu/7QVL7OMQqgQE8KrOe1nqJcj4X4WSCu09H/FfiH//4pX48Q/uF/nY7+r8A//PdP+XqEhn9VIPfFD78r+7HswM0UlRe7YpdktuAir8d24gKOO5cFH1kgMfu2IAAAAjVJREFUjwuTiwsbOyFz9ySvqaJRsLoc+aL1w/9udOx3rsg+xyJ/osQXZBfD84Gwbz8cMOeirfV3tvP8+5teogCe+8mRzfZL359jWLVji3niJ1+SArDfCb7WZlub3/p1nC3sCv0818rNaMxX+8x8oGLbSmNi/GQB1BYZH7nfaje++t3ty4Bw0KgCaiKx+d6olHvJ8jwG6wVy2G0UU9xGgV0KqLy2684+GhM/C8Q+SP4tCviH/9/I6eMu+If/Pkj+LQr4h//fyOnjLsN/VCDvIzAVRVQIVdc4QYGSCthiqfg2hO9r7XV/nb9NKdD0RGJvfoTdptjEWRT4VYGm89qvQYv7iJ8FosBhuEP4h//hoBcBwz/8CxyGO4R/+B8OehGw4b//ArndXc5uXTHuHF6kQLLTfO537fWL3KKbkxVoeyKxb0c47J4MD+ZQoFIF2s5rx0UlfhaIxylq1wL8w3+79B73HP7h/zhF7VqAf/hvl97jnhv+ByiQu9/TlT99cVw6LKDAJwXcT76kv16xryD5qReu369A6xMJ83Mq3+VH2L2fNjxAgWsUaD2vHVWJ+FkgHmWo5fvhH/5b5veo7/AP/0cZavl++If/lvk96rvhf4gC+VGhuB8FUAAF1hQYfSKxpguvowAKtKvA6HmN+FkgtvvuPe45/MP/cYratQD/8N8uvcc9h3/4P05RuxYM/7ZAbg74Dw1gAAZgAAZgAAZgAAZgAAZgAAZgAAZgAAZgAAZgAAZGYuA/wCZ/8K+1ucQAAAAASUVORK5CYII=)"
      ]
    }
  ]
}