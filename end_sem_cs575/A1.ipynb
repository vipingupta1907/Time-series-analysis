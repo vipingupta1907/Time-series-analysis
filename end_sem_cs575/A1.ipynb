{
  "nbformat": 4,
  "nbformat_minor": 0,
  "metadata": {
    "colab": {
      "name": "A1.ipynb",
      "provenance": [],
      "authorship_tag": "ABX9TyO1eb9QAoFpX4z/PffwUlsT",
      "include_colab_link": true
    },
    "kernelspec": {
      "name": "python3",
      "display_name": "Python 3"
    },
    "language_info": {
      "name": "python"
    }
  },
  "cells": [
    {
      "cell_type": "markdown",
      "metadata": {
        "id": "view-in-github",
        "colab_type": "text"
      },
      "source": [
        "<a href=\"https://colab.research.google.com/github/vipingupta1907/2011MT22_CS575/blob/main/end_sem_cs575/A1.ipynb\" target=\"_parent\"><img src=\"https://colab.research.google.com/assets/colab-badge.svg\" alt=\"Open In Colab\"/></a>"
      ]
    },
    {
      "cell_type": "markdown",
      "metadata": {
        "id": "dWFWi1lJ7iWs"
      },
      "source": [
        "#CS575 End Sem Examination\n",
        "\n",
        "###**Question 1** - Consider a time series stock values of various companies for a given duration (download using the script below). Perform an exploratory data analysis. (submit your code and analysis)\n",
        "\n",
        "**Name**- Vipin Gupta\n",
        "\n",
        "**Roll**- 2011MT22 "
      ]
    },
    {
      "cell_type": "markdown",
      "metadata": {
        "id": "pIFEXZup7036"
      },
      "source": [
        "#Downloading & Exporting the dataset"
      ]
    },
    {
      "cell_type": "code",
      "metadata": {
        "id": "Tgl00cv2y6rA"
      },
      "source": [
        "from pandas_datareader import data as pdr\n",
        "from datetime import datetime"
      ],
      "execution_count": 131,
      "outputs": []
    },
    {
      "cell_type": "code",
      "metadata": {
        "id": "BH6mFueqzCcM"
      },
      "source": [
        "#download data\n",
        "ibm = pdr.DataReader('IBM', 'yahoo', start=datetime(2014, 8, 1), end=datetime(2016, 11, 30))\n",
        "apple = pdr.DataReader('AAPL', 'yahoo', start=datetime(2014, 8, 1), end=datetime(2016, 11, 30))\n",
        "fb = pdr.DataReader('FB', 'yahoo', start=datetime(2014, 8, 1), end=datetime(2016, 11, 30))\n",
        "google = pdr.DataReader('GOOGL', 'yahoo', start=datetime(2014, 8, 1), end=datetime(2016, 11, 30))"
      ],
      "execution_count": 132,
      "outputs": []
    },
    {
      "cell_type": "code",
      "metadata": {
        "colab": {
          "base_uri": "https://localhost:8080/",
          "height": 0
        },
        "id": "YiUNzmXTzHEa",
        "outputId": "430fc2b5-1804-4376-a4d6-3912fc2e98ec"
      },
      "source": [
        "#print first few lines of data\n",
        "print(ibm.head())\n",
        "print(apple.head())\n",
        "print(fb.head())\n",
        "print(google.head())"
      ],
      "execution_count": 133,
      "outputs": [
        {
          "output_type": "stream",
          "text": [
            "                  High         Low  ...     Volume   Adj Close\n",
            "Date                                ...                       \n",
            "2014-08-01  191.500000  188.860001  ...  5181100.0  143.561371\n",
            "2014-08-04  189.949997  188.600006  ...  2125900.0  143.933304\n",
            "2014-08-05  189.199997  186.440002  ...  3307900.0  142.005493\n",
            "2014-08-06  186.880005  184.440002  ...  3847000.0  141.982544\n",
            "2014-08-07  186.679993  183.580002  ...  2708600.0  140.707535\n",
            "\n",
            "[5 rows x 6 columns]\n",
            "                 High        Low       Open      Close       Volume  Adj Close\n",
            "Date                                                                          \n",
            "2014-08-01  24.155001  23.702499  23.725000  24.032499  194044000.0  21.657644\n",
            "2014-08-04  24.145000  23.792500  24.092501  23.897499  159832000.0  21.535982\n",
            "2014-08-05  23.920000  23.590000  23.840000  23.780001  223732000.0  21.430096\n",
            "2014-08-06  23.870001  23.677500  23.687500  23.740000  154232000.0  21.394049\n",
            "2014-08-07  23.987499  23.525000  23.732500  23.620001  186844000.0  21.391787\n",
            "                 High        Low       Open      Close    Volume  Adj Close\n",
            "Date                                                                       \n",
            "2014-08-01  73.220001  71.550003  72.220001  72.360001  43535000  72.360001\n",
            "2014-08-04  73.879997  72.360001  72.360001  73.510002  30777000  73.510002\n",
            "2014-08-05  73.589996  72.180000  73.199997  72.690002  34986000  72.690002\n",
            "2014-08-06  73.720001  71.790001  72.019997  72.470001  30986000  72.470001\n",
            "2014-08-07  74.000000  72.699997  73.000000  73.169998  38141000  73.169998\n",
            "                  High         Low        Open       Close   Volume   Adj Close\n",
            "Date                                                                           \n",
            "2014-08-01  583.429993  570.299988  578.549988  573.599976  2213300  573.599976\n",
            "2014-08-04  583.820007  572.260010  576.510010  582.270020  1519400  582.270020\n",
            "2014-08-05  580.200012  570.309998  579.380005  573.140015  1643800  573.140015\n",
            "2014-08-06  578.640015  567.450012  569.500000  574.489990  1322800  574.489990\n",
            "2014-08-07  578.309998  569.429993  576.049988  571.809998  1163000  571.809998\n"
          ],
          "name": "stdout"
        }
      ]
    },
    {
      "cell_type": "code",
      "metadata": {
        "id": "fvJFa8_DzVih"
      },
      "source": [
        "#export and save as csv files\n",
        "ibm.to_csv('IBM_stock.csv', sep=',')\n",
        "apple.to_csv('Apple_stock.csv', sep=',')\n",
        "fb.to_csv('Facebook_stock.csv', sep=',')\n",
        "google.to_csv('Google_stock.csv', sep=',')"
      ],
      "execution_count": 134,
      "outputs": []
    },
    {
      "cell_type": "markdown",
      "metadata": {
        "id": "IeQLQHhNw1K4"
      },
      "source": [
        "#Exploratory data analysis for Apple dataset"
      ]
    },
    {
      "cell_type": "code",
      "metadata": {
        "id": "tjbuTLVSvAGi"
      },
      "source": [
        "#Importing libraries\n",
        "import pandas as pd\n",
        "import matplotlib.pyplot as plt\n",
        "from statsmodels.graphics.tsaplots import plot_acf, plot_pacf\n",
        "from statsmodels.tsa.stattools import adfuller,kpss"
      ],
      "execution_count": 135,
      "outputs": []
    },
    {
      "cell_type": "code",
      "metadata": {
        "colab": {
          "base_uri": "https://localhost:8080/",
          "height": 293
        },
        "id": "bzzJI8xW8FRU",
        "outputId": "642a91cb-22d9-4dbc-a6d1-904e6fe387e4"
      },
      "source": [
        "#Visulaizing the close data\n",
        "import matplotlib.pyplot as plt\n",
        "apple[\"Close\"].plot()"
      ],
      "execution_count": 136,
      "outputs": [
        {
          "output_type": "execute_result",
          "data": {
            "text/plain": [
              "<matplotlib.axes._subplots.AxesSubplot at 0x7f2e6cc4f6d0>"
            ]
          },
          "metadata": {
            "tags": []
          },
          "execution_count": 136
        },
        {
          "output_type": "display_data",
          "data": {
            "image/png": "[encoded data removed]",
            "text/plain": [
              "<Figure size 432x288 with 1 Axes>"
            ]
          },
          "metadata": {
            "tags": [],
            "needs_background": "light"
          }
        }
      ]
    },
    {
      "cell_type": "code",
      "metadata": {
        "colab": {
          "base_uri": "https://localhost:8080/",
          "height": 0
        },
        "id": "l4aEg7Kkuo79",
        "outputId": "cc025d62-4371-4725-a43d-84df6cc89a30"
      },
      "source": [
        "#ADF Test\n",
        "\n",
        "def adf_test(atr):\n",
        "\n",
        "    #Perform Dickey-Fuller test:\n",
        "    timeseries = apple[atr].dropna()\n",
        "    print ('Results of Dickey-Fuller Test for ',atr,'\\n')\n",
        "    dftest = adfuller(timeseries, autolag='AIC')\n",
        "    dfoutput = pd.Series(dftest[0:4], index=['Test Statistic','p-value','#Lags Used','Number of Observations Used'])\n",
        "    for key,value in dftest[4].items():\n",
        "       dfoutput['Critical Value (%s)'%key] = value\n",
        "    print(dfoutput)\n",
        "\n",
        "#apply adf test on the series\n",
        "adf_test('Close')"
      ],
      "execution_count": 137,
      "outputs": [
        {
          "output_type": "stream",
          "text": [
            "Results of Dickey-Fuller Test for  Close \n",
            "\n",
            "Test Statistic                  -2.170605\n",
            "p-value                          0.217087\n",
            "#Lags Used                       0.000000\n",
            "Number of Observations Used    588.000000\n",
            "Critical Value (1%)             -3.441520\n",
            "Critical Value (5%)             -2.866468\n",
            "Critical Value (10%)            -2.569394\n",
            "dtype: float64\n"
          ],
          "name": "stdout"
        }
      ]
    },
    {
      "cell_type": "markdown",
      "metadata": {
        "id": "0YvBsqmPQmwm"
      },
      "source": [
        "The p value obtained is greater than significance level of 0.05  and test statistic is higher than any of the critical values \n",
        "\n",
        "so we cant reject the null hypothesis so the time series is non stationary."
      ]
    },
    {
      "cell_type": "code",
      "metadata": {
        "colab": {
          "base_uri": "https://localhost:8080/",
          "height": 0
        },
        "id": "hzsqNayIvJ2Q",
        "outputId": "33d878a4-e005-4c59-ab91-6bbed46a92ca"
      },
      "source": [
        "#KPSS Test\n",
        "\n",
        "def kpss_test(atr):\n",
        "    timeseries = apple[atr].dropna()\n",
        "    print ('Results of KPSS Test for ',atr)\n",
        "    kpsstest = kpss(timeseries, regression='c')\n",
        "    kpss_output = pd.Series(kpsstest[0:3], index=['Test Statistic','p-value','Lags Used'])\n",
        "    for key,value in kpsstest[3].items():\n",
        "        kpss_output['Critical Value (%s)'%key] = value\n",
        "    print (kpss_output)\n",
        "\n",
        "kpss_test('Close')"
      ],
      "execution_count": 138,
      "outputs": [
        {
          "output_type": "stream",
          "text": [
            "Results of KPSS Test for  Close\n",
            "Test Statistic            0.655743\n",
            "p-value                   0.017569\n",
            "Lags Used                19.000000\n",
            "Critical Value (10%)      0.347000\n",
            "Critical Value (5%)       0.463000\n",
            "Critical Value (2.5%)     0.574000\n",
            "Critical Value (1%)       0.739000\n",
            "dtype: float64\n"
          ],
          "name": "stdout"
        },
        {
          "output_type": "stream",
          "text": [
            "/usr/local/lib/python3.7/dist-packages/statsmodels/tsa/stattools.py:1685: FutureWarning: The behavior of using lags=None will change in the next release. Currently lags=None is the same as lags='legacy', and so a sample-size lag length is used. After the next release, the default will change to be the same as lags='auto' which uses an automatic lag length selection method. To silence this warning, either use 'auto' or 'legacy'\n",
            "  warn(msg, FutureWarning)\n"
          ],
          "name": "stderr"
        }
      ]
    },
    {
      "cell_type": "markdown",
      "metadata": {
        "id": "DPyFcrtMRhij"
      },
      "source": [
        "The p value is significant less than 0.05 hence we can reject the null hypothesis so series is non stationary"
      ]
    },
    {
      "cell_type": "code",
      "metadata": {
        "colab": {
          "base_uri": "https://localhost:8080/",
          "height": 281
        },
        "id": "sQz_PTMGKPj7",
        "outputId": "3d2b5aac-fd1d-46a3-bb22-7e6e8a8b9805"
      },
      "source": [
        "# ACF Test of differenced data\n",
        "plot_acf(apple['Close'].dropna(), lags=10)\n",
        "plt.show()\n"
      ],
      "execution_count": 139,
      "outputs": [
        {
          "output_type": "display_data",
          "data": {
            "image/png": "[encoded data removed]",
            "text/plain": [
              "<Figure size 432x288 with 1 Axes>"
            ]
          },
          "metadata": {
            "tags": [],
            "needs_background": "light"
          }
        }
      ]
    },
    {
      "cell_type": "markdown",
      "metadata": {
        "id": "HVYx3e_3QosZ"
      },
      "source": [
        "As more than 5% of the plot is outside the shaded region, the data is non stationary"
      ]
    },
    {
      "cell_type": "code",
      "metadata": {
        "colab": {
          "base_uri": "https://localhost:8080/",
          "height": 281
        },
        "id": "ckA7DoC2KPkr",
        "outputId": "a875fd35-227d-47b6-92a5-38da925333e6"
      },
      "source": [
        "# PACF Test of differenced data\n",
        "plot_pacf(apple['Close'].dropna(), lags=10)\n",
        "plt.show()"
      ],
      "execution_count": 140,
      "outputs": [
        {
          "output_type": "display_data",
          "data": {
            "image/png": "[encoded data removed]",
            "text/plain": [
              "<Figure size 432x288 with 1 Axes>"
            ]
          },
          "metadata": {
            "tags": [],
            "needs_background": "light"
          }
        }
      ]
    },
    {
      "cell_type": "markdown",
      "metadata": {
        "id": "mieFPLB9Qtfr"
      },
      "source": [
        "As more than 5% of the plot is outside the shaded region, the data is non stationary"
      ]
    },
    {
      "cell_type": "code",
      "metadata": {
        "id": "fbnhLlYkubqs",
        "colab": {
          "base_uri": "https://localhost:8080/",
          "height": 293
        },
        "outputId": "d0d4be80-9461-4f26-87f0-b386db4c1d97"
      },
      "source": [
        "#Differencing to make data as stationary\n",
        "\n",
        "#Differencing the data\n",
        "apple['diff'] = apple['Close'].diff(periods=1)\n",
        "\n",
        "#Visulaizing the differenced data\n",
        "apple[\"diff\"].plot()\n"
      ],
      "execution_count": 141,
      "outputs": [
        {
          "output_type": "execute_result",
          "data": {
            "text/plain": [
              "<matplotlib.axes._subplots.AxesSubplot at 0x7f2e6c8f3550>"
            ]
          },
          "metadata": {
            "tags": []
          },
          "execution_count": 141
        },
        {
          "output_type": "display_data",
          "data": {
            "image/png": "[encoded data removed]",
            "text/plain": [
              "<Figure size 432x288 with 1 Axes>"
            ]
          },
          "metadata": {
            "tags": [],
            "needs_background": "light"
          }
        }
      ]
    },
    {
      "cell_type": "code",
      "metadata": {
        "id": "NISyLo94wJst",
        "colab": {
          "base_uri": "https://localhost:8080/",
          "height": 0
        },
        "outputId": "99c51c5f-1762-4279-fc5c-f70dc0c2d1b7"
      },
      "source": [
        "# ADF Test of differenced data\n",
        "adf_test('diff')\n"
      ],
      "execution_count": 142,
      "outputs": [
        {
          "output_type": "stream",
          "text": [
            "Results of Dickey-Fuller Test for  diff \n",
            "\n",
            "Test Statistic                 -23.776321\n",
            "p-value                          0.000000\n",
            "#Lags Used                       0.000000\n",
            "Number of Observations Used    587.000000\n",
            "Critical Value (1%)             -3.441539\n",
            "Critical Value (5%)             -2.866476\n",
            "Critical Value (10%)            -2.569399\n",
            "dtype: float64\n"
          ],
          "name": "stdout"
        }
      ]
    },
    {
      "cell_type": "code",
      "metadata": {
        "id": "exuuUDIDwl5Z",
        "colab": {
          "base_uri": "https://localhost:8080/",
          "height": 0
        },
        "outputId": "8b54279e-084f-46c5-950e-5a778c74e1c9"
      },
      "source": [
        "# KPSS Test of differenced data\n",
        "kpss_test('diff')\n"
      ],
      "execution_count": 143,
      "outputs": [
        {
          "output_type": "stream",
          "text": [
            "Results of KPSS Test for  diff\n",
            "Test Statistic            0.130863\n",
            "p-value                   0.100000\n",
            "Lags Used                19.000000\n",
            "Critical Value (10%)      0.347000\n",
            "Critical Value (5%)       0.463000\n",
            "Critical Value (2.5%)     0.574000\n",
            "Critical Value (1%)       0.739000\n",
            "dtype: float64\n"
          ],
          "name": "stdout"
        },
        {
          "output_type": "stream",
          "text": [
            "/usr/local/lib/python3.7/dist-packages/statsmodels/tsa/stattools.py:1685: FutureWarning: The behavior of using lags=None will change in the next release. Currently lags=None is the same as lags='legacy', and so a sample-size lag length is used. After the next release, the default will change to be the same as lags='auto' which uses an automatic lag length selection method. To silence this warning, either use 'auto' or 'legacy'\n",
            "  warn(msg, FutureWarning)\n",
            "/usr/local/lib/python3.7/dist-packages/statsmodels/tsa/stattools.py:1711: InterpolationWarning: p-value is greater than the indicated p-value\n",
            "  warn(\"p-value is greater than the indicated p-value\", InterpolationWarning)\n"
          ],
          "name": "stderr"
        }
      ]
    },
    {
      "cell_type": "code",
      "metadata": {
        "id": "XEUQ5tR6wplW",
        "colab": {
          "base_uri": "https://localhost:8080/",
          "height": 281
        },
        "outputId": "f1a38d6d-610f-4b44-b3df-40eecaf1894c"
      },
      "source": [
        "# ACF Test of differenced data\n",
        "plot_acf(apple['diff'].dropna(), lags=10)\n",
        "plt.show()\n"
      ],
      "execution_count": 144,
      "outputs": [
        {
          "output_type": "display_data",
          "data": {
            "image/png": "[encoded data removed]",
            "text/plain": [
              "<Figure size 432x288 with 1 Axes>"
            ]
          },
          "metadata": {
            "tags": [],
            "needs_background": "light"
          }
        }
      ]
    },
    {
      "cell_type": "code",
      "metadata": {
        "id": "sc9q-Vw6wukY",
        "colab": {
          "base_uri": "https://localhost:8080/",
          "height": 281
        },
        "outputId": "93867853-ceda-4d38-e203-7b0271766701"
      },
      "source": [
        "# PACF Test of differenced data\n",
        "plot_pacf(apple['diff'].dropna(), lags=10)\n",
        "plt.show()"
      ],
      "execution_count": 145,
      "outputs": [
        {
          "output_type": "display_data",
          "data": {
            "image/png": "[encoded data removed]",
            "text/plain": [
              "<Figure size 432x288 with 1 Axes>"
            ]
          },
          "metadata": {
            "tags": [],
            "needs_background": "light"
          }
        }
      ]
    },
    {
      "cell_type": "markdown",
      "metadata": {
        "id": "lmXXUI3FQy8s"
      },
      "source": [
        "Now the time series become stationary after differencing"
      ]
    },
    {
      "cell_type": "markdown",
      "metadata": {
        "id": "7wTMv93MerwH"
      },
      "source": [
        "**Outliers**"
      ]
    },
    {
      "cell_type": "code",
      "metadata": {
        "colab": {
          "base_uri": "https://localhost:8080/",
          "height": 0
        },
        "id": "NHnFhZ6Gexct",
        "outputId": "8683b601-3379-4fec-b4ca-56166f16ada7"
      },
      "source": [
        "apple.isnull().sum()"
      ],
      "execution_count": 146,
      "outputs": [
        {
          "output_type": "execute_result",
          "data": {
            "text/plain": [
              "High         0\n",
              "Low          0\n",
              "Open         0\n",
              "Close        0\n",
              "Volume       0\n",
              "Adj Close    0\n",
              "diff         1\n",
              "dtype: int64"
            ]
          },
          "metadata": {
            "tags": []
          },
          "execution_count": 146
        }
      ]
    },
    {
      "cell_type": "code",
      "metadata": {
        "colab": {
          "base_uri": "https://localhost:8080/",
          "height": 284
        },
        "id": "M9GikkXzfK11",
        "outputId": "662276b2-34ef-49c3-b4ba-d6a59e2a032f"
      },
      "source": [
        "apple.describe()"
      ],
      "execution_count": 147,
      "outputs": [
        {
          "output_type": "execute_result",
          "data": {
            "text/html": [
              "<div>\n",
              "<style scoped>\n",
              "    .dataframe tbody tr th:only-of-type {\n",
              "        vertical-align: middle;\n",
              "    }\n",
              "\n",
              "    .dataframe tbody tr th {\n",
              "        vertical-align: top;\n",
              "    }\n",
              "\n",
              "    .dataframe thead th {\n",
              "        text-align: right;\n",
              "    }\n",
              "</style>\n",
              "<table border=\"1\" class=\"dataframe\">\n",
              "  <thead>\n",
              "    <tr style=\"text-align: right;\">\n",
              "      <th></th>\n",
              "      <th>High</th>\n",
              "      <th>Low</th>\n",
              "      <th>Open</th>\n",
              "      <th>Close</th>\n",
              "      <th>Volume</th>\n",
              "      <th>Adj Close</th>\n",
              "      <th>diff</th>\n",
              "    </tr>\n",
              "  </thead>\n",
              "  <tbody>\n",
              "    <tr>\n",
              "      <th>count</th>\n",
              "      <td>589.000000</td>\n",
              "      <td>589.000000</td>\n",
              "      <td>589.000000</td>\n",
              "      <td>589.000000</td>\n",
              "      <td>5.890000e+02</td>\n",
              "      <td>589.000000</td>\n",
              "      <td>588.000000</td>\n",
              "    </tr>\n",
              "    <tr>\n",
              "      <th>mean</th>\n",
              "      <td>27.992016</td>\n",
              "      <td>27.478374</td>\n",
              "      <td>27.743353</td>\n",
              "      <td>27.738748</td>\n",
              "      <td>1.891853e+08</td>\n",
              "      <td>25.586068</td>\n",
              "      <td>0.006118</td>\n",
              "    </tr>\n",
              "    <tr>\n",
              "      <th>std</th>\n",
              "      <td>2.712822</td>\n",
              "      <td>2.695806</td>\n",
              "      <td>2.718831</td>\n",
              "      <td>2.700132</td>\n",
              "      <td>8.425158e+07</td>\n",
              "      <td>2.418740</td>\n",
              "      <td>0.427976</td>\n",
              "    </tr>\n",
              "    <tr>\n",
              "      <th>min</th>\n",
              "      <td>22.917500</td>\n",
              "      <td>22.367500</td>\n",
              "      <td>22.500000</td>\n",
              "      <td>22.584999</td>\n",
              "      <td>4.590360e+07</td>\n",
              "      <td>21.134403</td>\n",
              "      <td>-1.722500</td>\n",
              "    </tr>\n",
              "    <tr>\n",
              "      <th>25%</th>\n",
              "      <td>25.547501</td>\n",
              "      <td>25.125000</td>\n",
              "      <td>25.327499</td>\n",
              "      <td>25.330000</td>\n",
              "      <td>1.311576e+08</td>\n",
              "      <td>23.305397</td>\n",
              "      <td>-0.205000</td>\n",
              "    </tr>\n",
              "    <tr>\n",
              "      <th>50%</th>\n",
              "      <td>27.969999</td>\n",
              "      <td>27.352501</td>\n",
              "      <td>27.657499</td>\n",
              "      <td>27.610001</td>\n",
              "      <td>1.733648e+08</td>\n",
              "      <td>25.591351</td>\n",
              "      <td>0.002501</td>\n",
              "    </tr>\n",
              "    <tr>\n",
              "      <th>75%</th>\n",
              "      <td>29.807501</td>\n",
              "      <td>29.250000</td>\n",
              "      <td>29.497499</td>\n",
              "      <td>29.570000</td>\n",
              "      <td>2.243016e+08</td>\n",
              "      <td>27.354954</td>\n",
              "      <td>0.255000</td>\n",
              "    </tr>\n",
              "    <tr>\n",
              "      <th>max</th>\n",
              "      <td>33.634998</td>\n",
              "      <td>32.849998</td>\n",
              "      <td>33.615002</td>\n",
              "      <td>33.250000</td>\n",
              "      <td>7.593852e+08</td>\n",
              "      <td>30.384638</td>\n",
              "      <td>1.570000</td>\n",
              "    </tr>\n",
              "  </tbody>\n",
              "</table>\n",
              "</div>"
            ],
            "text/plain": [
              "             High         Low        Open  ...        Volume   Adj Close        diff\n",
              "count  589.000000  589.000000  589.000000  ...  5.890000e+02  589.000000  588.000000\n",
              "mean    27.992016   27.478374   27.743353  ...  1.891853e+08   25.586068    0.006118\n",
              "std      2.712822    2.695806    2.718831  ...  8.425158e+07    2.418740    0.427976\n",
              "min     22.917500   22.367500   22.500000  ...  4.590360e+07   21.134403   -1.722500\n",
              "25%     25.547501   25.125000   25.327499  ...  1.311576e+08   23.305397   -0.205000\n",
              "50%     27.969999   27.352501   27.657499  ...  1.733648e+08   25.591351    0.002501\n",
              "75%     29.807501   29.250000   29.497499  ...  2.243016e+08   27.354954    0.255000\n",
              "max     33.634998   32.849998   33.615002  ...  7.593852e+08   30.384638    1.570000\n",
              "\n",
              "[8 rows x 7 columns]"
            ]
          },
          "metadata": {
            "tags": []
          },
          "execution_count": 147
        }
      ]
    },
    {
      "cell_type": "code",
      "metadata": {
        "colab": {
          "base_uri": "https://localhost:8080/",
          "height": 486
        },
        "id": "Y3eAHyM2fS3y",
        "outputId": "275865ea-e29c-41de-92a5-d56e4dc61aa1"
      },
      "source": [
        "import seaborn as sns \n",
        "plt.figure(figsize = (4,8))\n",
        "sns.boxplot(y = apple.Close)"
      ],
      "execution_count": 148,
      "outputs": [
        {
          "output_type": "execute_result",
          "data": {
            "text/plain": [
              "<matplotlib.axes._subplots.AxesSubplot at 0x7f2e6cd953d0>"
            ]
          },
          "metadata": {
            "tags": []
          },
          "execution_count": 148
        },
        {
          "output_type": "display_data",
          "data": {
            "image/png": "[encoded data removed]",
            "text/plain": [
              "<Figure size 288x576 with 1 Axes>"
            ]
          },
          "metadata": {
            "tags": [],
            "needs_background": "light"
          }
        }
      ]
    },
    {
      "cell_type": "markdown",
      "metadata": {
        "id": "2Qy97l_IieYM"
      },
      "source": [
        "**Interquartile Range (IQR) method for detecting outliers**"
      ]
    },
    {
      "cell_type": "code",
      "metadata": {
        "id": "GsjzRWdAfukI"
      },
      "source": [
        "def out_iqr(df , column):\n",
        "    global lower,upper\n",
        "    q25, q75 = np.quantile(df[column], 0.25), np.quantile(df[column], 0.75)\n",
        "    # calculate the IQR\n",
        "    iqr = q75 - q25\n",
        "    # calculate the outlier cutoff\n",
        "    cut_off = iqr * 1.5\n",
        "    # calculate the lower and upper bound value\n",
        "    lower, upper = q25 - cut_off, q75 + cut_off\n",
        "    print('The IQR is',iqr)\n",
        "    print('The lower bound value is', lower)\n",
        "    print('The upper bound value is', upper)\n",
        "    # Calculate the number of records below and above lower and above bound value respectively\n",
        "    df1 = df[df[column] > upper]\n",
        "    df2 = df[df[column] < lower]\n",
        "    return print('Total number of outliers are', df1.shape[0]+ df2.shape[0])"
      ],
      "execution_count": 149,
      "outputs": []
    },
    {
      "cell_type": "code",
      "metadata": {
        "colab": {
          "base_uri": "https://localhost:8080/",
          "height": 0
        },
        "id": "1qNGf0YZf8Ka",
        "outputId": "0a4cc866-cffb-4e98-bb87-74ded0a9c8a6"
      },
      "source": [
        "import numpy as np\n",
        "out_iqr(apple,'Close')\n",
        "#Input the dataset and the required column"
      ],
      "execution_count": 150,
      "outputs": [
        {
          "output_type": "stream",
          "text": [
            "The IQR is 4.239999771118164\n",
            "The lower bound value is 18.97000026702881\n",
            "The upper bound value is 35.929999351501465\n",
            "Total number of outliers are 0\n"
          ],
          "name": "stdout"
        }
      ]
    },
    {
      "cell_type": "markdown",
      "metadata": {
        "id": "EjC7exL2i0nU"
      },
      "source": [
        "As per the IQR method, there are 0 outliers."
      ]
    },
    {
      "cell_type": "markdown",
      "metadata": {
        "id": "MQtA7Hwsi3Cc"
      },
      "source": [
        "**Standard Deviation Method for detecting outliers**"
      ]
    },
    {
      "cell_type": "code",
      "metadata": {
        "colab": {
          "base_uri": "https://localhost:8080/",
          "height": 404
        },
        "id": "VYEIpjf0hGYH",
        "outputId": "94ad5f1b-cb30-42bd-9e3d-30657baa5fd7"
      },
      "source": [
        "plt.figure(figsize = (10,5))\n",
        "sns.distplot(apple['Close'])"
      ],
      "execution_count": 151,
      "outputs": [
        {
          "output_type": "stream",
          "text": [
            "/usr/local/lib/python3.7/dist-packages/seaborn/distributions.py:2557: FutureWarning: `distplot` is a deprecated function and will be removed in a future version. Please adapt your code to use either `displot` (a figure-level function with similar flexibility) or `histplot` (an axes-level function for histograms).\n",
            "  warnings.warn(msg, FutureWarning)\n"
          ],
          "name": "stderr"
        },
        {
          "output_type": "execute_result",
          "data": {
            "text/plain": [
              "<matplotlib.axes._subplots.AxesSubplot at 0x7f2e6c8c8850>"
            ]
          },
          "metadata": {
            "tags": []
          },
          "execution_count": 151
        },
        {
          "output_type": "display_data",
          "data": {
            "image/png": "[encoded data removed]",
            "text/plain": [
              "<Figure size 720x360 with 1 Axes>"
            ]
          },
          "metadata": {
            "tags": [],
            "needs_background": "light"
          }
        }
      ]
    },
    {
      "cell_type": "code",
      "metadata": {
        "id": "IehF24mChfbu"
      },
      "source": [
        "def out_std(df, column):\n",
        "    global lower,upper\n",
        "    # calculate the mean and standard deviation of the data frame\n",
        "    data_mean, data_std = df[column].mean(), df[column].std()\n",
        "    # calculate the cutoff value\n",
        "    cut_off = data_std * 3\n",
        "    # calculate the lower and upper bound value\n",
        "    lower, upper = data_mean - cut_off, data_mean + cut_off\n",
        "    print('The lower bound value is', lower)\n",
        "    print('The upper bound value is', upper)\n",
        "    # Calculate the number of records below and above lower and above bound value respectively\n",
        "    df1 = df[df[column] > upper]\n",
        "    df2 = df[df[column] < lower]\n",
        "    return print('Total number of outliers are', df1.shape[0]+ df2.shape[0])"
      ],
      "execution_count": 152,
      "outputs": []
    },
    {
      "cell_type": "code",
      "metadata": {
        "colab": {
          "base_uri": "https://localhost:8080/",
          "height": 0
        },
        "id": "CNVTEwL4hiia",
        "outputId": "cde8035f-6856-45ab-9d5a-063ec453ded1"
      },
      "source": [
        "out_std(apple,'Close')"
      ],
      "execution_count": 153,
      "outputs": [
        {
          "output_type": "stream",
          "text": [
            "The lower bound value is 19.63835210617126\n",
            "The upper bound value is 35.8391436151503\n",
            "Total number of outliers are 0\n"
          ],
          "name": "stdout"
        }
      ]
    },
    {
      "cell_type": "markdown",
      "metadata": {
        "id": "vCoQKXyYjGEc"
      },
      "source": [
        "As per the standard deviation method, there are 0 outliers."
      ]
    },
    {
      "cell_type": "markdown",
      "metadata": {
        "id": "o9iHVCQnjjSR"
      },
      "source": [
        "Visual representation"
      ]
    },
    {
      "cell_type": "code",
      "metadata": {
        "colab": {
          "base_uri": "https://localhost:8080/",
          "height": 458
        },
        "id": "Cc1fQT9dgIYC",
        "outputId": "8a22ec13-3d02-4d4c-8f22-a1f377e71f39"
      },
      "source": [
        "plt.figure(figsize = (10,6))\n",
        "sns.distplot(apple.Close, kde=False)\n",
        "plt.axvspan(xmin = lower,xmax= apple.Close.min(),alpha=0.2, color='red')\n",
        "plt.axvspan(xmin = upper,xmax= apple.Close.max(),alpha=0.2, color='red')"
      ],
      "execution_count": 154,
      "outputs": [
        {
          "output_type": "stream",
          "text": [
            "/usr/local/lib/python3.7/dist-packages/seaborn/distributions.py:2557: FutureWarning: `distplot` is a deprecated function and will be removed in a future version. Please adapt your code to use either `displot` (a figure-level function with similar flexibility) or `histplot` (an axes-level function for histograms).\n",
            "  warnings.warn(msg, FutureWarning)\n"
          ],
          "name": "stderr"
        },
        {
          "output_type": "execute_result",
          "data": {
            "text/plain": [
              "<matplotlib.patches.Polygon at 0x7f2e6c9902d0>"
            ]
          },
          "metadata": {
            "tags": []
          },
          "execution_count": 154
        },
        {
          "output_type": "display_data",
          "data": {
            "image/png": "[encoded data removed]",
            "text/plain": [
              "<Figure size 720x432 with 1 Axes>"
            ]
          },
          "metadata": {
            "tags": [],
            "needs_background": "light"
          }
        }
      ]
    },
    {
      "cell_type": "markdown",
      "metadata": {
        "id": "mwrLZjdy46xG"
      },
      "source": [
        "#Exploratory data analysis for Facebook dataset"
      ]
    },
    {
      "cell_type": "code",
      "metadata": {
        "id": "g43SPFH_46xH"
      },
      "source": [
        "#Importing libraries\n",
        "import pandas as pd\n",
        "import matplotlib.pyplot as plt\n",
        "from statsmodels.tsa.stattools import adfuller,kpss\n",
        "from statsmodels.graphics.tsaplots import plot_acf, plot_pacf\n"
      ],
      "execution_count": 156,
      "outputs": []
    },
    {
      "cell_type": "code",
      "metadata": {
        "colab": {
          "base_uri": "https://localhost:8080/",
          "height": 293
        },
        "id": "jz2wiUT68Kql",
        "outputId": "89c61b55-3db1-4c78-f217-102db4fc5788"
      },
      "source": [
        "#Visulaizing the close data\n",
        "import matplotlib.pyplot as plt\n",
        "fb[\"Close\"].plot()"
      ],
      "execution_count": 157,
      "outputs": [
        {
          "output_type": "execute_result",
          "data": {
            "text/plain": [
              "<matplotlib.axes._subplots.AxesSubplot at 0x7f2e6d7d8650>"
            ]
          },
          "metadata": {
            "tags": []
          },
          "execution_count": 157
        },
        {
          "output_type": "display_data",
          "data": {
            "image/png": "[encoded data removed]",
            "text/plain": [
              "<Figure size 432x288 with 1 Axes>"
            ]
          },
          "metadata": {
            "tags": [],
            "needs_background": "light"
          }
        }
      ]
    },
    {
      "cell_type": "code",
      "metadata": {
        "colab": {
          "base_uri": "https://localhost:8080/",
          "height": 0
        },
        "id": "_fUvszcA46xI",
        "outputId": "334e37e8-1642-47fb-ba0a-1361517ee94e"
      },
      "source": [
        "#ADF Test\n",
        "\n",
        "def adf_test(atr):\n",
        "  \n",
        "    #Perform Dickey-Fuller test:\n",
        "    timeseries = fb[atr].dropna()\n",
        "    print ('Results of Dickey-Fuller Test for ',atr,'\\n')\n",
        "    dftest = adfuller(timeseries, autolag='AIC')\n",
        "    dfoutput = pd.Series(dftest[0:4], index=['Test Statistic','p-value','#Lags Used','Number of Observations Used'])\n",
        "    for key,value in dftest[4].items():\n",
        "       dfoutput['Critical Value (%s)'%key] = value\n",
        "    print(dfoutput)\n",
        "\n",
        "#apply adf test on the series\n",
        "adf_test('Close')"
      ],
      "execution_count": 158,
      "outputs": [
        {
          "output_type": "stream",
          "text": [
            "Results of Dickey-Fuller Test for  Close \n",
            "\n",
            "Test Statistic                  -0.966644\n",
            "p-value                          0.765235\n",
            "#Lags Used                       6.000000\n",
            "Number of Observations Used    582.000000\n",
            "Critical Value (1%)             -3.441636\n",
            "Critical Value (5%)             -2.866519\n",
            "Critical Value (10%)            -2.569422\n",
            "dtype: float64\n"
          ],
          "name": "stdout"
        }
      ]
    },
    {
      "cell_type": "markdown",
      "metadata": {
        "id": "WhB7HtDn46xJ"
      },
      "source": [
        "The p value obtained is greater than significance level of 0.05 and test statistic is higher than any of the critical values\n",
        "\n",
        "so we cant reject the null hypothesis so the time series is non stationary."
      ]
    },
    {
      "cell_type": "code",
      "metadata": {
        "colab": {
          "base_uri": "https://localhost:8080/",
          "height": 0
        },
        "id": "6fakV2zu46xK",
        "outputId": "61d0af05-e117-4392-a530-c4ec69f12e50"
      },
      "source": [
        "#KPSS Test\n",
        "\n",
        "def kpss_test(atr):\n",
        "    timeseries = fb[atr].dropna()\n",
        "    print ('Results of KPSS Test for ',atr)\n",
        "    kpsstest = kpss(timeseries, regression='c')\n",
        "    kpss_output = pd.Series(kpsstest[0:3], index=['Test Statistic','p-value','Lags Used'])\n",
        "    for key,value in kpsstest[3].items():\n",
        "        kpss_output['Critical Value (%s)'%key] = value\n",
        "    print (kpss_output)\n",
        "    \n",
        "kpss_test('Close')"
      ],
      "execution_count": 159,
      "outputs": [
        {
          "output_type": "stream",
          "text": [
            "Results of KPSS Test for  Close\n",
            "Test Statistic            2.941636\n",
            "p-value                   0.010000\n",
            "Lags Used                19.000000\n",
            "Critical Value (10%)      0.347000\n",
            "Critical Value (5%)       0.463000\n",
            "Critical Value (2.5%)     0.574000\n",
            "Critical Value (1%)       0.739000\n",
            "dtype: float64\n"
          ],
          "name": "stdout"
        },
        {
          "output_type": "stream",
          "text": [
            "/usr/local/lib/python3.7/dist-packages/statsmodels/tsa/stattools.py:1685: FutureWarning: The behavior of using lags=None will change in the next release. Currently lags=None is the same as lags='legacy', and so a sample-size lag length is used. After the next release, the default will change to be the same as lags='auto' which uses an automatic lag length selection method. To silence this warning, either use 'auto' or 'legacy'\n",
            "  warn(msg, FutureWarning)\n",
            "/usr/local/lib/python3.7/dist-packages/statsmodels/tsa/stattools.py:1709: InterpolationWarning: p-value is smaller than the indicated p-value\n",
            "  warn(\"p-value is smaller than the indicated p-value\", InterpolationWarning)\n"
          ],
          "name": "stderr"
        }
      ]
    },
    {
      "cell_type": "markdown",
      "metadata": {
        "id": "bixIbix346xL"
      },
      "source": [
        "The p value is significant less than 0.05 hence we can reject the null hypothesis so series is non stationary"
      ]
    },
    {
      "cell_type": "code",
      "metadata": {
        "colab": {
          "base_uri": "https://localhost:8080/",
          "height": 281
        },
        "id": "XRox2c0d46xL",
        "outputId": "5fd37f23-d056-4455-b65e-5bb09c691e70"
      },
      "source": [
        "# ACF Test of differenced data\n",
        "plot_acf(fb['Close'].dropna(), lags=10)\n",
        "plt.show()\n"
      ],
      "execution_count": 160,
      "outputs": [
        {
          "output_type": "display_data",
          "data": {
            "image/png": "[encoded data removed]",
            "text/plain": [
              "<Figure size 432x288 with 1 Axes>"
            ]
          },
          "metadata": {
            "tags": [],
            "needs_background": "light"
          }
        }
      ]
    },
    {
      "cell_type": "markdown",
      "metadata": {
        "id": "zuMwex3QQ7Fu"
      },
      "source": [
        "As more than 5% of the plot is outside the shaded region, the data is non stationary."
      ]
    },
    {
      "cell_type": "code",
      "metadata": {
        "colab": {
          "base_uri": "https://localhost:8080/",
          "height": 281
        },
        "id": "wBgPu61d46xM",
        "outputId": "e037137c-de51-4f13-f77a-196f0d7a5b23"
      },
      "source": [
        "# PACF Test of differenced data\n",
        "plot_pacf(fb['Close'].dropna(), lags=10)\n",
        "plt.show()"
      ],
      "execution_count": 161,
      "outputs": [
        {
          "output_type": "display_data",
          "data": {
            "image/png": "[encoded data removed]",
            "text/plain": [
              "<Figure size 432x288 with 1 Axes>"
            ]
          },
          "metadata": {
            "tags": [],
            "needs_background": "light"
          }
        }
      ]
    },
    {
      "cell_type": "markdown",
      "metadata": {
        "id": "wFcNv9ClQ_D4"
      },
      "source": [
        "As more than 5% of the plot is outside the shaded region, the data is non stationary."
      ]
    },
    {
      "cell_type": "code",
      "metadata": {
        "colab": {
          "base_uri": "https://localhost:8080/",
          "height": 293
        },
        "id": "_uxBc7_G46xN",
        "outputId": "f735b8e8-d397-4ced-f973-9ee161346aa4"
      },
      "source": [
        "#Differencing to make data as stationary\n",
        "\n",
        "#Differencing the data\n",
        "fb['diff'] = fb['Close'].diff(periods=1)\n",
        "\n",
        "#Visulaizing the differenced data\n",
        "fb[\"diff\"].plot()\n"
      ],
      "execution_count": 162,
      "outputs": [
        {
          "output_type": "execute_result",
          "data": {
            "text/plain": [
              "<matplotlib.axes._subplots.AxesSubplot at 0x7f2e6c96b210>"
            ]
          },
          "metadata": {
            "tags": []
          },
          "execution_count": 162
        },
        {
          "output_type": "display_data",
          "data": {
            "image/png": "[encoded data removed]",
            "text/plain": [
              "<Figure size 432x288 with 1 Axes>"
            ]
          },
          "metadata": {
            "tags": [],
            "needs_background": "light"
          }
        }
      ]
    },
    {
      "cell_type": "code",
      "metadata": {
        "colab": {
          "base_uri": "https://localhost:8080/",
          "height": 0
        },
        "id": "6TFWVQmI46xO",
        "outputId": "e32980b3-1eea-4e7a-ddaf-d8044a934221"
      },
      "source": [
        "# ADF Test of differenced data\n",
        "adf_test('diff')\n"
      ],
      "execution_count": 163,
      "outputs": [
        {
          "output_type": "stream",
          "text": [
            "Results of Dickey-Fuller Test for  diff \n",
            "\n",
            "Test Statistic                -1.191784e+01\n",
            "p-value                        5.114835e-22\n",
            "#Lags Used                     5.000000e+00\n",
            "Number of Observations Used    5.820000e+02\n",
            "Critical Value (1%)           -3.441636e+00\n",
            "Critical Value (5%)           -2.866519e+00\n",
            "Critical Value (10%)          -2.569422e+00\n",
            "dtype: float64\n"
          ],
          "name": "stdout"
        }
      ]
    },
    {
      "cell_type": "code",
      "metadata": {
        "colab": {
          "base_uri": "https://localhost:8080/",
          "height": 0
        },
        "id": "5W2jtFX346xO",
        "outputId": "4f48c521-57ab-44b3-e638-a6305ee271a7"
      },
      "source": [
        "# KPSS Test of differenced data\n",
        "kpss_test('diff')\n"
      ],
      "execution_count": 164,
      "outputs": [
        {
          "output_type": "stream",
          "text": [
            "Results of KPSS Test for  diff\n",
            "Test Statistic            0.058162\n",
            "p-value                   0.100000\n",
            "Lags Used                19.000000\n",
            "Critical Value (10%)      0.347000\n",
            "Critical Value (5%)       0.463000\n",
            "Critical Value (2.5%)     0.574000\n",
            "Critical Value (1%)       0.739000\n",
            "dtype: float64\n"
          ],
          "name": "stdout"
        },
        {
          "output_type": "stream",
          "text": [
            "/usr/local/lib/python3.7/dist-packages/statsmodels/tsa/stattools.py:1685: FutureWarning: The behavior of using lags=None will change in the next release. Currently lags=None is the same as lags='legacy', and so a sample-size lag length is used. After the next release, the default will change to be the same as lags='auto' which uses an automatic lag length selection method. To silence this warning, either use 'auto' or 'legacy'\n",
            "  warn(msg, FutureWarning)\n",
            "/usr/local/lib/python3.7/dist-packages/statsmodels/tsa/stattools.py:1711: InterpolationWarning: p-value is greater than the indicated p-value\n",
            "  warn(\"p-value is greater than the indicated p-value\", InterpolationWarning)\n"
          ],
          "name": "stderr"
        }
      ]
    },
    {
      "cell_type": "code",
      "metadata": {
        "colab": {
          "base_uri": "https://localhost:8080/",
          "height": 281
        },
        "id": "GvhOnilf46xP",
        "outputId": "f758fb9d-1912-47c7-d253-012e1259115d"
      },
      "source": [
        "# ACF Test of differenced data\n",
        "plot_acf(fb['diff'].dropna(), lags=10)\n",
        "plt.show()\n"
      ],
      "execution_count": 165,
      "outputs": [
        {
          "output_type": "display_data",
          "data": {
            "image/png": "[encoded data removed]",
            "text/plain": [
              "<Figure size 432x288 with 1 Axes>"
            ]
          },
          "metadata": {
            "tags": [],
            "needs_background": "light"
          }
        }
      ]
    },
    {
      "cell_type": "code",
      "metadata": {
        "colab": {
          "base_uri": "https://localhost:8080/",
          "height": 281
        },
        "id": "jSFCOsPg46xQ",
        "outputId": "5f4a9ebe-4e74-41d2-ca62-04ba0cdc1f80"
      },
      "source": [
        "# PACF Test of differenced data\n",
        "plot_pacf(fb['diff'].dropna(), lags=10)\n",
        "plt.show()"
      ],
      "execution_count": 166,
      "outputs": [
        {
          "output_type": "display_data",
          "data": {
            "image/png": "[encoded data removed]",
            "text/plain": [
              "<Figure size 432x288 with 1 Axes>"
            ]
          },
          "metadata": {
            "tags": [],
            "needs_background": "light"
          }
        }
      ]
    },
    {
      "cell_type": "markdown",
      "metadata": {
        "id": "Q8oW3RNCRDhl"
      },
      "source": [
        "Now the given time series become stationry after differencing"
      ]
    },
    {
      "cell_type": "markdown",
      "metadata": {
        "id": "mj4UE7yNkI_0"
      },
      "source": [
        ""
      ]
    },
    {
      "cell_type": "markdown",
      "metadata": {
        "id": "Ev9dP-BUkKse"
      },
      "source": [
        "**Outliers**"
      ]
    },
    {
      "cell_type": "code",
      "metadata": {
        "colab": {
          "base_uri": "https://localhost:8080/",
          "height": 0
        },
        "id": "bBDya0yHkKsf",
        "outputId": "45ca9087-dc97-4b0a-b196-ca05c45ba063"
      },
      "source": [
        "fb.isnull().sum()"
      ],
      "execution_count": 167,
      "outputs": [
        {
          "output_type": "execute_result",
          "data": {
            "text/plain": [
              "High         0\n",
              "Low          0\n",
              "Open         0\n",
              "Close        0\n",
              "Volume       0\n",
              "Adj Close    0\n",
              "diff         1\n",
              "dtype: int64"
            ]
          },
          "metadata": {
            "tags": []
          },
          "execution_count": 167
        }
      ]
    },
    {
      "cell_type": "code",
      "metadata": {
        "colab": {
          "base_uri": "https://localhost:8080/",
          "height": 284
        },
        "id": "_VilsxptkKsh",
        "outputId": "12ddc2ee-e0fd-4693-a1c3-7e09dfe89e15"
      },
      "source": [
        "fb.describe()"
      ],
      "execution_count": 168,
      "outputs": [
        {
          "output_type": "execute_result",
          "data": {
            "text/html": [
              "<div>\n",
              "<style scoped>\n",
              "    .dataframe tbody tr th:only-of-type {\n",
              "        vertical-align: middle;\n",
              "    }\n",
              "\n",
              "    .dataframe tbody tr th {\n",
              "        vertical-align: top;\n",
              "    }\n",
              "\n",
              "    .dataframe thead th {\n",
              "        text-align: right;\n",
              "    }\n",
              "</style>\n",
              "<table border=\"1\" class=\"dataframe\">\n",
              "  <thead>\n",
              "    <tr style=\"text-align: right;\">\n",
              "      <th></th>\n",
              "      <th>High</th>\n",
              "      <th>Low</th>\n",
              "      <th>Open</th>\n",
              "      <th>Close</th>\n",
              "      <th>Volume</th>\n",
              "      <th>Adj Close</th>\n",
              "      <th>diff</th>\n",
              "    </tr>\n",
              "  </thead>\n",
              "  <tbody>\n",
              "    <tr>\n",
              "      <th>count</th>\n",
              "      <td>589.000000</td>\n",
              "      <td>589.000000</td>\n",
              "      <td>589.000000</td>\n",
              "      <td>589.000000</td>\n",
              "      <td>5.890000e+02</td>\n",
              "      <td>589.000000</td>\n",
              "      <td>588.000000</td>\n",
              "    </tr>\n",
              "    <tr>\n",
              "      <th>mean</th>\n",
              "      <td>98.479779</td>\n",
              "      <td>96.491545</td>\n",
              "      <td>97.527742</td>\n",
              "      <td>97.544160</td>\n",
              "      <td>2.754758e+07</td>\n",
              "      <td>97.544160</td>\n",
              "      <td>0.078333</td>\n",
              "    </tr>\n",
              "    <tr>\n",
              "      <th>std</th>\n",
              "      <td>18.576699</td>\n",
              "      <td>18.438006</td>\n",
              "      <td>18.550756</td>\n",
              "      <td>18.511200</td>\n",
              "      <td>1.396508e+07</td>\n",
              "      <td>18.511200</td>\n",
              "      <td>1.642251</td>\n",
              "    </tr>\n",
              "    <tr>\n",
              "      <th>min</th>\n",
              "      <td>73.220001</td>\n",
              "      <td>70.320000</td>\n",
              "      <td>70.790001</td>\n",
              "      <td>72.360001</td>\n",
              "      <td>5.913100e+06</td>\n",
              "      <td>72.360001</td>\n",
              "      <td>-7.169998</td>\n",
              "    </tr>\n",
              "    <tr>\n",
              "      <th>25%</th>\n",
              "      <td>80.000000</td>\n",
              "      <td>78.519997</td>\n",
              "      <td>79.300003</td>\n",
              "      <td>79.330002</td>\n",
              "      <td>1.889710e+07</td>\n",
              "      <td>79.330002</td>\n",
              "      <td>-0.784998</td>\n",
              "    </tr>\n",
              "    <tr>\n",
              "      <th>50%</th>\n",
              "      <td>96.099998</td>\n",
              "      <td>93.629997</td>\n",
              "      <td>94.949997</td>\n",
              "      <td>94.970001</td>\n",
              "      <td>2.400390e+07</td>\n",
              "      <td>94.970001</td>\n",
              "      <td>0.110001</td>\n",
              "    </tr>\n",
              "    <tr>\n",
              "      <th>75%</th>\n",
              "      <td>115.010002</td>\n",
              "      <td>113.070000</td>\n",
              "      <td>114.070000</td>\n",
              "      <td>114.190002</td>\n",
              "      <td>3.196100e+07</td>\n",
              "      <td>114.190002</td>\n",
              "      <td>0.982502</td>\n",
              "    </tr>\n",
              "    <tr>\n",
              "      <th>max</th>\n",
              "      <td>133.500000</td>\n",
              "      <td>132.220001</td>\n",
              "      <td>133.500000</td>\n",
              "      <td>133.279999</td>\n",
              "      <td>1.074753e+08</td>\n",
              "      <td>133.279999</td>\n",
              "      <td>14.660004</td>\n",
              "    </tr>\n",
              "  </tbody>\n",
              "</table>\n",
              "</div>"
            ],
            "text/plain": [
              "             High         Low        Open  ...        Volume   Adj Close        diff\n",
              "count  589.000000  589.000000  589.000000  ...  5.890000e+02  589.000000  588.000000\n",
              "mean    98.479779   96.491545   97.527742  ...  2.754758e+07   97.544160    0.078333\n",
              "std     18.576699   18.438006   18.550756  ...  1.396508e+07   18.511200    1.642251\n",
              "min     73.220001   70.320000   70.790001  ...  5.913100e+06   72.360001   -7.169998\n",
              "25%     80.000000   78.519997   79.300003  ...  1.889710e+07   79.330002   -0.784998\n",
              "50%     96.099998   93.629997   94.949997  ...  2.400390e+07   94.970001    0.110001\n",
              "75%    115.010002  113.070000  114.070000  ...  3.196100e+07  114.190002    0.982502\n",
              "max    133.500000  132.220001  133.500000  ...  1.074753e+08  133.279999   14.660004\n",
              "\n",
              "[8 rows x 7 columns]"
            ]
          },
          "metadata": {
            "tags": []
          },
          "execution_count": 168
        }
      ]
    },
    {
      "cell_type": "code",
      "metadata": {
        "colab": {
          "base_uri": "https://localhost:8080/",
          "height": 486
        },
        "id": "3bZBtTQTkKsi",
        "outputId": "a48763b5-9996-4d55-eb7b-fbde40bda878"
      },
      "source": [
        "import seaborn as sns \n",
        "plt.figure(figsize = (4,8))\n",
        "sns.boxplot(y = fb.Close)"
      ],
      "execution_count": 169,
      "outputs": [
        {
          "output_type": "execute_result",
          "data": {
            "text/plain": [
              "<matplotlib.axes._subplots.AxesSubplot at 0x7f2e6c8b0350>"
            ]
          },
          "metadata": {
            "tags": []
          },
          "execution_count": 169
        },
        {
          "output_type": "display_data",
          "data": {
            "image/png": "[encoded data removed]",
            "text/plain": [
              "<Figure size 288x576 with 1 Axes>"
            ]
          },
          "metadata": {
            "tags": [],
            "needs_background": "light"
          }
        }
      ]
    },
    {
      "cell_type": "markdown",
      "metadata": {
        "id": "jOR7QscqkKsj"
      },
      "source": [
        "**Interquartile Range (IQR) method for detecting outliers**"
      ]
    },
    {
      "cell_type": "code",
      "metadata": {
        "id": "sGRwQvAOkKsj"
      },
      "source": [
        "def out_iqr(df , column):\n",
        "    global lower,upper\n",
        "    q25, q75 = np.quantile(df[column], 0.25), np.quantile(df[column], 0.75)\n",
        "    # calculate the IQR\n",
        "    iqr = q75 - q25\n",
        "    # calculate the outlier cutoff\n",
        "    cut_off = iqr * 1.5\n",
        "    # calculate the lower and upper bound value\n",
        "    lower, upper = q25 - cut_off, q75 + cut_off\n",
        "    print('The IQR is',iqr)\n",
        "    print('The lower bound value is', lower)\n",
        "    print('The upper bound value is', upper)\n",
        "    # Calculate the number of records below and above lower and above bound value respectively\n",
        "    df1 = df[df[column] > upper]\n",
        "    df2 = df[df[column] < lower]\n",
        "    return print('Total number of outliers are', df1.shape[0]+ df2.shape[0])"
      ],
      "execution_count": 170,
      "outputs": []
    },
    {
      "cell_type": "code",
      "metadata": {
        "colab": {
          "base_uri": "https://localhost:8080/",
          "height": 0
        },
        "id": "_RHvDiuBkKsk",
        "outputId": "ec69c7cd-54ad-4040-d6e3-ea975eda19d7"
      },
      "source": [
        "import numpy as np\n",
        "out_iqr(fb,'Close')\n",
        "#Input the dataset and the required column"
      ],
      "execution_count": 171,
      "outputs": [
        {
          "output_type": "stream",
          "text": [
            "The IQR is 34.86000061035156\n",
            "The lower bound value is 27.040000915527344\n",
            "The upper bound value is 166.4800033569336\n",
            "Total number of outliers are 0\n"
          ],
          "name": "stdout"
        }
      ]
    },
    {
      "cell_type": "markdown",
      "metadata": {
        "id": "hrnmlZoYkKsl"
      },
      "source": [
        "As per the IQR method, there are 0 outliers."
      ]
    },
    {
      "cell_type": "markdown",
      "metadata": {
        "id": "Oog5Lv5okKsl"
      },
      "source": [
        "**Standard Deviation Method for detecting outliers**"
      ]
    },
    {
      "cell_type": "code",
      "metadata": {
        "colab": {
          "base_uri": "https://localhost:8080/",
          "height": 404
        },
        "id": "oJfbTl_DkKsm",
        "outputId": "a9ae38dc-6dca-46fe-838f-fbcef070a195"
      },
      "source": [
        "plt.figure(figsize = (10,5))\n",
        "sns.distplot(fb['Close'])"
      ],
      "execution_count": 172,
      "outputs": [
        {
          "output_type": "stream",
          "text": [
            "/usr/local/lib/python3.7/dist-packages/seaborn/distributions.py:2557: FutureWarning: `distplot` is a deprecated function and will be removed in a future version. Please adapt your code to use either `displot` (a figure-level function with similar flexibility) or `histplot` (an axes-level function for histograms).\n",
            "  warnings.warn(msg, FutureWarning)\n"
          ],
          "name": "stderr"
        },
        {
          "output_type": "execute_result",
          "data": {
            "text/plain": [
              "<matplotlib.axes._subplots.AxesSubplot at 0x7f2e6c6c8a10>"
            ]
          },
          "metadata": {
            "tags": []
          },
          "execution_count": 172
        },
        {
          "output_type": "display_data",
          "data": {
            "image/png": "[encoded data removed]",
            "text/plain": [
              "<Figure size 720x360 with 1 Axes>"
            ]
          },
          "metadata": {
            "tags": [],
            "needs_background": "light"
          }
        }
      ]
    },
    {
      "cell_type": "code",
      "metadata": {
        "id": "jX-PCoSokKsn"
      },
      "source": [
        "def out_std(df, column):\n",
        "    global lower,upper\n",
        "    # calculate the mean and standard deviation of the data frame\n",
        "    data_mean, data_std = df[column].mean(), df[column].std()\n",
        "    # calculate the cutoff value\n",
        "    cut_off = data_std * 3\n",
        "    # calculate the lower and upper bound value\n",
        "    lower, upper = data_mean - cut_off, data_mean + cut_off\n",
        "    print('The lower bound value is', lower)\n",
        "    print('The upper bound value is', upper)\n",
        "    # Calculate the number of records below and above lower and above bound value respectively\n",
        "    df1 = df[df[column] > upper]\n",
        "    df2 = df[df[column] < lower]\n",
        "    return print('Total number of outliers are', df1.shape[0]+ df2.shape[0])"
      ],
      "execution_count": 173,
      "outputs": []
    },
    {
      "cell_type": "code",
      "metadata": {
        "colab": {
          "base_uri": "https://localhost:8080/",
          "height": 0
        },
        "id": "PS8X4BtukKsn",
        "outputId": "5a660b56-592d-431f-f2e0-e6f2ccdcf2f0"
      },
      "source": [
        "out_std(fb,'Close')"
      ],
      "execution_count": 174,
      "outputs": [
        {
          "output_type": "stream",
          "text": [
            "The lower bound value is 42.010559141214934\n",
            "The upper bound value is 153.07776018062955\n",
            "Total number of outliers are 0\n"
          ],
          "name": "stdout"
        }
      ]
    },
    {
      "cell_type": "markdown",
      "metadata": {
        "id": "-jTsSK0VkKso"
      },
      "source": [
        "As per the standard deviation method, there are 0 outliers."
      ]
    },
    {
      "cell_type": "markdown",
      "metadata": {
        "id": "8wm6oAf0kKso"
      },
      "source": [
        "Visual representation"
      ]
    },
    {
      "cell_type": "code",
      "metadata": {
        "colab": {
          "base_uri": "https://localhost:8080/",
          "height": 458
        },
        "id": "MTZ7X_Z9kKsp",
        "outputId": "7e7da09a-5e68-4fba-e405-1e7a8e638241"
      },
      "source": [
        "plt.figure(figsize = (10,6))\n",
        "sns.distplot(fb.Close, kde=False)\n",
        "plt.axvspan(xmin = lower,xmax= fb.Close.min(),alpha=0.2, color='red')\n",
        "plt.axvspan(xmin = upper,xmax= fb.Close.max(),alpha=0.2, color='red')"
      ],
      "execution_count": 175,
      "outputs": [
        {
          "output_type": "stream",
          "text": [
            "/usr/local/lib/python3.7/dist-packages/seaborn/distributions.py:2557: FutureWarning: `distplot` is a deprecated function and will be removed in a future version. Please adapt your code to use either `displot` (a figure-level function with similar flexibility) or `histplot` (an axes-level function for histograms).\n",
            "  warnings.warn(msg, FutureWarning)\n"
          ],
          "name": "stderr"
        },
        {
          "output_type": "execute_result",
          "data": {
            "text/plain": [
              "<matplotlib.patches.Polygon at 0x7f2e6c5b9090>"
            ]
          },
          "metadata": {
            "tags": []
          },
          "execution_count": 175
        },
        {
          "output_type": "display_data",
          "data": {
            "image/png": "[encoded data removed]",
            "text/plain": [
              "<Figure size 720x432 with 1 Axes>"
            ]
          },
          "metadata": {
            "tags": [],
            "needs_background": "light"
          }
        }
      ]
    },
    {
      "cell_type": "markdown",
      "metadata": {
        "id": "AHSeceXw5Z2n"
      },
      "source": [
        "#Exploratory data analysis for Google dataset"
      ]
    },
    {
      "cell_type": "code",
      "metadata": {
        "id": "DQgjKkP-5Z2o"
      },
      "source": [
        "#Importing libraries\n",
        "import pandas as pd\n",
        "import matplotlib.pyplot as plt\n",
        "from statsmodels.tsa.stattools import adfuller,kpss\n",
        "from statsmodels.graphics.tsaplots import plot_acf, plot_pacf\n"
      ],
      "execution_count": 177,
      "outputs": []
    },
    {
      "cell_type": "code",
      "metadata": {
        "colab": {
          "base_uri": "https://localhost:8080/",
          "height": 296
        },
        "id": "p88AP_Ep8Rmk",
        "outputId": "d122cd73-3c00-457e-d131-7cc7ea33aac9"
      },
      "source": [
        "#Visulaizing the close data\n",
        "import matplotlib.pyplot as plt\n",
        "google[\"Close\"].plot()"
      ],
      "execution_count": 178,
      "outputs": [
        {
          "output_type": "execute_result",
          "data": {
            "text/plain": [
              "<matplotlib.axes._subplots.AxesSubplot at 0x7f2e6c55f990>"
            ]
          },
          "metadata": {
            "tags": []
          },
          "execution_count": 178
        },
        {
          "output_type": "display_data",
          "data": {
            "image/png": "[encoded data removed]",
            "text/plain": [
              "<Figure size 432x288 with 1 Axes>"
            ]
          },
          "metadata": {
            "tags": [],
            "needs_background": "light"
          }
        }
      ]
    },
    {
      "cell_type": "code",
      "metadata": {
        "colab": {
          "base_uri": "https://localhost:8080/",
          "height": 0
        },
        "id": "beTqhchj5Z2p",
        "outputId": "d058b75e-9b3d-406b-d353-9f4176626d20"
      },
      "source": [
        "#ADF Test\n",
        "\n",
        "def adf_test(atr):\n",
        "  \n",
        "    #Perform Dickey-Fuller test:\n",
        "    timeseries = google[atr].dropna()\n",
        "    print ('Results of Dickey-Fuller Test for ',atr,'\\n')\n",
        "    dftest = adfuller(timeseries, autolag='AIC')\n",
        "    dfoutput = pd.Series(dftest[0:4], index=['Test Statistic','p-value','#Lags Used','Number of Observations Used'])\n",
        "    for key,value in dftest[4].items():\n",
        "       dfoutput['Critical Value (%s)'%key] = value\n",
        "    print(dfoutput)\n",
        "\n",
        "#apply adf test on the series\n",
        "adf_test('Close')"
      ],
      "execution_count": 179,
      "outputs": [
        {
          "output_type": "stream",
          "text": [
            "Results of Dickey-Fuller Test for  Close \n",
            "\n",
            "Test Statistic                  -1.092577\n",
            "p-value                          0.718023\n",
            "#Lags Used                       3.000000\n",
            "Number of Observations Used    585.000000\n",
            "Critical Value (1%)             -3.441578\n",
            "Critical Value (5%)             -2.866493\n",
            "Critical Value (10%)            -2.569408\n",
            "dtype: float64\n"
          ],
          "name": "stdout"
        }
      ]
    },
    {
      "cell_type": "markdown",
      "metadata": {
        "id": "OOc7lcJ-5Z2q"
      },
      "source": [
        "The p value obtained is greater than significance level of 0.05  and test statistic is higher than any of the critical values \n",
        "\n",
        "so we cant reject the null hypothesis so the time series is non stationary."
      ]
    },
    {
      "cell_type": "code",
      "metadata": {
        "colab": {
          "base_uri": "https://localhost:8080/",
          "height": 0
        },
        "id": "5Hhk8UUl5Z2r",
        "outputId": "2a7a6c01-298a-4f47-a3f0-67ba000af1b3"
      },
      "source": [
        "#KPSS Test\n",
        "\n",
        "def kpss_test(atr):\n",
        "    timeseries = google[atr].dropna()\n",
        "    print ('Results of KPSS Test for ',atr)\n",
        "    kpsstest = kpss(timeseries, regression='c')\n",
        "    kpss_output = pd.Series(kpsstest[0:3], index=['Test Statistic','p-value','Lags Used'])\n",
        "    for key,value in kpsstest[3].items():\n",
        "        kpss_output['Critical Value (%s)'%key] = value\n",
        "    print (kpss_output)\n",
        "    \n",
        "kpss_test('Close')"
      ],
      "execution_count": 180,
      "outputs": [
        {
          "output_type": "stream",
          "text": [
            "Results of KPSS Test for  Close\n",
            "Test Statistic            2.648792\n",
            "p-value                   0.010000\n",
            "Lags Used                19.000000\n",
            "Critical Value (10%)      0.347000\n",
            "Critical Value (5%)       0.463000\n",
            "Critical Value (2.5%)     0.574000\n",
            "Critical Value (1%)       0.739000\n",
            "dtype: float64\n"
          ],
          "name": "stdout"
        },
        {
          "output_type": "stream",
          "text": [
            "/usr/local/lib/python3.7/dist-packages/statsmodels/tsa/stattools.py:1685: FutureWarning: The behavior of using lags=None will change in the next release. Currently lags=None is the same as lags='legacy', and so a sample-size lag length is used. After the next release, the default will change to be the same as lags='auto' which uses an automatic lag length selection method. To silence this warning, either use 'auto' or 'legacy'\n",
            "  warn(msg, FutureWarning)\n",
            "/usr/local/lib/python3.7/dist-packages/statsmodels/tsa/stattools.py:1709: InterpolationWarning: p-value is smaller than the indicated p-value\n",
            "  warn(\"p-value is smaller than the indicated p-value\", InterpolationWarning)\n"
          ],
          "name": "stderr"
        }
      ]
    },
    {
      "cell_type": "markdown",
      "metadata": {
        "id": "TTpxdHwv5Z2s"
      },
      "source": [
        "The p value is significant less than 0.05 hence we can reject the null hypothesis so series is non stationary"
      ]
    },
    {
      "cell_type": "code",
      "metadata": {
        "colab": {
          "base_uri": "https://localhost:8080/",
          "height": 281
        },
        "id": "B74tllKn5Z2t",
        "outputId": "b6376f8d-9268-4e8c-9d83-0f502a2f5053"
      },
      "source": [
        "# ACF Test of differenced data\n",
        "plot_acf(google['Close'].dropna(), lags=10)\n",
        "plt.show()\n"
      ],
      "execution_count": 181,
      "outputs": [
        {
          "output_type": "display_data",
          "data": {
            "image/png": "[encoded data removed]",
            "text/plain": [
              "<Figure size 432x288 with 1 Axes>"
            ]
          },
          "metadata": {
            "tags": [],
            "needs_background": "light"
          }
        }
      ]
    },
    {
      "cell_type": "markdown",
      "metadata": {
        "id": "if1YTUN_RT1-"
      },
      "source": [
        "As more than 5% of the plot is outside the shaded region, the data is non stationary"
      ]
    },
    {
      "cell_type": "code",
      "metadata": {
        "colab": {
          "base_uri": "https://localhost:8080/",
          "height": 281
        },
        "id": "UvOjX16e5Z2u",
        "outputId": "1ee2cc93-5a0e-4bf4-b272-b53a21aa994c"
      },
      "source": [
        "# PACF Test of differenced data\n",
        "plot_pacf(google['Close'].dropna(), lags=10)\n",
        "plt.show()"
      ],
      "execution_count": 182,
      "outputs": [
        {
          "output_type": "display_data",
          "data": {
            "image/png": "[encoded data removed]",
            "text/plain": [
              "<Figure size 432x288 with 1 Axes>"
            ]
          },
          "metadata": {
            "tags": [],
            "needs_background": "light"
          }
        }
      ]
    },
    {
      "cell_type": "markdown",
      "metadata": {
        "id": "u19KcDPxRXi3"
      },
      "source": [
        "As more than 5% of the plot is outside the shaded region, the data is non stationary"
      ]
    },
    {
      "cell_type": "code",
      "metadata": {
        "colab": {
          "base_uri": "https://localhost:8080/",
          "height": 293
        },
        "id": "yesH8MCR5Z2w",
        "outputId": "d4acf9dc-3808-42f2-82f4-3de402367079"
      },
      "source": [
        "#Differencing to make data as stationary\n",
        "\n",
        "#Differencing the data\n",
        "google['diff'] = google['Close'].diff(periods=1)\n",
        "\n",
        "#Visulaizing the differenced data\n",
        "google[\"diff\"].plot()\n"
      ],
      "execution_count": 183,
      "outputs": [
        {
          "output_type": "execute_result",
          "data": {
            "text/plain": [
              "<matplotlib.axes._subplots.AxesSubplot at 0x7f2e6c4422d0>"
            ]
          },
          "metadata": {
            "tags": []
          },
          "execution_count": 183
        },
        {
          "output_type": "display_data",
          "data": {
            "image/png": "[encoded data removed]",
            "text/plain": [
              "<Figure size 432x288 with 1 Axes>"
            ]
          },
          "metadata": {
            "tags": [],
            "needs_background": "light"
          }
        }
      ]
    },
    {
      "cell_type": "code",
      "metadata": {
        "colab": {
          "base_uri": "https://localhost:8080/",
          "height": 0
        },
        "id": "THOUdH3f5Z2x",
        "outputId": "9b66c17f-bf9e-49db-b5e8-5d1a06963b60"
      },
      "source": [
        "# ADF Test of differenced data\n",
        "adf_test('diff')\n"
      ],
      "execution_count": 184,
      "outputs": [
        {
          "output_type": "stream",
          "text": [
            "Results of Dickey-Fuller Test for  diff \n",
            "\n",
            "Test Statistic                -1.479016e+01\n",
            "p-value                        2.177423e-27\n",
            "#Lags Used                     2.000000e+00\n",
            "Number of Observations Used    5.850000e+02\n",
            "Critical Value (1%)           -3.441578e+00\n",
            "Critical Value (5%)           -2.866493e+00\n",
            "Critical Value (10%)          -2.569408e+00\n",
            "dtype: float64\n"
          ],
          "name": "stdout"
        }
      ]
    },
    {
      "cell_type": "code",
      "metadata": {
        "colab": {
          "base_uri": "https://localhost:8080/",
          "height": 0
        },
        "id": "D4ZOYJsw5Z2y",
        "outputId": "f86fc651-d5a4-419c-acbc-9211dcb37b17"
      },
      "source": [
        "# KPSS Test of differenced data\n",
        "kpss_test('diff')\n"
      ],
      "execution_count": 185,
      "outputs": [
        {
          "output_type": "stream",
          "text": [
            "Results of KPSS Test for  diff\n",
            "Test Statistic            0.073196\n",
            "p-value                   0.100000\n",
            "Lags Used                19.000000\n",
            "Critical Value (10%)      0.347000\n",
            "Critical Value (5%)       0.463000\n",
            "Critical Value (2.5%)     0.574000\n",
            "Critical Value (1%)       0.739000\n",
            "dtype: float64\n"
          ],
          "name": "stdout"
        },
        {
          "output_type": "stream",
          "text": [
            "/usr/local/lib/python3.7/dist-packages/statsmodels/tsa/stattools.py:1685: FutureWarning: The behavior of using lags=None will change in the next release. Currently lags=None is the same as lags='legacy', and so a sample-size lag length is used. After the next release, the default will change to be the same as lags='auto' which uses an automatic lag length selection method. To silence this warning, either use 'auto' or 'legacy'\n",
            "  warn(msg, FutureWarning)\n",
            "/usr/local/lib/python3.7/dist-packages/statsmodels/tsa/stattools.py:1711: InterpolationWarning: p-value is greater than the indicated p-value\n",
            "  warn(\"p-value is greater than the indicated p-value\", InterpolationWarning)\n"
          ],
          "name": "stderr"
        }
      ]
    },
    {
      "cell_type": "code",
      "metadata": {
        "colab": {
          "base_uri": "https://localhost:8080/",
          "height": 281
        },
        "id": "7Ga6Opy45Z2z",
        "outputId": "a1716cf1-3c36-455a-eb46-4fa37da567b2"
      },
      "source": [
        "# ACF Test of differenced data\n",
        "plot_acf(google['diff'].dropna(), lags=10)\n",
        "plt.show()\n"
      ],
      "execution_count": 186,
      "outputs": [
        {
          "output_type": "display_data",
          "data": {
            "image/png": "[encoded data removed]",
            "text/plain": [
              "<Figure size 432x288 with 1 Axes>"
            ]
          },
          "metadata": {
            "tags": [],
            "needs_background": "light"
          }
        }
      ]
    },
    {
      "cell_type": "code",
      "metadata": {
        "colab": {
          "base_uri": "https://localhost:8080/",
          "height": 281
        },
        "id": "G5GA6RBx5Z20",
        "outputId": "f7cdb41f-dcd5-4b86-a716-4c221c5a0075"
      },
      "source": [
        "# PACF Test of differenced data\n",
        "plot_pacf(google['diff'].dropna(), lags=10)\n",
        "plt.show()"
      ],
      "execution_count": 187,
      "outputs": [
        {
          "output_type": "display_data",
          "data": {
            "image/png": "[encoded data removed]",
            "text/plain": [
              "<Figure size 432x288 with 1 Axes>"
            ]
          },
          "metadata": {
            "tags": [],
            "needs_background": "light"
          }
        }
      ]
    },
    {
      "cell_type": "markdown",
      "metadata": {
        "id": "QoNkgs4wRdKO"
      },
      "source": [
        "Now the given time series become stationary after differencing"
      ]
    },
    {
      "cell_type": "markdown",
      "metadata": {
        "id": "7TF1ZRhMlAfV"
      },
      "source": [
        ""
      ]
    },
    {
      "cell_type": "markdown",
      "metadata": {
        "id": "_D9katZDlfyv"
      },
      "source": [
        "**Outliers**"
      ]
    },
    {
      "cell_type": "code",
      "metadata": {
        "colab": {
          "base_uri": "https://localhost:8080/",
          "height": 0
        },
        "id": "sefaIGTNlfy_",
        "outputId": "1125c662-fdb3-452c-9fd3-87cd05bf6b6a"
      },
      "source": [
        "google.isnull().sum()"
      ],
      "execution_count": 188,
      "outputs": [
        {
          "output_type": "execute_result",
          "data": {
            "text/plain": [
              "High         0\n",
              "Low          0\n",
              "Open         0\n",
              "Close        0\n",
              "Volume       0\n",
              "Adj Close    0\n",
              "diff         1\n",
              "dtype: int64"
            ]
          },
          "metadata": {
            "tags": []
          },
          "execution_count": 188
        }
      ]
    },
    {
      "cell_type": "code",
      "metadata": {
        "colab": {
          "base_uri": "https://localhost:8080/",
          "height": 284
        },
        "id": "roe56W58lfzE",
        "outputId": "80850a13-6042-4ddf-b077-26abe53ee172"
      },
      "source": [
        "google.describe()"
      ],
      "execution_count": 189,
      "outputs": [
        {
          "output_type": "execute_result",
          "data": {
            "text/html": [
              "<div>\n",
              "<style scoped>\n",
              "    .dataframe tbody tr th:only-of-type {\n",
              "        vertical-align: middle;\n",
              "    }\n",
              "\n",
              "    .dataframe tbody tr th {\n",
              "        vertical-align: top;\n",
              "    }\n",
              "\n",
              "    .dataframe thead th {\n",
              "        text-align: right;\n",
              "    }\n",
              "</style>\n",
              "<table border=\"1\" class=\"dataframe\">\n",
              "  <thead>\n",
              "    <tr style=\"text-align: right;\">\n",
              "      <th></th>\n",
              "      <th>High</th>\n",
              "      <th>Low</th>\n",
              "      <th>Open</th>\n",
              "      <th>Close</th>\n",
              "      <th>Volume</th>\n",
              "      <th>Adj Close</th>\n",
              "      <th>diff</th>\n",
              "    </tr>\n",
              "  </thead>\n",
              "  <tbody>\n",
              "    <tr>\n",
              "      <th>count</th>\n",
              "      <td>589.000000</td>\n",
              "      <td>589.000000</td>\n",
              "      <td>589.000000</td>\n",
              "      <td>589.000000</td>\n",
              "      <td>5.890000e+02</td>\n",
              "      <td>589.000000</td>\n",
              "      <td>588.000000</td>\n",
              "    </tr>\n",
              "    <tr>\n",
              "      <th>mean</th>\n",
              "      <td>670.241070</td>\n",
              "      <td>658.717657</td>\n",
              "      <td>664.847572</td>\n",
              "      <td>664.520458</td>\n",
              "      <td>2.059138e+06</td>\n",
              "      <td>664.520458</td>\n",
              "      <td>0.344014</td>\n",
              "    </tr>\n",
              "    <tr>\n",
              "      <th>std</th>\n",
              "      <td>101.589772</td>\n",
              "      <td>100.188867</td>\n",
              "      <td>100.998646</td>\n",
              "      <td>100.889144</td>\n",
              "      <td>1.074884e+06</td>\n",
              "      <td>100.889144</td>\n",
              "      <td>9.973392</td>\n",
              "    </tr>\n",
              "    <tr>\n",
              "      <th>min</th>\n",
              "      <td>500.279999</td>\n",
              "      <td>490.910004</td>\n",
              "      <td>499.239990</td>\n",
              "      <td>497.059998</td>\n",
              "      <td>5.206000e+05</td>\n",
              "      <td>497.059998</td>\n",
              "      <td>-42.229980</td>\n",
              "    </tr>\n",
              "    <tr>\n",
              "      <th>25%</th>\n",
              "      <td>561.109985</td>\n",
              "      <td>552.260010</td>\n",
              "      <td>558.000000</td>\n",
              "      <td>556.809998</td>\n",
              "      <td>1.447600e+06</td>\n",
              "      <td>556.809998</td>\n",
              "      <td>-4.627548</td>\n",
              "    </tr>\n",
              "    <tr>\n",
              "      <th>50%</th>\n",
              "      <td>692.260010</td>\n",
              "      <td>673.679993</td>\n",
              "      <td>683.729980</td>\n",
              "      <td>681.140015</td>\n",
              "      <td>1.769100e+06</td>\n",
              "      <td>681.140015</td>\n",
              "      <td>0.409973</td>\n",
              "    </tr>\n",
              "    <tr>\n",
              "      <th>75%</th>\n",
              "      <td>763.229980</td>\n",
              "      <td>751.570007</td>\n",
              "      <td>757.520020</td>\n",
              "      <td>757.650024</td>\n",
              "      <td>2.345900e+06</td>\n",
              "      <td>757.650024</td>\n",
              "      <td>5.309998</td>\n",
              "    </tr>\n",
              "    <tr>\n",
              "      <th>max</th>\n",
              "      <td>839.000000</td>\n",
              "      <td>829.039978</td>\n",
              "      <td>838.500000</td>\n",
              "      <td>835.739990</td>\n",
              "      <td>1.285810e+07</td>\n",
              "      <td>835.739990</td>\n",
              "      <td>97.839966</td>\n",
              "    </tr>\n",
              "  </tbody>\n",
              "</table>\n",
              "</div>"
            ],
            "text/plain": [
              "             High         Low        Open  ...        Volume   Adj Close        diff\n",
              "count  589.000000  589.000000  589.000000  ...  5.890000e+02  589.000000  588.000000\n",
              "mean   670.241070  658.717657  664.847572  ...  2.059138e+06  664.520458    0.344014\n",
              "std    101.589772  100.188867  100.998646  ...  1.074884e+06  100.889144    9.973392\n",
              "min    500.279999  490.910004  499.239990  ...  5.206000e+05  497.059998  -42.229980\n",
              "25%    561.109985  552.260010  558.000000  ...  1.447600e+06  556.809998   -4.627548\n",
              "50%    692.260010  673.679993  683.729980  ...  1.769100e+06  681.140015    0.409973\n",
              "75%    763.229980  751.570007  757.520020  ...  2.345900e+06  757.650024    5.309998\n",
              "max    839.000000  829.039978  838.500000  ...  1.285810e+07  835.739990   97.839966\n",
              "\n",
              "[8 rows x 7 columns]"
            ]
          },
          "metadata": {
            "tags": []
          },
          "execution_count": 189
        }
      ]
    },
    {
      "cell_type": "code",
      "metadata": {
        "colab": {
          "base_uri": "https://localhost:8080/",
          "height": 487
        },
        "id": "royZIu68lfzF",
        "outputId": "3d6e80e5-379c-4aa7-d2c7-4bb42608102e"
      },
      "source": [
        "import seaborn as sns \n",
        "plt.figure(figsize = (4,8))\n",
        "sns.boxplot(y = google.Close)"
      ],
      "execution_count": 190,
      "outputs": [
        {
          "output_type": "execute_result",
          "data": {
            "text/plain": [
              "<matplotlib.axes._subplots.AxesSubplot at 0x7f2e6c65f990>"
            ]
          },
          "metadata": {
            "tags": []
          },
          "execution_count": 190
        },
        {
          "output_type": "display_data",
          "data": {
            "image/png": "[encoded data removed]",
            "text/plain": [
              "<Figure size 288x576 with 1 Axes>"
            ]
          },
          "metadata": {
            "tags": [],
            "needs_background": "light"
          }
        }
      ]
    },
    {
      "cell_type": "markdown",
      "metadata": {
        "id": "QirV8_D7lfzG"
      },
      "source": [
        "**Interquartile Range (IQR) method for detecting outliers**"
      ]
    },
    {
      "cell_type": "code",
      "metadata": {
        "id": "D-nu9nRJlfzG"
      },
      "source": [
        "def out_iqr(df , column):\n",
        "    global lower,upper\n",
        "    q25, q75 = np.quantile(df[column], 0.25), np.quantile(df[column], 0.75)\n",
        "    # calculate the IQR\n",
        "    iqr = q75 - q25\n",
        "    # calculate the outlier cutoff\n",
        "    cut_off = iqr * 1.5\n",
        "    # calculate the lower and upper bound value\n",
        "    lower, upper = q25 - cut_off, q75 + cut_off\n",
        "    print('The IQR is',iqr)\n",
        "    print('The lower bound value is', lower)\n",
        "    print('The upper bound value is', upper)\n",
        "    # Calculate the number of records below and above lower and above bound value respectively\n",
        "    df1 = df[df[column] > upper]\n",
        "    df2 = df[df[column] < lower]\n",
        "    return print('Total number of outliers are', df1.shape[0]+ df2.shape[0])"
      ],
      "execution_count": 191,
      "outputs": []
    },
    {
      "cell_type": "code",
      "metadata": {
        "colab": {
          "base_uri": "https://localhost:8080/",
          "height": 0
        },
        "id": "gyZ9hROtlfzH",
        "outputId": "d6c17bce-6e71-4c20-a5f2-2901aff411df"
      },
      "source": [
        "import numpy as np\n",
        "out_iqr(google,'Close')\n",
        "#Input the dataset and the required column"
      ],
      "execution_count": 192,
      "outputs": [
        {
          "output_type": "stream",
          "text": [
            "The IQR is 200.84002685546875\n",
            "The lower bound value is 255.54995727539062\n",
            "The upper bound value is 1058.9100646972656\n",
            "Total number of outliers are 0\n"
          ],
          "name": "stdout"
        }
      ]
    },
    {
      "cell_type": "markdown",
      "metadata": {
        "id": "XCVMxpdjlfzI"
      },
      "source": [
        "As per the IQR method, there are 0 outliers."
      ]
    },
    {
      "cell_type": "markdown",
      "metadata": {
        "id": "oJi_8zQdlfzI"
      },
      "source": [
        "**Standard Deviation Method for detecting outliers**"
      ]
    },
    {
      "cell_type": "code",
      "metadata": {
        "colab": {
          "base_uri": "https://localhost:8080/",
          "height": 404
        },
        "id": "AzSEYkUnlfzJ",
        "outputId": "980ae414-9487-48e8-d7b4-103e35febe37"
      },
      "source": [
        "plt.figure(figsize = (10,5))\n",
        "sns.distplot(google['Close'])"
      ],
      "execution_count": 193,
      "outputs": [
        {
          "output_type": "stream",
          "text": [
            "/usr/local/lib/python3.7/dist-packages/seaborn/distributions.py:2557: FutureWarning: `distplot` is a deprecated function and will be removed in a future version. Please adapt your code to use either `displot` (a figure-level function with similar flexibility) or `histplot` (an axes-level function for histograms).\n",
            "  warnings.warn(msg, FutureWarning)\n"
          ],
          "name": "stderr"
        },
        {
          "output_type": "execute_result",
          "data": {
            "text/plain": [
              "<matplotlib.axes._subplots.AxesSubplot at 0x7f2e6c245d10>"
            ]
          },
          "metadata": {
            "tags": []
          },
          "execution_count": 193
        },
        {
          "output_type": "display_data",
          "data": {
            "image/png": "[encoded data removed]",
            "text/plain": [
              "<Figure size 720x360 with 1 Axes>"
            ]
          },
          "metadata": {
            "tags": [],
            "needs_background": "light"
          }
        }
      ]
    },
    {
      "cell_type": "code",
      "metadata": {
        "id": "w0lme5VblfzJ"
      },
      "source": [
        "def out_std(df, column):\n",
        "    global lower,upper\n",
        "    # calculate the mean and standard deviation of the data frame\n",
        "    data_mean, data_std = df[column].mean(), df[column].std()\n",
        "    # calculate the cutoff value\n",
        "    cut_off = data_std * 3\n",
        "    # calculate the lower and upper bound value\n",
        "    lower, upper = data_mean - cut_off, data_mean + cut_off\n",
        "    print('The lower bound value is', lower)\n",
        "    print('The upper bound value is', upper)\n",
        "    # Calculate the number of records below and above lower and above bound value respectively\n",
        "    df1 = df[df[column] > upper]\n",
        "    df2 = df[df[column] < lower]\n",
        "    return print('Total number of outliers are', df1.shape[0]+ df2.shape[0])"
      ],
      "execution_count": 194,
      "outputs": []
    },
    {
      "cell_type": "code",
      "metadata": {
        "colab": {
          "base_uri": "https://localhost:8080/",
          "height": 0
        },
        "id": "J6ibo7jRlfzK",
        "outputId": "99007d68-edf3-4d9d-d8eb-73c62795d232"
      },
      "source": [
        "out_std(google,'Close')"
      ],
      "execution_count": 195,
      "outputs": [
        {
          "output_type": "stream",
          "text": [
            "The lower bound value is 361.8530267714717\n",
            "The upper bound value is 967.1878892698522\n",
            "Total number of outliers are 0\n"
          ],
          "name": "stdout"
        }
      ]
    },
    {
      "cell_type": "markdown",
      "metadata": {
        "id": "O63H0z0wlfzL"
      },
      "source": [
        "As per the standard deviation method, there are 0 outliers."
      ]
    },
    {
      "cell_type": "markdown",
      "metadata": {
        "id": "FT5XsbGIlfzL"
      },
      "source": [
        "Visual representation"
      ]
    },
    {
      "cell_type": "code",
      "metadata": {
        "colab": {
          "base_uri": "https://localhost:8080/",
          "height": 458
        },
        "id": "cNsRRdxKlfzL",
        "outputId": "51536a6c-3c9c-4286-f11b-f6822f6260f5"
      },
      "source": [
        "plt.figure(figsize = (10,6))\n",
        "sns.distplot(google.Close, kde=False)\n",
        "plt.axvspan(xmin = lower,xmax= google.Close.min(),alpha=0.2, color='red')\n",
        "plt.axvspan(xmin = upper,xmax= google.Close.max(),alpha=0.2, color='red')"
      ],
      "execution_count": 196,
      "outputs": [
        {
          "output_type": "stream",
          "text": [
            "/usr/local/lib/python3.7/dist-packages/seaborn/distributions.py:2557: FutureWarning: `distplot` is a deprecated function and will be removed in a future version. Please adapt your code to use either `displot` (a figure-level function with similar flexibility) or `histplot` (an axes-level function for histograms).\n",
            "  warnings.warn(msg, FutureWarning)\n"
          ],
          "name": "stderr"
        },
        {
          "output_type": "execute_result",
          "data": {
            "text/plain": [
              "<matplotlib.patches.Polygon at 0x7f2e6c7f4710>"
            ]
          },
          "metadata": {
            "tags": []
          },
          "execution_count": 196
        },
        {
          "output_type": "display_data",
          "data": {
            "image/png": "[encoded data removed]",
            "text/plain": [
              "<Figure size 720x432 with 1 Axes>"
            ]
          },
          "metadata": {
            "tags": [],
            "needs_background": "light"
          }
        }
      ]
    },
    {
      "cell_type": "markdown",
      "metadata": {
        "id": "OeScW046lfzM"
      },
      "source": [
        "Remedial Measure"
      ]
    },
    {
      "cell_type": "code",
      "metadata": {
        "colab": {
          "base_uri": "https://localhost:8080/",
          "height": 431
        },
        "id": "8NbP0NLelfzM",
        "outputId": "98d8534e-dcf7-4da0-daba-9fd5aad1766f"
      },
      "source": [
        "#Data Frame without outliers\n",
        "df_new = google[(google['Close'] < upper) | (google['Close'] > lower)]\n",
        "df_new"
      ],
      "execution_count": 197,
      "outputs": [
        {
          "output_type": "execute_result",
          "data": {
            "text/html": [
              "<div>\n",
              "<style scoped>\n",
              "    .dataframe tbody tr th:only-of-type {\n",
              "        vertical-align: middle;\n",
              "    }\n",
              "\n",
              "    .dataframe tbody tr th {\n",
              "        vertical-align: top;\n",
              "    }\n",
              "\n",
              "    .dataframe thead th {\n",
              "        text-align: right;\n",
              "    }\n",
              "</style>\n",
              "<table border=\"1\" class=\"dataframe\">\n",
              "  <thead>\n",
              "    <tr style=\"text-align: right;\">\n",
              "      <th></th>\n",
              "      <th>High</th>\n",
              "      <th>Low</th>\n",
              "      <th>Open</th>\n",
              "      <th>Close</th>\n",
              "      <th>Volume</th>\n",
              "      <th>Adj Close</th>\n",
              "      <th>diff</th>\n",
              "    </tr>\n",
              "    <tr>\n",
              "      <th>Date</th>\n",
              "      <th></th>\n",
              "      <th></th>\n",
              "      <th></th>\n",
              "      <th></th>\n",
              "      <th></th>\n",
              "      <th></th>\n",
              "      <th></th>\n",
              "    </tr>\n",
              "  </thead>\n",
              "  <tbody>\n",
              "    <tr>\n",
              "      <th>2014-08-01</th>\n",
              "      <td>583.429993</td>\n",
              "      <td>570.299988</td>\n",
              "      <td>578.549988</td>\n",
              "      <td>573.599976</td>\n",
              "      <td>2213300</td>\n",
              "      <td>573.599976</td>\n",
              "      <td>NaN</td>\n",
              "    </tr>\n",
              "    <tr>\n",
              "      <th>2014-08-04</th>\n",
              "      <td>583.820007</td>\n",
              "      <td>572.260010</td>\n",
              "      <td>576.510010</td>\n",
              "      <td>582.270020</td>\n",
              "      <td>1519400</td>\n",
              "      <td>582.270020</td>\n",
              "      <td>8.670044</td>\n",
              "    </tr>\n",
              "    <tr>\n",
              "      <th>2014-08-05</th>\n",
              "      <td>580.200012</td>\n",
              "      <td>570.309998</td>\n",
              "      <td>579.380005</td>\n",
              "      <td>573.140015</td>\n",
              "      <td>1643800</td>\n",
              "      <td>573.140015</td>\n",
              "      <td>-9.130005</td>\n",
              "    </tr>\n",
              "    <tr>\n",
              "      <th>2014-08-06</th>\n",
              "      <td>578.640015</td>\n",
              "      <td>567.450012</td>\n",
              "      <td>569.500000</td>\n",
              "      <td>574.489990</td>\n",
              "      <td>1322800</td>\n",
              "      <td>574.489990</td>\n",
              "      <td>1.349976</td>\n",
              "    </tr>\n",
              "    <tr>\n",
              "      <th>2014-08-07</th>\n",
              "      <td>578.309998</td>\n",
              "      <td>569.429993</td>\n",
              "      <td>576.049988</td>\n",
              "      <td>571.809998</td>\n",
              "      <td>1163000</td>\n",
              "      <td>571.809998</td>\n",
              "      <td>-2.679993</td>\n",
              "    </tr>\n",
              "    <tr>\n",
              "      <th>...</th>\n",
              "      <td>...</td>\n",
              "      <td>...</td>\n",
              "      <td>...</td>\n",
              "      <td>...</td>\n",
              "      <td>...</td>\n",
              "      <td>...</td>\n",
              "      <td>...</td>\n",
              "    </tr>\n",
              "    <tr>\n",
              "      <th>2016-11-23</th>\n",
              "      <td>789.520020</td>\n",
              "      <td>772.650024</td>\n",
              "      <td>789.520020</td>\n",
              "      <td>779.000000</td>\n",
              "      <td>1313000</td>\n",
              "      <td>779.000000</td>\n",
              "      <td>-6.000000</td>\n",
              "    </tr>\n",
              "    <tr>\n",
              "      <th>2016-11-25</th>\n",
              "      <td>782.900024</td>\n",
              "      <td>778.190002</td>\n",
              "      <td>782.609985</td>\n",
              "      <td>780.229980</td>\n",
              "      <td>613500</td>\n",
              "      <td>780.229980</td>\n",
              "      <td>1.229980</td>\n",
              "    </tr>\n",
              "    <tr>\n",
              "      <th>2016-11-28</th>\n",
              "      <td>799.739990</td>\n",
              "      <td>778.099976</td>\n",
              "      <td>778.349976</td>\n",
              "      <td>785.789978</td>\n",
              "      <td>2575400</td>\n",
              "      <td>785.789978</td>\n",
              "      <td>5.559998</td>\n",
              "    </tr>\n",
              "    <tr>\n",
              "      <th>2016-11-29</th>\n",
              "      <td>796.440002</td>\n",
              "      <td>785.340027</td>\n",
              "      <td>788.380005</td>\n",
              "      <td>789.440002</td>\n",
              "      <td>1562000</td>\n",
              "      <td>789.440002</td>\n",
              "      <td>3.650024</td>\n",
              "    </tr>\n",
              "    <tr>\n",
              "      <th>2016-11-30</th>\n",
              "      <td>791.510010</td>\n",
              "      <td>773.150024</td>\n",
              "      <td>789.099976</td>\n",
              "      <td>775.880005</td>\n",
              "      <td>2279100</td>\n",
              "      <td>775.880005</td>\n",
              "      <td>-13.559998</td>\n",
              "    </tr>\n",
              "  </tbody>\n",
              "</table>\n",
              "<p>589 rows × 7 columns</p>\n",
              "</div>"
            ],
            "text/plain": [
              "                  High         Low        Open  ...   Volume   Adj Close       diff\n",
              "Date                                            ...                                \n",
              "2014-08-01  583.429993  570.299988  578.549988  ...  2213300  573.599976        NaN\n",
              "2014-08-04  583.820007  572.260010  576.510010  ...  1519400  582.270020   8.670044\n",
              "2014-08-05  580.200012  570.309998  579.380005  ...  1643800  573.140015  -9.130005\n",
              "2014-08-06  578.640015  567.450012  569.500000  ...  1322800  574.489990   1.349976\n",
              "2014-08-07  578.309998  569.429993  576.049988  ...  1163000  571.809998  -2.679993\n",
              "...                ...         ...         ...  ...      ...         ...        ...\n",
              "2016-11-23  789.520020  772.650024  789.520020  ...  1313000  779.000000  -6.000000\n",
              "2016-11-25  782.900024  778.190002  782.609985  ...   613500  780.229980   1.229980\n",
              "2016-11-28  799.739990  778.099976  778.349976  ...  2575400  785.789978   5.559998\n",
              "2016-11-29  796.440002  785.340027  788.380005  ...  1562000  789.440002   3.650024\n",
              "2016-11-30  791.510010  773.150024  789.099976  ...  2279100  775.880005 -13.559998\n",
              "\n",
              "[589 rows x 7 columns]"
            ]
          },
          "metadata": {
            "tags": []
          },
          "execution_count": 197
        }
      ]
    },
    {
      "cell_type": "markdown",
      "metadata": {
        "id": "b7uRZC945h8Y"
      },
      "source": [
        "#Exploratory data analysis for IBM dataset"
      ]
    },
    {
      "cell_type": "code",
      "metadata": {
        "id": "ExN7Ssuc5h8Z"
      },
      "source": [
        "#Importing libraries\n",
        "import pandas as pd\n",
        "import matplotlib.pyplot as plt\n",
        "from statsmodels.tsa.stattools import adfuller,kpss\n",
        "from statsmodels.graphics.tsaplots import plot_acf, plot_pacf\n"
      ],
      "execution_count": 198,
      "outputs": []
    },
    {
      "cell_type": "code",
      "metadata": {
        "colab": {
          "base_uri": "https://localhost:8080/",
          "height": 293
        },
        "id": "ioyK3ifw8XT-",
        "outputId": "62246990-dbc1-4f56-bdeb-ff3300e1bcd8"
      },
      "source": [
        "#Visulaizing the close data\n",
        "import matplotlib.pyplot as plt\n",
        "ibm[\"Close\"].plot()"
      ],
      "execution_count": 199,
      "outputs": [
        {
          "output_type": "execute_result",
          "data": {
            "text/plain": [
              "<matplotlib.axes._subplots.AxesSubplot at 0x7f2e6c23ced0>"
            ]
          },
          "metadata": {
            "tags": []
          },
          "execution_count": 199
        },
        {
          "output_type": "display_data",
          "data": {
            "image/png": "[encoded data removed]",
            "text/plain": [
              "<Figure size 432x288 with 1 Axes>"
            ]
          },
          "metadata": {
            "tags": [],
            "needs_background": "light"
          }
        }
      ]
    },
    {
      "cell_type": "code",
      "metadata": {
        "colab": {
          "base_uri": "https://localhost:8080/",
          "height": 0
        },
        "id": "HP6BGT_O5h8a",
        "outputId": "1c279bcb-0f31-4e07-d337-de78ac9745b6"
      },
      "source": [
        "#ADF Test\n",
        "\n",
        "def adf_test(atr):\n",
        "  \n",
        "    #Perform Dickey-Fuller test:\n",
        "    timeseries = ibm[atr].dropna()\n",
        "    print ('Results of Dickey-Fuller Test for ',atr,'\\n')\n",
        "    dftest = adfuller(timeseries, autolag='AIC')\n",
        "    dfoutput = pd.Series(dftest[0:4], index=['Test Statistic','p-value','#Lags Used','Number of Observations Used'])\n",
        "    for key,value in dftest[4].items():\n",
        "       dfoutput['Critical Value (%s)'%key] = value\n",
        "    print(dfoutput)\n",
        "\n",
        "#apply adf test on the series\n",
        "adf_test('Close')"
      ],
      "execution_count": 200,
      "outputs": [
        {
          "output_type": "stream",
          "text": [
            "Results of Dickey-Fuller Test for  Close \n",
            "\n",
            "Test Statistic                  -2.279273\n",
            "p-value                          0.178740\n",
            "#Lags Used                       0.000000\n",
            "Number of Observations Used    588.000000\n",
            "Critical Value (1%)             -3.441520\n",
            "Critical Value (5%)             -2.866468\n",
            "Critical Value (10%)            -2.569394\n",
            "dtype: float64\n"
          ],
          "name": "stdout"
        }
      ]
    },
    {
      "cell_type": "markdown",
      "metadata": {
        "id": "sjw6DZ0u5h8c"
      },
      "source": [
        "The p value obtained is greater than significance level of 0.05 and test statistic is higher than any of the critical values \n",
        "\n",
        "so we cant reject the null hypothesis so the time series is non stationary."
      ]
    },
    {
      "cell_type": "code",
      "metadata": {
        "colab": {
          "base_uri": "https://localhost:8080/",
          "height": 0
        },
        "id": "-nVD21JK5h8d",
        "outputId": "38ffe331-c04b-427b-fa1a-35b24aa23eb0"
      },
      "source": [
        "#KPSS Test\n",
        "\n",
        "def kpss_test(atr):\n",
        "    timeseries = ibm[atr].dropna()\n",
        "    print ('Results of KPSS Test for ',atr)\n",
        "    kpsstest = kpss(timeseries, regression='c')\n",
        "    kpss_output = pd.Series(kpsstest[0:3], index=['Test Statistic','p-value','Lags Used'])\n",
        "    for key,value in kpsstest[3].items():\n",
        "        kpss_output['Critical Value (%s)'%key] = value\n",
        "    print (kpss_output)\n",
        "    \n",
        "kpss_test('Close')"
      ],
      "execution_count": 201,
      "outputs": [
        {
          "output_type": "stream",
          "text": [
            "Results of KPSS Test for  Close\n",
            "Test Statistic            1.268862\n",
            "p-value                   0.010000\n",
            "Lags Used                19.000000\n",
            "Critical Value (10%)      0.347000\n",
            "Critical Value (5%)       0.463000\n",
            "Critical Value (2.5%)     0.574000\n",
            "Critical Value (1%)       0.739000\n",
            "dtype: float64\n"
          ],
          "name": "stdout"
        },
        {
          "output_type": "stream",
          "text": [
            "/usr/local/lib/python3.7/dist-packages/statsmodels/tsa/stattools.py:1685: FutureWarning: The behavior of using lags=None will change in the next release. Currently lags=None is the same as lags='legacy', and so a sample-size lag length is used. After the next release, the default will change to be the same as lags='auto' which uses an automatic lag length selection method. To silence this warning, either use 'auto' or 'legacy'\n",
            "  warn(msg, FutureWarning)\n",
            "/usr/local/lib/python3.7/dist-packages/statsmodels/tsa/stattools.py:1709: InterpolationWarning: p-value is smaller than the indicated p-value\n",
            "  warn(\"p-value is smaller than the indicated p-value\", InterpolationWarning)\n"
          ],
          "name": "stderr"
        }
      ]
    },
    {
      "cell_type": "markdown",
      "metadata": {
        "id": "iFUZDOHp5h8f"
      },
      "source": [
        "The p value is significant less than 0.05 hence we can reject the null hypothesis so series is non stationary"
      ]
    },
    {
      "cell_type": "code",
      "metadata": {
        "colab": {
          "base_uri": "https://localhost:8080/",
          "height": 281
        },
        "id": "4E9Lvb0X5h8f",
        "outputId": "72e5cca3-f4cc-4ab0-917a-866596ca896d"
      },
      "source": [
        "# ACF Test of differenced data\n",
        "plot_acf(ibm['Close'].dropna(), lags=10)\n",
        "plt.show()\n"
      ],
      "execution_count": 202,
      "outputs": [
        {
          "output_type": "display_data",
          "data": {
            "image/png": "[encoded data removed]",
            "text/plain": [
              "<Figure size 432x288 with 1 Axes>"
            ]
          },
          "metadata": {
            "tags": [],
            "needs_background": "light"
          }
        }
      ]
    },
    {
      "cell_type": "markdown",
      "metadata": {
        "id": "0yPlxEr8Rk51"
      },
      "source": [
        "As more than 5% of the plot is outside the shaded region, the data is non stationary"
      ]
    },
    {
      "cell_type": "code",
      "metadata": {
        "colab": {
          "base_uri": "https://localhost:8080/",
          "height": 281
        },
        "id": "q9ZsBscN5h8j",
        "outputId": "383a2a08-8305-40fc-8a53-6ef6122f3b7b"
      },
      "source": [
        "# PACF Test of differenced data\n",
        "plot_pacf(ibm['Close'].dropna(), lags=10)\n",
        "plt.show()"
      ],
      "execution_count": 203,
      "outputs": [
        {
          "output_type": "display_data",
          "data": {
            "image/png": "[encoded data removed]",
            "text/plain": [
              "<Figure size 432x288 with 1 Axes>"
            ]
          },
          "metadata": {
            "tags": [],
            "needs_background": "light"
          }
        }
      ]
    },
    {
      "cell_type": "markdown",
      "metadata": {
        "id": "zCKGmyKSRnEn"
      },
      "source": [
        "As more than 5% of the plot is outside the shaded region, the data is non stationary"
      ]
    },
    {
      "cell_type": "code",
      "metadata": {
        "colab": {
          "base_uri": "https://localhost:8080/",
          "height": 293
        },
        "id": "gtoBO48U5h8k",
        "outputId": "3bc249dd-7b86-4d88-cccd-06d106c4cbcc"
      },
      "source": [
        "#Differencing to make data as stationary\n",
        "\n",
        "#Differencing the data\n",
        "ibm['diff'] = ibm['Close'].diff(periods=1)\n",
        "\n",
        "#Visulaizing the differenced data\n",
        "ibm[\"diff\"].plot()\n"
      ],
      "execution_count": 204,
      "outputs": [
        {
          "output_type": "execute_result",
          "data": {
            "text/plain": [
              "<matplotlib.axes._subplots.AxesSubplot at 0x7f2e6c9d53d0>"
            ]
          },
          "metadata": {
            "tags": []
          },
          "execution_count": 204
        },
        {
          "output_type": "display_data",
          "data": {
            "image/png": "[encoded data removed]",
            "text/plain": [
              "<Figure size 432x288 with 1 Axes>"
            ]
          },
          "metadata": {
            "tags": [],
            "needs_background": "light"
          }
        }
      ]
    },
    {
      "cell_type": "code",
      "metadata": {
        "colab": {
          "base_uri": "https://localhost:8080/",
          "height": 0
        },
        "id": "q8agmUuW5h8k",
        "outputId": "f51a50d1-9a2b-430f-a031-642445de9181"
      },
      "source": [
        "# ADF Test of differenced data\n",
        "adf_test('diff')\n"
      ],
      "execution_count": 205,
      "outputs": [
        {
          "output_type": "stream",
          "text": [
            "Results of Dickey-Fuller Test for  diff \n",
            "\n",
            "Test Statistic                -1.843371e+01\n",
            "p-value                        2.166547e-30\n",
            "#Lags Used                     1.000000e+00\n",
            "Number of Observations Used    5.860000e+02\n",
            "Critical Value (1%)           -3.441558e+00\n",
            "Critical Value (5%)           -2.866485e+00\n",
            "Critical Value (10%)          -2.569403e+00\n",
            "dtype: float64\n"
          ],
          "name": "stdout"
        }
      ]
    },
    {
      "cell_type": "code",
      "metadata": {
        "colab": {
          "base_uri": "https://localhost:8080/",
          "height": 0
        },
        "id": "tcZDKimt5h8l",
        "outputId": "7a78d1ff-57f9-4834-d520-760e8641b39d"
      },
      "source": [
        "# KPSS Test of differenced data\n",
        "kpss_test('diff')\n"
      ],
      "execution_count": 206,
      "outputs": [
        {
          "output_type": "stream",
          "text": [
            "Results of KPSS Test for  diff\n",
            "Test Statistic            0.251866\n",
            "p-value                   0.100000\n",
            "Lags Used                19.000000\n",
            "Critical Value (10%)      0.347000\n",
            "Critical Value (5%)       0.463000\n",
            "Critical Value (2.5%)     0.574000\n",
            "Critical Value (1%)       0.739000\n",
            "dtype: float64\n"
          ],
          "name": "stdout"
        },
        {
          "output_type": "stream",
          "text": [
            "/usr/local/lib/python3.7/dist-packages/statsmodels/tsa/stattools.py:1685: FutureWarning: The behavior of using lags=None will change in the next release. Currently lags=None is the same as lags='legacy', and so a sample-size lag length is used. After the next release, the default will change to be the same as lags='auto' which uses an automatic lag length selection method. To silence this warning, either use 'auto' or 'legacy'\n",
            "  warn(msg, FutureWarning)\n",
            "/usr/local/lib/python3.7/dist-packages/statsmodels/tsa/stattools.py:1711: InterpolationWarning: p-value is greater than the indicated p-value\n",
            "  warn(\"p-value is greater than the indicated p-value\", InterpolationWarning)\n"
          ],
          "name": "stderr"
        }
      ]
    },
    {
      "cell_type": "code",
      "metadata": {
        "colab": {
          "base_uri": "https://localhost:8080/",
          "height": 281
        },
        "id": "9rsIJVIv5h8m",
        "outputId": "299dac33-e9c2-46d4-b2ff-5938580656d9"
      },
      "source": [
        "# ACF Test of differenced data\n",
        "plot_acf(ibm['diff'].dropna(), lags=10)\n",
        "plt.show()\n"
      ],
      "execution_count": 207,
      "outputs": [
        {
          "output_type": "display_data",
          "data": {
            "image/png": "[encoded data removed]",
            "text/plain": [
              "<Figure size 432x288 with 1 Axes>"
            ]
          },
          "metadata": {
            "tags": [],
            "needs_background": "light"
          }
        }
      ]
    },
    {
      "cell_type": "code",
      "metadata": {
        "colab": {
          "base_uri": "https://localhost:8080/",
          "height": 281
        },
        "id": "hMcU2x0P5h8m",
        "outputId": "5b8b3418-0d01-4fb4-b440-12d43eb69542"
      },
      "source": [
        "# PACF Test of differenced data\n",
        "plot_pacf(ibm['diff'].dropna(), lags=10)\n",
        "plt.show()"
      ],
      "execution_count": 208,
      "outputs": [
        {
          "output_type": "display_data",
          "data": {
            "image/png": "[encoded data removed]",
            "text/plain": [
              "<Figure size 432x288 with 1 Axes>"
            ]
          },
          "metadata": {
            "tags": [],
            "needs_background": "light"
          }
        }
      ]
    },
    {
      "cell_type": "markdown",
      "metadata": {
        "id": "OIaOFzemRqPO"
      },
      "source": [
        "Now the given time series become stationary after differencing"
      ]
    },
    {
      "cell_type": "markdown",
      "metadata": {
        "id": "cgQCMa53llnr"
      },
      "source": [
        ""
      ]
    },
    {
      "cell_type": "markdown",
      "metadata": {
        "id": "nXWb87yOlmJI"
      },
      "source": [
        "**Outliers**"
      ]
    },
    {
      "cell_type": "code",
      "metadata": {
        "colab": {
          "base_uri": "https://localhost:8080/",
          "height": 0
        },
        "id": "lbSwwJX7lmJJ",
        "outputId": "0480c331-375b-43c6-d0d7-55571557cfd2"
      },
      "source": [
        "ibm.isnull().sum()"
      ],
      "execution_count": 209,
      "outputs": [
        {
          "output_type": "execute_result",
          "data": {
            "text/plain": [
              "High         0\n",
              "Low          0\n",
              "Open         0\n",
              "Close        0\n",
              "Volume       0\n",
              "Adj Close    0\n",
              "diff         1\n",
              "dtype: int64"
            ]
          },
          "metadata": {
            "tags": []
          },
          "execution_count": 209
        }
      ]
    },
    {
      "cell_type": "code",
      "metadata": {
        "colab": {
          "base_uri": "https://localhost:8080/",
          "height": 284
        },
        "id": "rDL2gXrblmJL",
        "outputId": "73e136f0-bc43-4c03-d37b-9599669104ca"
      },
      "source": [
        "ibm.describe()"
      ],
      "execution_count": 210,
      "outputs": [
        {
          "output_type": "execute_result",
          "data": {
            "text/html": [
              "<div>\n",
              "<style scoped>\n",
              "    .dataframe tbody tr th:only-of-type {\n",
              "        vertical-align: middle;\n",
              "    }\n",
              "\n",
              "    .dataframe tbody tr th {\n",
              "        vertical-align: top;\n",
              "    }\n",
              "\n",
              "    .dataframe thead th {\n",
              "        text-align: right;\n",
              "    }\n",
              "</style>\n",
              "<table border=\"1\" class=\"dataframe\">\n",
              "  <thead>\n",
              "    <tr style=\"text-align: right;\">\n",
              "      <th></th>\n",
              "      <th>High</th>\n",
              "      <th>Low</th>\n",
              "      <th>Open</th>\n",
              "      <th>Close</th>\n",
              "      <th>Volume</th>\n",
              "      <th>Adj Close</th>\n",
              "      <th>diff</th>\n",
              "    </tr>\n",
              "  </thead>\n",
              "  <tbody>\n",
              "    <tr>\n",
              "      <th>count</th>\n",
              "      <td>589.000000</td>\n",
              "      <td>589.000000</td>\n",
              "      <td>589.000000</td>\n",
              "      <td>589.000000</td>\n",
              "      <td>5.890000e+02</td>\n",
              "      <td>589.000000</td>\n",
              "      <td>588.000000</td>\n",
              "    </tr>\n",
              "    <tr>\n",
              "      <th>mean</th>\n",
              "      <td>157.737182</td>\n",
              "      <td>155.463786</td>\n",
              "      <td>156.583566</td>\n",
              "      <td>156.617402</td>\n",
              "      <td>4.244832e+06</td>\n",
              "      <td>123.461819</td>\n",
              "      <td>-0.045799</td>\n",
              "    </tr>\n",
              "    <tr>\n",
              "      <th>std</th>\n",
              "      <td>15.227783</td>\n",
              "      <td>15.364561</td>\n",
              "      <td>15.325756</td>\n",
              "      <td>15.263828</td>\n",
              "      <td>2.246524e+06</td>\n",
              "      <td>10.790073</td>\n",
              "      <td>1.977649</td>\n",
              "    </tr>\n",
              "    <tr>\n",
              "      <th>min</th>\n",
              "      <td>119.660004</td>\n",
              "      <td>116.900002</td>\n",
              "      <td>118.459999</td>\n",
              "      <td>117.849998</td>\n",
              "      <td>1.415800e+06</td>\n",
              "      <td>94.504570</td>\n",
              "      <td>-12.949997</td>\n",
              "    </tr>\n",
              "    <tr>\n",
              "      <th>25%</th>\n",
              "      <td>148.649994</td>\n",
              "      <td>146.449997</td>\n",
              "      <td>147.610001</td>\n",
              "      <td>147.889999</td>\n",
              "      <td>2.962400e+06</td>\n",
              "      <td>117.349693</td>\n",
              "      <td>-1.089996</td>\n",
              "    </tr>\n",
              "    <tr>\n",
              "      <th>50%</th>\n",
              "      <td>158.369995</td>\n",
              "      <td>155.679993</td>\n",
              "      <td>157.070007</td>\n",
              "      <td>156.949997</td>\n",
              "      <td>3.725400e+06</td>\n",
              "      <td>124.090508</td>\n",
              "      <td>0.044994</td>\n",
              "    </tr>\n",
              "    <tr>\n",
              "      <th>75%</th>\n",
              "      <td>164.000000</td>\n",
              "      <td>161.830002</td>\n",
              "      <td>162.770004</td>\n",
              "      <td>162.880005</td>\n",
              "      <td>4.701400e+06</td>\n",
              "      <td>129.907471</td>\n",
              "      <td>1.070007</td>\n",
              "    </tr>\n",
              "    <tr>\n",
              "      <th>max</th>\n",
              "      <td>195.000000</td>\n",
              "      <td>193.190002</td>\n",
              "      <td>194.539993</td>\n",
              "      <td>194.000000</td>\n",
              "      <td>2.341650e+07</td>\n",
              "      <td>148.113205</td>\n",
              "      <td>6.349998</td>\n",
              "    </tr>\n",
              "  </tbody>\n",
              "</table>\n",
              "</div>"
            ],
            "text/plain": [
              "             High         Low        Open  ...        Volume   Adj Close        diff\n",
              "count  589.000000  589.000000  589.000000  ...  5.890000e+02  589.000000  588.000000\n",
              "mean   157.737182  155.463786  156.583566  ...  4.244832e+06  123.461819   -0.045799\n",
              "std     15.227783   15.364561   15.325756  ...  2.246524e+06   10.790073    1.977649\n",
              "min    119.660004  116.900002  118.459999  ...  1.415800e+06   94.504570  -12.949997\n",
              "25%    148.649994  146.449997  147.610001  ...  2.962400e+06  117.349693   -1.089996\n",
              "50%    158.369995  155.679993  157.070007  ...  3.725400e+06  124.090508    0.044994\n",
              "75%    164.000000  161.830002  162.770004  ...  4.701400e+06  129.907471    1.070007\n",
              "max    195.000000  193.190002  194.539993  ...  2.341650e+07  148.113205    6.349998\n",
              "\n",
              "[8 rows x 7 columns]"
            ]
          },
          "metadata": {
            "tags": []
          },
          "execution_count": 210
        }
      ]
    },
    {
      "cell_type": "code",
      "metadata": {
        "colab": {
          "base_uri": "https://localhost:8080/",
          "height": 486
        },
        "id": "qHSUnXSulmJR",
        "outputId": "6925a205-c472-4e5e-a514-55f6e5742920"
      },
      "source": [
        "import seaborn as sns \n",
        "plt.figure(figsize = (4,8))\n",
        "sns.boxplot(y = ibm.Close)"
      ],
      "execution_count": 211,
      "outputs": [
        {
          "output_type": "execute_result",
          "data": {
            "text/plain": [
              "<matplotlib.axes._subplots.AxesSubplot at 0x7f2e6d6e6a90>"
            ]
          },
          "metadata": {
            "tags": []
          },
          "execution_count": 211
        },
        {
          "output_type": "display_data",
          "data": {
            "image/png": "[encoded data removed]",
            "text/plain": [
              "<Figure size 288x576 with 1 Axes>"
            ]
          },
          "metadata": {
            "tags": [],
            "needs_background": "light"
          }
        }
      ]
    },
    {
      "cell_type": "markdown",
      "metadata": {
        "id": "yHrpep2FlmJS"
      },
      "source": [
        "**Interquartile Range (IQR) method for detecting outliers**"
      ]
    },
    {
      "cell_type": "code",
      "metadata": {
        "id": "AizcvhZ7lmJT"
      },
      "source": [
        "def out_iqr(df , column):\n",
        "    global lower,upper\n",
        "    q25, q75 = np.quantile(df[column], 0.25), np.quantile(df[column], 0.75)\n",
        "    # calculate the IQR\n",
        "    iqr = q75 - q25\n",
        "    # calculate the outlier cutoff\n",
        "    cut_off = iqr * 1.5\n",
        "    # calculate the lower and upper bound value\n",
        "    lower, upper = q25 - cut_off, q75 + cut_off\n",
        "    print('The IQR is',iqr)\n",
        "    print('The lower bound value is', lower)\n",
        "    print('The upper bound value is', upper)\n",
        "    # Calculate the number of records below and above lower and above bound value respectively\n",
        "    df1 = df[df[column] > upper]\n",
        "    df2 = df[df[column] < lower]\n",
        "    return print('Total number of outliers are', df1.shape[0]+ df2.shape[0])"
      ],
      "execution_count": 212,
      "outputs": []
    },
    {
      "cell_type": "code",
      "metadata": {
        "colab": {
          "base_uri": "https://localhost:8080/",
          "height": 0
        },
        "id": "YLbnzXgZlmJU",
        "outputId": "6adc5a4f-170c-4215-9bf9-847abea02a4f"
      },
      "source": [
        "import numpy as np\n",
        "out_iqr(ibm,'Close')\n",
        "#Input the dataset and the required column"
      ],
      "execution_count": 213,
      "outputs": [
        {
          "output_type": "stream",
          "text": [
            "The IQR is 14.990005493164062\n",
            "The lower bound value is 125.40499114990234\n",
            "The upper bound value is 185.3650131225586\n",
            "Total number of outliers are 65\n"
          ],
          "name": "stdout"
        }
      ]
    },
    {
      "cell_type": "markdown",
      "metadata": {
        "id": "VOKVJrvklmJV"
      },
      "source": [
        "As per the IQR method, there are 65 outliers."
      ]
    },
    {
      "cell_type": "markdown",
      "metadata": {
        "id": "DNlQAKvslmJW"
      },
      "source": [
        "**Standard Deviation Method for detecting outliers**"
      ]
    },
    {
      "cell_type": "code",
      "metadata": {
        "colab": {
          "base_uri": "https://localhost:8080/",
          "height": 404
        },
        "id": "pM5mo6SVlmJX",
        "outputId": "fb045fc0-9c77-4af0-8848-e5d5fec2434a"
      },
      "source": [
        "plt.figure(figsize = (10,5))\n",
        "sns.distplot(ibm['Close'])"
      ],
      "execution_count": 214,
      "outputs": [
        {
          "output_type": "stream",
          "text": [
            "/usr/local/lib/python3.7/dist-packages/seaborn/distributions.py:2557: FutureWarning: `distplot` is a deprecated function and will be removed in a future version. Please adapt your code to use either `displot` (a figure-level function with similar flexibility) or `histplot` (an axes-level function for histograms).\n",
            "  warnings.warn(msg, FutureWarning)\n"
          ],
          "name": "stderr"
        },
        {
          "output_type": "execute_result",
          "data": {
            "text/plain": [
              "<matplotlib.axes._subplots.AxesSubplot at 0x7f2e6c1ef350>"
            ]
          },
          "metadata": {
            "tags": []
          },
          "execution_count": 214
        },
        {
          "output_type": "display_data",
          "data": {
            "image/png": "[encoded data removed]",
            "text/plain": [
              "<Figure size 720x360 with 1 Axes>"
            ]
          },
          "metadata": {
            "tags": [],
            "needs_background": "light"
          }
        }
      ]
    },
    {
      "cell_type": "code",
      "metadata": {
        "id": "2M2Wdan5lmJY"
      },
      "source": [
        "def out_std(df, column):\n",
        "    global lower,upper\n",
        "    # calculate the mean and standard deviation of the data frame\n",
        "    data_mean, data_std = df[column].mean(), df[column].std()\n",
        "    # calculate the cutoff value\n",
        "    cut_off = data_std * 3\n",
        "    # calculate the lower and upper bound value\n",
        "    lower, upper = data_mean - cut_off, data_mean + cut_off\n",
        "    print('The lower bound value is', lower)\n",
        "    print('The upper bound value is', upper)\n",
        "    # Calculate the number of records below and above lower and above bound value respectively\n",
        "    df1 = df[df[column] > upper]\n",
        "    df2 = df[df[column] < lower]\n",
        "    return print('Total number of outliers are', df1.shape[0]+ df2.shape[0])"
      ],
      "execution_count": 215,
      "outputs": []
    },
    {
      "cell_type": "code",
      "metadata": {
        "colab": {
          "base_uri": "https://localhost:8080/",
          "height": 0
        },
        "id": "IlNMRIzclmJZ",
        "outputId": "6391b447-98d1-4e45-eb3e-173a376a6735"
      },
      "source": [
        "out_std(ibm,'Close')"
      ],
      "execution_count": 216,
      "outputs": [
        {
          "output_type": "stream",
          "text": [
            "The lower bound value is 110.82591927072701\n",
            "The upper bound value is 202.40888538464924\n",
            "Total number of outliers are 0\n"
          ],
          "name": "stdout"
        }
      ]
    },
    {
      "cell_type": "markdown",
      "metadata": {
        "id": "o2zGCJk9lmJa"
      },
      "source": [
        "As per the standard deviation method, there are 0 outliers."
      ]
    },
    {
      "cell_type": "markdown",
      "metadata": {
        "id": "qPWmJ8GrlmJb"
      },
      "source": [
        "Visual representation"
      ]
    },
    {
      "cell_type": "code",
      "metadata": {
        "colab": {
          "base_uri": "https://localhost:8080/",
          "height": 458
        },
        "id": "UbVBxaI9lmJb",
        "outputId": "f97f215f-c83f-49dd-fbae-aaf9a0af301f"
      },
      "source": [
        "plt.figure(figsize = (10,6))\n",
        "sns.distplot(ibm.Close, kde=False)\n",
        "plt.axvspan(xmin = lower,xmax= ibm.Close.min(),alpha=0.2, color='red')\n",
        "plt.axvspan(xmin = upper,xmax= ibm.Close.max(),alpha=0.2, color='red')"
      ],
      "execution_count": 217,
      "outputs": [
        {
          "output_type": "stream",
          "text": [
            "/usr/local/lib/python3.7/dist-packages/seaborn/distributions.py:2557: FutureWarning: `distplot` is a deprecated function and will be removed in a future version. Please adapt your code to use either `displot` (a figure-level function with similar flexibility) or `histplot` (an axes-level function for histograms).\n",
            "  warnings.warn(msg, FutureWarning)\n"
          ],
          "name": "stderr"
        },
        {
          "output_type": "execute_result",
          "data": {
            "text/plain": [
              "<matplotlib.patches.Polygon at 0x7f2e6c0ea110>"
            ]
          },
          "metadata": {
            "tags": []
          },
          "execution_count": 217
        },
        {
          "output_type": "display_data",
          "data": {
            "image/png": "[encoded data removed]",
            "text/plain": [
              "<Figure size 720x432 with 1 Axes>"
            ]
          },
          "metadata": {
            "tags": [],
            "needs_background": "light"
          }
        }
      ]
    },
    {
      "cell_type": "markdown",
      "metadata": {
        "id": "5qYwrG5glmJc"
      },
      "source": [
        "Remedial Measure"
      ]
    },
    {
      "cell_type": "code",
      "metadata": {
        "colab": {
          "base_uri": "https://localhost:8080/",
          "height": 431
        },
        "id": "ZYoBtR3LlmJd",
        "outputId": "05323d6a-bade-48c4-d537-4acca33499e2"
      },
      "source": [
        "#Data Frame without outliers\n",
        "df_new = ibm[(ibm['Close'] < upper) | (ibm['Close'] > lower)]\n",
        "df_new"
      ],
      "execution_count": 218,
      "outputs": [
        {
          "output_type": "execute_result",
          "data": {
            "text/html": [
              "<div>\n",
              "<style scoped>\n",
              "    .dataframe tbody tr th:only-of-type {\n",
              "        vertical-align: middle;\n",
              "    }\n",
              "\n",
              "    .dataframe tbody tr th {\n",
              "        vertical-align: top;\n",
              "    }\n",
              "\n",
              "    .dataframe thead th {\n",
              "        text-align: right;\n",
              "    }\n",
              "</style>\n",
              "<table border=\"1\" class=\"dataframe\">\n",
              "  <thead>\n",
              "    <tr style=\"text-align: right;\">\n",
              "      <th></th>\n",
              "      <th>High</th>\n",
              "      <th>Low</th>\n",
              "      <th>Open</th>\n",
              "      <th>Close</th>\n",
              "      <th>Volume</th>\n",
              "      <th>Adj Close</th>\n",
              "      <th>diff</th>\n",
              "    </tr>\n",
              "    <tr>\n",
              "      <th>Date</th>\n",
              "      <th></th>\n",
              "      <th></th>\n",
              "      <th></th>\n",
              "      <th></th>\n",
              "      <th></th>\n",
              "      <th></th>\n",
              "      <th></th>\n",
              "    </tr>\n",
              "  </thead>\n",
              "  <tbody>\n",
              "    <tr>\n",
              "      <th>2014-08-01</th>\n",
              "      <td>191.500000</td>\n",
              "      <td>188.860001</td>\n",
              "      <td>190.500000</td>\n",
              "      <td>189.149994</td>\n",
              "      <td>5181100.0</td>\n",
              "      <td>143.561371</td>\n",
              "      <td>NaN</td>\n",
              "    </tr>\n",
              "    <tr>\n",
              "      <th>2014-08-04</th>\n",
              "      <td>189.949997</td>\n",
              "      <td>188.600006</td>\n",
              "      <td>189.350006</td>\n",
              "      <td>189.639999</td>\n",
              "      <td>2125900.0</td>\n",
              "      <td>143.933304</td>\n",
              "      <td>0.490005</td>\n",
              "    </tr>\n",
              "    <tr>\n",
              "      <th>2014-08-05</th>\n",
              "      <td>189.199997</td>\n",
              "      <td>186.440002</td>\n",
              "      <td>188.750000</td>\n",
              "      <td>187.100006</td>\n",
              "      <td>3307900.0</td>\n",
              "      <td>142.005493</td>\n",
              "      <td>-2.539993</td>\n",
              "    </tr>\n",
              "    <tr>\n",
              "      <th>2014-08-06</th>\n",
              "      <td>186.880005</td>\n",
              "      <td>184.440002</td>\n",
              "      <td>185.360001</td>\n",
              "      <td>185.970001</td>\n",
              "      <td>3847000.0</td>\n",
              "      <td>141.982544</td>\n",
              "      <td>-1.130005</td>\n",
              "    </tr>\n",
              "    <tr>\n",
              "      <th>2014-08-07</th>\n",
              "      <td>186.679993</td>\n",
              "      <td>183.580002</td>\n",
              "      <td>186.639999</td>\n",
              "      <td>184.300003</td>\n",
              "      <td>2708600.0</td>\n",
              "      <td>140.707535</td>\n",
              "      <td>-1.669998</td>\n",
              "    </tr>\n",
              "    <tr>\n",
              "      <th>...</th>\n",
              "      <td>...</td>\n",
              "      <td>...</td>\n",
              "      <td>...</td>\n",
              "      <td>...</td>\n",
              "      <td>...</td>\n",
              "      <td>...</td>\n",
              "      <td>...</td>\n",
              "    </tr>\n",
              "    <tr>\n",
              "      <th>2016-11-23</th>\n",
              "      <td>162.380005</td>\n",
              "      <td>161.360001</td>\n",
              "      <td>161.940002</td>\n",
              "      <td>161.979996</td>\n",
              "      <td>2252700.0</td>\n",
              "      <td>133.478912</td>\n",
              "      <td>-0.690002</td>\n",
              "    </tr>\n",
              "    <tr>\n",
              "      <th>2016-11-25</th>\n",
              "      <td>163.190002</td>\n",
              "      <td>161.830002</td>\n",
              "      <td>161.830002</td>\n",
              "      <td>163.139999</td>\n",
              "      <td>1605300.0</td>\n",
              "      <td>134.434784</td>\n",
              "      <td>1.160004</td>\n",
              "    </tr>\n",
              "    <tr>\n",
              "      <th>2016-11-28</th>\n",
              "      <td>164.660004</td>\n",
              "      <td>162.699997</td>\n",
              "      <td>163.199997</td>\n",
              "      <td>164.520004</td>\n",
              "      <td>4449400.0</td>\n",
              "      <td>135.571976</td>\n",
              "      <td>1.380005</td>\n",
              "    </tr>\n",
              "    <tr>\n",
              "      <th>2016-11-29</th>\n",
              "      <td>164.410004</td>\n",
              "      <td>163.029999</td>\n",
              "      <td>164.000000</td>\n",
              "      <td>163.529999</td>\n",
              "      <td>3148200.0</td>\n",
              "      <td>134.756180</td>\n",
              "      <td>-0.990005</td>\n",
              "    </tr>\n",
              "    <tr>\n",
              "      <th>2016-11-30</th>\n",
              "      <td>163.800003</td>\n",
              "      <td>162.210007</td>\n",
              "      <td>163.350006</td>\n",
              "      <td>162.220001</td>\n",
              "      <td>4397800.0</td>\n",
              "      <td>133.676682</td>\n",
              "      <td>-1.309998</td>\n",
              "    </tr>\n",
              "  </tbody>\n",
              "</table>\n",
              "<p>589 rows × 7 columns</p>\n",
              "</div>"
            ],
            "text/plain": [
              "                  High         Low        Open  ...     Volume   Adj Close      diff\n",
              "Date                                            ...                                 \n",
              "2014-08-01  191.500000  188.860001  190.500000  ...  5181100.0  143.561371       NaN\n",
              "2014-08-04  189.949997  188.600006  189.350006  ...  2125900.0  143.933304  0.490005\n",
              "2014-08-05  189.199997  186.440002  188.750000  ...  3307900.0  142.005493 -2.539993\n",
              "2014-08-06  186.880005  184.440002  185.360001  ...  3847000.0  141.982544 -1.130005\n",
              "2014-08-07  186.679993  183.580002  186.639999  ...  2708600.0  140.707535 -1.669998\n",
              "...                ...         ...         ...  ...        ...         ...       ...\n",
              "2016-11-23  162.380005  161.360001  161.940002  ...  2252700.0  133.478912 -0.690002\n",
              "2016-11-25  163.190002  161.830002  161.830002  ...  1605300.0  134.434784  1.160004\n",
              "2016-11-28  164.660004  162.699997  163.199997  ...  4449400.0  135.571976  1.380005\n",
              "2016-11-29  164.410004  163.029999  164.000000  ...  3148200.0  134.756180 -0.990005\n",
              "2016-11-30  163.800003  162.210007  163.350006  ...  4397800.0  133.676682 -1.309998\n",
              "\n",
              "[589 rows x 7 columns]"
            ]
          },
          "metadata": {
            "tags": []
          },
          "execution_count": 218
        }
      ]
    }
  ]
}